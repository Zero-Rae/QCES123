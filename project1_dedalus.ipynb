{
  "cells": [
    {
      "cell_type": "markdown",
      "metadata": {
        "id": "view-in-github",
        "colab_type": "text"
      },
      "source": [
        "<a href=\"https://colab.research.google.com/github/Zero-Rae/QCES123/blob/main/project1_dedalus.ipynb\" target=\"_parent\"><img src=\"https://colab.research.google.com/assets/colab-badge.svg\" alt=\"Open In Colab\"/></a>"
      ]
    },
    {
      "cell_type": "markdown",
      "metadata": {
        "id": "Kvi1witj5wON"
      },
      "source": [
        "<a href=\"https://colab.research.google.com/github/johnryantaylor/QCES/blob/main/Project1_dedalus.ipynb\" target=\"_parent\"><img src=\"https://colab.research.google.com/assets/colab-badge.svg\" alt=\"Open In Colab\"/></a>"
      ]
    },
    {
      "cell_type": "markdown",
      "metadata": {
        "id": "-YM8FwOtN4ZK"
      },
      "source": [
        "# Solving the diffusion equation with Dedalus"
      ]
    },
    {
      "cell_type": "markdown",
      "metadata": {
        "id": "-bcBPs25cfsr"
      },
      "source": [
        "**Overview:** This notebook solves the diffusion equation using a spectral method and provides an introduction to Dedalus.\n",
        "\n",
        "**About Dedalus:** [Dedalus](http://dedalus-project.org) is an open-source Python package for solving partial differential equations (PDEs) using spectral methods.\n",
        "These methods provide highly accurate numerical solutions for PDEs with smooth solutions in simple domains like boxes and spheres.\n",
        "Dedalus implements modern parallel algorithms utilizing sparse polynomial bases, but all with an easy-to-use symbolic interface.\n",
        "The code is being used in a wide range of fields, often for problems involving fluid dynamics.\n",
        "\n",
        "This script is based in part on the Introduction to Dedalus by [Keaton Burns](http://keaton-burns.com)\n",
        "\n",
        "The student exercise starts in [Section 5](#student_investigation)"
      ]
    },
    {
      "cell_type": "markdown",
      "metadata": {
        "id": "G6iwTnxLvvOc"
      },
      "source": [
        "# 1. Setup"
      ]
    },
    {
      "cell_type": "markdown",
      "metadata": {
        "id": "zPMGZvFjcfss"
      },
      "source": [
        "First, we need to install Dedalus.  If you are running Python on your local computer, follow the install instructions in the [Dedalus Docs](https://dedalus-project.readthedocs.io/en/latest/pages/installation.html) to install Dedalus locally on your computer.\n",
        "\n",
        "The cell below checks to see if Dedalus is installed.  After installing Dedalus, run the cell below to verify that Dedalus is installed correctly.\n",
        "\n",
        "If you are using Google Colab, the cell below will automatically install Dedalus.\n",
        "\n",
        "This cell checks if Dedalus is installed and performs some other basic setup. This will take some time the first time you run it.\n",
        "\n",
        "Once you have Dedalus installed, you won't need to run this cell again."
      ]
    },
    {
      "cell_type": "code",
      "execution_count": 1,
      "metadata": {
        "id": "wBSpwa8Ts65w",
        "colab": {
          "base_uri": "https://localhost:8080/"
        },
        "outputId": "fae428b1-9459-4d44-c30d-07529fbae6bb"
      },
      "outputs": [
        {
          "output_type": "stream",
          "name": "stdout",
          "text": [
            "env: OMP_NUM_THREADS=1\n",
            "env: NUMEXPR_MAX_THREADS=1\n",
            "Dedalus not installed yet.\n",
            "Installing for Google Colab.\n",
            "\n",
            "Reading package lists... Done\n",
            "Building dependency tree... Done\n",
            "Reading state information... Done\n",
            "The following additional packages will be installed:\n",
            "  libfftw3-bin libfftw3-double3 libfftw3-long3 libfftw3-quad3 libfftw3-single3\n",
            "Suggested packages:\n",
            "  libfftw3-doc\n",
            "The following NEW packages will be installed:\n",
            "  libfftw3-bin libfftw3-dev libfftw3-double3 libfftw3-long3 libfftw3-quad3 libfftw3-single3\n",
            "0 upgraded, 6 newly installed, 0 to remove and 49 not upgraded.\n",
            "Need to get 4,654 kB of archives.\n",
            "After this operation, 24.7 MB of additional disk space will be used.\n",
            "Get:1 http://archive.ubuntu.com/ubuntu jammy/main amd64 libfftw3-double3 amd64 3.3.8-2ubuntu8 [770 kB]\n",
            "Get:2 http://archive.ubuntu.com/ubuntu jammy/main amd64 libfftw3-long3 amd64 3.3.8-2ubuntu8 [335 kB]\n",
            "Get:3 http://archive.ubuntu.com/ubuntu jammy/main amd64 libfftw3-quad3 amd64 3.3.8-2ubuntu8 [614 kB]\n",
            "Get:4 http://archive.ubuntu.com/ubuntu jammy/main amd64 libfftw3-single3 amd64 3.3.8-2ubuntu8 [800 kB]\n",
            "Get:5 http://archive.ubuntu.com/ubuntu jammy/main amd64 libfftw3-bin amd64 3.3.8-2ubuntu8 [35.5 kB]\n",
            "Get:6 http://archive.ubuntu.com/ubuntu jammy/main amd64 libfftw3-dev amd64 3.3.8-2ubuntu8 [2,101 kB]\n",
            "Fetched 4,654 kB in 2s (2,792 kB/s)\n",
            "Selecting previously unselected package libfftw3-double3:amd64.\n",
            "(Reading database ... 123634 files and directories currently installed.)\n",
            "Preparing to unpack .../0-libfftw3-double3_3.3.8-2ubuntu8_amd64.deb ...\n",
            "Unpacking libfftw3-double3:amd64 (3.3.8-2ubuntu8) ...\n",
            "Selecting previously unselected package libfftw3-long3:amd64.\n",
            "Preparing to unpack .../1-libfftw3-long3_3.3.8-2ubuntu8_amd64.deb ...\n",
            "Unpacking libfftw3-long3:amd64 (3.3.8-2ubuntu8) ...\n",
            "Selecting previously unselected package libfftw3-quad3:amd64.\n",
            "Preparing to unpack .../2-libfftw3-quad3_3.3.8-2ubuntu8_amd64.deb ...\n",
            "Unpacking libfftw3-quad3:amd64 (3.3.8-2ubuntu8) ...\n",
            "Selecting previously unselected package libfftw3-single3:amd64.\n",
            "Preparing to unpack .../3-libfftw3-single3_3.3.8-2ubuntu8_amd64.deb ...\n",
            "Unpacking libfftw3-single3:amd64 (3.3.8-2ubuntu8) ...\n",
            "Selecting previously unselected package libfftw3-bin.\n",
            "Preparing to unpack .../4-libfftw3-bin_3.3.8-2ubuntu8_amd64.deb ...\n",
            "Unpacking libfftw3-bin (3.3.8-2ubuntu8) ...\n",
            "Selecting previously unselected package libfftw3-dev:amd64.\n",
            "Preparing to unpack .../5-libfftw3-dev_3.3.8-2ubuntu8_amd64.deb ...\n",
            "Unpacking libfftw3-dev:amd64 (3.3.8-2ubuntu8) ...\n",
            "Setting up libfftw3-single3:amd64 (3.3.8-2ubuntu8) ...\n",
            "Setting up libfftw3-long3:amd64 (3.3.8-2ubuntu8) ...\n",
            "Setting up libfftw3-quad3:amd64 (3.3.8-2ubuntu8) ...\n",
            "Setting up libfftw3-double3:amd64 (3.3.8-2ubuntu8) ...\n",
            "Setting up libfftw3-bin (3.3.8-2ubuntu8) ...\n",
            "Setting up libfftw3-dev:amd64 (3.3.8-2ubuntu8) ...\n",
            "Processing triggers for man-db (2.10.2-1) ...\n",
            "Processing triggers for libc-bin (2.35-0ubuntu3.4) ...\n",
            "/sbin/ldconfig.real: /usr/local/lib/libtcm_debug.so.1 is not a symbolic link\n",
            "\n",
            "/sbin/ldconfig.real: /usr/local/lib/libur_loader.so.0 is not a symbolic link\n",
            "\n",
            "/sbin/ldconfig.real: /usr/local/lib/libhwloc.so.15 is not a symbolic link\n",
            "\n",
            "/sbin/ldconfig.real: /usr/local/lib/libumf.so.0 is not a symbolic link\n",
            "\n",
            "/sbin/ldconfig.real: /usr/local/lib/libtbbmalloc_proxy.so.2 is not a symbolic link\n",
            "\n",
            "/sbin/ldconfig.real: /usr/local/lib/libtbbbind_2_0.so.3 is not a symbolic link\n",
            "\n",
            "/sbin/ldconfig.real: /usr/local/lib/libtbbbind.so.3 is not a symbolic link\n",
            "\n",
            "/sbin/ldconfig.real: /usr/local/lib/libtbbmalloc.so.2 is not a symbolic link\n",
            "\n",
            "/sbin/ldconfig.real: /usr/local/lib/libtbb.so.12 is not a symbolic link\n",
            "\n",
            "/sbin/ldconfig.real: /usr/local/lib/libtbbbind_2_5.so.3 is not a symbolic link\n",
            "\n",
            "/sbin/ldconfig.real: /usr/local/lib/libtcm.so.1 is not a symbolic link\n",
            "\n",
            "/sbin/ldconfig.real: /usr/local/lib/libur_adapter_level_zero.so.0 is not a symbolic link\n",
            "\n",
            "/sbin/ldconfig.real: /usr/local/lib/libur_adapter_opencl.so.0 is not a symbolic link\n",
            "\n",
            "Reading package lists... Done\n",
            "Building dependency tree... Done\n",
            "Reading state information... Done\n",
            "The following additional packages will be installed:\n",
            "  libfftw3-mpi3\n",
            "Suggested packages:\n",
            "  libfftw3-doc\n",
            "The following NEW packages will be installed:\n",
            "  libfftw3-mpi-dev libfftw3-mpi3\n",
            "0 upgraded, 2 newly installed, 0 to remove and 49 not upgraded.\n",
            "Need to get 102 kB of archives.\n",
            "After this operation, 1,052 kB of additional disk space will be used.\n",
            "Get:1 http://archive.ubuntu.com/ubuntu jammy/universe amd64 libfftw3-mpi3 amd64 3.3.8-2ubuntu8 [48.9 kB]\n",
            "Get:2 http://archive.ubuntu.com/ubuntu jammy/universe amd64 libfftw3-mpi-dev amd64 3.3.8-2ubuntu8 [53.3 kB]\n",
            "Fetched 102 kB in 0s (210 kB/s)\n",
            "Selecting previously unselected package libfftw3-mpi3:amd64.\n",
            "(Reading database ... 123737 files and directories currently installed.)\n",
            "Preparing to unpack .../libfftw3-mpi3_3.3.8-2ubuntu8_amd64.deb ...\n",
            "Unpacking libfftw3-mpi3:amd64 (3.3.8-2ubuntu8) ...\n",
            "Selecting previously unselected package libfftw3-mpi-dev:amd64.\n",
            "Preparing to unpack .../libfftw3-mpi-dev_3.3.8-2ubuntu8_amd64.deb ...\n",
            "Unpacking libfftw3-mpi-dev:amd64 (3.3.8-2ubuntu8) ...\n",
            "Setting up libfftw3-mpi3:amd64 (3.3.8-2ubuntu8) ...\n",
            "Setting up libfftw3-mpi-dev:amd64 (3.3.8-2ubuntu8) ...\n",
            "Processing triggers for libc-bin (2.35-0ubuntu3.4) ...\n",
            "/sbin/ldconfig.real: /usr/local/lib/libtcm_debug.so.1 is not a symbolic link\n",
            "\n",
            "/sbin/ldconfig.real: /usr/local/lib/libur_loader.so.0 is not a symbolic link\n",
            "\n",
            "/sbin/ldconfig.real: /usr/local/lib/libhwloc.so.15 is not a symbolic link\n",
            "\n",
            "/sbin/ldconfig.real: /usr/local/lib/libumf.so.0 is not a symbolic link\n",
            "\n",
            "/sbin/ldconfig.real: /usr/local/lib/libtbbmalloc_proxy.so.2 is not a symbolic link\n",
            "\n",
            "/sbin/ldconfig.real: /usr/local/lib/libtbbbind_2_0.so.3 is not a symbolic link\n",
            "\n",
            "/sbin/ldconfig.real: /usr/local/lib/libtbbbind.so.3 is not a symbolic link\n",
            "\n",
            "/sbin/ldconfig.real: /usr/local/lib/libtbbmalloc.so.2 is not a symbolic link\n",
            "\n",
            "/sbin/ldconfig.real: /usr/local/lib/libtbb.so.12 is not a symbolic link\n",
            "\n",
            "/sbin/ldconfig.real: /usr/local/lib/libtbbbind_2_5.so.3 is not a symbolic link\n",
            "\n",
            "/sbin/ldconfig.real: /usr/local/lib/libtcm.so.1 is not a symbolic link\n",
            "\n",
            "/sbin/ldconfig.real: /usr/local/lib/libur_adapter_level_zero.so.0 is not a symbolic link\n",
            "\n",
            "/sbin/ldconfig.real: /usr/local/lib/libur_adapter_opencl.so.0 is not a symbolic link\n",
            "\n",
            "Requirement already satisfied: cython in /usr/local/lib/python3.10/dist-packages (3.0.11)\n",
            "Collecting mpi4py<4.0\n",
            "  Downloading mpi4py-3.1.6.tar.gz (2.4 MB)\n",
            "\u001b[2K     \u001b[90m━━━━━━━━━━━━━━━━━━━━━━━━━━━━━━━━━━━━━━━━\u001b[0m \u001b[32m2.4/2.4 MB\u001b[0m \u001b[31m33.2 MB/s\u001b[0m eta \u001b[36m0:00:00\u001b[0m\n",
            "\u001b[?25h  Installing build dependencies ... \u001b[?25l\u001b[?25hdone\n",
            "  Getting requirements to build wheel ... \u001b[?25l\u001b[?25hdone\n",
            "  Preparing metadata (pyproject.toml) ... \u001b[?25l\u001b[?25hdone\n",
            "Requirement already satisfied: numpy in /usr/local/lib/python3.10/dist-packages (1.26.4)\n",
            "Requirement already satisfied: setuptools in /usr/local/lib/python3.10/dist-packages (75.1.0)\n",
            "Requirement already satisfied: wheel in /usr/local/lib/python3.10/dist-packages (0.45.1)\n",
            "Building wheels for collected packages: mpi4py\n",
            "  Building wheel for mpi4py (pyproject.toml) ... \u001b[?25l\u001b[?25hdone\n",
            "  Created wheel for mpi4py: filename=mpi4py-3.1.6-cp310-cp310-linux_x86_64.whl size=2746312 sha256=39c35aba837db50ca8f3ffcf576a6dec913c221af8eb2641bed0178cb4c4d6ac\n",
            "  Stored in directory: /root/.cache/pip/wheels/4c/ca/89/8fc1fb1c620afca13bb41c630b1f948bbf446e0aaa4b762e10\n",
            "Successfully built mpi4py\n",
            "Installing collected packages: mpi4py\n",
            "Successfully installed mpi4py-3.1.6\n",
            "Collecting http://github.com/dedalusproject/dedalus/zipball/master/\n",
            "  Downloading http://github.com/dedalusproject/dedalus/zipball/master/\n",
            "\u001b[2K     \u001b[32m|\u001b[0m \u001b[32m24.5 MB\u001b[0m \u001b[31m27.0 MB/s\u001b[0m \u001b[33m0:00:00\u001b[0m\n",
            "\u001b[?25h  Preparing metadata (pyproject.toml) ... \u001b[?25l\u001b[?25hdone\n",
            "Collecting docopt (from dedalus==3.0.3)\n",
            "  Downloading docopt-0.6.2.tar.gz (25 kB)\n",
            "  Preparing metadata (setup.py) ... \u001b[?25l\u001b[?25hdone\n",
            "Requirement already satisfied: h5py>=3.0.0 in /usr/local/lib/python3.10/dist-packages (from dedalus==3.0.3) (3.12.1)\n",
            "Requirement already satisfied: matplotlib in /usr/local/lib/python3.10/dist-packages (from dedalus==3.0.3) (3.8.0)\n",
            "Requirement already satisfied: mpi4py>=2.0.0 in /usr/local/lib/python3.10/dist-packages (from dedalus==3.0.3) (3.1.6)\n",
            "Requirement already satisfied: numexpr in /usr/local/lib/python3.10/dist-packages (from dedalus==3.0.3) (2.10.2)\n",
            "Requirement already satisfied: numpy>=1.20.0 in /usr/local/lib/python3.10/dist-packages (from dedalus==3.0.3) (1.26.4)\n",
            "Collecting py (from dedalus==3.0.3)\n",
            "  Downloading py-1.11.0-py2.py3-none-any.whl.metadata (2.8 kB)\n",
            "Requirement already satisfied: pytest in /usr/local/lib/python3.10/dist-packages (from dedalus==3.0.3) (8.3.4)\n",
            "Collecting pytest-benchmark (from dedalus==3.0.3)\n",
            "  Downloading pytest_benchmark-5.1.0-py3-none-any.whl.metadata (25 kB)\n",
            "Collecting pytest-cov (from dedalus==3.0.3)\n",
            "  Downloading pytest_cov-6.0.0-py3-none-any.whl.metadata (27 kB)\n",
            "Collecting pytest-parallel (from dedalus==3.0.3)\n",
            "  Downloading pytest_parallel-0.1.1-py3-none-any.whl.metadata (3.0 kB)\n",
            "Requirement already satisfied: scipy>=1.4.0 in /usr/local/lib/python3.10/dist-packages (from dedalus==3.0.3) (1.13.1)\n",
            "Requirement already satisfied: xarray in /usr/local/lib/python3.10/dist-packages (from dedalus==3.0.3) (2024.11.0)\n",
            "Requirement already satisfied: contourpy>=1.0.1 in /usr/local/lib/python3.10/dist-packages (from matplotlib->dedalus==3.0.3) (1.3.1)\n",
            "Requirement already satisfied: cycler>=0.10 in /usr/local/lib/python3.10/dist-packages (from matplotlib->dedalus==3.0.3) (0.12.1)\n",
            "Requirement already satisfied: fonttools>=4.22.0 in /usr/local/lib/python3.10/dist-packages (from matplotlib->dedalus==3.0.3) (4.55.3)\n",
            "Requirement already satisfied: kiwisolver>=1.0.1 in /usr/local/lib/python3.10/dist-packages (from matplotlib->dedalus==3.0.3) (1.4.7)\n",
            "Requirement already satisfied: packaging>=20.0 in /usr/local/lib/python3.10/dist-packages (from matplotlib->dedalus==3.0.3) (24.2)\n",
            "Requirement already satisfied: pillow>=6.2.0 in /usr/local/lib/python3.10/dist-packages (from matplotlib->dedalus==3.0.3) (11.0.0)\n",
            "Requirement already satisfied: pyparsing>=2.3.1 in /usr/local/lib/python3.10/dist-packages (from matplotlib->dedalus==3.0.3) (3.2.0)\n",
            "Requirement already satisfied: python-dateutil>=2.7 in /usr/local/lib/python3.10/dist-packages (from matplotlib->dedalus==3.0.3) (2.8.2)\n",
            "Requirement already satisfied: exceptiongroup>=1.0.0rc8 in /usr/local/lib/python3.10/dist-packages (from pytest->dedalus==3.0.3) (1.2.2)\n",
            "Requirement already satisfied: iniconfig in /usr/local/lib/python3.10/dist-packages (from pytest->dedalus==3.0.3) (2.0.0)\n",
            "Requirement already satisfied: pluggy<2,>=1.5 in /usr/local/lib/python3.10/dist-packages (from pytest->dedalus==3.0.3) (1.5.0)\n",
            "Requirement already satisfied: tomli>=1 in /usr/local/lib/python3.10/dist-packages (from pytest->dedalus==3.0.3) (2.2.1)\n",
            "Requirement already satisfied: py-cpuinfo in /usr/local/lib/python3.10/dist-packages (from pytest-benchmark->dedalus==3.0.3) (9.0.0)\n",
            "Collecting coverage>=7.5 (from coverage[toml]>=7.5->pytest-cov->dedalus==3.0.3)\n",
            "  Downloading coverage-7.6.10-cp310-cp310-manylinux_2_5_x86_64.manylinux1_x86_64.manylinux_2_17_x86_64.manylinux2014_x86_64.whl.metadata (8.2 kB)\n",
            "Collecting tblib (from pytest-parallel->dedalus==3.0.3)\n",
            "  Downloading tblib-3.0.0-py3-none-any.whl.metadata (25 kB)\n",
            "Requirement already satisfied: pandas>=2.1 in /usr/local/lib/python3.10/dist-packages (from xarray->dedalus==3.0.3) (2.2.2)\n",
            "Requirement already satisfied: pytz>=2020.1 in /usr/local/lib/python3.10/dist-packages (from pandas>=2.1->xarray->dedalus==3.0.3) (2024.2)\n",
            "Requirement already satisfied: tzdata>=2022.7 in /usr/local/lib/python3.10/dist-packages (from pandas>=2.1->xarray->dedalus==3.0.3) (2024.2)\n",
            "Requirement already satisfied: six>=1.5 in /usr/local/lib/python3.10/dist-packages (from python-dateutil>=2.7->matplotlib->dedalus==3.0.3) (1.17.0)\n",
            "Downloading py-1.11.0-py2.py3-none-any.whl (98 kB)\n",
            "\u001b[2K   \u001b[90m━━━━━━━━━━━━━━━━━━━━━━━━━━━━━━━━━━━━━━━━\u001b[0m \u001b[32m98.7/98.7 kB\u001b[0m \u001b[31m22.3 MB/s\u001b[0m eta \u001b[36m0:00:00\u001b[0m\n",
            "\u001b[?25hDownloading pytest_benchmark-5.1.0-py3-none-any.whl (44 kB)\n",
            "\u001b[2K   \u001b[90m━━━━━━━━━━━━━━━━━━━━━━━━━━━━━━━━━━━━━━━━\u001b[0m \u001b[32m44.3/44.3 kB\u001b[0m \u001b[31m195.3 MB/s\u001b[0m eta \u001b[36m0:00:00\u001b[0m\n",
            "\u001b[?25hDownloading pytest_cov-6.0.0-py3-none-any.whl (22 kB)\n",
            "Downloading pytest_parallel-0.1.1-py3-none-any.whl (7.0 kB)\n",
            "Downloading coverage-7.6.10-cp310-cp310-manylinux_2_5_x86_64.manylinux1_x86_64.manylinux_2_17_x86_64.manylinux2014_x86_64.whl (235 kB)\n",
            "\u001b[2K   \u001b[90m━━━━━━━━━━━━━━━━━━━━━━━━━━━━━━━━━━━━━━━━\u001b[0m \u001b[32m235.9/235.9 kB\u001b[0m \u001b[31m41.4 MB/s\u001b[0m eta \u001b[36m0:00:00\u001b[0m\n",
            "\u001b[?25hDownloading tblib-3.0.0-py3-none-any.whl (12 kB)\n",
            "Building wheels for collected packages: dedalus, docopt\n",
            "  Building wheel for dedalus (pyproject.toml) ... \u001b[?25l\u001b[?25hdone\n",
            "  Created wheel for dedalus: filename=dedalus-3.0.3-cp310-cp310-linux_x86_64.whl size=3261864 sha256=d90b6cfbde080206eaba101e78bc2740ccdf72bf3497a91c1803621b9336a8ac\n",
            "  Stored in directory: /tmp/pip-ephem-wheel-cache-2onbnmcj/wheels/2c/16/80/8c5f40fc4de8dc37ba4cdd4e05d7639677a5f0659c3bbd79a7\n",
            "  Building wheel for docopt (setup.py) ... \u001b[?25l\u001b[?25hdone\n",
            "  Created wheel for docopt: filename=docopt-0.6.2-py2.py3-none-any.whl size=13706 sha256=2cf0051bf8fea9adeaa70e8b4aeb6085d441c584720afbd00fe76e41a5cb9fd5\n",
            "  Stored in directory: /tmp/pip-ephem-wheel-cache-2onbnmcj/wheels/fc/ab/d4/5da2067ac95b36618c629a5f93f809425700506f72c9732fac\n",
            "Successfully built dedalus docopt\n",
            "Installing collected packages: docopt, tblib, py, coverage, pytest-parallel, pytest-benchmark, pytest-cov, dedalus\n",
            "Successfully installed coverage-7.6.10 dedalus-3.0.3 docopt-0.6.2 py-1.11.0 pytest-benchmark-5.1.0 pytest-cov-6.0.0 pytest-parallel-0.1.1 tblib-3.0.0\n",
            "\u001b[2K   \u001b[90m━━━━━━━━━━━━━━━━━━━━━━━━━━━━━━━━━━━━━━━━\u001b[0m \u001b[32m516.3/516.3 kB\u001b[0m \u001b[31m15.8 MB/s\u001b[0m eta \u001b[36m0:00:00\u001b[0m\n",
            "\u001b[2K   \u001b[90m━━━━━━━━━━━━━━━━━━━━━━━━━━━━━━━━━━━━━━━━\u001b[0m \u001b[32m1.6/1.6 MB\u001b[0m \u001b[31m53.1 MB/s\u001b[0m eta \u001b[36m0:00:00\u001b[0m\n",
            "\u001b[?25h\n",
            "Dedalus successfully installed :)\n"
          ]
        }
      ],
      "source": [
        "# Set environment variables for best performance\n",
        "%env OMP_NUM_THREADS=1\n",
        "%env NUMEXPR_MAX_THREADS=1\n",
        "\n",
        "# Minimize logging output\n",
        "import logging\n",
        "logging.disable(logging.DEBUG)\n",
        "\n",
        "# Check if running on google colab\n",
        "import os\n",
        "using_google_colab = bool(os.getenv(\"COLAB_RELEASE_TAG\"))\n",
        "\n",
        "# Check for Dedalus\n",
        "try:\n",
        "    import dedalus.public as de\n",
        "    print(\"Dedalus already installed :)\")\n",
        "except:\n",
        "    print(\"Dedalus not installed yet.\")\n",
        "    if using_google_colab:\n",
        "        print(\"Installing for Google Colab.\")\n",
        "        print()\n",
        "        # Step 1: Install FFTW\n",
        "        !apt-get install libfftw3-dev\n",
        "        !apt-get install libfftw3-mpi-dev\n",
        "        # Step 2: Set paths for Dedalus installation\n",
        "        import os\n",
        "        os.environ['MPI_INCLUDE_PATH'] = \"/usr/lib/x86_64-linux-gnu/openmpi/include\"\n",
        "        os.environ['MPI_LIBRARY_PATH'] = \"/usr/lib/x86_64-linux-gnu\"\n",
        "        os.environ['FFTW_INCLUDE_PATH'] = \"/usr/include\"\n",
        "        os.environ['FFTW_LIBRARY_PATH'] = \"/usr/lib/x86_64-linux-gnu\"\n",
        "        # Step 3: Install Dedalus using pip\n",
        "        !pip3 install cython \"mpi4py<4.0\" numpy setuptools wheel\n",
        "        !CC=mpicc pip3 install --no-cache --no-build-isolation http://github.com/dedalusproject/dedalus/zipball/master/\n",
        "        !pip3 install -q ipympl\n",
        "        # Step 4: Check installation\n",
        "        print()\n",
        "        try:\n",
        "            import dedalus.public as de\n",
        "            print(\"Dedalus successfully installed :)\")\n",
        "        except:\n",
        "            print(\"Error installing Dedalus :(\")\n",
        "            raise\n",
        "    else:\n",
        "        print(\"See website for installation instructions:\")\n",
        "        print(\"https://dedalus-project.readthedocs.io/en/latest/pages/installation.html\")\n",
        "\n",
        "# Setup interactive matplotlib\n",
        "if using_google_colab:\n",
        "    from google.colab import output\n",
        "    output.enable_custom_widget_manager()"
      ]
    },
    {
      "cell_type": "markdown",
      "metadata": {
        "id": "EM4JJ1yzcfsu"
      },
      "source": [
        "At the start of each Python script, we need to import the packages that we will use.  The cell below imports the packages that will be needed here, namely numpy, matplotlib (for plotting) and dedalus. Note that we assign aliases for numpy, matplotlib, and dedlaus. Run this cell before running any of the cells below."
      ]
    },
    {
      "cell_type": "code",
      "execution_count": 2,
      "metadata": {
        "id": "eESPxoXKrs0Q"
      },
      "outputs": [],
      "source": [
        "import numpy as np\n",
        "import matplotlib.pyplot as plt\n",
        "import dedalus.public as dedalus\n",
        "import logging\n",
        "logger = logging.getLogger(__name__)"
      ]
    },
    {
      "cell_type": "markdown",
      "metadata": {
        "id": "sFBvB4cQcfsv"
      },
      "source": [
        "## 2. Dedalus basics"
      ]
    },
    {
      "cell_type": "markdown",
      "metadata": {
        "id": "pxDOKo0Acfsv"
      },
      "source": [
        "Dedalus solves PDEs using spectral methods.  Dedalus requires us to specify the spatial coordinates, the `distributor`, and the spectral bases, which are explained below."
      ]
    },
    {
      "cell_type": "markdown",
      "metadata": {
        "id": "Zn5KMufAcfsv"
      },
      "source": [
        "### Coordinates"
      ]
    },
    {
      "cell_type": "markdown",
      "metadata": {
        "id": "P9R7TskTcfsv"
      },
      "source": [
        "We can use a variety of coordinate systems in Dedalus. For example, for multi-dimensional problems, we can use Cartesian coordinates, polar coordinates, spherical coordinates, etc. Here, we will set up a 1D problem using the Dedalus `Coordinate` class. We will see other examples in future projects.\n",
        "For more details on other problem types, included distributed parallel simulations, see the official [Dedalus Tutorial 1](https://dedalus-project.readthedocs.io/en/latest/notebooks/dedalus_tutorial_1.html).\n",
        "\n",
        "Let's create a coordinate object representing our 1D coordinate, which here we will call `x`:"
      ]
    },
    {
      "cell_type": "code",
      "execution_count": 3,
      "metadata": {
        "id": "FOgm8Z58cfsv"
      },
      "outputs": [],
      "source": [
        "xcoord = dedalus.Coordinate('x')"
      ]
    },
    {
      "cell_type": "markdown",
      "metadata": {
        "id": "KMqO1JsRcfsw"
      },
      "source": [
        "### Distributors"
      ]
    },
    {
      "cell_type": "markdown",
      "metadata": {
        "id": "fyEAC0Jwcfsw"
      },
      "source": [
        "Dedalus uses MPI (Message Passing Interface) for allow parallel computation on distributed memory systems. There are various options for how to distribute the computation amongst the processes. In Dedalus this is done by an object called a `Distributor`. Here, we will run not run in paralle, but Dedalus still requies us to create a `Distributor` object. You don't need to worry about this now, we will discuss it further in later projects.\n",
        "\n",
        "The line below creates a distributor for our x coordinate for a problem with real variables."
      ]
    },
    {
      "cell_type": "code",
      "execution_count": 5,
      "metadata": {
        "id": "FRlRyC1gcfsw"
      },
      "outputs": [],
      "source": [
        "dist = dedalus.Distributor(xcoord, dtype=np.float64) # No mesh for serial / automatic parallelization"
      ]
    },
    {
      "cell_type": "markdown",
      "metadata": {
        "id": "1LK9fRWXcfsw"
      },
      "source": [
        "### Spectral basis"
      ]
    },
    {
      "cell_type": "markdown",
      "metadata": {
        "id": "KNdWEGJ8cfsw"
      },
      "source": [
        "Dedalus decomposes the PDE that we are solving using a spectral basis. Dedalus has the ability to use different basis functions for this decomposition, and this gives Dedalus remarkable flexibility. For example, `RealFourier` provides a Fouier basis (sine and cosine functions) can be used for problems that are periodic (cyclic) in physical space. The `Chebyshev` basis allows boundary conditions to be set on a finite interval. The `SphereBasis` allows us to solve problems on a sphere.\n",
        "\n",
        "The line below creates a Fourier basis for a real-valued system with a domain size of Lx=10 and with Nx=1024 gridpoints in physical space."
      ]
    },
    {
      "cell_type": "code",
      "execution_count": 6,
      "metadata": {
        "id": "rQOfjNWecfsx"
      },
      "outputs": [],
      "source": [
        "# Set some parameters\n",
        "Nx = 1024 # The number of gridpoints. Note that Fourier transforms are more efficient if this is a power of 2\n",
        "x_start=-1; x_end=1 # The starting and ending bounds on x\n",
        "\n",
        "# Construct a Fourier basis\n",
        "x_basis = dedalus.RealFourier(xcoord, size=Nx, bounds=(x_start, x_end))"
      ]
    },
    {
      "cell_type": "markdown",
      "metadata": {
        "id": "WYcpkC9Icfsx"
      },
      "source": [
        "### Grids"
      ]
    },
    {
      "cell_type": "markdown",
      "metadata": {
        "id": "_VMJ7VVUcfsx"
      },
      "source": [
        "Each basis has a corresponding grid in physical space that can be used for tasks like initializing and plotting fields.\n",
        "\n",
        "The line below creates a grid for the x coordinate.\n"
      ]
    },
    {
      "cell_type": "code",
      "execution_count": 7,
      "metadata": {
        "id": "Z364-m_9cfsx"
      },
      "outputs": [],
      "source": [
        "x = dist.local_grid(x_basis)"
      ]
    },
    {
      "cell_type": "markdown",
      "metadata": {
        "id": "53FPBHrbcfsx"
      },
      "source": [
        "### Fields"
      ]
    },
    {
      "cell_type": "markdown",
      "metadata": {
        "id": "5zKMuEercfsx"
      },
      "source": [
        "`Field` objects in Dedalus represent scalar-valued fields defined over a set of bases (or a \"domain\").\n",
        "For multidimensional problems, vector and tensor valued fields can also be constructed using the `VectorField` and `TensorField` clases.\n",
        "\n",
        "Let's construct a field called `c` (for concentration) using our 1D basis:"
      ]
    },
    {
      "cell_type": "code",
      "execution_count": 8,
      "metadata": {
        "id": "MUACj_qXcfsy"
      },
      "outputs": [],
      "source": [
        "c = dist.Field(name='c', bases=x_basis)"
      ]
    },
    {
      "cell_type": "markdown",
      "metadata": {
        "id": "W06LkkyBcfsy"
      },
      "source": [
        "Field objects have internal methods for transforming their data between grid (`'g'`) and coefficeint (`'c'`) space representations.\n",
        "The field's values can be assigned and retrieved by indexing a field with these strings.\n",
        "\n",
        "Let's set the grid-space values of our field, `c`, to be a Gaussian function of `x`. This is how we set the initial condition for the initial value problem that we will solve below."
      ]
    },
    {
      "cell_type": "code",
      "execution_count": 9,
      "metadata": {
        "id": "XOr9hPm4cfsy",
        "colab": {
          "base_uri": "https://localhost:8080/",
          "height": 311
        },
        "outputId": "100b313d-4034-4026-b250-588c56851a6f"
      },
      "outputs": [
        {
          "output_type": "display_data",
          "data": {
            "text/plain": [
              "<Figure size 600x300 with 1 Axes>"
            ],
            "image/png": "[encoded data removed]"
          },
          "metadata": {}
        }
      ],
      "source": [
        "w = 0.1 # Set the width of the initial Gaussian\n",
        "c.change_scales(1) # Set values on regular grid\n",
        "c['g'] = np.exp(-x**2/w**2)  # Initialize the dependent variable c with a Gaussian function (note ** is the exponentiation operator)\n",
        "\n",
        "plt.figure(figsize=(6, 3)) # Set the size of the figure\n",
        "plt.plot(x, c['g']) # Plot the \"grid-space\" initial conditions\n",
        "plt.xlabel('x'); plt.ylabel(\"c\"); # Set the axis labels"
      ]
    },
    {
      "cell_type": "markdown",
      "metadata": {
        "id": "3RMg7Ljmcfsy"
      },
      "source": [
        "As a bit of an aside, we can find the coefficients of the spectral representation of a field using ['c'] instead of ['g'].\n",
        "This triggers an in-place spectral (in this case Fourier) transform of the field's data.\n",
        "For the `RealFourier` basis, the coefficients are the interleaved real-valued coefficients of the cosine and (negative) sine coefficients.\n",
        "For very large problems transforming between grid and coefficient space will be time-consuming, so you will want to limit the number of times that this is done."
      ]
    },
    {
      "cell_type": "code",
      "execution_count": 10,
      "metadata": {
        "id": "X_32Ylugcfsy",
        "colab": {
          "base_uri": "https://localhost:8080/",
          "height": 307
        },
        "outputId": "b0981764-0a48-4871-e9df-22873e9bee65"
      },
      "outputs": [
        {
          "output_type": "display_data",
          "data": {
            "text/plain": [
              "<Figure size 600x300 with 1 Axes>"
            ],
            "image/png": "[encoded data removed]"
          },
          "metadata": {}
        }
      ],
      "source": [
        "k = np.pi * np.arange(1, Nx/2+1) / (x_end - x_start) # Create an array of wavenumbers, k(i)=i*pi/Lx\n",
        "plt.figure(figsize=(6, 3))\n",
        "plt.plot(k, c['c'][0::2], label='cosine amplitude')\n",
        "plt.plot(k, -c['c'][1::2], label='sine amplitude')\n",
        "plt.xlabel('wavenumber (k)')\n",
        "plt.ylabel(\"c['c']\")\n",
        "plt.xlim(0, 50)\n",
        "plt.legend()\n",
        "plt.tight_layout()"
      ]
    },
    {
      "cell_type": "markdown",
      "metadata": {
        "id": "smM7uP7qcfsz"
      },
      "source": [
        "## 3. Problems and Solvers"
      ]
    },
    {
      "cell_type": "markdown",
      "metadata": {
        "id": "N8UpkW4pcfsz"
      },
      "source": [
        "Dedalus uses Problem and Solver classes to specify the problem and the methods that will be used to solve it. Here, we will set up the diffusion equation and solve it using the Crank-Nicolson timestepping method.\n",
        "\n",
        "For more details on other problem types, see [Dedalus Tutorial 3](https://dedalus-project.readthedocs.io/en/latest/notebooks/dedalus_tutorial_2.html)."
      ]
    },
    {
      "cell_type": "markdown",
      "metadata": {
        "id": "4vhTd2rccfsz"
      },
      "source": [
        "### Problems"
      ]
    },
    {
      "cell_type": "markdown",
      "metadata": {
        "id": "9sxPlZjlcfsz"
      },
      "source": [
        "Dedalus standardizes the formulation of all initial value problems by taking systems of symbolically specified equations and boundary conditions specified in the following generic form:\n",
        "\n",
        "$$\\mathcal{M} \\cdot \\partial_t \\mathcal{X} + \\mathcal{L} \\cdot \\mathcal{X} = \\mathcal{F}(\\mathcal{X}, t)$$\n",
        "\n",
        "where $\\mathcal{M}$ and $\\mathcal{L}$ are matrices of linear differential operators, $\\mathcal{X}$ is a state vector of the unknown fields, $\\mathcal{F}$ is a vector of general nonlinear expressions.\n",
        "\n",
        "The left-hand side (LHS) of the equations must be first-order in temporal derivatives and linear in the problem variables.\n",
        "The right-hand side (RHS) of the equations may contain nonlinear and time-dependent terms, but no temporal derivatives.\n",
        "\n",
        "When using a mixed implicit/explicit timestepping scheme, Dedalus will apply the implicit method to the $\\mathcal{L}\\cdot \\mathcal{X}$ term and the explicit method to the $\\mathcal{F}(\\mathcal{X}, t)$ term.\n",
        "\n",
        "To create a problem object, we provide a list of the variables to be solved for. In this case, this is just `c`.\n",
        "\n",
        "Equations can then be entered as pairs of operator expressions like `(LHS, RHS)` or as strings like `\"LHS = RHS\"`.\n",
        "\n",
        "Here, let's set up the diffusion equation:\n",
        "\n",
        "$$\\partial_t c - \\kappa \\partial_x^2 c = 0$$\n",
        "\n",
        "Note that we put the term with the second derivative on the left hand side of the equation so that it will be time-stepped implicitly."
      ]
    },
    {
      "cell_type": "code",
      "execution_count": 11,
      "metadata": {
        "id": "M5KIapjFcfsz"
      },
      "outputs": [],
      "source": [
        "# Parameters\n",
        "kappa = 0.001\n",
        "\n",
        "# Operators\n",
        "dx = lambda a: dedalus.Differentiate(a, xcoord) # Define the derivative (d/dx) operator\n",
        "\n",
        "# Specify the problem\n",
        "problem = dedalus.IVP([c], namespace=locals()) # Initial value problem, including all local variables\n",
        "problem.add_equation(\"dt(c) - kappa*dx(dx(c)) = 0\"); # Write out the equation to be solved\n"
      ]
    },
    {
      "cell_type": "markdown",
      "metadata": {
        "id": "Xe_8jhofcfs0"
      },
      "source": [
        "### 3.2 Solvers"
      ]
    },
    {
      "cell_type": "markdown",
      "metadata": {
        "id": "x_1EyXbOcfs0"
      },
      "source": [
        "Now, we need to specify the solver.  For IVPs, we specify a timestepping method when building the solver. Below we select the `CNAB1` timestepper which uses Crank-Nicolson for the $\\mathcal{L}\\cdot \\mathcal{X}$ term and the explicit first order Adams-Bashforth method for the right hand side term (but in this case the RHS is zero)."
      ]
    },
    {
      "cell_type": "code",
      "execution_count": 12,
      "metadata": {
        "id": "afGEl_Akcfs0",
        "colab": {
          "base_uri": "https://localhost:8080/"
        },
        "outputId": "20df8b74-9c94-45c9-fe31-98c316463ce6"
      },
      "outputs": [
        {
          "output_type": "stream",
          "name": "stderr",
          "text": [
            "INFO:subsystems:Building subproblem matrices 1/1 (~100%) Elapsed: 0s, Remaining: 0s, Rate: 1.6e+01/s\n"
          ]
        },
        {
          "output_type": "stream",
          "name": "stdout",
          "text": [
            "2024-12-27 02:22:18,303 subsystems 0/1 INFO :: Building subproblem matrices 1/1 (~100%) Elapsed: 0s, Remaining: 0s, Rate: 1.6e+01/s\n"
          ]
        }
      ],
      "source": [
        "timestepper = dedalus.CNAB1\n",
        "solver = problem.build_solver(timestepper)"
      ]
    },
    {
      "cell_type": "markdown",
      "metadata": {
        "id": "51DrSE6Ycfs0"
      },
      "source": [
        "Next, we need to specify a condition for the simulation to end. This can be a set number of iterations (set using `solver.stop_iteration`), a stopping time in simulation time units (set using `solver.stop_sim_time`, or a maximum wall clock time in seconds (set using `solver.stop_wall_time`).\n",
        "\n"
      ]
    },
    {
      "cell_type": "code",
      "execution_count": 13,
      "metadata": {
        "id": "uroYFHN8uLsI"
      },
      "outputs": [],
      "source": [
        "solver.stop_sim_time = 10 # Stop at 10 simulation time units"
      ]
    },
    {
      "cell_type": "markdown",
      "metadata": {
        "id": "qKNh9G_Wcfs1"
      },
      "source": [
        "IVPs are iterated using the `solver.step` method with a provided timestep.\n",
        "The logic controlling the main-loop of a Dedalus IVP simulation occurs explicitly in the simulation script.\n",
        "The `solver.proceed` property will change from `True` to `False` once any of the specified stopping criteria have been met.\n",
        "Let's timestep our problem until the halting condition is reached, copying the grid values of `u` every few iterations.\n",
        "This should take just a few seconds to run."
      ]
    },
    {
      "cell_type": "code",
      "execution_count": 14,
      "metadata": {
        "id": "sK3bokIecfs1",
        "colab": {
          "base_uri": "https://localhost:8080/"
        },
        "outputId": "e6e3c468-3b41-47d5-d8be-d44fed3ebe39"
      },
      "outputs": [
        {
          "output_type": "stream",
          "name": "stderr",
          "text": [
            "INFO:solvers:Simulation stop time reached.\n"
          ]
        },
        {
          "output_type": "stream",
          "name": "stdout",
          "text": [
            "2024-12-27 02:22:21,852 solvers 0/1 INFO :: Simulation stop time reached.\n"
          ]
        }
      ],
      "source": [
        "# Main loop\n",
        "timestep = 0.1\n",
        "c.change_scales(1)\n",
        "c_save = [np.copy(c['g'])]; t_save = [solver.sim_time]; # Save the initial condition and the initial time\n",
        "while solver.proceed:\n",
        "    solver.step(timestep)\n",
        "    if solver.iteration % 500 == 0: # Every 500 timesteps, print a message to the screen with the progress\n",
        "        logger.info('Iteration=%i, Time=%e, dt=%e' %(solver.iteration, solver.sim_time, timestep))\n",
        "    # save the values of c and t\n",
        "    c.change_scales(1)\n",
        "    c_save.append(np.copy(c['g']))\n",
        "    t_save.append(solver.sim_time)"
      ]
    },
    {
      "cell_type": "markdown",
      "metadata": {
        "id": "0jA1iYe-cfs2"
      },
      "source": [
        "Now we can make a space-time plot of the solution:"
      ]
    },
    {
      "cell_type": "code",
      "execution_count": 15,
      "metadata": {
        "id": "3LQxAkY-Q-GA",
        "colab": {
          "base_uri": "https://localhost:8080/",
          "height": 407
        },
        "outputId": "51cc30de-070b-492a-a2e5-64ef6ae73294"
      },
      "outputs": [
        {
          "output_type": "display_data",
          "data": {
            "text/plain": [
              "<Figure size 600x400 with 1 Axes>"
            ],
            "image/png": "[encoded data removed]"
          },
          "metadata": {}
        }
      ],
      "source": [
        "# Plot\n",
        "plt.figure(figsize=(6, 4))\n",
        "plt.pcolormesh(x.ravel(), np.array(t_save), np.array(c_save), cmap='RdBu_r', shading='gouraud', rasterized=True, clim=(-1, 1))\n",
        "plt.xlim(x_start, x_end)\n",
        "plt.ylim(0, solver.stop_sim_time)\n",
        "plt.xlabel('x')\n",
        "plt.ylabel('t')\n",
        "plt.title(f'Diffusion equation with Crank-Nicolson')\n",
        "plt.tight_layout()"
      ]
    },
    {
      "cell_type": "markdown",
      "metadata": {
        "id": "83TQO1G3cfs2"
      },
      "source": [
        "## 4. Forced diffusion equation"
      ]
    },
    {
      "cell_type": "markdown",
      "metadata": {
        "id": "IdPolkgacfs2"
      },
      "source": [
        "Dedalus is extremely flexible, which will make it very useful throughout the QCES computational projects. For example, it is relatively straightforward to change the equation that we are solving.\n",
        "\n",
        "In order to introduce functions into the equations that Dedalus solves, we need to define a new operator.  For example, the following code defines the function $sin(x)$ on our grid:"
      ]
    },
    {
      "cell_type": "code",
      "execution_count": 16,
      "metadata": {
        "id": "jVb0GrOCcfs2"
      },
      "outputs": [],
      "source": [
        "# Create an operator that applies a function to the variable on a grid\n",
        "sin_x = dist.Field(bases=x_basis)\n",
        "sin_x['g'] = np.sin(x)"
      ]
    },
    {
      "cell_type": "markdown",
      "metadata": {
        "id": "tL824Xhlcfs2"
      },
      "source": [
        "The code below uses Dedlaus to solve the forced diffusion equation:\n",
        "\n",
        "$$\\partial_t c - \\kappa \\partial_x^2 c = cos(\\pi x / Lx)$$\n",
        "\n",
        "with the same Gaussian initial condition as before. This example also shows what a complete Dedalus script looks like."
      ]
    },
    {
      "cell_type": "code",
      "execution_count": 41,
      "metadata": {
        "id": "2F9bwXMlcfs2",
        "colab": {
          "base_uri": "https://localhost:8080/",
          "height": 677
        },
        "outputId": "e11d95ee-cbfa-4ff8-a696-f8b73288533b"
      },
      "outputs": [
        {
          "output_type": "stream",
          "name": "stderr",
          "text": [
            "DEBUG:distributor:Mesh: []\n",
            "DEBUG:problems:Adding equation 0\n",
            "DEBUG:problems:  LHS: dt(c) + -1*0.001*dx(dx(c))\n",
            "DEBUG:problems:  RHS: <Field 138960874234176>\n",
            "DEBUG:problems:  condition: True\n",
            "DEBUG:problems:  M: c\n",
            "DEBUG:problems:  L: -1*0.001*dx(dx(c))\n",
            "DEBUG:problems:  F: <Field 138960874234176>\n",
            "DEBUG:solvers:Beginning IVP instantiation\n",
            "INFO:subsystems:Building subproblem matrices 1/1 (~100%) Elapsed: 0s, Remaining: 0s, Rate: 1.9e+01/s\n"
          ]
        },
        {
          "output_type": "stream",
          "name": "stdout",
          "text": [
            "2024-12-27 06:07:05,818 subsystems 0/1 INFO :: Building subproblem matrices 1/1 (~100%) Elapsed: 0s, Remaining: 0s, Rate: 1.9e+01/s\n"
          ]
        },
        {
          "output_type": "stream",
          "name": "stderr",
          "text": [
            "DEBUG:solvers:Finished IVP instantiation\n",
            "DEBUG:transforms:Building FFTW FFT plan for (dtype, gshape, axis) = (<class 'numpy.float64'>, (1024,), 0)\n",
            "INFO:solvers:Simulation stop time reached.\n"
          ]
        },
        {
          "output_type": "stream",
          "name": "stdout",
          "text": [
            "2024-12-27 06:07:05,900 solvers 0/1 INFO :: Simulation stop time reached.\n"
          ]
        },
        {
          "output_type": "display_data",
          "data": {
            "text/plain": [
              "<Figure size 600x400 with 1 Axes>"
            ],
            "image/png": "[encoded data removed]"
          },
          "metadata": {}
        }
      ],
      "source": [
        "# Load the required packages (these were loaded above and are inluded here for completeness)\n",
        "import numpy as np\n",
        "import matplotlib.pyplot as plt\n",
        "import dedalus.public as dedalus\n",
        "import logging\n",
        "logger = logging.getLogger(__name__)\n",
        "\n",
        "# This script solves the forced diffusion equation with Dedlaus\n",
        "\n",
        "# Set some parameters for the problem to be solved\n",
        "Nx = 1024 # The number of gridpoints. Note that Fourier transforms are more efficient if this is a power of 2\n",
        "Lx = 2; # The domain size in x.  This should be large enough so that the solution goes to zero at the endpoints.\n",
        "x_start=-Lx; x_end=Lx # The starting and ending bounds on x\n",
        "kappa = 0.001 # set the diffusivity\n",
        "\n",
        "# Create an x-coordinate, a corresponding basis, and a distributor\n",
        "xcoord = dedalus.Coordinate('x')\n",
        "dist = dedalus.Distributor(xcoord, dtype=np.float64) # No mesh for serial / automatic parallelization\n",
        "x_basis = dedalus.RealFourier(xcoord, size=Nx, bounds=(x_start, x_end))\n",
        "x = dist.local_grid(x_basis)\n",
        "\n",
        "# Set initial conditions\n",
        "c = dist.Field(name='c', bases=x_basis)\n",
        "w = 0.1 # Set the width of the initial Gaussian\n",
        "c.change_scales(1) # Set values on regular grid\n",
        "c['g'] = np.exp(-x**2/w**2)  # Initialize the dependent variable c with a Gaussian function (note ** is the exponentiation operator)\n",
        "\n",
        "# Operators\n",
        "dx = lambda a: dedalus.Differentiate(a, xcoord) # Define the derivative (d/dx) operator\n",
        "\n",
        "# Create an operator that applies a function to the variable on a grid\n",
        "f_x = dist.Field(bases=x_basis)\n",
        "f_x['g'] = np.cos(np.pi * x / Lx)\n",
        "\n",
        "# Specify the problem\n",
        "problem = dedalus.IVP([c], namespace=locals()) # Initial value problem, including all local variables\n",
        "problem.add_equation(\"dt(c) - kappa * dx(dx(c)) = f_x\"); # Write out the equation to be solved\n",
        "\n",
        "timestepper = dedalus.CNAB1\n",
        "solver = problem.build_solver(timestepper)\n",
        "\n",
        "solver.stop_sim_time = 10 # Stop at 10 simulation time units\n",
        "\n",
        "# Main loop\n",
        "timestep = 0.1\n",
        "c.change_scales(1)\n",
        "c_save = [np.copy(c['g'])]; t_save = [solver.sim_time]; # Save the initial condition and the initial time\n",
        "while solver.proceed:\n",
        "    solver.step(timestep)\n",
        "    if solver.iteration % 500 == 0: # Every 500 timesteps, print a message to the screen with the progress\n",
        "        logger.info('Iteration=%i, Time=%e, dt=%e' %(solver.iteration, solver.sim_time, timestep))\n",
        "    c.change_scales(1)\n",
        "    c_save.append(np.copy(c['g']))\n",
        "    t_save.append(solver.sim_time)\n",
        "\n",
        "# Plot\n",
        "plt.figure(figsize=(6, 4))\n",
        "plt.pcolormesh(x.ravel(), np.array(t_save), np.array(c_save), cmap='RdBu_r', shading='gouraud', rasterized=True)#, clim=(-1, 1))\n",
        "plt.xlim(x_start, x_end)\n",
        "plt.ylim(0, solver.stop_sim_time)\n",
        "plt.xlabel('x')\n",
        "plt.ylabel('t')\n",
        "plt.title('Forced diffusion equation')\n",
        "plt.tight_layout()"
      ]
    },
    {
      "cell_type": "markdown",
      "metadata": {
        "id": "_BK0F3OGcfs2"
      },
      "source": [
        "## 5. Student investigation\n",
        "<a id='student_investigation'></a>"
      ]
    },
    {
      "cell_type": "markdown",
      "metadata": {
        "id": "UYbNToKccfs3"
      },
      "source": [
        "### 5.1 Steady-state solution to the forced diffusion equation"
      ]
    },
    {
      "cell_type": "markdown",
      "metadata": {
        "id": "HpBb6Ns0cfs3"
      },
      "source": [
        "For the forced diffusion equation described in section 4, using dimensional analysis, estimate the time needed to reach a steady-state solution. Test this scaling, and discuss your results below. Run the code above for a sufficient time to achieve a steady-state solution. Plot $c$ at the end of this simulation, and compare it with the exact steady-state solution to the forced diffusion equation."
      ]
    },
    {
      "cell_type": "markdown",
      "metadata": {
        "id": "u0O-zzQ5cfs3"
      },
      "source": [
        "Students should comment on the timescale needed to transition from the initial condition to the forced solution, and comment on the diffusive and forcing timescales."
      ]
    },
    {
      "cell_type": "markdown",
      "source": [
        "The forced diffusion equation is:\n",
        "\n",
        "$$\\partial_t c - \\kappa \\partial_x^2 c = cos(\\pi x / Lx)$$\n",
        "\n",
        "**1. Dimensional analysis for the time**\n",
        "\n",
        "By dimensional analysis, the unit of $\\kappa$ is $[L^2/T]$. Assume the diffusion timescale dominates:$$\\tau \\sim \\frac{L_x^2}{\\kappa},$$ with $L_x= 2$ and $\\kappa=0.001$, then the estimate time to achieve steady state is $\\tau \\approx 4000$.\n",
        "\n",
        "**2. Solve for the steady-state solution**\n",
        "\n",
        "For steady state solution, $\\partial_t c = 0$, which gives:\n",
        "\n",
        "$\n",
        "-\\kappa \\frac{\\partial^2 c_s}{\\partial x^2} = \\cos\\left(\\frac{\\pi x}{L_x}\\right),\n",
        "$\n",
        "\n",
        "Integrate the equation:\n",
        "\n",
        "$$\n",
        "-\\kappa \\frac{\\partial c_s}{\\partial x} = \\int \\cos\\left(\\frac{\\pi x}{L_x}\\right) dx = \\frac{L_x}{\\pi} \\sin\\left(\\frac{\\pi x}{L_x}\\right) + C_1,\n",
        "$$\n",
        "\n",
        "Integrate again:\n",
        "\n",
        "\n",
        "$$\n",
        "c_s(x) = \\int \\left(-\\frac{1}{\\kappa} \\cdot \\frac{L_x}{\\pi} \\sin\\left(\\frac{\\pi x}{L_x}\\right) + C_1\\right) dx\n",
        "= -\\frac{1}{\\kappa} \\cdot \\frac{L_x^2}{\\pi^2} \\cos\\left(\\frac{\\pi x}{L_x}\\right) + C_1 x + C_2,\n",
        "$$\n",
        "\n",
        "where $C_1$ and $C_2$ are constants.\n",
        "\n",
        "By periodic boundary conditions: $$c_s(-L_x) = c_s(L_x)$$ $$\\frac{\\partial c_s}{\\partial x}(-L_x) = \\frac{\\partial c_s}{\\partial x}(L_x),$$\n",
        "\n",
        "we have $C_1 = 0$.\n",
        "\n",
        "Finally, the average constraint $\\int_{-L_x}^{L_x} c_s(x) dx = 0$ implies:\n",
        "\n",
        "$$\n",
        "\\int_{-L_x}^{L_x} c_s(x) dx = \\int_{-L_x}^{L_x} -\\frac{1}{\\kappa} \\cdot \\frac{L_x^2}{\\pi^2} \\cos\\left(\\frac{\\pi x}{L_x}\\right) dx + \\int_{-L_x}^{L_x} C_2 dx=0.\n",
        "$$\n",
        "\n",
        "The first term integrates to zero due to the symmetry of $\\cos(\\pi x / L_x)$ over $[-L_x, L_x]$. Therefore, $C_2 = 0$.\n",
        "\n",
        "Thus, the final steady-state solution is:\n",
        "\n",
        "$$\n",
        "c_s(x) = -\\frac{L_x^2}{\\kappa \\pi^2} \\cos\\left(\\frac{\\pi x}{L_x}\\right).\n",
        "$$\n",
        "\n",
        "**3.The transition from the initial condition to the steady-state solution**\n",
        "\n",
        "Initially, diffusion dominates as it works to smooth out the sharp gradients in the initial condition.Over time, the forcing term gradually establishes a periodic steady-state solution.\n",
        "\n",
        "**4. Diffusive and forcing timescales**\n",
        "\n",
        "The characteristic timescale for diffusion across a domain of size $L_x$ is:\n",
        "\n",
        "$$\n",
        "t_{\\text{diff}} \\sim \\frac{L_x^2}{\\kappa}.\n",
        "$$\n",
        "\n",
        "For $L_x = 2$ and $\\kappa = 0.001$, the diffusion timescale is:\n",
        "\n",
        "$$\n",
        "t_{\\text{diff}} \\approx 4000.\n",
        "$$\n",
        "\n",
        "The forcing term $\\cos\\left(\\frac{\\pi x}{L_x}\\right)$ drives the system toward a periodic steady-state response, which is periodic in space and acts uniformly in time. The forcing timescale, which represents how quickly the external forcing influences the system, is given by:\n",
        "\n",
        "$\n",
        "t_{\\text{force}} \\sim \\frac{c}{F},\n",
        "$\n",
        "\n",
        "where:\n",
        "- $c$: Characteristic concentration scale,\n",
        "- $F$: Characteristic forcing amplitude.\n",
        "\n",
        "The forcing term drives the system toward a steady-state profile matching the external periodic forcing.Because the forcing is spatially periodic and relatively smooth compared to the initial condition, its contribution to the transient dynamics is secondary compared to diffusion. The forcing timescale is effectively subsumed within the longer diffusion timescale.\n",
        "\n",
        "\n"
      ],
      "metadata": {
        "id": "0Jvxwm9DC36d"
      }
    },
    {
      "cell_type": "code",
      "source": [
        "#@title #Plot\n",
        "# Set some parameters for the problem to be solved\n",
        "Nx = 1024 # The number of gridpoints. Note that Fourier transforms are more efficient if this is a power of 2\n",
        "Lx = 2; # The domain size in x.  This should be large enough so that the solution goes to zero at the endpoints.\n",
        "x_start=-Lx; x_end=Lx # The starting and ending bounds on x\n",
        "kappa = 0.001 # set the diffusivity\n",
        "\n",
        "# Create an x-coordinate, a corresponding basis, and a distributor\n",
        "xcoord = dedalus.Coordinate('x')\n",
        "dist = dedalus.Distributor(xcoord, dtype=np.float64) # No mesh for serial / automatic parallelization\n",
        "x_basis = dedalus.RealFourier(xcoord, size=Nx, bounds=(x_start, x_end))\n",
        "x = dist.local_grid(x_basis)\n",
        "\n",
        "# Set initial conditions\n",
        "c = dist.Field(name='c', bases=x_basis)\n",
        "w = 0.1 # Set the width of the initial Gaussian\n",
        "c.change_scales(1) # Set values on regular grid\n",
        "c['g'] = np.exp(-x**2/w**2)  # Initialize the dependent variable c with a Gaussian function (note ** is the exponentiation operator)\n",
        "\n",
        "# Operators\n",
        "dx = lambda a: dedalus.Differentiate(a, xcoord) # Define the derivative (d/dx) operator\n",
        "\n",
        "# Create an operator that applies a function to the variable on a grid\n",
        "f_x = dist.Field(bases=x_basis)\n",
        "f_x['g'] = np.cos(np.pi * x / Lx)\n",
        "\n",
        "# Specify the problem\n",
        "problem = dedalus.IVP([c], namespace=locals()) # Initial value problem, including all local variables\n",
        "problem.add_equation(\"dt(c) - kappa * dx(dx(c)) = f_x\"); # Write out the equation to be solved\n",
        "\n",
        "timestepper = dedalus.CNAB1\n",
        "solver = problem.build_solver(timestepper)\n",
        "\n",
        "solver.stop_sim_time = 4000 # Stop at 10 simulation time units\n",
        "\n",
        "# Main loop\n",
        "timestep = 0.1\n",
        "c.change_scales(1)\n",
        "c_save = [np.copy(c['g'])]; t_save = [solver.sim_time]; # Save the initial condition and the initial time\n",
        "while solver.proceed:\n",
        "    solver.step(timestep)\n",
        "    if solver.iteration % 500 == 0: # Every 500 timesteps, print a message to the screen with the progress\n",
        "        logger.info('Iteration=%i, Time=%e, dt=%e' %(solver.iteration, solver.sim_time, timestep))\n",
        "    c.change_scales(1)\n",
        "    c_save.append(np.copy(c['g']))\n",
        "    t_save.append(solver.sim_time)\n",
        "\n",
        "c_at_x0 = [c_snapshot[0] for c_snapshot in c_save]\n",
        "\n",
        "# Extract the last time step solution (t = 4000)\n",
        "c_at_t_final = c_save[-1]  # The last snapshot of c corresponds to t = 4000\n",
        "\n",
        "# Create a figure with two subplots side by side\n",
        "fig, axes = plt.subplots(1, 2, figsize=(12, 4))  # 1 row, 2 columns\n",
        "\n",
        "# Plot 1: c(x=0, t) vs t\n",
        "axes[0].plot(t_save, c_at_x0, label=\"Numerical Solution at x=0\")\n",
        "axes[0].set_xlabel(\"t\")\n",
        "axes[0].set_ylabel(\"c(x=0, t)\")\n",
        "axes[0].set_title(\"Time Evolution at x=0\")\n",
        "axes[0].grid(True)\n",
        "axes[0].legend()\n",
        "\n",
        "# Plot 2: c(x, t=4000) vs x\n",
        "axes[1].plot(x, c_at_t_final, label=\"Numerical Solution at t=4000\")\n",
        "axes[1].set_xlabel(\"x\")\n",
        "axes[1].set_ylabel(\"c(x, t=4000)\")\n",
        "axes[1].set_title(\"Spatial Distribution at t=4000\")\n",
        "axes[1].grid(True)\n",
        "axes[1].legend()\n",
        "\n",
        "# Adjust layout and show the figure\n",
        "plt.tight_layout()\n",
        "plt.show()\n"
      ],
      "metadata": {
        "colab": {
          "base_uri": "https://localhost:8080/",
          "height": 1000
        },
        "id": "NzV2NXrJjdji",
        "outputId": "20a4d430-bf45-4b42-8965-98f52d994a94"
      },
      "execution_count": 40,
      "outputs": [
        {
          "output_type": "stream",
          "name": "stderr",
          "text": [
            "DEBUG:distributor:Mesh: []\n",
            "DEBUG:problems:Adding equation 0\n",
            "DEBUG:problems:  LHS: dt(c) + -1*0.001*dx(dx(c))\n",
            "DEBUG:problems:  RHS: <Field 138960873673088>\n",
            "DEBUG:problems:  condition: True\n",
            "DEBUG:problems:  M: c\n",
            "DEBUG:problems:  L: -1*0.001*dx(dx(c))\n",
            "DEBUG:problems:  F: <Field 138960873673088>\n",
            "DEBUG:solvers:Beginning IVP instantiation\n",
            "INFO:subsystems:Building subproblem matrices 1/1 (~100%) Elapsed: 0s, Remaining: 0s, Rate: 1.6e+01/s\n"
          ]
        },
        {
          "output_type": "stream",
          "name": "stdout",
          "text": [
            "2024-12-27 06:00:00,207 subsystems 0/1 INFO :: Building subproblem matrices 1/1 (~100%) Elapsed: 0s, Remaining: 0s, Rate: 1.6e+01/s\n"
          ]
        },
        {
          "output_type": "stream",
          "name": "stderr",
          "text": [
            "DEBUG:solvers:Finished IVP instantiation\n",
            "DEBUG:transforms:Building FFTW FFT plan for (dtype, gshape, axis) = (<class 'numpy.float64'>, (1024,), 0)\n",
            "INFO:__main__:Iteration=500, Time=5.000000e+01, dt=1.000000e-01\n"
          ]
        },
        {
          "output_type": "stream",
          "name": "stdout",
          "text": [
            "2024-12-27 06:00:00,393 __main__ 0/1 INFO :: Iteration=500, Time=5.000000e+01, dt=1.000000e-01\n"
          ]
        },
        {
          "output_type": "stream",
          "name": "stderr",
          "text": [
            "INFO:__main__:Iteration=1000, Time=1.000000e+02, dt=1.000000e-01\n"
          ]
        },
        {
          "output_type": "stream",
          "name": "stdout",
          "text": [
            "2024-12-27 06:00:00,561 __main__ 0/1 INFO :: Iteration=1000, Time=1.000000e+02, dt=1.000000e-01\n"
          ]
        },
        {
          "output_type": "stream",
          "name": "stderr",
          "text": [
            "INFO:__main__:Iteration=1500, Time=1.500000e+02, dt=1.000000e-01\n"
          ]
        },
        {
          "output_type": "stream",
          "name": "stdout",
          "text": [
            "2024-12-27 06:00:00,724 __main__ 0/1 INFO :: Iteration=1500, Time=1.500000e+02, dt=1.000000e-01\n"
          ]
        },
        {
          "output_type": "stream",
          "name": "stderr",
          "text": [
            "INFO:__main__:Iteration=2000, Time=2.000000e+02, dt=1.000000e-01\n"
          ]
        },
        {
          "output_type": "stream",
          "name": "stdout",
          "text": [
            "2024-12-27 06:00:00,912 __main__ 0/1 INFO :: Iteration=2000, Time=2.000000e+02, dt=1.000000e-01\n"
          ]
        },
        {
          "output_type": "stream",
          "name": "stderr",
          "text": [
            "INFO:__main__:Iteration=2500, Time=2.500000e+02, dt=1.000000e-01\n"
          ]
        },
        {
          "output_type": "stream",
          "name": "stdout",
          "text": [
            "2024-12-27 06:00:01,092 __main__ 0/1 INFO :: Iteration=2500, Time=2.500000e+02, dt=1.000000e-01\n"
          ]
        },
        {
          "output_type": "stream",
          "name": "stderr",
          "text": [
            "INFO:__main__:Iteration=3000, Time=3.000000e+02, dt=1.000000e-01\n"
          ]
        },
        {
          "output_type": "stream",
          "name": "stdout",
          "text": [
            "2024-12-27 06:00:01,304 __main__ 0/1 INFO :: Iteration=3000, Time=3.000000e+02, dt=1.000000e-01\n"
          ]
        },
        {
          "output_type": "stream",
          "name": "stderr",
          "text": [
            "INFO:__main__:Iteration=3500, Time=3.500000e+02, dt=1.000000e-01\n"
          ]
        },
        {
          "output_type": "stream",
          "name": "stdout",
          "text": [
            "2024-12-27 06:00:01,473 __main__ 0/1 INFO :: Iteration=3500, Time=3.500000e+02, dt=1.000000e-01\n"
          ]
        },
        {
          "output_type": "stream",
          "name": "stderr",
          "text": [
            "INFO:__main__:Iteration=4000, Time=4.000000e+02, dt=1.000000e-01\n"
          ]
        },
        {
          "output_type": "stream",
          "name": "stdout",
          "text": [
            "2024-12-27 06:00:01,636 __main__ 0/1 INFO :: Iteration=4000, Time=4.000000e+02, dt=1.000000e-01\n"
          ]
        },
        {
          "output_type": "stream",
          "name": "stderr",
          "text": [
            "INFO:__main__:Iteration=4500, Time=4.500000e+02, dt=1.000000e-01\n"
          ]
        },
        {
          "output_type": "stream",
          "name": "stdout",
          "text": [
            "2024-12-27 06:00:01,818 __main__ 0/1 INFO :: Iteration=4500, Time=4.500000e+02, dt=1.000000e-01\n"
          ]
        },
        {
          "output_type": "stream",
          "name": "stderr",
          "text": [
            "INFO:__main__:Iteration=5000, Time=5.000000e+02, dt=1.000000e-01\n"
          ]
        },
        {
          "output_type": "stream",
          "name": "stdout",
          "text": [
            "2024-12-27 06:00:02,023 __main__ 0/1 INFO :: Iteration=5000, Time=5.000000e+02, dt=1.000000e-01\n"
          ]
        },
        {
          "output_type": "stream",
          "name": "stderr",
          "text": [
            "INFO:__main__:Iteration=5500, Time=5.500000e+02, dt=1.000000e-01\n"
          ]
        },
        {
          "output_type": "stream",
          "name": "stdout",
          "text": [
            "2024-12-27 06:00:02,231 __main__ 0/1 INFO :: Iteration=5500, Time=5.500000e+02, dt=1.000000e-01\n"
          ]
        },
        {
          "output_type": "stream",
          "name": "stderr",
          "text": [
            "INFO:__main__:Iteration=6000, Time=6.000000e+02, dt=1.000000e-01\n"
          ]
        },
        {
          "output_type": "stream",
          "name": "stdout",
          "text": [
            "2024-12-27 06:00:02,393 __main__ 0/1 INFO :: Iteration=6000, Time=6.000000e+02, dt=1.000000e-01\n"
          ]
        },
        {
          "output_type": "stream",
          "name": "stderr",
          "text": [
            "INFO:__main__:Iteration=6500, Time=6.500000e+02, dt=1.000000e-01\n"
          ]
        },
        {
          "output_type": "stream",
          "name": "stdout",
          "text": [
            "2024-12-27 06:00:02,580 __main__ 0/1 INFO :: Iteration=6500, Time=6.500000e+02, dt=1.000000e-01\n"
          ]
        },
        {
          "output_type": "stream",
          "name": "stderr",
          "text": [
            "INFO:__main__:Iteration=7000, Time=7.000000e+02, dt=1.000000e-01\n"
          ]
        },
        {
          "output_type": "stream",
          "name": "stdout",
          "text": [
            "2024-12-27 06:00:02,765 __main__ 0/1 INFO :: Iteration=7000, Time=7.000000e+02, dt=1.000000e-01\n"
          ]
        },
        {
          "output_type": "stream",
          "name": "stderr",
          "text": [
            "INFO:__main__:Iteration=7500, Time=7.500000e+02, dt=1.000000e-01\n"
          ]
        },
        {
          "output_type": "stream",
          "name": "stdout",
          "text": [
            "2024-12-27 06:00:02,948 __main__ 0/1 INFO :: Iteration=7500, Time=7.500000e+02, dt=1.000000e-01\n"
          ]
        },
        {
          "output_type": "stream",
          "name": "stderr",
          "text": [
            "INFO:__main__:Iteration=8000, Time=8.000000e+02, dt=1.000000e-01\n"
          ]
        },
        {
          "output_type": "stream",
          "name": "stdout",
          "text": [
            "2024-12-27 06:00:03,139 __main__ 0/1 INFO :: Iteration=8000, Time=8.000000e+02, dt=1.000000e-01\n"
          ]
        },
        {
          "output_type": "stream",
          "name": "stderr",
          "text": [
            "INFO:__main__:Iteration=8500, Time=8.500000e+02, dt=1.000000e-01\n"
          ]
        },
        {
          "output_type": "stream",
          "name": "stdout",
          "text": [
            "2024-12-27 06:00:03,332 __main__ 0/1 INFO :: Iteration=8500, Time=8.500000e+02, dt=1.000000e-01\n"
          ]
        },
        {
          "output_type": "stream",
          "name": "stderr",
          "text": [
            "INFO:__main__:Iteration=9000, Time=9.000000e+02, dt=1.000000e-01\n"
          ]
        },
        {
          "output_type": "stream",
          "name": "stdout",
          "text": [
            "2024-12-27 06:00:03,514 __main__ 0/1 INFO :: Iteration=9000, Time=9.000000e+02, dt=1.000000e-01\n"
          ]
        },
        {
          "output_type": "stream",
          "name": "stderr",
          "text": [
            "INFO:__main__:Iteration=9500, Time=9.500000e+02, dt=1.000000e-01\n"
          ]
        },
        {
          "output_type": "stream",
          "name": "stdout",
          "text": [
            "2024-12-27 06:00:03,672 __main__ 0/1 INFO :: Iteration=9500, Time=9.500000e+02, dt=1.000000e-01\n"
          ]
        },
        {
          "output_type": "stream",
          "name": "stderr",
          "text": [
            "INFO:__main__:Iteration=10000, Time=1.000000e+03, dt=1.000000e-01\n"
          ]
        },
        {
          "output_type": "stream",
          "name": "stdout",
          "text": [
            "2024-12-27 06:00:03,843 __main__ 0/1 INFO :: Iteration=10000, Time=1.000000e+03, dt=1.000000e-01\n"
          ]
        },
        {
          "output_type": "stream",
          "name": "stderr",
          "text": [
            "INFO:__main__:Iteration=10500, Time=1.050000e+03, dt=1.000000e-01\n"
          ]
        },
        {
          "output_type": "stream",
          "name": "stdout",
          "text": [
            "2024-12-27 06:00:04,039 __main__ 0/1 INFO :: Iteration=10500, Time=1.050000e+03, dt=1.000000e-01\n"
          ]
        },
        {
          "output_type": "stream",
          "name": "stderr",
          "text": [
            "INFO:__main__:Iteration=11000, Time=1.100000e+03, dt=1.000000e-01\n"
          ]
        },
        {
          "output_type": "stream",
          "name": "stdout",
          "text": [
            "2024-12-27 06:00:04,223 __main__ 0/1 INFO :: Iteration=11000, Time=1.100000e+03, dt=1.000000e-01\n"
          ]
        },
        {
          "output_type": "stream",
          "name": "stderr",
          "text": [
            "INFO:__main__:Iteration=11500, Time=1.150000e+03, dt=1.000000e-01\n"
          ]
        },
        {
          "output_type": "stream",
          "name": "stdout",
          "text": [
            "2024-12-27 06:00:04,385 __main__ 0/1 INFO :: Iteration=11500, Time=1.150000e+03, dt=1.000000e-01\n"
          ]
        },
        {
          "output_type": "stream",
          "name": "stderr",
          "text": [
            "INFO:__main__:Iteration=12000, Time=1.200000e+03, dt=1.000000e-01\n"
          ]
        },
        {
          "output_type": "stream",
          "name": "stdout",
          "text": [
            "2024-12-27 06:00:04,541 __main__ 0/1 INFO :: Iteration=12000, Time=1.200000e+03, dt=1.000000e-01\n"
          ]
        },
        {
          "output_type": "stream",
          "name": "stderr",
          "text": [
            "INFO:__main__:Iteration=12500, Time=1.250000e+03, dt=1.000000e-01\n"
          ]
        },
        {
          "output_type": "stream",
          "name": "stdout",
          "text": [
            "2024-12-27 06:00:04,700 __main__ 0/1 INFO :: Iteration=12500, Time=1.250000e+03, dt=1.000000e-01\n"
          ]
        },
        {
          "output_type": "stream",
          "name": "stderr",
          "text": [
            "INFO:__main__:Iteration=13000, Time=1.300000e+03, dt=1.000000e-01\n"
          ]
        },
        {
          "output_type": "stream",
          "name": "stdout",
          "text": [
            "2024-12-27 06:00:04,867 __main__ 0/1 INFO :: Iteration=13000, Time=1.300000e+03, dt=1.000000e-01\n"
          ]
        },
        {
          "output_type": "stream",
          "name": "stderr",
          "text": [
            "INFO:__main__:Iteration=13500, Time=1.350000e+03, dt=1.000000e-01\n"
          ]
        },
        {
          "output_type": "stream",
          "name": "stdout",
          "text": [
            "2024-12-27 06:00:05,036 __main__ 0/1 INFO :: Iteration=13500, Time=1.350000e+03, dt=1.000000e-01\n"
          ]
        },
        {
          "output_type": "stream",
          "name": "stderr",
          "text": [
            "INFO:__main__:Iteration=14000, Time=1.400000e+03, dt=1.000000e-01\n"
          ]
        },
        {
          "output_type": "stream",
          "name": "stdout",
          "text": [
            "2024-12-27 06:00:05,230 __main__ 0/1 INFO :: Iteration=14000, Time=1.400000e+03, dt=1.000000e-01\n"
          ]
        },
        {
          "output_type": "stream",
          "name": "stderr",
          "text": [
            "INFO:__main__:Iteration=14500, Time=1.450000e+03, dt=1.000000e-01\n"
          ]
        },
        {
          "output_type": "stream",
          "name": "stdout",
          "text": [
            "2024-12-27 06:00:05,395 __main__ 0/1 INFO :: Iteration=14500, Time=1.450000e+03, dt=1.000000e-01\n"
          ]
        },
        {
          "output_type": "stream",
          "name": "stderr",
          "text": [
            "INFO:__main__:Iteration=15000, Time=1.500000e+03, dt=1.000000e-01\n"
          ]
        },
        {
          "output_type": "stream",
          "name": "stdout",
          "text": [
            "2024-12-27 06:00:05,564 __main__ 0/1 INFO :: Iteration=15000, Time=1.500000e+03, dt=1.000000e-01\n"
          ]
        },
        {
          "output_type": "stream",
          "name": "stderr",
          "text": [
            "INFO:__main__:Iteration=15500, Time=1.550000e+03, dt=1.000000e-01\n"
          ]
        },
        {
          "output_type": "stream",
          "name": "stdout",
          "text": [
            "2024-12-27 06:00:05,728 __main__ 0/1 INFO :: Iteration=15500, Time=1.550000e+03, dt=1.000000e-01\n"
          ]
        },
        {
          "output_type": "stream",
          "name": "stderr",
          "text": [
            "INFO:__main__:Iteration=16000, Time=1.600000e+03, dt=1.000000e-01\n"
          ]
        },
        {
          "output_type": "stream",
          "name": "stdout",
          "text": [
            "2024-12-27 06:00:05,895 __main__ 0/1 INFO :: Iteration=16000, Time=1.600000e+03, dt=1.000000e-01\n"
          ]
        },
        {
          "output_type": "stream",
          "name": "stderr",
          "text": [
            "INFO:__main__:Iteration=16500, Time=1.650000e+03, dt=1.000000e-01\n"
          ]
        },
        {
          "output_type": "stream",
          "name": "stdout",
          "text": [
            "2024-12-27 06:00:06,063 __main__ 0/1 INFO :: Iteration=16500, Time=1.650000e+03, dt=1.000000e-01\n"
          ]
        },
        {
          "output_type": "stream",
          "name": "stderr",
          "text": [
            "INFO:__main__:Iteration=17000, Time=1.700000e+03, dt=1.000000e-01\n"
          ]
        },
        {
          "output_type": "stream",
          "name": "stdout",
          "text": [
            "2024-12-27 06:00:06,242 __main__ 0/1 INFO :: Iteration=17000, Time=1.700000e+03, dt=1.000000e-01\n"
          ]
        },
        {
          "output_type": "stream",
          "name": "stderr",
          "text": [
            "INFO:__main__:Iteration=17500, Time=1.750000e+03, dt=1.000000e-01\n"
          ]
        },
        {
          "output_type": "stream",
          "name": "stdout",
          "text": [
            "2024-12-27 06:00:06,405 __main__ 0/1 INFO :: Iteration=17500, Time=1.750000e+03, dt=1.000000e-01\n"
          ]
        },
        {
          "output_type": "stream",
          "name": "stderr",
          "text": [
            "INFO:__main__:Iteration=18000, Time=1.800000e+03, dt=1.000000e-01\n"
          ]
        },
        {
          "output_type": "stream",
          "name": "stdout",
          "text": [
            "2024-12-27 06:00:06,562 __main__ 0/1 INFO :: Iteration=18000, Time=1.800000e+03, dt=1.000000e-01\n"
          ]
        },
        {
          "output_type": "stream",
          "name": "stderr",
          "text": [
            "INFO:__main__:Iteration=18500, Time=1.850000e+03, dt=1.000000e-01\n"
          ]
        },
        {
          "output_type": "stream",
          "name": "stdout",
          "text": [
            "2024-12-27 06:00:06,722 __main__ 0/1 INFO :: Iteration=18500, Time=1.850000e+03, dt=1.000000e-01\n"
          ]
        },
        {
          "output_type": "stream",
          "name": "stderr",
          "text": [
            "INFO:__main__:Iteration=19000, Time=1.900000e+03, dt=1.000000e-01\n"
          ]
        },
        {
          "output_type": "stream",
          "name": "stdout",
          "text": [
            "2024-12-27 06:00:06,889 __main__ 0/1 INFO :: Iteration=19000, Time=1.900000e+03, dt=1.000000e-01\n"
          ]
        },
        {
          "output_type": "stream",
          "name": "stderr",
          "text": [
            "INFO:__main__:Iteration=19500, Time=1.950000e+03, dt=1.000000e-01\n"
          ]
        },
        {
          "output_type": "stream",
          "name": "stdout",
          "text": [
            "2024-12-27 06:00:07,066 __main__ 0/1 INFO :: Iteration=19500, Time=1.950000e+03, dt=1.000000e-01\n"
          ]
        },
        {
          "output_type": "stream",
          "name": "stderr",
          "text": [
            "INFO:__main__:Iteration=20000, Time=2.000000e+03, dt=1.000000e-01\n"
          ]
        },
        {
          "output_type": "stream",
          "name": "stdout",
          "text": [
            "2024-12-27 06:00:07,256 __main__ 0/1 INFO :: Iteration=20000, Time=2.000000e+03, dt=1.000000e-01\n"
          ]
        },
        {
          "output_type": "stream",
          "name": "stderr",
          "text": [
            "INFO:__main__:Iteration=20500, Time=2.050000e+03, dt=1.000000e-01\n"
          ]
        },
        {
          "output_type": "stream",
          "name": "stdout",
          "text": [
            "2024-12-27 06:00:07,412 __main__ 0/1 INFO :: Iteration=20500, Time=2.050000e+03, dt=1.000000e-01\n"
          ]
        },
        {
          "output_type": "stream",
          "name": "stderr",
          "text": [
            "INFO:__main__:Iteration=21000, Time=2.100000e+03, dt=1.000000e-01\n"
          ]
        },
        {
          "output_type": "stream",
          "name": "stdout",
          "text": [
            "2024-12-27 06:00:07,613 __main__ 0/1 INFO :: Iteration=21000, Time=2.100000e+03, dt=1.000000e-01\n"
          ]
        },
        {
          "output_type": "stream",
          "name": "stderr",
          "text": [
            "INFO:__main__:Iteration=21500, Time=2.150000e+03, dt=1.000000e-01\n"
          ]
        },
        {
          "output_type": "stream",
          "name": "stdout",
          "text": [
            "2024-12-27 06:00:07,873 __main__ 0/1 INFO :: Iteration=21500, Time=2.150000e+03, dt=1.000000e-01\n"
          ]
        },
        {
          "output_type": "stream",
          "name": "stderr",
          "text": [
            "INFO:__main__:Iteration=22000, Time=2.200000e+03, dt=1.000000e-01\n"
          ]
        },
        {
          "output_type": "stream",
          "name": "stdout",
          "text": [
            "2024-12-27 06:00:08,142 __main__ 0/1 INFO :: Iteration=22000, Time=2.200000e+03, dt=1.000000e-01\n"
          ]
        },
        {
          "output_type": "stream",
          "name": "stderr",
          "text": [
            "INFO:__main__:Iteration=22500, Time=2.250000e+03, dt=1.000000e-01\n"
          ]
        },
        {
          "output_type": "stream",
          "name": "stdout",
          "text": [
            "2024-12-27 06:00:08,386 __main__ 0/1 INFO :: Iteration=22500, Time=2.250000e+03, dt=1.000000e-01\n"
          ]
        },
        {
          "output_type": "stream",
          "name": "stderr",
          "text": [
            "INFO:__main__:Iteration=23000, Time=2.300000e+03, dt=1.000000e-01\n"
          ]
        },
        {
          "output_type": "stream",
          "name": "stdout",
          "text": [
            "2024-12-27 06:00:08,616 __main__ 0/1 INFO :: Iteration=23000, Time=2.300000e+03, dt=1.000000e-01\n"
          ]
        },
        {
          "output_type": "stream",
          "name": "stderr",
          "text": [
            "INFO:__main__:Iteration=23500, Time=2.350000e+03, dt=1.000000e-01\n"
          ]
        },
        {
          "output_type": "stream",
          "name": "stdout",
          "text": [
            "2024-12-27 06:00:08,869 __main__ 0/1 INFO :: Iteration=23500, Time=2.350000e+03, dt=1.000000e-01\n"
          ]
        },
        {
          "output_type": "stream",
          "name": "stderr",
          "text": [
            "INFO:__main__:Iteration=24000, Time=2.400000e+03, dt=1.000000e-01\n"
          ]
        },
        {
          "output_type": "stream",
          "name": "stdout",
          "text": [
            "2024-12-27 06:00:09,095 __main__ 0/1 INFO :: Iteration=24000, Time=2.400000e+03, dt=1.000000e-01\n"
          ]
        },
        {
          "output_type": "stream",
          "name": "stderr",
          "text": [
            "INFO:__main__:Iteration=24500, Time=2.450000e+03, dt=1.000000e-01\n"
          ]
        },
        {
          "output_type": "stream",
          "name": "stdout",
          "text": [
            "2024-12-27 06:00:09,360 __main__ 0/1 INFO :: Iteration=24500, Time=2.450000e+03, dt=1.000000e-01\n"
          ]
        },
        {
          "output_type": "stream",
          "name": "stderr",
          "text": [
            "INFO:__main__:Iteration=25000, Time=2.500000e+03, dt=1.000000e-01\n"
          ]
        },
        {
          "output_type": "stream",
          "name": "stdout",
          "text": [
            "2024-12-27 06:00:09,622 __main__ 0/1 INFO :: Iteration=25000, Time=2.500000e+03, dt=1.000000e-01\n"
          ]
        },
        {
          "output_type": "stream",
          "name": "stderr",
          "text": [
            "INFO:__main__:Iteration=25500, Time=2.550000e+03, dt=1.000000e-01\n"
          ]
        },
        {
          "output_type": "stream",
          "name": "stdout",
          "text": [
            "2024-12-27 06:00:09,901 __main__ 0/1 INFO :: Iteration=25500, Time=2.550000e+03, dt=1.000000e-01\n"
          ]
        },
        {
          "output_type": "stream",
          "name": "stderr",
          "text": [
            "INFO:__main__:Iteration=26000, Time=2.600000e+03, dt=1.000000e-01\n"
          ]
        },
        {
          "output_type": "stream",
          "name": "stdout",
          "text": [
            "2024-12-27 06:00:10,206 __main__ 0/1 INFO :: Iteration=26000, Time=2.600000e+03, dt=1.000000e-01\n"
          ]
        },
        {
          "output_type": "stream",
          "name": "stderr",
          "text": [
            "INFO:__main__:Iteration=26500, Time=2.650000e+03, dt=1.000000e-01\n"
          ]
        },
        {
          "output_type": "stream",
          "name": "stdout",
          "text": [
            "2024-12-27 06:00:10,489 __main__ 0/1 INFO :: Iteration=26500, Time=2.650000e+03, dt=1.000000e-01\n"
          ]
        },
        {
          "output_type": "stream",
          "name": "stderr",
          "text": [
            "INFO:__main__:Iteration=27000, Time=2.700000e+03, dt=1.000000e-01\n"
          ]
        },
        {
          "output_type": "stream",
          "name": "stdout",
          "text": [
            "2024-12-27 06:00:10,766 __main__ 0/1 INFO :: Iteration=27000, Time=2.700000e+03, dt=1.000000e-01\n"
          ]
        },
        {
          "output_type": "stream",
          "name": "stderr",
          "text": [
            "INFO:__main__:Iteration=27500, Time=2.750000e+03, dt=1.000000e-01\n"
          ]
        },
        {
          "output_type": "stream",
          "name": "stdout",
          "text": [
            "2024-12-27 06:00:11,057 __main__ 0/1 INFO :: Iteration=27500, Time=2.750000e+03, dt=1.000000e-01\n"
          ]
        },
        {
          "output_type": "stream",
          "name": "stderr",
          "text": [
            "INFO:__main__:Iteration=28000, Time=2.800000e+03, dt=1.000000e-01\n"
          ]
        },
        {
          "output_type": "stream",
          "name": "stdout",
          "text": [
            "2024-12-27 06:00:11,235 __main__ 0/1 INFO :: Iteration=28000, Time=2.800000e+03, dt=1.000000e-01\n"
          ]
        },
        {
          "output_type": "stream",
          "name": "stderr",
          "text": [
            "INFO:__main__:Iteration=28500, Time=2.850000e+03, dt=1.000000e-01\n"
          ]
        },
        {
          "output_type": "stream",
          "name": "stdout",
          "text": [
            "2024-12-27 06:00:11,417 __main__ 0/1 INFO :: Iteration=28500, Time=2.850000e+03, dt=1.000000e-01\n"
          ]
        },
        {
          "output_type": "stream",
          "name": "stderr",
          "text": [
            "INFO:__main__:Iteration=29000, Time=2.900000e+03, dt=1.000000e-01\n"
          ]
        },
        {
          "output_type": "stream",
          "name": "stdout",
          "text": [
            "2024-12-27 06:00:11,574 __main__ 0/1 INFO :: Iteration=29000, Time=2.900000e+03, dt=1.000000e-01\n"
          ]
        },
        {
          "output_type": "stream",
          "name": "stderr",
          "text": [
            "INFO:__main__:Iteration=29500, Time=2.950000e+03, dt=1.000000e-01\n"
          ]
        },
        {
          "output_type": "stream",
          "name": "stdout",
          "text": [
            "2024-12-27 06:00:11,731 __main__ 0/1 INFO :: Iteration=29500, Time=2.950000e+03, dt=1.000000e-01\n"
          ]
        },
        {
          "output_type": "stream",
          "name": "stderr",
          "text": [
            "INFO:__main__:Iteration=30000, Time=3.000000e+03, dt=1.000000e-01\n"
          ]
        },
        {
          "output_type": "stream",
          "name": "stdout",
          "text": [
            "2024-12-27 06:00:11,896 __main__ 0/1 INFO :: Iteration=30000, Time=3.000000e+03, dt=1.000000e-01\n"
          ]
        },
        {
          "output_type": "stream",
          "name": "stderr",
          "text": [
            "INFO:__main__:Iteration=30500, Time=3.050000e+03, dt=1.000000e-01\n"
          ]
        },
        {
          "output_type": "stream",
          "name": "stdout",
          "text": [
            "2024-12-27 06:00:12,056 __main__ 0/1 INFO :: Iteration=30500, Time=3.050000e+03, dt=1.000000e-01\n"
          ]
        },
        {
          "output_type": "stream",
          "name": "stderr",
          "text": [
            "INFO:__main__:Iteration=31000, Time=3.100000e+03, dt=1.000000e-01\n"
          ]
        },
        {
          "output_type": "stream",
          "name": "stdout",
          "text": [
            "2024-12-27 06:00:12,258 __main__ 0/1 INFO :: Iteration=31000, Time=3.100000e+03, dt=1.000000e-01\n"
          ]
        },
        {
          "output_type": "stream",
          "name": "stderr",
          "text": [
            "INFO:__main__:Iteration=31500, Time=3.150000e+03, dt=1.000000e-01\n"
          ]
        },
        {
          "output_type": "stream",
          "name": "stdout",
          "text": [
            "2024-12-27 06:00:12,447 __main__ 0/1 INFO :: Iteration=31500, Time=3.150000e+03, dt=1.000000e-01\n"
          ]
        },
        {
          "output_type": "stream",
          "name": "stderr",
          "text": [
            "INFO:__main__:Iteration=32000, Time=3.200000e+03, dt=1.000000e-01\n"
          ]
        },
        {
          "output_type": "stream",
          "name": "stdout",
          "text": [
            "2024-12-27 06:00:12,615 __main__ 0/1 INFO :: Iteration=32000, Time=3.200000e+03, dt=1.000000e-01\n"
          ]
        },
        {
          "output_type": "stream",
          "name": "stderr",
          "text": [
            "INFO:__main__:Iteration=32500, Time=3.250000e+03, dt=1.000000e-01\n"
          ]
        },
        {
          "output_type": "stream",
          "name": "stdout",
          "text": [
            "2024-12-27 06:00:12,776 __main__ 0/1 INFO :: Iteration=32500, Time=3.250000e+03, dt=1.000000e-01\n"
          ]
        },
        {
          "output_type": "stream",
          "name": "stderr",
          "text": [
            "INFO:__main__:Iteration=33000, Time=3.300000e+03, dt=1.000000e-01\n"
          ]
        },
        {
          "output_type": "stream",
          "name": "stdout",
          "text": [
            "2024-12-27 06:00:12,948 __main__ 0/1 INFO :: Iteration=33000, Time=3.300000e+03, dt=1.000000e-01\n"
          ]
        },
        {
          "output_type": "stream",
          "name": "stderr",
          "text": [
            "INFO:__main__:Iteration=33500, Time=3.350000e+03, dt=1.000000e-01\n"
          ]
        },
        {
          "output_type": "stream",
          "name": "stdout",
          "text": [
            "2024-12-27 06:00:13,137 __main__ 0/1 INFO :: Iteration=33500, Time=3.350000e+03, dt=1.000000e-01\n"
          ]
        },
        {
          "output_type": "stream",
          "name": "stderr",
          "text": [
            "INFO:__main__:Iteration=34000, Time=3.400000e+03, dt=1.000000e-01\n"
          ]
        },
        {
          "output_type": "stream",
          "name": "stdout",
          "text": [
            "2024-12-27 06:00:13,322 __main__ 0/1 INFO :: Iteration=34000, Time=3.400000e+03, dt=1.000000e-01\n"
          ]
        },
        {
          "output_type": "stream",
          "name": "stderr",
          "text": [
            "INFO:__main__:Iteration=34500, Time=3.450000e+03, dt=1.000000e-01\n"
          ]
        },
        {
          "output_type": "stream",
          "name": "stdout",
          "text": [
            "2024-12-27 06:00:13,507 __main__ 0/1 INFO :: Iteration=34500, Time=3.450000e+03, dt=1.000000e-01\n"
          ]
        },
        {
          "output_type": "stream",
          "name": "stderr",
          "text": [
            "INFO:__main__:Iteration=35000, Time=3.500000e+03, dt=1.000000e-01\n"
          ]
        },
        {
          "output_type": "stream",
          "name": "stdout",
          "text": [
            "2024-12-27 06:00:13,660 __main__ 0/1 INFO :: Iteration=35000, Time=3.500000e+03, dt=1.000000e-01\n"
          ]
        },
        {
          "output_type": "stream",
          "name": "stderr",
          "text": [
            "INFO:__main__:Iteration=35500, Time=3.550000e+03, dt=1.000000e-01\n"
          ]
        },
        {
          "output_type": "stream",
          "name": "stdout",
          "text": [
            "2024-12-27 06:00:13,820 __main__ 0/1 INFO :: Iteration=35500, Time=3.550000e+03, dt=1.000000e-01\n"
          ]
        },
        {
          "output_type": "stream",
          "name": "stderr",
          "text": [
            "INFO:__main__:Iteration=36000, Time=3.600000e+03, dt=1.000000e-01\n"
          ]
        },
        {
          "output_type": "stream",
          "name": "stdout",
          "text": [
            "2024-12-27 06:00:13,983 __main__ 0/1 INFO :: Iteration=36000, Time=3.600000e+03, dt=1.000000e-01\n"
          ]
        },
        {
          "output_type": "stream",
          "name": "stderr",
          "text": [
            "INFO:__main__:Iteration=36500, Time=3.650000e+03, dt=1.000000e-01\n"
          ]
        },
        {
          "output_type": "stream",
          "name": "stdout",
          "text": [
            "2024-12-27 06:00:14,157 __main__ 0/1 INFO :: Iteration=36500, Time=3.650000e+03, dt=1.000000e-01\n"
          ]
        },
        {
          "output_type": "stream",
          "name": "stderr",
          "text": [
            "INFO:__main__:Iteration=37000, Time=3.700000e+03, dt=1.000000e-01\n"
          ]
        },
        {
          "output_type": "stream",
          "name": "stdout",
          "text": [
            "2024-12-27 06:00:14,322 __main__ 0/1 INFO :: Iteration=37000, Time=3.700000e+03, dt=1.000000e-01\n"
          ]
        },
        {
          "output_type": "stream",
          "name": "stderr",
          "text": [
            "INFO:__main__:Iteration=37500, Time=3.750000e+03, dt=1.000000e-01\n"
          ]
        },
        {
          "output_type": "stream",
          "name": "stdout",
          "text": [
            "2024-12-27 06:00:14,491 __main__ 0/1 INFO :: Iteration=37500, Time=3.750000e+03, dt=1.000000e-01\n"
          ]
        },
        {
          "output_type": "stream",
          "name": "stderr",
          "text": [
            "INFO:__main__:Iteration=38000, Time=3.800000e+03, dt=1.000000e-01\n"
          ]
        },
        {
          "output_type": "stream",
          "name": "stdout",
          "text": [
            "2024-12-27 06:00:14,650 __main__ 0/1 INFO :: Iteration=38000, Time=3.800000e+03, dt=1.000000e-01\n"
          ]
        },
        {
          "output_type": "stream",
          "name": "stderr",
          "text": [
            "INFO:__main__:Iteration=38500, Time=3.850000e+03, dt=1.000000e-01\n"
          ]
        },
        {
          "output_type": "stream",
          "name": "stdout",
          "text": [
            "2024-12-27 06:00:14,809 __main__ 0/1 INFO :: Iteration=38500, Time=3.850000e+03, dt=1.000000e-01\n"
          ]
        },
        {
          "output_type": "stream",
          "name": "stderr",
          "text": [
            "INFO:__main__:Iteration=39000, Time=3.900000e+03, dt=1.000000e-01\n"
          ]
        },
        {
          "output_type": "stream",
          "name": "stdout",
          "text": [
            "2024-12-27 06:00:14,963 __main__ 0/1 INFO :: Iteration=39000, Time=3.900000e+03, dt=1.000000e-01\n"
          ]
        },
        {
          "output_type": "stream",
          "name": "stderr",
          "text": [
            "INFO:__main__:Iteration=39500, Time=3.950000e+03, dt=1.000000e-01\n"
          ]
        },
        {
          "output_type": "stream",
          "name": "stdout",
          "text": [
            "2024-12-27 06:00:15,141 __main__ 0/1 INFO :: Iteration=39500, Time=3.950000e+03, dt=1.000000e-01\n"
          ]
        },
        {
          "output_type": "stream",
          "name": "stderr",
          "text": [
            "INFO:__main__:Iteration=40000, Time=4.000000e+03, dt=1.000000e-01\n"
          ]
        },
        {
          "output_type": "stream",
          "name": "stdout",
          "text": [
            "2024-12-27 06:00:15,305 __main__ 0/1 INFO :: Iteration=40000, Time=4.000000e+03, dt=1.000000e-01\n"
          ]
        },
        {
          "output_type": "stream",
          "name": "stderr",
          "text": [
            "INFO:solvers:Simulation stop time reached.\n"
          ]
        },
        {
          "output_type": "stream",
          "name": "stdout",
          "text": [
            "2024-12-27 06:00:15,309 solvers 0/1 INFO :: Simulation stop time reached.\n"
          ]
        },
        {
          "output_type": "display_data",
          "data": {
            "text/plain": [
              "<Figure size 1200x400 with 2 Axes>"
            ],
            "image/png": "[encoded data removed]"
          },
          "metadata": {}
        }
      ]
    },
    {
      "cell_type": "code",
      "source": [
        "import logging\n",
        "logging.getLogger('matplotlib').setLevel(logging.WARNING)# Suppress Matplotlib DEBUG messages\n",
        "\n",
        "# Parameters\n",
        "Lx = 2\n",
        "kappa = 0.001\n",
        "x = np.linspace(-Lx, Lx, 1024)  # Nx=1024\n",
        "\n",
        "# Compute steady-state solution\n",
        "c_s = -(Lx**2) / (kappa * np.pi**2) * np.cos(np.pi * x / Lx)\n",
        "\n",
        "# Plot\n",
        "plt.figure(figsize=(6, 4))\n",
        "plt.plot(x, c_s, label=r\"$c_s(x) = -\\frac{L_x^2}{\\kappa \\pi^2} \\cos\\left(\\frac{\\pi x}{L_x}\\right)$\")\n",
        "plt.xlabel(\"x\")\n",
        "plt.ylabel(\"c_s(x)\")\n",
        "plt.title(\"Numerical Steady-State Solution\")\n",
        "plt.axhline(0, color='black', linestyle='--', linewidth=0.8)  # Add horizontal zero line\n",
        "plt.legend()\n",
        "plt.grid(True)\n",
        "plt.tight_layout()\n",
        "plt.show()"
      ],
      "metadata": {
        "colab": {
          "base_uri": "https://localhost:8080/",
          "height": 407
        },
        "id": "T8iFutN-lafN",
        "outputId": "ef9cb954-e9e9-4910-fdd0-2377f45d5e77"
      },
      "execution_count": 39,
      "outputs": [
        {
          "output_type": "display_data",
          "data": {
            "text/plain": [
              "<Figure size 600x400 with 1 Axes>"
            ],
            "image/png": "[encoded data removed]"
          },
          "metadata": {}
        }
      ]
    },
    {
      "cell_type": "markdown",
      "metadata": {
        "id": "hT9l1sK2cfs3"
      },
      "source": [
        "### 5.2 Variable difusivity"
      ]
    },
    {
      "cell_type": "markdown",
      "metadata": {
        "id": "ahjC1ZP1cfs3"
      },
      "source": [
        "In some applications of the diffusion equation, the diffusivity varies in space. This happens, for example, in the movement of pollution in groundwater flowing through soil of variable porosity, or the mixing of tracers due to turbulence in the ocean (which we will explore in detail in Project 2).\n",
        "\n",
        "In the code cell below, write a Dedalus script that solves the following equation:\n",
        "\n",
        "$$\\partial_t c - \\partial_x(\\kappa (x) \\partial_x c) = 0$$\n",
        "\n",
        "where\n",
        "\n",
        "$$\\kappa(x)=\\kappa_0(0.1 + tanh(x/0.1)+1)/2$$\n",
        "\n",
        "and $\\kappa_0=0.001$. It is fine to start by copying the code in the previous cell and changing the problem equation appropriately."
      ]
    },
    {
      "cell_type": "code",
      "execution_count": null,
      "metadata": {
        "id": "61S2Pyr7cfs3"
      },
      "outputs": [],
      "source": [
        "# Write a Dedalus script to solve the diffusion equation with a spatially-variable diffusivity\n",
        "# It is fine to copy and paste the scripts above as a starting point."
      ]
    },
    {
      "cell_type": "markdown",
      "metadata": {
        "id": "vMXVNGl6cfs3"
      },
      "source": [
        "Explore the behaviour of the solution as you vary the parameters associated with $\\kappa(x)$. Comment on your observations below (~1 paragraph)"
      ]
    },
    {
      "cell_type": "markdown",
      "metadata": {
        "id": "BM25czLWcfs3"
      },
      "source": [
        "INSERT COMMENTS HERE"
      ]
    },
    {
      "cell_type": "markdown",
      "metadata": {
        "id": "boifDg_ccfs3"
      },
      "source": [
        "## 6. Optional further investigations\n",
        "\n",
        "* Try writing a Dedalus script to solve the 2D diffusion equation as an initial value problem.  You can look ahead to the the example at the end of the Project 2 notebook for some guidance (but remove the advection term). I would suggest using a Fourier/Fourier basis for this.\n",
        "\n",
        "* Consider how you might go about discretizing a 2D diffusion equation using finite differences.  What form would the matrix M have?\n"
      ]
    }
  ],
  "metadata": {
    "colab": {
      "provenance": [],
      "include_colab_link": true
    },
    "kernelspec": {
      "display_name": "Python 3",
      "name": "python3"
    },
    "language_info": {
      "codemirror_mode": {
        "name": "ipython",
        "version": 3
      },
      "file_extension": ".py",
      "mimetype": "text/x-python",
      "name": "python",
      "nbconvert_exporter": "python",
      "pygments_lexer": "ipython3",
      "version": "3.12.2"
    }
  },
  "nbformat": 4,
  "nbformat_minor": 0
}