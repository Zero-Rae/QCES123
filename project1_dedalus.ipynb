{
  "cells": [
    {
      "cell_type": "markdown",
      "metadata": {
        "id": "view-in-github",
        "colab_type": "text"
      },
      "source": [
        "<a href=\"https://colab.research.google.com/github/Zero-Rae/QCES123/blob/main/project1_dedalus.ipynb\" target=\"_parent\"><img src=\"https://colab.research.google.com/assets/colab-badge.svg\" alt=\"Open In Colab\"/></a>"
      ]
    },
    {
      "cell_type": "markdown",
      "metadata": {
        "id": "Kvi1witj5wON"
      },
      "source": [
        "<a href=\"https://colab.research.google.com/github/johnryantaylor/QCES/blob/main/Project1_dedalus.ipynb\" target=\"_parent\"><img src=\"https://colab.research.google.com/assets/colab-badge.svg\" alt=\"Open In Colab\"/></a>"
      ]
    },
    {
      "cell_type": "markdown",
      "metadata": {
        "id": "-YM8FwOtN4ZK"
      },
      "source": [
        "# Solving the diffusion equation with Dedalus"
      ]
    },
    {
      "cell_type": "markdown",
      "metadata": {
        "id": "-bcBPs25cfsr"
      },
      "source": [
        "**Overview:** This notebook solves the diffusion equation using a spectral method and provides an introduction to Dedalus.\n",
        "\n",
        "**About Dedalus:** [Dedalus](http://dedalus-project.org) is an open-source Python package for solving partial differential equations (PDEs) using spectral methods.\n",
        "These methods provide highly accurate numerical solutions for PDEs with smooth solutions in simple domains like boxes and spheres.\n",
        "Dedalus implements modern parallel algorithms utilizing sparse polynomial bases, but all with an easy-to-use symbolic interface.\n",
        "The code is being used in a wide range of fields, often for problems involving fluid dynamics.\n",
        "\n",
        "This script is based in part on the Introduction to Dedalus by [Keaton Burns](http://keaton-burns.com)\n",
        "\n",
        "The student exercise starts in [Section 5](#student_investigation)"
      ]
    },
    {
      "cell_type": "markdown",
      "metadata": {
        "id": "G6iwTnxLvvOc"
      },
      "source": [
        "# 1. Setup"
      ]
    },
    {
      "cell_type": "markdown",
      "metadata": {
        "id": "zPMGZvFjcfss"
      },
      "source": [
        "First, we need to install Dedalus.  If you are running Python on your local computer, follow the install instructions in the [Dedalus Docs](https://dedalus-project.readthedocs.io/en/latest/pages/installation.html) to install Dedalus locally on your computer.\n",
        "\n",
        "The cell below checks to see if Dedalus is installed.  After installing Dedalus, run the cell below to verify that Dedalus is installed correctly.\n",
        "\n",
        "If you are using Google Colab, the cell below will automatically install Dedalus.\n",
        "\n",
        "This cell checks if Dedalus is installed and performs some other basic setup. This will take some time the first time you run it.\n",
        "\n",
        "Once you have Dedalus installed, you won't need to run this cell again."
      ]
    },
    {
      "cell_type": "code",
      "execution_count": 1,
      "metadata": {
        "id": "wBSpwa8Ts65w",
        "colab": {
          "base_uri": "https://localhost:8080/"
        },
        "outputId": "689b2be3-d623-4220-ab20-76a0bcf11521"
      },
      "outputs": [
        {
          "output_type": "stream",
          "name": "stdout",
          "text": [
            "env: OMP_NUM_THREADS=1\n",
            "env: NUMEXPR_MAX_THREADS=1\n",
            "Dedalus not installed yet.\n",
            "Installing for Google Colab.\n",
            "\n",
            "Reading package lists... Done\n",
            "Building dependency tree... Done\n",
            "Reading state information... Done\n",
            "The following additional packages will be installed:\n",
            "  libfftw3-bin libfftw3-double3 libfftw3-long3 libfftw3-quad3 libfftw3-single3\n",
            "Suggested packages:\n",
            "  libfftw3-doc\n",
            "The following NEW packages will be installed:\n",
            "  libfftw3-bin libfftw3-dev libfftw3-double3 libfftw3-long3 libfftw3-quad3 libfftw3-single3\n",
            "0 upgraded, 6 newly installed, 0 to remove and 49 not upgraded.\n",
            "Need to get 4,654 kB of archives.\n",
            "After this operation, 24.7 MB of additional disk space will be used.\n",
            "Get:1 http://archive.ubuntu.com/ubuntu jammy/main amd64 libfftw3-double3 amd64 3.3.8-2ubuntu8 [770 kB]\n",
            "Get:2 http://archive.ubuntu.com/ubuntu jammy/main amd64 libfftw3-long3 amd64 3.3.8-2ubuntu8 [335 kB]\n",
            "Get:3 http://archive.ubuntu.com/ubuntu jammy/main amd64 libfftw3-quad3 amd64 3.3.8-2ubuntu8 [614 kB]\n",
            "Get:4 http://archive.ubuntu.com/ubuntu jammy/main amd64 libfftw3-single3 amd64 3.3.8-2ubuntu8 [800 kB]\n",
            "Get:5 http://archive.ubuntu.com/ubuntu jammy/main amd64 libfftw3-bin amd64 3.3.8-2ubuntu8 [35.5 kB]\n",
            "Get:6 http://archive.ubuntu.com/ubuntu jammy/main amd64 libfftw3-dev amd64 3.3.8-2ubuntu8 [2,101 kB]\n",
            "Fetched 4,654 kB in 1s (3,851 kB/s)\n",
            "Selecting previously unselected package libfftw3-double3:amd64.\n",
            "(Reading database ... 123634 files and directories currently installed.)\n",
            "Preparing to unpack .../0-libfftw3-double3_3.3.8-2ubuntu8_amd64.deb ...\n",
            "Unpacking libfftw3-double3:amd64 (3.3.8-2ubuntu8) ...\n",
            "Selecting previously unselected package libfftw3-long3:amd64.\n",
            "Preparing to unpack .../1-libfftw3-long3_3.3.8-2ubuntu8_amd64.deb ...\n",
            "Unpacking libfftw3-long3:amd64 (3.3.8-2ubuntu8) ...\n",
            "Selecting previously unselected package libfftw3-quad3:amd64.\n",
            "Preparing to unpack .../2-libfftw3-quad3_3.3.8-2ubuntu8_amd64.deb ...\n",
            "Unpacking libfftw3-quad3:amd64 (3.3.8-2ubuntu8) ...\n",
            "Selecting previously unselected package libfftw3-single3:amd64.\n",
            "Preparing to unpack .../3-libfftw3-single3_3.3.8-2ubuntu8_amd64.deb ...\n",
            "Unpacking libfftw3-single3:amd64 (3.3.8-2ubuntu8) ...\n",
            "Selecting previously unselected package libfftw3-bin.\n",
            "Preparing to unpack .../4-libfftw3-bin_3.3.8-2ubuntu8_amd64.deb ...\n",
            "Unpacking libfftw3-bin (3.3.8-2ubuntu8) ...\n",
            "Selecting previously unselected package libfftw3-dev:amd64.\n",
            "Preparing to unpack .../5-libfftw3-dev_3.3.8-2ubuntu8_amd64.deb ...\n",
            "Unpacking libfftw3-dev:amd64 (3.3.8-2ubuntu8) ...\n",
            "Setting up libfftw3-single3:amd64 (3.3.8-2ubuntu8) ...\n",
            "Setting up libfftw3-long3:amd64 (3.3.8-2ubuntu8) ...\n",
            "Setting up libfftw3-quad3:amd64 (3.3.8-2ubuntu8) ...\n",
            "Setting up libfftw3-double3:amd64 (3.3.8-2ubuntu8) ...\n",
            "Setting up libfftw3-bin (3.3.8-2ubuntu8) ...\n",
            "Setting up libfftw3-dev:amd64 (3.3.8-2ubuntu8) ...\n",
            "Processing triggers for man-db (2.10.2-1) ...\n",
            "Processing triggers for libc-bin (2.35-0ubuntu3.4) ...\n",
            "/sbin/ldconfig.real: /usr/local/lib/libtcm_debug.so.1 is not a symbolic link\n",
            "\n",
            "/sbin/ldconfig.real: /usr/local/lib/libur_loader.so.0 is not a symbolic link\n",
            "\n",
            "/sbin/ldconfig.real: /usr/local/lib/libhwloc.so.15 is not a symbolic link\n",
            "\n",
            "/sbin/ldconfig.real: /usr/local/lib/libumf.so.0 is not a symbolic link\n",
            "\n",
            "/sbin/ldconfig.real: /usr/local/lib/libtbbmalloc_proxy.so.2 is not a symbolic link\n",
            "\n",
            "/sbin/ldconfig.real: /usr/local/lib/libtbbbind_2_0.so.3 is not a symbolic link\n",
            "\n",
            "/sbin/ldconfig.real: /usr/local/lib/libtbbbind.so.3 is not a symbolic link\n",
            "\n",
            "/sbin/ldconfig.real: /usr/local/lib/libtbbmalloc.so.2 is not a symbolic link\n",
            "\n",
            "/sbin/ldconfig.real: /usr/local/lib/libtbb.so.12 is not a symbolic link\n",
            "\n",
            "/sbin/ldconfig.real: /usr/local/lib/libtbbbind_2_5.so.3 is not a symbolic link\n",
            "\n",
            "/sbin/ldconfig.real: /usr/local/lib/libtcm.so.1 is not a symbolic link\n",
            "\n",
            "/sbin/ldconfig.real: /usr/local/lib/libur_adapter_level_zero.so.0 is not a symbolic link\n",
            "\n",
            "/sbin/ldconfig.real: /usr/local/lib/libur_adapter_opencl.so.0 is not a symbolic link\n",
            "\n",
            "Reading package lists... Done\n",
            "Building dependency tree... Done\n",
            "Reading state information... Done\n",
            "The following additional packages will be installed:\n",
            "  libfftw3-mpi3\n",
            "Suggested packages:\n",
            "  libfftw3-doc\n",
            "The following NEW packages will be installed:\n",
            "  libfftw3-mpi-dev libfftw3-mpi3\n",
            "0 upgraded, 2 newly installed, 0 to remove and 49 not upgraded.\n",
            "Need to get 102 kB of archives.\n",
            "After this operation, 1,052 kB of additional disk space will be used.\n",
            "Get:1 http://archive.ubuntu.com/ubuntu jammy/universe amd64 libfftw3-mpi3 amd64 3.3.8-2ubuntu8 [48.9 kB]\n",
            "Get:2 http://archive.ubuntu.com/ubuntu jammy/universe amd64 libfftw3-mpi-dev amd64 3.3.8-2ubuntu8 [53.3 kB]\n",
            "Fetched 102 kB in 1s (173 kB/s)\n",
            "Selecting previously unselected package libfftw3-mpi3:amd64.\n",
            "(Reading database ... 123737 files and directories currently installed.)\n",
            "Preparing to unpack .../libfftw3-mpi3_3.3.8-2ubuntu8_amd64.deb ...\n",
            "Unpacking libfftw3-mpi3:amd64 (3.3.8-2ubuntu8) ...\n",
            "Selecting previously unselected package libfftw3-mpi-dev:amd64.\n",
            "Preparing to unpack .../libfftw3-mpi-dev_3.3.8-2ubuntu8_amd64.deb ...\n",
            "Unpacking libfftw3-mpi-dev:amd64 (3.3.8-2ubuntu8) ...\n",
            "Setting up libfftw3-mpi3:amd64 (3.3.8-2ubuntu8) ...\n",
            "Setting up libfftw3-mpi-dev:amd64 (3.3.8-2ubuntu8) ...\n",
            "Processing triggers for libc-bin (2.35-0ubuntu3.4) ...\n",
            "/sbin/ldconfig.real: /usr/local/lib/libtcm_debug.so.1 is not a symbolic link\n",
            "\n",
            "/sbin/ldconfig.real: /usr/local/lib/libur_loader.so.0 is not a symbolic link\n",
            "\n",
            "/sbin/ldconfig.real: /usr/local/lib/libhwloc.so.15 is not a symbolic link\n",
            "\n",
            "/sbin/ldconfig.real: /usr/local/lib/libumf.so.0 is not a symbolic link\n",
            "\n",
            "/sbin/ldconfig.real: /usr/local/lib/libtbbmalloc_proxy.so.2 is not a symbolic link\n",
            "\n",
            "/sbin/ldconfig.real: /usr/local/lib/libtbbbind_2_0.so.3 is not a symbolic link\n",
            "\n",
            "/sbin/ldconfig.real: /usr/local/lib/libtbbbind.so.3 is not a symbolic link\n",
            "\n",
            "/sbin/ldconfig.real: /usr/local/lib/libtbbmalloc.so.2 is not a symbolic link\n",
            "\n",
            "/sbin/ldconfig.real: /usr/local/lib/libtbb.so.12 is not a symbolic link\n",
            "\n",
            "/sbin/ldconfig.real: /usr/local/lib/libtbbbind_2_5.so.3 is not a symbolic link\n",
            "\n",
            "/sbin/ldconfig.real: /usr/local/lib/libtcm.so.1 is not a symbolic link\n",
            "\n",
            "/sbin/ldconfig.real: /usr/local/lib/libur_adapter_level_zero.so.0 is not a symbolic link\n",
            "\n",
            "/sbin/ldconfig.real: /usr/local/lib/libur_adapter_opencl.so.0 is not a symbolic link\n",
            "\n",
            "Requirement already satisfied: cython in /usr/local/lib/python3.10/dist-packages (3.0.11)\n",
            "Collecting mpi4py<4.0\n",
            "  Downloading mpi4py-3.1.6.tar.gz (2.4 MB)\n",
            "\u001b[2K     \u001b[90m━━━━━━━━━━━━━━━━━━━━━━━━━━━━━━━━━━━━━━━━\u001b[0m \u001b[32m2.4/2.4 MB\u001b[0m \u001b[31m23.1 MB/s\u001b[0m eta \u001b[36m0:00:00\u001b[0m\n",
            "\u001b[?25h  Installing build dependencies ... \u001b[?25l\u001b[?25hdone\n",
            "  Getting requirements to build wheel ... \u001b[?25l\u001b[?25hdone\n",
            "  Preparing metadata (pyproject.toml) ... \u001b[?25l\u001b[?25hdone\n",
            "Requirement already satisfied: numpy in /usr/local/lib/python3.10/dist-packages (1.26.4)\n",
            "Requirement already satisfied: setuptools in /usr/local/lib/python3.10/dist-packages (75.1.0)\n",
            "Requirement already satisfied: wheel in /usr/local/lib/python3.10/dist-packages (0.45.1)\n",
            "Building wheels for collected packages: mpi4py\n",
            "  Building wheel for mpi4py (pyproject.toml) ... \u001b[?25l\u001b[?25hdone\n",
            "  Created wheel for mpi4py: filename=mpi4py-3.1.6-cp310-cp310-linux_x86_64.whl size=2746313 sha256=e66a5a074e48ccd5c9fec4ad5b0efd1ab65a11aa3c467cbfcbc7f10ea9ccf1b6\n",
            "  Stored in directory: /root/.cache/pip/wheels/4c/ca/89/8fc1fb1c620afca13bb41c630b1f948bbf446e0aaa4b762e10\n",
            "Successfully built mpi4py\n",
            "Installing collected packages: mpi4py\n",
            "Successfully installed mpi4py-3.1.6\n",
            "Collecting http://github.com/dedalusproject/dedalus/zipball/master/\n",
            "  Downloading http://github.com/dedalusproject/dedalus/zipball/master/\n",
            "\u001b[2K     \u001b[32m|\u001b[0m \u001b[32m24.5 MB\u001b[0m \u001b[31m25.4 MB/s\u001b[0m \u001b[33m0:00:00\u001b[0m\n",
            "\u001b[?25h  Preparing metadata (pyproject.toml) ... \u001b[?25l\u001b[?25hdone\n",
            "Collecting docopt (from dedalus==3.0.3)\n",
            "  Downloading docopt-0.6.2.tar.gz (25 kB)\n",
            "  Preparing metadata (setup.py) ... \u001b[?25l\u001b[?25hdone\n",
            "Requirement already satisfied: h5py>=3.0.0 in /usr/local/lib/python3.10/dist-packages (from dedalus==3.0.3) (3.12.1)\n",
            "Requirement already satisfied: matplotlib in /usr/local/lib/python3.10/dist-packages (from dedalus==3.0.3) (3.8.0)\n",
            "Requirement already satisfied: mpi4py>=2.0.0 in /usr/local/lib/python3.10/dist-packages (from dedalus==3.0.3) (3.1.6)\n",
            "Requirement already satisfied: numexpr in /usr/local/lib/python3.10/dist-packages (from dedalus==3.0.3) (2.10.2)\n",
            "Requirement already satisfied: numpy>=1.20.0 in /usr/local/lib/python3.10/dist-packages (from dedalus==3.0.3) (1.26.4)\n",
            "Collecting py (from dedalus==3.0.3)\n",
            "  Downloading py-1.11.0-py2.py3-none-any.whl.metadata (2.8 kB)\n",
            "Requirement already satisfied: pytest in /usr/local/lib/python3.10/dist-packages (from dedalus==3.0.3) (8.3.4)\n",
            "Collecting pytest-benchmark (from dedalus==3.0.3)\n",
            "  Downloading pytest_benchmark-5.1.0-py3-none-any.whl.metadata (25 kB)\n",
            "Collecting pytest-cov (from dedalus==3.0.3)\n",
            "  Downloading pytest_cov-6.0.0-py3-none-any.whl.metadata (27 kB)\n",
            "Collecting pytest-parallel (from dedalus==3.0.3)\n",
            "  Downloading pytest_parallel-0.1.1-py3-none-any.whl.metadata (3.0 kB)\n",
            "Requirement already satisfied: scipy>=1.4.0 in /usr/local/lib/python3.10/dist-packages (from dedalus==3.0.3) (1.13.1)\n",
            "Requirement already satisfied: xarray in /usr/local/lib/python3.10/dist-packages (from dedalus==3.0.3) (2024.11.0)\n",
            "Requirement already satisfied: contourpy>=1.0.1 in /usr/local/lib/python3.10/dist-packages (from matplotlib->dedalus==3.0.3) (1.3.1)\n",
            "Requirement already satisfied: cycler>=0.10 in /usr/local/lib/python3.10/dist-packages (from matplotlib->dedalus==3.0.3) (0.12.1)\n",
            "Requirement already satisfied: fonttools>=4.22.0 in /usr/local/lib/python3.10/dist-packages (from matplotlib->dedalus==3.0.3) (4.55.3)\n",
            "Requirement already satisfied: kiwisolver>=1.0.1 in /usr/local/lib/python3.10/dist-packages (from matplotlib->dedalus==3.0.3) (1.4.7)\n",
            "Requirement already satisfied: packaging>=20.0 in /usr/local/lib/python3.10/dist-packages (from matplotlib->dedalus==3.0.3) (24.2)\n",
            "Requirement already satisfied: pillow>=6.2.0 in /usr/local/lib/python3.10/dist-packages (from matplotlib->dedalus==3.0.3) (11.0.0)\n",
            "Requirement already satisfied: pyparsing>=2.3.1 in /usr/local/lib/python3.10/dist-packages (from matplotlib->dedalus==3.0.3) (3.2.0)\n",
            "Requirement already satisfied: python-dateutil>=2.7 in /usr/local/lib/python3.10/dist-packages (from matplotlib->dedalus==3.0.3) (2.8.2)\n",
            "Requirement already satisfied: exceptiongroup>=1.0.0rc8 in /usr/local/lib/python3.10/dist-packages (from pytest->dedalus==3.0.3) (1.2.2)\n",
            "Requirement already satisfied: iniconfig in /usr/local/lib/python3.10/dist-packages (from pytest->dedalus==3.0.3) (2.0.0)\n",
            "Requirement already satisfied: pluggy<2,>=1.5 in /usr/local/lib/python3.10/dist-packages (from pytest->dedalus==3.0.3) (1.5.0)\n",
            "Requirement already satisfied: tomli>=1 in /usr/local/lib/python3.10/dist-packages (from pytest->dedalus==3.0.3) (2.2.1)\n",
            "Requirement already satisfied: py-cpuinfo in /usr/local/lib/python3.10/dist-packages (from pytest-benchmark->dedalus==3.0.3) (9.0.0)\n",
            "Collecting coverage>=7.5 (from coverage[toml]>=7.5->pytest-cov->dedalus==3.0.3)\n",
            "  Downloading coverage-7.6.10-cp310-cp310-manylinux_2_5_x86_64.manylinux1_x86_64.manylinux_2_17_x86_64.manylinux2014_x86_64.whl.metadata (8.2 kB)\n",
            "Collecting tblib (from pytest-parallel->dedalus==3.0.3)\n",
            "  Downloading tblib-3.0.0-py3-none-any.whl.metadata (25 kB)\n",
            "Requirement already satisfied: pandas>=2.1 in /usr/local/lib/python3.10/dist-packages (from xarray->dedalus==3.0.3) (2.2.2)\n",
            "Requirement already satisfied: pytz>=2020.1 in /usr/local/lib/python3.10/dist-packages (from pandas>=2.1->xarray->dedalus==3.0.3) (2024.2)\n",
            "Requirement already satisfied: tzdata>=2022.7 in /usr/local/lib/python3.10/dist-packages (from pandas>=2.1->xarray->dedalus==3.0.3) (2024.2)\n",
            "Requirement already satisfied: six>=1.5 in /usr/local/lib/python3.10/dist-packages (from python-dateutil>=2.7->matplotlib->dedalus==3.0.3) (1.17.0)\n",
            "Downloading py-1.11.0-py2.py3-none-any.whl (98 kB)\n",
            "\u001b[2K   \u001b[90m━━━━━━━━━━━━━━━━━━━━━━━━━━━━━━━━━━━━━━━━\u001b[0m \u001b[32m98.7/98.7 kB\u001b[0m \u001b[31m10.7 MB/s\u001b[0m eta \u001b[36m0:00:00\u001b[0m\n",
            "\u001b[?25hDownloading pytest_benchmark-5.1.0-py3-none-any.whl (44 kB)\n",
            "\u001b[2K   \u001b[90m━━━━━━━━━━━━━━━━━━━━━━━━━━━━━━━━━━━━━━━━\u001b[0m \u001b[32m44.3/44.3 kB\u001b[0m \u001b[31m61.2 MB/s\u001b[0m eta \u001b[36m0:00:00\u001b[0m\n",
            "\u001b[?25hDownloading pytest_cov-6.0.0-py3-none-any.whl (22 kB)\n",
            "Downloading pytest_parallel-0.1.1-py3-none-any.whl (7.0 kB)\n",
            "Downloading coverage-7.6.10-cp310-cp310-manylinux_2_5_x86_64.manylinux1_x86_64.manylinux_2_17_x86_64.manylinux2014_x86_64.whl (235 kB)\n",
            "\u001b[2K   \u001b[90m━━━━━━━━━━━━━━━━━━━━━━━━━━━━━━━━━━━━━━━━\u001b[0m \u001b[32m235.9/235.9 kB\u001b[0m \u001b[31m28.5 MB/s\u001b[0m eta \u001b[36m0:00:00\u001b[0m\n",
            "\u001b[?25hDownloading tblib-3.0.0-py3-none-any.whl (12 kB)\n",
            "Building wheels for collected packages: dedalus, docopt\n",
            "  Building wheel for dedalus (pyproject.toml) ... \u001b[?25l\u001b[?25hdone\n",
            "  Created wheel for dedalus: filename=dedalus-3.0.3-cp310-cp310-linux_x86_64.whl size=3261912 sha256=9f477355078e0296f3a765dfd71aa13042d5b674ce1d83e1821c2f311f659396\n",
            "  Stored in directory: /tmp/pip-ephem-wheel-cache-6ykk72ci/wheels/2c/16/80/8c5f40fc4de8dc37ba4cdd4e05d7639677a5f0659c3bbd79a7\n",
            "  Building wheel for docopt (setup.py) ... \u001b[?25l\u001b[?25hdone\n",
            "  Created wheel for docopt: filename=docopt-0.6.2-py2.py3-none-any.whl size=13706 sha256=424c918f3f0c5cf7eb8b5c545b52e16cb691da2018e8ee9875a488fc31c0ba4c\n",
            "  Stored in directory: /tmp/pip-ephem-wheel-cache-6ykk72ci/wheels/fc/ab/d4/5da2067ac95b36618c629a5f93f809425700506f72c9732fac\n",
            "Successfully built dedalus docopt\n",
            "Installing collected packages: docopt, tblib, py, coverage, pytest-parallel, pytest-benchmark, pytest-cov, dedalus\n",
            "Successfully installed coverage-7.6.10 dedalus-3.0.3 docopt-0.6.2 py-1.11.0 pytest-benchmark-5.1.0 pytest-cov-6.0.0 pytest-parallel-0.1.1 tblib-3.0.0\n",
            "\u001b[2K   \u001b[90m━━━━━━━━━━━━━━━━━━━━━━━━━━━━━━━━━━━━━━━━\u001b[0m \u001b[32m516.3/516.3 kB\u001b[0m \u001b[31m8.9 MB/s\u001b[0m eta \u001b[36m0:00:00\u001b[0m\n",
            "\u001b[2K   \u001b[90m━━━━━━━━━━━━━━━━━━━━━━━━━━━━━━━━━━━━━━━━\u001b[0m \u001b[32m1.6/1.6 MB\u001b[0m \u001b[31m41.6 MB/s\u001b[0m eta \u001b[36m0:00:00\u001b[0m\n",
            "\u001b[?25h\n",
            "Dedalus successfully installed :)\n"
          ]
        }
      ],
      "source": [
        "# Set environment variables for best performance\n",
        "%env OMP_NUM_THREADS=1\n",
        "%env NUMEXPR_MAX_THREADS=1\n",
        "\n",
        "# Minimize logging output\n",
        "import logging\n",
        "logging.disable(logging.DEBUG)\n",
        "\n",
        "# Check if running on google colab\n",
        "import os\n",
        "using_google_colab = bool(os.getenv(\"COLAB_RELEASE_TAG\"))\n",
        "\n",
        "# Check for Dedalus\n",
        "try:\n",
        "    import dedalus.public as de\n",
        "    print(\"Dedalus already installed :)\")\n",
        "except:\n",
        "    print(\"Dedalus not installed yet.\")\n",
        "    if using_google_colab:\n",
        "        print(\"Installing for Google Colab.\")\n",
        "        print()\n",
        "        # Step 1: Install FFTW\n",
        "        !apt-get install libfftw3-dev\n",
        "        !apt-get install libfftw3-mpi-dev\n",
        "        # Step 2: Set paths for Dedalus installation\n",
        "        import os\n",
        "        os.environ['MPI_INCLUDE_PATH'] = \"/usr/lib/x86_64-linux-gnu/openmpi/include\"\n",
        "        os.environ['MPI_LIBRARY_PATH'] = \"/usr/lib/x86_64-linux-gnu\"\n",
        "        os.environ['FFTW_INCLUDE_PATH'] = \"/usr/include\"\n",
        "        os.environ['FFTW_LIBRARY_PATH'] = \"/usr/lib/x86_64-linux-gnu\"\n",
        "        # Step 3: Install Dedalus using pip\n",
        "        !pip3 install cython \"mpi4py<4.0\" numpy setuptools wheel\n",
        "        !CC=mpicc pip3 install --no-cache --no-build-isolation http://github.com/dedalusproject/dedalus/zipball/master/\n",
        "        !pip3 install -q ipympl\n",
        "        # Step 4: Check installation\n",
        "        print()\n",
        "        try:\n",
        "            import dedalus.public as de\n",
        "            print(\"Dedalus successfully installed :)\")\n",
        "        except:\n",
        "            print(\"Error installing Dedalus :(\")\n",
        "            raise\n",
        "    else:\n",
        "        print(\"See website for installation instructions:\")\n",
        "        print(\"https://dedalus-project.readthedocs.io/en/latest/pages/installation.html\")\n",
        "\n",
        "# Setup interactive matplotlib\n",
        "if using_google_colab:\n",
        "    from google.colab import output\n",
        "    output.enable_custom_widget_manager()"
      ]
    },
    {
      "cell_type": "markdown",
      "metadata": {
        "id": "EM4JJ1yzcfsu"
      },
      "source": [
        "At the start of each Python script, we need to import the packages that we will use.  The cell below imports the packages that will be needed here, namely numpy, matplotlib (for plotting) and dedalus. Note that we assign aliases for numpy, matplotlib, and dedlaus. Run this cell before running any of the cells below."
      ]
    },
    {
      "cell_type": "code",
      "execution_count": 2,
      "metadata": {
        "id": "eESPxoXKrs0Q"
      },
      "outputs": [],
      "source": [
        "import numpy as np\n",
        "import matplotlib.pyplot as plt\n",
        "import dedalus.public as dedalus\n",
        "import logging\n",
        "logger = logging.getLogger(__name__)"
      ]
    },
    {
      "cell_type": "markdown",
      "metadata": {
        "id": "sFBvB4cQcfsv"
      },
      "source": [
        "## 2. Dedalus basics"
      ]
    },
    {
      "cell_type": "markdown",
      "metadata": {
        "id": "pxDOKo0Acfsv"
      },
      "source": [
        "Dedalus solves PDEs using spectral methods.  Dedalus requires us to specify the spatial coordinates, the `distributor`, and the spectral bases, which are explained below."
      ]
    },
    {
      "cell_type": "markdown",
      "metadata": {
        "id": "Zn5KMufAcfsv"
      },
      "source": [
        "### Coordinates"
      ]
    },
    {
      "cell_type": "markdown",
      "metadata": {
        "id": "P9R7TskTcfsv"
      },
      "source": [
        "We can use a variety of coordinate systems in Dedalus. For example, for multi-dimensional problems, we can use Cartesian coordinates, polar coordinates, spherical coordinates, etc. Here, we will set up a 1D problem using the Dedalus `Coordinate` class. We will see other examples in future projects.\n",
        "For more details on other problem types, included distributed parallel simulations, see the official [Dedalus Tutorial 1](https://dedalus-project.readthedocs.io/en/latest/notebooks/dedalus_tutorial_1.html).\n",
        "\n",
        "Let's create a coordinate object representing our 1D coordinate, which here we will call `x`:"
      ]
    },
    {
      "cell_type": "code",
      "execution_count": 3,
      "metadata": {
        "id": "FOgm8Z58cfsv"
      },
      "outputs": [],
      "source": [
        "xcoord = dedalus.Coordinate('x')"
      ]
    },
    {
      "cell_type": "markdown",
      "metadata": {
        "id": "KMqO1JsRcfsw"
      },
      "source": [
        "### Distributors"
      ]
    },
    {
      "cell_type": "markdown",
      "metadata": {
        "id": "fyEAC0Jwcfsw"
      },
      "source": [
        "Dedalus uses MPI (Message Passing Interface) for allow parallel computation on distributed memory systems. There are various options for how to distribute the computation amongst the processes. In Dedalus this is done by an object called a `Distributor`. Here, we will run not run in paralle, but Dedalus still requies us to create a `Distributor` object. You don't need to worry about this now, we will discuss it further in later projects.\n",
        "\n",
        "The line below creates a distributor for our x coordinate for a problem with real variables."
      ]
    },
    {
      "cell_type": "code",
      "execution_count": 4,
      "metadata": {
        "id": "FRlRyC1gcfsw"
      },
      "outputs": [],
      "source": [
        "dist = dedalus.Distributor(xcoord, dtype=np.float64) # No mesh for serial / automatic parallelization"
      ]
    },
    {
      "cell_type": "markdown",
      "metadata": {
        "id": "1LK9fRWXcfsw"
      },
      "source": [
        "### Spectral basis"
      ]
    },
    {
      "cell_type": "markdown",
      "metadata": {
        "id": "KNdWEGJ8cfsw"
      },
      "source": [
        "Dedalus decomposes the PDE that we are solving using a spectral basis. Dedalus has the ability to use different basis functions for this decomposition, and this gives Dedalus remarkable flexibility. For example, `RealFourier` provides a Fouier basis (sine and cosine functions) can be used for problems that are periodic (cyclic) in physical space. The `Chebyshev` basis allows boundary conditions to be set on a finite interval. The `SphereBasis` allows us to solve problems on a sphere.\n",
        "\n",
        "The line below creates a Fourier basis for a real-valued system with a domain size of Lx=10 and with Nx=1024 gridpoints in physical space."
      ]
    },
    {
      "cell_type": "code",
      "execution_count": 5,
      "metadata": {
        "id": "rQOfjNWecfsx"
      },
      "outputs": [],
      "source": [
        "# Set some parameters\n",
        "Nx = 1024 # The number of gridpoints. Note that Fourier transforms are more efficient if this is a power of 2\n",
        "x_start=-1; x_end=1 # The starting and ending bounds on x\n",
        "\n",
        "# Construct a Fourier basis\n",
        "x_basis = dedalus.RealFourier(xcoord, size=Nx, bounds=(x_start, x_end))"
      ]
    },
    {
      "cell_type": "markdown",
      "metadata": {
        "id": "WYcpkC9Icfsx"
      },
      "source": [
        "### Grids"
      ]
    },
    {
      "cell_type": "markdown",
      "metadata": {
        "id": "_VMJ7VVUcfsx"
      },
      "source": [
        "Each basis has a corresponding grid in physical space that can be used for tasks like initializing and plotting fields.\n",
        "\n",
        "The line below creates a grid for the x coordinate.\n"
      ]
    },
    {
      "cell_type": "code",
      "execution_count": 6,
      "metadata": {
        "id": "Z364-m_9cfsx"
      },
      "outputs": [],
      "source": [
        "x = dist.local_grid(x_basis)"
      ]
    },
    {
      "cell_type": "markdown",
      "metadata": {
        "id": "53FPBHrbcfsx"
      },
      "source": [
        "### Fields"
      ]
    },
    {
      "cell_type": "markdown",
      "metadata": {
        "id": "5zKMuEercfsx"
      },
      "source": [
        "`Field` objects in Dedalus represent scalar-valued fields defined over a set of bases (or a \"domain\").\n",
        "For multidimensional problems, vector and tensor valued fields can also be constructed using the `VectorField` and `TensorField` clases.\n",
        "\n",
        "Let's construct a field called `c` (for concentration) using our 1D basis:"
      ]
    },
    {
      "cell_type": "code",
      "execution_count": 7,
      "metadata": {
        "id": "MUACj_qXcfsy"
      },
      "outputs": [],
      "source": [
        "c = dist.Field(name='c', bases=x_basis)"
      ]
    },
    {
      "cell_type": "markdown",
      "metadata": {
        "id": "W06LkkyBcfsy"
      },
      "source": [
        "Field objects have internal methods for transforming their data between grid (`'g'`) and coefficeint (`'c'`) space representations.\n",
        "The field's values can be assigned and retrieved by indexing a field with these strings.\n",
        "\n",
        "Let's set the grid-space values of our field, `c`, to be a Gaussian function of `x`. This is how we set the initial condition for the initial value problem that we will solve below."
      ]
    },
    {
      "cell_type": "code",
      "execution_count": 8,
      "metadata": {
        "id": "XOr9hPm4cfsy",
        "colab": {
          "base_uri": "https://localhost:8080/",
          "height": 311
        },
        "outputId": "104c2baa-f342-4d2f-f264-a83fbf2d556d"
      },
      "outputs": [
        {
          "output_type": "display_data",
          "data": {
            "text/plain": [
              "<Figure size 600x300 with 1 Axes>"
            ],
            "image/png": "[encoded data removed]"
          },
          "metadata": {}
        }
      ],
      "source": [
        "w = 0.1 # Set the width of the initial Gaussian\n",
        "c.change_scales(1) # Set values on regular grid\n",
        "c['g'] = np.exp(-x**2/w**2)  # Initialize the dependent variable c with a Gaussian function (note ** is the exponentiation operator)\n",
        "\n",
        "plt.figure(figsize=(6, 3)) # Set the size of the figure\n",
        "plt.plot(x, c['g']) # Plot the \"grid-space\" initial conditions\n",
        "plt.xlabel('x'); plt.ylabel(\"c\"); # Set the axis labels"
      ]
    },
    {
      "cell_type": "markdown",
      "metadata": {
        "id": "3RMg7Ljmcfsy"
      },
      "source": [
        "As a bit of an aside, we can find the coefficients of the spectral representation of a field using ['c'] instead of ['g'].\n",
        "This triggers an in-place spectral (in this case Fourier) transform of the field's data.\n",
        "For the `RealFourier` basis, the coefficients are the interleaved real-valued coefficients of the cosine and (negative) sine coefficients.\n",
        "For very large problems transforming between grid and coefficient space will be time-consuming, so you will want to limit the number of times that this is done."
      ]
    },
    {
      "cell_type": "code",
      "execution_count": null,
      "metadata": {
        "id": "X_32Ylugcfsy",
        "colab": {
          "base_uri": "https://localhost:8080/",
          "height": 307
        },
        "outputId": "55d9d18e-458d-4242-bb77-4a1930eac762"
      },
      "outputs": [
        {
          "output_type": "display_data",
          "data": {
            "text/plain": [
              "<Figure size 600x300 with 1 Axes>"
            ],
            "image/png": "[encoded data removed]"
          },
          "metadata": {}
        }
      ],
      "source": [
        "k = np.pi * np.arange(1, Nx/2+1) / (x_end - x_start) # Create an array of wavenumbers, k(i)=i*pi/Lx\n",
        "plt.figure(figsize=(6, 3))\n",
        "plt.plot(k, c['c'][0::2], label='cosine amplitude')\n",
        "plt.plot(k, -c['c'][1::2], label='sine amplitude')\n",
        "plt.xlabel('wavenumber (k)')\n",
        "plt.ylabel(\"c['c']\")\n",
        "plt.xlim(0, 50)\n",
        "plt.legend()\n",
        "plt.tight_layout()"
      ]
    },
    {
      "cell_type": "markdown",
      "metadata": {
        "id": "smM7uP7qcfsz"
      },
      "source": [
        "## 3. Problems and Solvers"
      ]
    },
    {
      "cell_type": "markdown",
      "metadata": {
        "id": "N8UpkW4pcfsz"
      },
      "source": [
        "Dedalus uses Problem and Solver classes to specify the problem and the methods that will be used to solve it. Here, we will set up the diffusion equation and solve it using the Crank-Nicolson timestepping method.\n",
        "\n",
        "For more details on other problem types, see [Dedalus Tutorial 3](https://dedalus-project.readthedocs.io/en/latest/notebooks/dedalus_tutorial_2.html)."
      ]
    },
    {
      "cell_type": "markdown",
      "metadata": {
        "id": "4vhTd2rccfsz"
      },
      "source": [
        "### Problems"
      ]
    },
    {
      "cell_type": "markdown",
      "metadata": {
        "id": "9sxPlZjlcfsz"
      },
      "source": [
        "Dedalus standardizes the formulation of all initial value problems by taking systems of symbolically specified equations and boundary conditions specified in the following generic form:\n",
        "\n",
        "$$\\mathcal{M} \\cdot \\partial_t \\mathcal{X} + \\mathcal{L} \\cdot \\mathcal{X} = \\mathcal{F}(\\mathcal{X}, t)$$\n",
        "\n",
        "where $\\mathcal{M}$ and $\\mathcal{L}$ are matrices of linear differential operators, $\\mathcal{X}$ is a state vector of the unknown fields, $\\mathcal{F}$ is a vector of general nonlinear expressions.\n",
        "\n",
        "The left-hand side (LHS) of the equations must be first-order in temporal derivatives and linear in the problem variables.\n",
        "The right-hand side (RHS) of the equations may contain nonlinear and time-dependent terms, but no temporal derivatives.\n",
        "\n",
        "When using a mixed implicit/explicit timestepping scheme, Dedalus will apply the implicit method to the $\\mathcal{L}\\cdot \\mathcal{X}$ term and the explicit method to the $\\mathcal{F}(\\mathcal{X}, t)$ term.\n",
        "\n",
        "To create a problem object, we provide a list of the variables to be solved for. In this case, this is just `c`.\n",
        "\n",
        "Equations can then be entered as pairs of operator expressions like `(LHS, RHS)` or as strings like `\"LHS = RHS\"`.\n",
        "\n",
        "Here, let's set up the diffusion equation:\n",
        "\n",
        "$$\\partial_t c - \\kappa \\partial_x^2 c = 0$$\n",
        "\n",
        "Note that we put the term with the second derivative on the left hand side of the equation so that it will be time-stepped implicitly."
      ]
    },
    {
      "cell_type": "code",
      "execution_count": null,
      "metadata": {
        "id": "M5KIapjFcfsz"
      },
      "outputs": [],
      "source": [
        "# Parameters\n",
        "kappa = 0.001\n",
        "\n",
        "# Operators\n",
        "dx = lambda a: dedalus.Differentiate(a, xcoord) # Define the derivative (d/dx) operator\n",
        "\n",
        "# Specify the problem\n",
        "problem = dedalus.IVP([c], namespace=locals()) # Initial value problem, including all local variables\n",
        "problem.add_equation(\"dt(c) - kappa*dx(dx(c)) = 0\"); # Write out the equation to be solved\n"
      ]
    },
    {
      "cell_type": "markdown",
      "metadata": {
        "id": "Xe_8jhofcfs0"
      },
      "source": [
        "### 3.2 Solvers"
      ]
    },
    {
      "cell_type": "markdown",
      "metadata": {
        "id": "x_1EyXbOcfs0"
      },
      "source": [
        "Now, we need to specify the solver.  For IVPs, we specify a timestepping method when building the solver. Below we select the `CNAB1` timestepper which uses Crank-Nicolson for the $\\mathcal{L}\\cdot \\mathcal{X}$ term and the explicit first order Adams-Bashforth method for the right hand side term (but in this case the RHS is zero)."
      ]
    },
    {
      "cell_type": "code",
      "execution_count": null,
      "metadata": {
        "id": "afGEl_Akcfs0",
        "colab": {
          "base_uri": "https://localhost:8080/"
        },
        "outputId": "2dd31dce-ead6-40a6-da49-0e41ddefb361"
      },
      "outputs": [
        {
          "output_type": "stream",
          "name": "stderr",
          "text": [
            "INFO:subsystems:Building subproblem matrices 1/1 (~100%) Elapsed: 0s, Remaining: 0s, Rate: 1.2e+01/s\n"
          ]
        },
        {
          "output_type": "stream",
          "name": "stdout",
          "text": [
            "2024-12-27 06:26:12,295 subsystems 0/1 INFO :: Building subproblem matrices 1/1 (~100%) Elapsed: 0s, Remaining: 0s, Rate: 1.2e+01/s\n"
          ]
        }
      ],
      "source": [
        "timestepper = dedalus.CNAB1\n",
        "solver = problem.build_solver(timestepper)"
      ]
    },
    {
      "cell_type": "markdown",
      "metadata": {
        "id": "51DrSE6Ycfs0"
      },
      "source": [
        "Next, we need to specify a condition for the simulation to end. This can be a set number of iterations (set using `solver.stop_iteration`), a stopping time in simulation time units (set using `solver.stop_sim_time`, or a maximum wall clock time in seconds (set using `solver.stop_wall_time`).\n",
        "\n"
      ]
    },
    {
      "cell_type": "code",
      "execution_count": null,
      "metadata": {
        "id": "uroYFHN8uLsI"
      },
      "outputs": [],
      "source": [
        "solver.stop_sim_time = 10 # Stop at 10 simulation time units"
      ]
    },
    {
      "cell_type": "markdown",
      "metadata": {
        "id": "qKNh9G_Wcfs1"
      },
      "source": [
        "IVPs are iterated using the `solver.step` method with a provided timestep.\n",
        "The logic controlling the main-loop of a Dedalus IVP simulation occurs explicitly in the simulation script.\n",
        "The `solver.proceed` property will change from `True` to `False` once any of the specified stopping criteria have been met.\n",
        "Let's timestep our problem until the halting condition is reached, copying the grid values of `u` every few iterations.\n",
        "This should take just a few seconds to run."
      ]
    },
    {
      "cell_type": "code",
      "execution_count": null,
      "metadata": {
        "id": "sK3bokIecfs1",
        "colab": {
          "base_uri": "https://localhost:8080/"
        },
        "outputId": "b75fa0d6-1735-4102-beed-29ba29030b1e"
      },
      "outputs": [
        {
          "output_type": "stream",
          "name": "stderr",
          "text": [
            "INFO:solvers:Simulation stop time reached.\n"
          ]
        },
        {
          "output_type": "stream",
          "name": "stdout",
          "text": [
            "2024-12-27 06:26:17,315 solvers 0/1 INFO :: Simulation stop time reached.\n"
          ]
        }
      ],
      "source": [
        "# Main loop\n",
        "timestep = 0.1\n",
        "c.change_scales(1)\n",
        "c_save = [np.copy(c['g'])]; t_save = [solver.sim_time]; # Save the initial condition and the initial time\n",
        "while solver.proceed:\n",
        "    solver.step(timestep)\n",
        "    if solver.iteration % 500 == 0: # Every 500 timesteps, print a message to the screen with the progress\n",
        "        logger.info('Iteration=%i, Time=%e, dt=%e' %(solver.iteration, solver.sim_time, timestep))\n",
        "    # save the values of c and t\n",
        "    c.change_scales(1)\n",
        "    c_save.append(np.copy(c['g']))\n",
        "    t_save.append(solver.sim_time)"
      ]
    },
    {
      "cell_type": "markdown",
      "metadata": {
        "id": "0jA1iYe-cfs2"
      },
      "source": [
        "Now we can make a space-time plot of the solution:"
      ]
    },
    {
      "cell_type": "code",
      "execution_count": null,
      "metadata": {
        "id": "3LQxAkY-Q-GA",
        "colab": {
          "base_uri": "https://localhost:8080/",
          "height": 407
        },
        "outputId": "51cc30de-070b-492a-a2e5-64ef6ae73294"
      },
      "outputs": [
        {
          "output_type": "display_data",
          "data": {
            "text/plain": [
              "<Figure size 600x400 with 1 Axes>"
            ],
            "image/png": "[encoded data removed]"
          },
          "metadata": {}
        }
      ],
      "source": [
        "# Plot\n",
        "plt.figure(figsize=(6, 4))\n",
        "plt.pcolormesh(x.ravel(), np.array(t_save), np.array(c_save), cmap='RdBu_r', shading='gouraud', rasterized=True, clim=(-1, 1))\n",
        "plt.xlim(x_start, x_end)\n",
        "plt.ylim(0, solver.stop_sim_time)\n",
        "plt.xlabel('x')\n",
        "plt.ylabel('t')\n",
        "plt.title(f'Diffusion equation with Crank-Nicolson')\n",
        "plt.tight_layout()"
      ]
    },
    {
      "cell_type": "markdown",
      "metadata": {
        "id": "83TQO1G3cfs2"
      },
      "source": [
        "## 4. Forced diffusion equation"
      ]
    },
    {
      "cell_type": "markdown",
      "metadata": {
        "id": "IdPolkgacfs2"
      },
      "source": [
        "Dedalus is extremely flexible, which will make it very useful throughout the QCES computational projects. For example, it is relatively straightforward to change the equation that we are solving.\n",
        "\n",
        "In order to introduce functions into the equations that Dedalus solves, we need to define a new operator.  For example, the following code defines the function $sin(x)$ on our grid:"
      ]
    },
    {
      "cell_type": "code",
      "execution_count": null,
      "metadata": {
        "id": "jVb0GrOCcfs2"
      },
      "outputs": [],
      "source": [
        "# Create an operator that applies a function to the variable on a grid\n",
        "sin_x = dist.Field(bases=x_basis)\n",
        "sin_x['g'] = np.sin(x)"
      ]
    },
    {
      "cell_type": "markdown",
      "metadata": {
        "id": "tL824Xhlcfs2"
      },
      "source": [
        "The code below uses Dedlaus to solve the forced diffusion equation:\n",
        "\n",
        "$$\\partial_t c - \\kappa \\partial_x^2 c = cos(\\pi x / Lx)$$\n",
        "\n",
        "with the same Gaussian initial condition as before. This example also shows what a complete Dedalus script looks like."
      ]
    },
    {
      "cell_type": "code",
      "execution_count": 3,
      "metadata": {
        "id": "2F9bwXMlcfs2",
        "colab": {
          "base_uri": "https://localhost:8080/",
          "height": 1000
        },
        "outputId": "7c7fdc46-fd0f-4179-e8ea-6d125d24cbdb"
      },
      "outputs": [
        {
          "output_type": "stream",
          "name": "stderr",
          "text": [
            "DEBUG:distributor:Mesh: []\n",
            "DEBUG:problems:Adding equation 0\n",
            "DEBUG:problems:  LHS: dt(c) + -1*0.001*dx(dx(c))\n",
            "DEBUG:problems:  RHS: <Field 139475591564784>\n",
            "DEBUG:problems:  condition: True\n",
            "DEBUG:problems:  M: c\n",
            "DEBUG:problems:  L: -1*0.001*dx(dx(c))\n",
            "DEBUG:problems:  F: <Field 139475591564784>\n",
            "DEBUG:solvers:Beginning IVP instantiation\n",
            "INFO:subsystems:Building subproblem matrices 1/1 (~100%) Elapsed: 0s, Remaining: 0s, Rate: 1.7e+01/s\n"
          ]
        },
        {
          "output_type": "stream",
          "name": "stdout",
          "text": [
            "2024-12-28 01:00:52,751 subsystems 0/1 INFO :: Building subproblem matrices 1/1 (~100%) Elapsed: 0s, Remaining: 0s, Rate: 1.7e+01/s\n"
          ]
        },
        {
          "output_type": "stream",
          "name": "stderr",
          "text": [
            "DEBUG:solvers:Finished IVP instantiation\n",
            "DEBUG:transforms:Building FFTW FFT plan for (dtype, gshape, axis) = (<class 'numpy.float64'>, (1024,), 0)\n",
            "INFO:__main__:Iteration=500, Time=2.500000e+02, dt=5.000000e-01\n"
          ]
        },
        {
          "output_type": "stream",
          "name": "stdout",
          "text": [
            "2024-12-28 01:00:52,941 __main__ 0/1 INFO :: Iteration=500, Time=2.500000e+02, dt=5.000000e-01\n"
          ]
        },
        {
          "output_type": "stream",
          "name": "stderr",
          "text": [
            "INFO:__main__:Iteration=1000, Time=5.000000e+02, dt=5.000000e-01\n"
          ]
        },
        {
          "output_type": "stream",
          "name": "stdout",
          "text": [
            "2024-12-28 01:00:53,136 __main__ 0/1 INFO :: Iteration=1000, Time=5.000000e+02, dt=5.000000e-01\n"
          ]
        },
        {
          "output_type": "stream",
          "name": "stderr",
          "text": [
            "INFO:__main__:Iteration=1500, Time=7.500000e+02, dt=5.000000e-01\n"
          ]
        },
        {
          "output_type": "stream",
          "name": "stdout",
          "text": [
            "2024-12-28 01:00:53,355 __main__ 0/1 INFO :: Iteration=1500, Time=7.500000e+02, dt=5.000000e-01\n"
          ]
        },
        {
          "output_type": "stream",
          "name": "stderr",
          "text": [
            "INFO:__main__:Iteration=2000, Time=1.000000e+03, dt=5.000000e-01\n"
          ]
        },
        {
          "output_type": "stream",
          "name": "stdout",
          "text": [
            "2024-12-28 01:00:53,531 __main__ 0/1 INFO :: Iteration=2000, Time=1.000000e+03, dt=5.000000e-01\n"
          ]
        },
        {
          "output_type": "stream",
          "name": "stderr",
          "text": [
            "INFO:__main__:Iteration=2500, Time=1.250000e+03, dt=5.000000e-01\n"
          ]
        },
        {
          "output_type": "stream",
          "name": "stdout",
          "text": [
            "2024-12-28 01:00:53,710 __main__ 0/1 INFO :: Iteration=2500, Time=1.250000e+03, dt=5.000000e-01\n"
          ]
        },
        {
          "output_type": "stream",
          "name": "stderr",
          "text": [
            "INFO:__main__:Iteration=3000, Time=1.500000e+03, dt=5.000000e-01\n"
          ]
        },
        {
          "output_type": "stream",
          "name": "stdout",
          "text": [
            "2024-12-28 01:00:53,894 __main__ 0/1 INFO :: Iteration=3000, Time=1.500000e+03, dt=5.000000e-01\n"
          ]
        },
        {
          "output_type": "stream",
          "name": "stderr",
          "text": [
            "INFO:__main__:Steady-state reached at time 1586.0\n"
          ]
        },
        {
          "output_type": "stream",
          "name": "stdout",
          "text": [
            "2024-12-28 01:00:53,971 __main__ 0/1 INFO :: Steady-state reached at time 1586.0\n",
            "[array([1.91516960e-174, 9.12283218e-174, 4.33238229e-173, ...,\n",
            "       2.05115507e-172, 4.33238229e-173, 9.12283218e-174]), array([-0.49969176, -0.49968236, -0.49965414, ..., -0.49960711,\n",
            "       -0.49965414, -0.49968236]), array([-0.99876744, -0.99874864, -0.99869223, ..., -0.99859823,\n",
            "       -0.99869223, -0.99874864]), array([-1.49722778, -1.4971996 , -1.49711505, ..., -1.49697413,\n",
            "       -1.49711505, -1.4971996 ]), array([-1.99507356, -1.995036  , -1.99492333, ..., -1.99473556,\n",
            "       -1.99492333, -1.995036  ]), array([-2.49230552, -2.4922586 , -2.49211785, ..., -2.49188327,\n",
            "       -2.49211785, -2.4922586 ]), array([-2.98892442, -2.98886815, -2.98869936, ..., -2.98841804,\n",
            "       -2.98869936, -2.98886815]), array([-3.48493102, -3.48486542, -3.48466861, ..., -3.48434061,\n",
            "       -3.48466861, -3.48486542]), array([-3.98032607, -3.98025114, -3.98002636, ..., -3.97965173,\n",
            "       -3.98002636, -3.98025114]), array([-4.47511033, -4.47502609, -4.47477337, ..., -4.47435217,\n",
            "       -4.47477337, -4.47502609]), array([-4.96928456, -4.96919101, -4.96891038, ..., -4.96844267,\n",
            "       -4.96891038, -4.96919101]), array([-5.46284949, -5.46274666, -5.46243815, ..., -5.46192399,\n",
            "       -5.46243815, -5.46274666]), array([-5.95580589, -5.95569378, -5.95535743, ..., -5.95479687,\n",
            "       -5.95535743, -5.95569378]), array([-6.44815451, -6.44803312, -6.44766897, ..., -6.44706207,\n",
            "       -6.44766897, -6.44803312]), array([-6.93989608, -6.93976544, -6.93937352, ..., -6.93872034,\n",
            "       -6.93937352, -6.93976544]), array([-7.43103137, -7.43089149, -7.43047183, ..., -7.42977242,\n",
            "       -7.43047183, -7.43089149]), array([-7.92156112, -7.921412  , -7.92096464, ..., -7.92021906,\n",
            "       -7.92096464, -7.921412  ]), array([-8.41148608, -8.41132773, -8.41085271, ..., -8.41006102,\n",
            "       -8.41085271, -8.41132773]), array([-8.90080698, -8.90063943, -8.90013677, ..., -8.89929903,\n",
            "       -8.90013677, -8.90063943]), array([-9.38952459, -9.38934783, -9.38881757, ..., -9.38793383,\n",
            "       -9.38881757, -9.38934783]), array([-9.87763963, -9.87745369, -9.87689586, ..., -9.87596618,\n",
            "       -9.87689586, -9.87745369]), array([-10.36515286, -10.36495774, -10.36437238, ..., -10.36339681,\n",
            "       -10.36437238, -10.36495774]), array([-10.85206501, -10.85186073, -10.85124787, ..., -10.85022648,\n",
            "       -10.85124787, -10.85186073]), array([-11.33837683, -11.33816339, -11.33752307, ..., -11.33645591,\n",
            "       -11.33752307, -11.33816339]), array([-11.82408906, -11.82386647, -11.82319873, ..., -11.82208584,\n",
            "       -11.82319873, -11.82386647]), array([-12.30920243, -12.30897072, -12.30827557, ..., -12.30711703,\n",
            "       -12.30827557, -12.30897072]), array([-12.79371769, -12.79347685, -12.79275435, ..., -12.7915502 ,\n",
            "       -12.79275435, -12.79347685]), array([-13.27763557, -13.27738562, -13.27663579, ..., -13.27538609,\n",
            "       -13.27663579, -13.27738562]), array([-13.7609568 , -13.76069776, -13.75992063, ..., -13.75862545,\n",
            "       -13.75992063, -13.76069776]), array([-14.24368214, -14.243414  , -14.24260961, ..., -14.241269  ,\n",
            "       -14.24260961, -14.243414  ]), array([-14.72581229, -14.72553509, -14.72470347, ..., -14.72331747,\n",
            "       -14.72470347, -14.72553509]), array([-15.20734802, -15.20706174, -15.20620293, ..., -15.20477161,\n",
            "       -15.20620293, -15.20706174]), array([-15.68829003, -15.68799471, -15.68710873, ..., -15.68563215,\n",
            "       -15.68710873, -15.68799471]), array([-16.16863908, -16.16833471, -16.16742161, ..., -16.16589982,\n",
            "       -16.16742161, -16.16833471]), array([-16.64839588, -16.64808248, -16.64714229, ..., -16.64557534,\n",
            "       -16.64714229, -16.64808248]), array([-17.12756117, -17.12723875, -17.1262715 , ..., -17.12465945,\n",
            "       -17.1262715 , -17.12723875]), array([-17.60613568, -17.60580425, -17.60480997, ..., -17.60315288,\n",
            "       -17.60480997, -17.60580425]), array([-18.08412014, -18.08377971, -18.08275844, ..., -18.08105636,\n",
            "       -18.08275844, -18.08377971]), array([-18.56151527, -18.56116585, -18.56011762, ..., -18.55837061,\n",
            "       -18.56011762, -18.56116585]), array([-19.0383218 , -19.03796341, -19.03688825, ..., -19.03509636,\n",
            "       -19.03688825, -19.03796341]), array([-19.51454045, -19.5141731 , -19.51307105, ..., -19.51123434,\n",
            "       -19.51307105, -19.5141731 ]), array([-19.99017196, -19.98979565, -19.98866674, ..., -19.98678526,\n",
            "       -19.98866674, -19.98979565]), array([-20.46521704, -20.46483179, -20.46367605, ..., -20.46174986,\n",
            "       -20.46367605, -20.46483179]), array([-20.93967642, -20.93928224, -20.9380997 , ..., -20.93612886,\n",
            "       -20.9380997 , -20.93928224]), array([-21.41355082, -21.41314772, -21.41193842, ..., -21.40992298,\n",
            "       -21.41193842, -21.41314772]), array([-21.88684097, -21.88642895, -21.88519293, ..., -21.88313294,\n",
            "       -21.88519293, -21.88642895]), array([-22.35954757, -22.35912666, -22.35786394, ..., -22.35575945,\n",
            "       -22.35786394, -22.35912666]), array([-22.83167135, -22.83124155, -22.82995217, ..., -22.82780325,\n",
            "       -22.82995217, -22.83124155]), array([-23.30321304, -23.30277436, -23.30145835, ..., -23.29926505,\n",
            "       -23.30145835, -23.30277436]), array([-23.77417334, -23.7737258 , -23.77238319, ..., -23.77014556,\n",
            "       -23.77238319, -23.7737258 ]), array([-24.24455297, -24.24409658, -24.2427274 , ..., -24.2404455 ,\n",
            "       -24.2427274 , -24.24409658]), array([-24.71435266, -24.71388742, -24.71249171, ..., -24.7101656 ,\n",
            "       -24.71249171, -24.71388742]), array([-25.18357311, -25.18309904, -25.18167683, ..., -25.17930655,\n",
            "       -25.18167683, -25.18309904]), array([-25.65221504, -25.65173214, -25.65028348, ..., -25.64786909,\n",
            "       -25.65028348, -25.65173214]), array([-26.12027916, -26.11978746, -26.11831235, ..., -26.11585391,\n",
            "       -26.11831235, -26.11978746]), array([-26.58776619, -26.58726568, -26.58576418, ..., -26.58326174,\n",
            "       -26.58576418, -26.58726568]), array([-27.05467683, -27.05416754, -27.05263967, ..., -27.05009328,\n",
            "       -27.05263967, -27.05416754]), array([-27.52101181, -27.52049373, -27.51893952, ..., -27.51634925,\n",
            "       -27.51893952, -27.52049373]), array([-27.98677181, -27.98624497, -27.98466446, ..., -27.98203035,\n",
            "       -27.98466446, -27.98624497]), array([-28.45195757, -28.45142197, -28.44981519, ..., -28.44713729,\n",
            "       -28.44981519, -28.45142197]), array([-28.91656978, -28.91602543, -28.91439241, ..., -28.91167078,\n",
            "       -28.91439241, -28.91602543]), array([-29.38060915, -29.38005606, -29.37839684, ..., -29.37563154,\n",
            "       -29.37839684, -29.38005606]), array([-29.84407638, -29.84351458, -29.84182918, ..., -29.83902025,\n",
            "       -29.84182918, -29.84351458]), array([-30.30697219, -30.30640167, -30.30469013, ..., -30.30183764,\n",
            "       -30.30469013, -30.30640167]), array([-30.76929728, -30.76871805, -30.76698041, ..., -30.7640844 ,\n",
            "       -30.76698041, -30.76871805]), array([-31.23105235, -31.23046443, -31.2287007 , ..., -31.22576124,\n",
            "       -31.2287007 , -31.23046443]), array([-31.6922381 , -31.6916415 , -31.68985173, ..., -31.68686885,\n",
            "       -31.68985173, -31.6916415 ]), array([-32.15285523, -32.15224996, -32.15043418, ..., -32.14740795,\n",
            "       -32.15043418, -32.15224996]), array([-32.61290446, -32.61229053, -32.61044876, ..., -32.60737924,\n",
            "       -32.61044876, -32.61229053]), array([-33.07238647, -33.07176389, -33.06989618, ..., -33.0667834 ,\n",
            "       -33.06989618, -33.07176389]), array([-33.53130196, -33.53067075, -33.52877712, ..., -33.52562115,\n",
            "       -33.52877712, -33.53067075]), array([-33.98965164, -33.9890118 , -33.98709229, ..., -33.98389318,\n",
            "       -33.98709229, -33.9890118 ]), array([-34.44743621, -34.44678774, -34.44484238, ..., -34.44160018,\n",
            "       -34.44484238, -34.44678774]), array([-34.90465635, -34.90399928, -34.90202809, ..., -34.89874287,\n",
            "       -34.90202809, -34.90399928]), array([-35.36131277, -35.3606471 , -35.35865013, ..., -35.35532192,\n",
            "       -35.35865013, -35.3606471 ]), array([-35.81740616, -35.8167319 , -35.81470917, ..., -35.81133803,\n",
            "       -35.81470917, -35.8167319 ]), array([-36.27293721, -36.27225438, -36.27020592, ..., -36.26679191,\n",
            "       -36.27020592, -36.27225438]), array([-36.72790662, -36.72721522, -36.72514107, ..., -36.72168424,\n",
            "       -36.72514107, -36.72721522]), array([-37.18231508, -37.18161513, -37.17951532, ..., -37.17601571,\n",
            "       -37.17951532, -37.18161513]), array([-37.63616328, -37.63545479, -37.63332934, ..., -37.62978703,\n",
            "       -37.63332934, -37.63545479]), array([-38.08945191, -38.08873489, -38.08658384, ..., -38.08299886,\n",
            "       -38.08658384, -38.08873489]), array([-38.54218167, -38.54145612, -38.53927951, ..., -38.53565192,\n",
            "       -38.53927951, -38.54145612]), array([-38.99435323, -38.99361918, -38.99141703, ..., -38.98774688,\n",
            "       -38.99141703, -38.99361918]), array([-39.4459673 , -39.44522474, -39.44299709, ..., -39.43928444,\n",
            "       -39.44299709, -39.44522474]), array([-39.89702455, -39.8962735 , -39.89402038, ..., -39.89026527,\n",
            "       -39.89402038, -39.8962735 ]), array([-40.34752568, -40.34676615, -40.34448759, ..., -40.34069008,\n",
            "       -40.34448759, -40.34676615]), array([-40.79747137, -40.79670337, -40.79439939, ..., -40.79055953,\n",
            "       -40.79439939, -40.79670337]), array([-41.2468623 , -41.24608584, -41.24375648, ..., -41.23987433,\n",
            "       -41.24375648, -41.24608584]), array([-41.69569916, -41.69491425, -41.69255955, ..., -41.68863514,\n",
            "       -41.69255955, -41.69491425]), array([-42.14398262, -42.14318928, -42.14080926, ..., -42.13684267,\n",
            "       -42.14080926, -42.14318928]), array([-42.59171339, -42.59091161, -42.58850631, ..., -42.58449758,\n",
            "       -42.58850631, -42.59091161]), array([-43.03889212, -43.03808193, -43.03565137, ..., -43.03160055,\n",
            "       -43.03565137, -43.03808193]), array([-43.48551952, -43.48470091, -43.48224514, ..., -43.47815228,\n",
            "       -43.48224514, -43.48470091]), array([-43.93159625, -43.93076925, -43.92828828, ..., -43.92415343,\n",
            "       -43.92828828, -43.93076925]), array([-44.37712299, -44.3762876 , -44.37378147, ..., -44.36960469,\n",
            "       -44.37378147, -44.3762876 ]), array([-44.82210042, -44.82125666, -44.8187254 , ..., -44.81450674,\n",
            "       -44.8187254 , -44.82125666]), array([-45.26652923, -45.2656771 , -45.26312074, ..., -45.25886025,\n",
            "       -45.26312074, -45.2656771 ]), array([-45.71041008, -45.70954959, -45.70696817, ..., -45.7026659 ,\n",
            "       -45.70696817, -45.70954959]), array([-46.15374365, -46.15287482, -46.15026835, ..., -46.14592436,\n",
            "       -46.15026835, -46.15287482]), array([-46.59653061, -46.59565345, -46.59302198, ..., -46.58863631,\n",
            "       -46.59302198, -46.59565345]), array([-47.03877165, -47.03788616, -47.03522972, ..., -47.03080243,\n",
            "       -47.03522972, -47.03788616]), array([-47.48046743, -47.47957363, -47.47689224, ..., -47.47242338,\n",
            "       -47.47689224, -47.47957363]), array([-47.92161863, -47.92071652, -47.91801022, ..., -47.91349983,\n",
            "       -47.91801022, -47.92071652]), array([-48.36222591, -48.36131551, -48.35858433, ..., -48.35403247,\n",
            "       -48.35858433, -48.36131551]), array([-48.80228995, -48.80137126, -48.79861523, ..., -48.79402196,\n",
            "       -48.79861523, -48.80137126]), array([-49.24181142, -49.24088446, -49.2381036 , ..., -49.23346896,\n",
            "       -49.2381036 , -49.24088446]), array([-49.68079099, -49.67985576, -49.67705011, ..., -49.67237416,\n",
            "       -49.67705011, -49.67985576]), array([-50.11922931, -50.11828583, -50.11545543, ..., -50.1107382 ,\n",
            "       -50.11545543, -50.11828583]), array([-50.55712708, -50.55617535, -50.55332022, ..., -50.54856178,\n",
            "       -50.55332022, -50.55617535]), array([-50.99448493, -50.99352498, -50.99064514, ..., -50.98584554,\n",
            "       -50.99064514, -50.99352498]), array([-51.43130356, -51.43033538, -51.42743087, ..., -51.42259016,\n",
            "       -51.42743087, -51.43033538]), array([-51.86758361, -51.86660722, -51.86367807, ..., -51.85879629,\n",
            "       -51.86367807, -51.86660722]), array([-52.30332575, -52.30234116, -52.29938741, ..., -52.29446462,\n",
            "       -52.29938741, -52.30234116]), array([-52.73853065, -52.73753786, -52.73455954, ..., -52.72959578,\n",
            "       -52.73455954, -52.73753786]), array([-53.17319897, -53.172198  , -53.16919512, ..., -53.16419046,\n",
            "       -53.16919512, -53.172198  ]), array([-53.60733137, -53.60632222, -53.60329483, ..., -53.59824931,\n",
            "       -53.60329483, -53.60632222]), array([-54.0409285 , -54.0399112 , -54.03685932, ..., -54.03177299,\n",
            "       -54.03685932, -54.0399112 ]), array([-54.47399104, -54.47296558, -54.46988925, ..., -54.46476216,\n",
            "       -54.46988925, -54.47296558]), array([-54.90651964, -54.90548604, -54.90238528, ..., -54.89721748,\n",
            "       -54.90238528, -54.90548604]), array([-55.33851496, -55.33747322, -55.33434807, ..., -55.3291396 ,\n",
            "       -55.33434807, -55.33747322]), array([-55.76997765, -55.76892779, -55.76577827, ..., -55.7605292 ,\n",
            "       -55.76577827, -55.76892779]), array([-56.20090837, -56.1998504 , -56.19667654, ..., -56.19138691,\n",
            "       -56.19667654, -56.1998504 ]), array([-56.63130778, -56.63024171, -56.62704354, ..., -56.6217134 ,\n",
            "       -56.62704354, -56.63024171]), array([-57.06117653, -57.06010237, -57.05687993, ..., -57.05150933,\n",
            "       -57.05687993, -57.06010237]), array([-57.49051528, -57.48943304, -57.48618635, ..., -57.48077534,\n",
            "       -57.48618635, -57.48943304]), array([-57.91932468, -57.91823436, -57.91496346, ..., -57.90951209,\n",
            "       -57.91496346, -57.91823436]), array([-58.34760538, -58.346507  , -58.34321191, ..., -58.33772023,\n",
            "       -58.34321191, -58.346507  ]), array([-58.77535804, -58.77425161, -58.77093236, ..., -58.76540042,\n",
            "       -58.77093236, -58.77425161]), array([-59.2025833 , -59.20146883, -59.19812545, ..., -59.1925533 ,\n",
            "       -59.19812545, -59.20146883]), array([-59.62928182, -59.62815931, -59.62479184, ..., -59.61917953,\n",
            "       -59.62479184, -59.62815931]), array([-60.05545424, -60.05432371, -60.05093217, ..., -60.04527975,\n",
            "       -60.05093217, -60.05432371]), array([-60.48110122, -60.47996268, -60.4765471 , ..., -60.47085462,\n",
            "       -60.4765471 , -60.47996268]), array([-60.9062234 , -60.90507685, -60.90163727, ..., -60.89590477,\n",
            "       -60.90163727, -60.90507685]), array([-61.33082142, -61.32966689, -61.32620332, ..., -61.32043086,\n",
            "       -61.32620332, -61.32966689]), array([-61.75489594, -61.75373342, -61.75024591, ..., -61.74443354,\n",
            "       -61.75024591, -61.75373342]), array([-62.1784476 , -62.17727711, -62.17376568, ..., -62.16791344,\n",
            "       -62.17376568, -62.17727711]), array([-62.60147705, -62.60029859, -62.59676327, ..., -62.59087121,\n",
            "       -62.59676327, -62.60029859]), array([-63.02398492, -63.02279851, -63.01923933, ..., -63.01330751,\n",
            "       -63.01923933, -63.02279851]), array([-63.44597186, -63.44477751, -63.4411945 , ..., -63.43522296,\n",
            "       -63.4411945 , -63.44477751]), array([-63.86743852, -63.86623623, -63.86262942, ..., -63.85661821,\n",
            "       -63.86262942, -63.86623623]), array([-64.28838553, -64.28717532, -64.28354473, ..., -64.2774939 ,\n",
            "       -64.28354473, -64.28717532]), array([-64.70881354, -64.70759541, -64.70394108, ..., -64.69785068,\n",
            "       -64.70394108, -64.70759541]), array([-65.12872318, -65.12749714, -65.1238191 , ..., -65.11768918,\n",
            "       -65.1238191 , -65.12749714]), array([-65.54811509, -65.54688116, -65.54317943, ..., -65.53701004,\n",
            "       -65.54317943, -65.54688116]), array([-65.96698991, -65.9657481 , -65.96202272, ..., -65.9558139 ,\n",
            "       -65.96202272, -65.9657481 ]), array([-66.38534829, -66.3840986 , -66.38034959, ..., -66.37410139,\n",
            "       -66.38034959, -66.3840986 ]), array([-66.80319085, -66.8019333 , -66.79816069, ..., -66.79187316,\n",
            "       -66.79816069, -66.8019333 ]), array([-67.22051823, -67.21925282, -67.21545664, ..., -67.20912984,\n",
            "       -67.21545664, -67.21925282]), array([-67.63733107, -67.63605781, -67.6322381 , ..., -67.62587206,\n",
            "       -67.6322381 , -67.63605781]), array([-68.05362999, -68.0523489 , -68.04850568, ..., -68.04210046,\n",
            "       -68.04850568, -68.0523489 ]), array([-68.46941564, -68.46812673, -68.46426002, ..., -68.45781567,\n",
            "       -68.46426002, -68.46812673]), array([-68.88468865, -68.88339192, -68.87950176, ..., -68.87301832,\n",
            "       -68.87950176, -68.88339192]), array([-69.29944965, -69.2981451 , -69.29423152, ..., -69.28770905,\n",
            "       -69.29423152, -69.2981451 ]), array([-69.71369926, -69.71238692, -69.70844994, ..., -69.70188848,\n",
            "       -69.70844994, -69.71238692]), array([-70.12743813, -70.126118  , -70.12215765, ..., -70.11555725,\n",
            "       -70.12215765, -70.126118  ]), array([-70.54066687, -70.53933896, -70.53535528, ..., -70.52871598,\n",
            "       -70.53535528, -70.53933896]), array([-70.95338612, -70.95205044, -70.94804346, ..., -70.94136531,\n",
            "       -70.94804346, -70.95205044]), array([-71.36559651, -71.36425307, -71.3602228 , ..., -71.35350586,\n",
            "       -71.3602228 , -71.36425307]), array([-71.77729866, -71.77594747, -71.77189395, ..., -71.76513826,\n",
            "       -71.77189395, -71.77594747]), array([-72.18849319, -72.18713426, -72.18305752, ..., -72.17626313,\n",
            "       -72.18305752, -72.18713426]), array([-72.59918074, -72.59781408, -72.59371415, ..., -72.5868811 ,\n",
            "       -72.59371415, -72.59781408]), array([-73.00936194, -73.00798755, -73.00386446, ..., -72.9969928 ,\n",
            "       -73.00386446, -73.00798755]), array([-73.41903739, -73.41765529, -73.41350906, ..., -73.40659885,\n",
            "       -73.41350906, -73.41765529]), array([-73.82820773, -73.82681793, -73.82264859, ..., -73.81569986,\n",
            "       -73.82264859, -73.82681793]), array([-74.23687358, -74.23547609, -74.23128367, ..., -74.22429647,\n",
            "       -74.23128367, -74.23547609]), array([-74.64503555, -74.64363038, -74.63941491, ..., -74.6323893 ,\n",
            "       -74.63941491, -74.64363038]), array([-75.05269428, -75.05128143, -75.04704294, ..., -75.03997896,\n",
            "       -75.04704294, -75.05128143]), array([-75.45985038, -75.45842987, -75.45416838, ..., -75.44706608,\n",
            "       -75.45416838, -75.45842987]), array([-75.86650447, -75.86507631, -75.86079185, ..., -75.85365128,\n",
            "       -75.86079185, -75.86507631]), array([-76.27265717, -76.27122136, -76.26691397, ..., -76.25973517,\n",
            "       -76.26691397, -76.27122136]), array([-76.6783091 , -76.67686565, -76.67253535, ..., -76.66531837,\n",
            "       -76.67253535, -76.67686565]), array([-77.08346087, -77.08200979, -77.07765661, ..., -77.07040149,\n",
            "       -77.07765661, -77.08200979]), array([-77.4881131 , -77.4866544 , -77.48227837, ..., -77.47498516,\n",
            "       -77.48227837, -77.4866544 ]), array([-77.8922664 , -77.8908001 , -77.88640124, ..., -77.87907   ,\n",
            "       -77.88640124, -77.8908001 ]), array([-78.2959214 , -78.29444749, -78.29002584, ..., -78.2826566 ,\n",
            "       -78.29002584, -78.29444749]), array([-78.69907869, -78.6975972 , -78.69315278, ..., -78.6857456 ,\n",
            "       -78.69315278, -78.6975972 ]), array([-79.10173891, -79.10024984, -79.09578267, ..., -79.08833759,\n",
            "       -79.09578267, -79.10024984]), array([-79.50390265, -79.50240601, -79.49791614, ..., -79.4904332 ,\n",
            "       -79.49791614, -79.50240601]), array([-79.90557054, -79.90406633, -79.89955378, ..., -79.89203303,\n",
            "       -79.89955378, -79.90406633]), array([-80.30674318, -80.30523142, -80.3006962 , ..., -80.2931377 ,\n",
            "       -80.3006962 , -80.30523142]), array([-80.70742117, -80.70590187, -80.70134403, ..., -80.69374782,\n",
            "       -80.70134403, -80.70590187]), array([-81.10760514, -81.10607831, -81.10149787, ..., -81.09386398,\n",
            "       -81.10149787, -81.10607831]), array([-81.50729569, -81.50576134, -81.50115832, ..., -81.49348682,\n",
            "       -81.50115832, -81.50576134]), array([-81.90649343, -81.90495156, -81.900326  , ..., -81.89261692,\n",
            "       -81.900326  , -81.90495156]), array([-82.30519896, -82.30364958, -82.2990015 , ..., -82.2912549 ,\n",
            "       -82.2990015 , -82.30364958]), array([-82.70341289, -82.70185602, -82.69718545, ..., -82.68940137,\n",
            "       -82.69718545, -82.70185602]), array([-83.10113583, -83.09957147, -83.09487844, ..., -83.08705692,\n",
            "       -83.09487844, -83.09957147]), array([-83.49836838, -83.49679654, -83.49208108, ..., -83.48422217,\n",
            "       -83.49208108, -83.49679654]), array([-83.89511115, -83.89353184, -83.88879397, ..., -83.88089771,\n",
            "       -83.88879397, -83.89353184]), array([-84.29136473, -84.28977796, -84.28501771, ..., -84.27708416,\n",
            "       -84.28501771, -84.28977796]), array([-84.68712973, -84.68553551, -84.68075291, ..., -84.67278211,\n",
            "       -84.68075291, -84.68553551]), array([-85.08240676, -85.0808051 , -85.07600017, ..., -85.06799217,\n",
            "       -85.07600017, -85.0808051 ]), array([-85.47719641, -85.47558731, -85.47076009, ..., -85.46271493,\n",
            "       -85.47076009, -85.47558731]), array([-85.87149928, -85.86988277, -85.86503328, ..., -85.856951  ,\n",
            "       -85.86503328, -85.86988277]), array([-86.26531598, -86.26369205, -86.25882032, ..., -86.25070097,\n",
            "       -86.25882032, -86.26369205]), array([-86.6586471 , -86.65701576, -86.65212182, ..., -86.64396545,\n",
            "       -86.65212182, -86.65701576]), array([-87.05149324, -87.04985451, -87.04493837, ..., -87.03674503,\n",
            "       -87.04493837, -87.04985451]), array([-87.44385499, -87.44220888, -87.43727059, ..., -87.42904031,\n",
            "       -87.43727059, -87.44220888]), array([-87.83573296, -87.83407947, -87.82911905, ..., -87.82085188,\n",
            "       -87.82911905, -87.83407947]), array([-88.22712774, -88.22546688, -88.22048435, ..., -88.21218035,\n",
            "       -88.22048435, -88.22546688]), array([-88.61803993, -88.61637171, -88.6113671 , ..., -88.6030263 ,\n",
            "       -88.6113671 , -88.61637171]), array([-89.00847011, -89.00679454, -89.00176788, ..., -88.99339034,\n",
            "       -89.00176788, -89.00679454]), array([-89.39841889, -89.39673597, -89.3916873 , ..., -89.38327305,\n",
            "       -89.3916873 , -89.39673597]), array([-89.78788685, -89.7861966 , -89.78112593, ..., -89.77267502,\n",
            "       -89.78112593, -89.7861966 ]), array([-90.17687459, -90.17517702, -90.17008438, ..., -90.16159685,\n",
            "       -90.17008438, -90.17517702]), array([-90.5653827 , -90.56367781, -90.55856323, ..., -90.55003914,\n",
            "       -90.55856323, -90.56367781]), array([-90.95341177, -90.95169958, -90.94656308, ..., -90.93800246,\n",
            "       -90.94656308, -90.95169958]), array([-91.34096238, -91.3392429 , -91.33408451, ..., -91.32548741,\n",
            "       -91.33408451, -91.3392429 ]), array([-91.72803514, -91.72630837, -91.72112812, ..., -91.71249459,\n",
            "       -91.72112812, -91.72630837]), array([-92.11463062, -92.11289657, -92.10769449, ..., -92.09902457,\n",
            "       -92.10769449, -92.11289657]), array([-92.50074942, -92.4990081 , -92.49378421, ..., -92.48507795,\n",
            "       -92.49378421, -92.4990081 ]), array([-92.88639212, -92.88464354, -92.87939787, ..., -92.8706553 ,\n",
            "       -92.87939787, -92.88464354]), array([-93.2715593 , -93.26980347, -93.26453605, ..., -93.25575723,\n",
            "       -93.26453605, -93.26980347]), array([-93.65625156, -93.65448849, -93.64919934, ..., -93.64038431,\n",
            "       -93.64919934, -93.65448849]), array([-94.04046948, -94.03869917, -94.03338832, ..., -94.02453713,\n",
            "       -94.03338832, -94.03869917]), array([-94.42421364, -94.42243611, -94.41710359, ..., -94.40821627,\n",
            "       -94.41710359, -94.42243611]), array([-94.80748463, -94.80569988, -94.80034571, ..., -94.79142232,\n",
            "       -94.80034571, -94.80569988]), array([-95.19028302, -95.18849107, -95.18311528, ..., -95.17415585,\n",
            "       -95.18311528, -95.18849107]), array([-95.5726094 , -95.57081025, -95.56541287, ..., -95.55641746,\n",
            "       -95.56541287, -95.57081025]), array([-95.95446436, -95.95265802, -95.94723907, ..., -95.93820771,\n",
            "       -95.94723907, -95.95265802]), array([-96.33584846, -96.33403494, -96.32859445, ..., -96.3195272 ,\n",
            "       -96.32859445, -96.33403494]), array([-96.7167623 , -96.71494161, -96.70947961, ..., -96.7003765 ,\n",
            "       -96.70947961, -96.71494161]), array([-97.09720645, -97.0953786 , -97.08989511, ..., -97.08075618,\n",
            "       -97.08989511, -97.0953786 ]), array([-97.47718148, -97.47534648, -97.46984153, ..., -97.46066684,\n",
            "       -97.46984153, -97.47534648]), array([-97.85668799, -97.85484584, -97.84931945, ..., -97.84010904,\n",
            "       -97.84931945, -97.85484584]), array([-98.23572653, -98.23387725, -98.22832945, ..., -98.21908336,\n",
            "       -98.22832945, -98.23387725]), array([-98.6142977 , -98.61244128, -98.60687211, ..., -98.59759038,\n",
            "       -98.60687211, -98.61244128]), array([-98.99240206, -98.99053852, -98.98494799, ..., -98.97563068,\n",
            "       -98.98494799, -98.99053852]), array([-99.37004019, -99.36816954, -99.36255768, ..., -99.35320482,\n",
            "       -99.36255768, -99.36816954]), array([-99.74721266, -99.74533491, -99.73970175, ..., -99.73031339,\n",
            "       -99.73970175, -99.74533491]), array([-100.12392005, -100.12203521, -100.11638077, ..., -100.10695695,\n",
            "       -100.11638077, -100.12203521]), array([-100.50016292, -100.498271  , -100.49259532, ..., -100.48313608,\n",
            "       -100.49259532, -100.498271  ]), array([-100.87594186, -100.87404287, -100.86834596, ..., -100.85885134,\n",
            "       -100.86834596, -100.87404287]), array([-101.25125744, -101.24935137, -101.24363327, ..., -101.23410332,\n",
            "       -101.24363327, -101.24935137]), array([-101.62611021, -101.62419709, -101.61845781, ..., -101.60889258,\n",
            "       -101.61845781, -101.62419709]), array([-102.00050076, -101.99858059, -101.99282016, ..., -101.98321969,\n",
            "       -101.99282016, -101.99858059]), array([-102.37442965, -102.37250244, -102.36672089, ..., -102.35708522,\n",
            "       -102.36672089, -102.37250244]), array([-102.74789744, -102.74596321, -102.74016057, ..., -102.73048974,\n",
            "       -102.74016057, -102.74596321]), array([-103.12090472, -103.11896346, -103.11313975, ..., -103.10343382,\n",
            "       -103.11313975, -103.11896346]), array([-103.49345204, -103.49150377, -103.48565902, ..., -103.47591801,\n",
            "       -103.48565902, -103.49150377]), array([-103.86553997, -103.8635847 , -103.85771893, ..., -103.8479429 ,\n",
            "       -103.85771893, -103.8635847 ]), array([-104.23716908, -104.23520681, -104.22932005, ..., -104.21950904,\n",
            "       -104.22932005, -104.23520681]), array([-104.60833993, -104.60637067, -104.60046295, ..., -104.590617  ,\n",
            "       -104.60046295, -104.60637067]), array([-104.97905309, -104.97707685, -104.97114819, ..., -104.96126734,\n",
            "       -104.97114819, -104.97707685]), array([-105.34930912, -105.3473259 , -105.34137633, ..., -105.33146063,\n",
            "       -105.34137633, -105.3473259 ]), array([-105.71910857, -105.7171184 , -105.71114794, ..., -105.70119743,\n",
            "       -105.71114794, -105.7171184 ]), array([-106.08845203, -106.08645489, -106.08046358, ..., -106.07047829,\n",
            "       -106.08046358, -106.08645489]), array([-106.45734003, -106.45533596, -106.4493238 , ..., -106.4393038 ,\n",
            "       -106.4493238 , -106.45533596]), array([-106.82577316, -106.82376214, -106.81772918, ..., -106.80767449,\n",
            "       -106.81772918, -106.82376214]), array([-107.19375196, -107.19173401, -107.18568027, ..., -107.17559094,\n",
            "       -107.18568027, -107.19173401]), array([-107.56127699, -107.55925213, -107.55317762, ..., -107.5430537 ,\n",
            "       -107.55317762, -107.55925213]), array([-107.92834882, -107.92631705, -107.92022181, ..., -107.91006333,\n",
            "       -107.92022181, -107.92631705]), array([-108.294968  , -108.29292933, -108.28681338, ..., -108.27662039,\n",
            "       -108.28681338, -108.29292933]), array([-108.66113509, -108.65908953, -108.6529529 , ..., -108.64272544,\n",
            "       -108.6529529 , -108.65908953]), array([-109.02685065, -109.0247982 , -109.01864091, ..., -109.00837903,\n",
            "       -109.01864091, -109.0247982 ]), array([-109.39211523, -109.3900559 , -109.38387798, ..., -109.37358171,\n",
            "       -109.38387798, -109.3900559 ]), array([-109.75692939, -109.75486319, -109.74866467, ..., -109.73833406,\n",
            "       -109.74866467, -109.75486319]), array([-110.12129368, -110.11922062, -110.11300152, ..., -110.10263661,\n",
            "       -110.11300152, -110.11922062]), array([-110.48520866, -110.48312874, -110.47688909, ..., -110.46648992,\n",
            "       -110.47688909, -110.48312874]), array([-110.84867487, -110.84658811, -110.84032793, ..., -110.82989454,\n",
            "       -110.84032793, -110.84658811]), array([-111.21169288, -111.20959929, -111.20331859, ..., -111.19285104,\n",
            "       -111.20331859, -111.20959929]), array([-111.57426323, -111.57216281, -111.56586164, ..., -111.55535995,\n",
            "       -111.56586164, -111.57216281]), array([-111.93638647, -111.93427924, -111.92795761, ..., -111.91742183,\n",
            "       -111.92795761, -111.93427924]), array([-112.29806316, -112.29594912, -112.28960706, ..., -112.27903724,\n",
            "       -112.28960706, -112.29594912]), array([-112.65929384, -112.657173  , -112.65081054, ..., -112.64020671,\n",
            "       -112.65081054, -112.657173  ]), array([-113.02007907, -113.01795143, -113.0115686 , ..., -113.00093081,\n",
            "       -113.0115686 , -113.01795143]), array([-113.38041939, -113.37828497, -113.37188178, ..., -113.36121007,\n",
            "       -113.37188178, -113.37828497]), array([-113.74031536, -113.73817416, -113.73175064, ..., -113.72104505,\n",
            "       -113.73175064, -113.73817416]), array([-114.09976751, -114.09761954, -114.09117572, ..., -114.08043629,\n",
            "       -114.09117572, -114.09761954]), array([-114.45877639, -114.45662166, -114.45015756, ..., -114.43938434,\n",
            "       -114.45015756, -114.45662166]), array([-114.81734255, -114.81518108, -114.80869672, ..., -114.79788974,\n",
            "       -114.80869672, -114.81518108]), array([-115.17546654, -115.17329832, -115.16679374, ..., -115.15595304,\n",
            "       -115.16679374, -115.17329832]), array([-115.5331489 , -115.53097394, -115.52444916, ..., -115.51357479,\n",
            "       -115.52444916, -115.53097394]), array([-115.89039017, -115.88820849, -115.88166353, ..., -115.87075553,\n",
            "       -115.88166353, -115.88820849]), array([-116.2471909 , -116.2450025 , -116.23843738, ..., -116.2274958 ,\n",
            "       -116.23843738, -116.2450025 ]), array([-116.60355162, -116.60135652, -116.59477127, ..., -116.58379614,\n",
            "       -116.59477127, -116.60135652]), array([-116.95947289, -116.95727108, -116.95066573, ..., -116.93965709,\n",
            "       -116.95066573, -116.95727108]), array([-117.31495524, -117.31274674, -117.30612131, ..., -117.2950792 ,\n",
            "       -117.30612131, -117.31274674]), array([-117.66999921, -117.66778402, -117.66113854, ..., -117.65006301,\n",
            "       -117.66113854, -117.66778402]), array([-118.02460535, -118.02238348, -118.01571797, ..., -118.00460906,\n",
            "       -118.01571797, -118.02238348]), array([-118.37877418, -118.37654565, -118.36986013, ..., -118.35871788,\n",
            "       -118.36986013, -118.37654565]), array([-118.73250626, -118.73027106, -118.72356556, ..., -118.71239001,\n",
            "       -118.72356556, -118.73027106]), array([-119.08580211, -119.08356026, -119.07683481, ..., -119.06562599,\n",
            "       -119.07683481, -119.08356026]), array([-119.43866228, -119.43641378, -119.4296684 , ..., -119.41842637,\n",
            "       -119.4296684 , -119.43641378]), array([-119.79108729, -119.78883217, -119.78206687, ..., -119.77079167,\n",
            "       -119.78206687, -119.78883217]), array([-120.1430777 , -120.14081595, -120.13403077, ..., -120.12272243,\n",
            "       -120.13403077, -120.14081595]), array([-120.49463403, -120.49236566, -120.48556062, ..., -120.47421918,\n",
            "       -120.48556062, -120.49236566]), array([-120.84575682, -120.84348183, -120.83665696, ..., -120.82528247,\n",
            "       -120.83665696, -120.84348183]), array([-121.19644659, -121.194165  , -121.18732033, ..., -121.17591282,\n",
            "       -121.18732033, -121.194165  ]), array([-121.54670389, -121.54441571, -121.53755125, ..., -121.52611077,\n",
            "       -121.53755125, -121.54441571]), array([-121.89652925, -121.89423448, -121.88735026, ..., -121.87587684,\n",
            "       -121.88735026, -121.89423448]), array([-122.2459232 , -122.24362185, -122.23671789, ..., -122.22521158,\n",
            "       -122.23671789, -122.24362185]), array([-122.59488627, -122.59257835, -122.58565468, ..., -122.57411552,\n",
            "       -122.58565468, -122.59257835]), array([-122.94341898, -122.9411045 , -122.93416115, ..., -122.92258917,\n",
            "       -122.93416115, -122.9411045 ]), array([-123.29152188, -123.28920085, -123.28223783, ..., -123.27063309,\n",
            "       -123.28223783, -123.28920085]), array([-123.63919549, -123.63686791, -123.62988525, ..., -123.61824778,\n",
            "       -123.62988525, -123.63686791]), array([-123.98644034, -123.98410622, -123.97710395, ..., -123.96543378,\n",
            "       -123.97710395, -123.98410622]), array([-124.33325696, -124.33091631, -124.32389444, ..., -124.31219163,\n",
            "       -124.32389444, -124.33091631]), array([-124.67964587, -124.67729869, -124.67025726, ..., -124.65852184,\n",
            "       -124.67025726, -124.67729869]), array([-125.0256076 , -125.02325391, -125.01619294, ..., -125.00442495,\n",
            "       -125.01619294, -125.02325391]), array([-125.37114268, -125.36878248, -125.36170199, ..., -125.34990147,\n",
            "       -125.36170199, -125.36878248]), array([-125.71625163, -125.71388494, -125.70678495, ..., -125.69495194,\n",
            "       -125.70678495, -125.71388494]), array([-126.06093498, -126.0585618 , -126.05144234, ..., -126.03957688,\n",
            "       -126.05144234, -126.0585618 ]), array([-126.40519325, -126.40281359, -126.39567469, ..., -126.38377682,\n",
            "       -126.39567469, -126.40281359]), array([-126.74902697, -126.74664083, -126.73948251, ..., -126.72755227,\n",
            "       -126.73948251, -126.74664083]), array([-127.09243666, -127.09004405, -127.08286633, ..., -127.07090376,\n",
            "       -127.08286633, -127.09004405]), array([-127.43542283, -127.43302377, -127.42582668, ..., -127.41383181,\n",
            "       -127.42582668, -127.43302377]), array([-127.77798603, -127.77558051, -127.76836406, ..., -127.75633695,\n",
            "       -127.76836406, -127.77558051]), array([-128.12012675, -128.11771479, -128.11047902, ..., -128.0984197 ,\n",
            "       -128.11047902, -128.11771479]), array([-128.46184553, -128.45942714, -128.45217206, ..., -128.44008057,\n",
            "       -128.45217206, -128.45942714]), array([-128.80314288, -128.80071806, -128.79344371, ..., -128.78132008,\n",
            "       -128.79344371, -128.80071806]), array([-129.14401933, -129.14158809, -129.13429448, ..., -129.12213876,\n",
            "       -129.13429448, -129.14158809]), array([-129.48447538, -129.48203774, -129.47472489, ..., -129.46253713,\n",
            "       -129.47472489, -129.48203774]), array([-129.82451157, -129.82206752, -129.81473547, ..., -129.80251569,\n",
            "       -129.81473547, -129.82206752]), array([-130.1641284 , -130.16167796, -130.15432672, ..., -130.14207497,\n",
            "       -130.15432672, -130.16167796]), array([-130.5033264 , -130.50086957, -130.49349917, ..., -130.48121549,\n",
            "       -130.49349917, -130.50086957]), array([-130.84210607, -130.83964287, -130.83225333, ..., -130.81993775,\n",
            "       -130.83225333, -130.83964287]), array([-131.18046794, -131.17799836, -131.17058972, ..., -131.15824228,\n",
            "       -131.17058972, -131.17799836]), array([-131.51841252, -131.51593658, -131.50850884, ..., -131.49612959,\n",
            "       -131.50850884, -131.51593658]), array([-131.85594033, -131.85345803, -131.84601123, ..., -131.8336002 ,\n",
            "       -131.84601123, -131.85345803]), array([-132.19305187, -132.19056322, -132.18309738, ..., -132.17065461,\n",
            "       -132.18309738, -132.19056322]), array([-132.52974766, -132.52725267, -132.51976781, ..., -132.50729334,\n",
            "       -132.51976781, -132.52725267]), array([-132.86602821, -132.86352689, -132.85602303, ..., -132.84351691,\n",
            "       -132.85602303, -132.86352689]), array([-133.20189404, -133.19938639, -133.19186356, ..., -133.17932582,\n",
            "       -133.19186356, -133.19938639]), array([-133.53734565, -133.53483169, -133.5272899 , ..., -133.51472058,\n",
            "       -133.5272899 , -133.53483169]), array([-133.87238355, -133.86986328, -133.86230257, ..., -133.84970171,\n",
            "       -133.86230257, -133.86986328]), array([-134.20700826, -134.20448169, -134.19690208, ..., -134.18426971,\n",
            "       -134.19690208, -134.20448169]), array([-134.54122029, -134.53868743, -134.53108893, ..., -134.5184251 ,\n",
            "       -134.53108893, -134.53868743]), array([-134.87502013, -134.87248099, -134.86486364, ..., -134.85216838,\n",
            "       -134.86486364, -134.87248099]), array([-135.20840831, -135.20586288, -135.1982267 , ..., -135.18550006,\n",
            "       -135.1982267 , -135.20586288]), array([-135.54138532, -135.53883363, -135.53117864, ..., -135.51842064,\n",
            "       -135.53117864, -135.53883363]), array([-135.87395168, -135.87139372, -135.86371995, ..., -135.85093064,\n",
            "       -135.86371995, -135.87139372]), array([-136.20610789, -136.20354368, -136.19585114, ..., -136.18303056,\n",
            "       -136.19585114, -136.20354368]), array([-136.53785445, -136.53528399, -136.52757271, ..., -136.5147209 ,\n",
            "       -136.52757271, -136.53528399]), array([-136.86919188, -136.86661518, -136.85888518, ..., -136.84600218,\n",
            "       -136.85888518, -136.86661518]), array([-137.20012067, -137.19753774, -137.18978904, ..., -137.17687488,\n",
            "       -137.18978904, -137.19753774]), array([-137.53064132, -137.52805217, -137.52028481, ..., -137.50733953,\n",
            "       -137.52028481, -137.52805217]), array([-137.86075435, -137.85815898, -137.85037297, ..., -137.83739661,\n",
            "       -137.85037297, -137.85815898]), array([-138.19046025, -138.18785867, -138.18005404, ..., -138.16704664,\n",
            "       -138.18005404, -138.18785867]), array([-138.51975952, -138.51715175, -138.50932851, ..., -138.49629011,\n",
            "       -138.50932851, -138.51715175]), array([-138.84865268, -138.8460387 , -138.83819689, ..., -138.82512752,\n",
            "       -138.83819689, -138.8460387 ]), array([-139.1771402 , -139.17452005, -139.16665967, ..., -139.15355938,\n",
            "       -139.16665967, -139.17452005]), array([-139.50522261, -139.50259627, -139.49471737, ..., -139.48158618,\n",
            "       -139.49471737, -139.50259627]), array([-139.83290039, -139.83026788, -139.82237046, ..., -139.80920843,\n",
            "       -139.82237046, -139.83026788]), array([-140.16017404, -140.15753537, -140.14961947, ..., -140.13642663,\n",
            "       -140.14961947, -140.15753537]), array([-140.48704407, -140.48439924, -140.47646487, ..., -140.46324126,\n",
            "       -140.47646487, -140.48439924]), array([-140.81351096, -140.81085999, -140.80290718, ..., -140.78965283,\n",
            "       -140.80290718, -140.81085999]), array([-141.13957523, -141.13691812, -141.12894688, ..., -141.11566183,\n",
            "       -141.12894688, -141.13691812]), array([-141.46523735, -141.46257411, -141.45458448, ..., -141.44126877,\n",
            "       -141.45458448, -141.46257411]), array([-141.79049784, -141.78782847, -141.77982047, ..., -141.76647413,\n",
            "       -141.77982047, -141.78782847]), array([-142.11535717, -142.11268169, -142.10465534, ..., -142.09127842,\n",
            "       -142.10465534, -142.11268169]), array([-142.43981586, -142.43713426, -142.42908958, ..., -142.41568212,\n",
            "       -142.42908958, -142.43713426]), array([-142.76387439, -142.76118669, -142.7531237 , ..., -142.73968572,\n",
            "       -142.7531237 , -142.76118669]), array([-143.08753325, -143.08483946, -143.07675818, ..., -143.06328974,\n",
            "       -143.07675818, -143.08483946]), array([-143.41079294, -143.40809306, -143.39999353, ..., -143.38649464,\n",
            "       -143.39999353, -143.40809306]), array([-143.73365395, -143.73094799, -143.72283022, ..., -143.70930094,\n",
            "       -143.72283022, -143.73094799]), array([-144.05611677, -144.05340474, -144.04526875, ..., -144.03170911,\n",
            "       -144.04526875, -144.05340474]), array([-144.37818189, -144.37546379, -144.36730961, ..., -144.35371965,\n",
            "       -144.36730961, -144.37546379]), array([-144.6998498 , -144.69712565, -144.6889533 , ..., -144.67533305,\n",
            "       -144.6889533 , -144.69712565]), array([-145.021121  , -145.0183908 , -145.01020029, ..., -144.9965498 ,\n",
            "       -145.01020029, -145.0183908 ]), array([-145.34199596, -145.33925972, -145.33105109, ..., -145.31737039,\n",
            "       -145.33105109, -145.33925972]), array([-145.66247519, -145.65973291, -145.65150618, ..., -145.6377953 ,\n",
            "       -145.65150618, -145.65973291]), array([-145.98255916, -145.97981085, -145.97156604, ..., -145.95782503,\n",
            "       -145.97156604, -145.97981085]), array([-146.30224837, -146.29949404, -146.29123117, ..., -146.27746006,\n",
            "       -146.29123117, -146.29949404]), array([-146.62154329, -146.61878295, -146.61050204, ..., -146.59670087,\n",
            "       -146.61050204, -146.61878295]), array([-146.94044442, -146.93767808, -146.92937916, ..., -146.91554796,\n",
            "       -146.92937916, -146.93767808]), array([-147.25895225, -147.25617991, -147.24786299, ..., -147.23400181,\n",
            "       -147.24786299, -147.25617991]), array([-147.57706725, -147.57428892, -147.56595403, ..., -147.5520629 ,\n",
            "       -147.56595403, -147.57428892]), array([-147.89478992, -147.8920056 , -147.88365276, ..., -147.86973172,\n",
            "       -147.88365276, -147.8920056 ]), array([-148.21212072, -148.20933043, -148.20095967, ..., -148.18700875,\n",
            "       -148.20095967, -148.20933043]), array([-148.52906016, -148.5262639 , -148.51787523, ..., -148.50389447,\n",
            "       -148.51787523, -148.5262639 ]), array([-148.84560871, -148.84280649, -148.83439994, ..., -148.82038937,\n",
            "       -148.83439994, -148.84280649]), array([-149.16176684, -149.15895867, -149.15053426, ..., -149.13649393,\n",
            "       -149.15053426, -149.15895867]), array([-149.47753506, -149.47472094, -149.46627869, ..., -149.45220863,\n",
            "       -149.46627869, -149.47472094]), array([-149.79291382, -149.79009377, -149.7816337 , ..., -149.76753395,\n",
            "       -149.7816337 , -149.79009377]), array([-150.10790362, -150.10507764, -150.09659978, ..., -150.08247037,\n",
            "       -150.09659978, -150.10507764]), array([-150.42250494, -150.41967303, -150.4111774 , ..., -150.39701837,\n",
            "       -150.4111774 , -150.41967303]), array([-150.73671825, -150.73388042, -150.72536704, ..., -150.71117842,\n",
            "       -150.72536704, -150.73388042]), array([-151.05054403, -151.04770029, -151.03916918, ..., -151.02495102,\n",
            "       -151.03916918, -151.04770029]), array([-151.36398276, -151.36113311, -151.3525843 , ..., -151.33833663,\n",
            "       -151.3525843 , -151.36113311]), array([-151.67703491, -151.67417937, -151.66561287, ..., -151.65133573,\n",
            "       -151.66561287, -151.67417937]), array([-151.98970097, -151.98683954, -151.97825538, ..., -151.9639488 ,\n",
            "       -151.97825538, -151.98683954]), array([-152.30198141, -152.2991141 , -152.2905123 , ..., -152.27617631,\n",
            "       -152.2905123 , -152.2991141 ]), array([-152.6138767 , -152.61100352, -152.60238409, ..., -152.58801875,\n",
            "       -152.60238409, -152.61100352]), array([-152.92538732, -152.92250827, -152.91387125, ..., -152.89947657,\n",
            "       -152.91387125, -152.92250827]), array([-153.23651374, -153.23362884, -153.22497424, ..., -153.21055027,\n",
            "       -153.22497424, -153.23362884]), array([-153.54725644, -153.54436569, -153.53569354, ..., -153.52124031,\n",
            "       -153.53569354, -153.54436569]), array([-153.85761589, -153.8547193 , -153.84602961, ..., -153.83154716,\n",
            "       -153.84602961, -153.8547193 ]), array([-154.16759257, -154.16469013, -154.15598294, ..., -154.14147131,\n",
            "       -154.15598294, -154.16469013]), array([-154.47718694, -154.47427867, -154.46555399, ..., -154.45101321,\n",
            "       -154.46555399, -154.47427867]), array([-154.78639947, -154.78348539, -154.77474323, ..., -154.76017334,\n",
            "       -154.77474323, -154.78348539]), array([-155.09523065, -155.09231074, -155.08355114, ..., -155.06895218,\n",
            "       -155.08355114, -155.09231074]), array([-155.40368093, -155.40075522, -155.39197819, ..., -155.37735018,\n",
            "       -155.39197819, -155.40075522]), array([-155.71175078, -155.70881927, -155.70002484, ..., -155.68536783,\n",
            "       -155.70002484, -155.70881927]), array([-156.01944069, -156.01650338, -156.00769157, ..., -155.99300559,\n",
            "       -156.00769157, -156.01650338]), array([-156.32675111, -156.32380801, -156.31497884, ..., -156.30026393,\n",
            "       -156.31497884, -156.32380801]), array([-156.63368251, -156.63073363, -156.62188712, ..., -156.60714331,\n",
            "       -156.62188712, -156.63073363]), array([-156.94023536, -156.93728071, -156.92841688, ..., -156.91364421,\n",
            "       -156.92841688, -156.93728071]), array([-157.24641013, -157.24344971, -157.23456859, ..., -157.21976709,\n",
            "       -157.23456859, -157.24344971]), array([-157.55220728, -157.54924111, -157.54034271, ..., -157.52551242,\n",
            "       -157.54034271, -157.54924111]), array([-157.85762728, -157.85465536, -157.8457397 , ..., -157.83088065,\n",
            "       -157.8457397 , -157.85465536]), array([-158.16267059, -158.15969292, -158.15076004, ..., -158.13587227,\n",
            "       -158.15076004, -158.15969292]), array([-158.46733768, -158.46435428, -158.45540418, ..., -158.44048773,\n",
            "       -158.45540418, -158.46435428]), array([-158.77162902, -158.76863988, -158.7596726 , ..., -158.74472749,\n",
            "       -158.7596726 , -158.76863988]), array([-159.07554505, -159.0725502 , -159.06356574, ..., -159.04859203,\n",
            "       -159.06356574, -159.0725502 ]), array([-159.37908626, -159.37608569, -159.36708409, ..., -159.35208179,\n",
            "       -159.36708409, -159.37608569]), array([-159.6822531 , -159.67924682, -159.67022809, ..., -159.65519725,\n",
            "       -159.67022809, -159.67924682]), array([-159.98504603, -159.98203405, -159.97299822, ..., -159.95793887,\n",
            "       -159.97299822, -159.98203405]), array([-160.28746552, -160.28444784, -160.27539492, ..., -160.2603071 ,\n",
            "       -160.27539492, -160.28444784]), array([-160.58951202, -160.58648865, -160.57741867, ..., -160.56230241,\n",
            "       -160.57741867, -160.58648865]), array([-160.89118599, -160.88815694, -160.87906992, ..., -160.86392526,\n",
            "       -160.87906992, -160.88815694]), array([-161.19248789, -161.18945317, -161.18034913, ..., -161.1651761 ,\n",
            "       -161.18034913, -161.18945317]), array([-161.49341819, -161.49037781, -161.48125676, ..., -161.4660554 ,\n",
            "       -161.48125676, -161.49037781]), array([-161.79397734, -161.7909313 , -161.78179327, ..., -161.76656361,\n",
            "       -161.78179327, -161.7909313 ]), array([-162.0941658 , -162.0911141 , -162.08195912, ..., -162.0667012 ,\n",
            "       -162.08195912, -162.0911141 ]), array([-162.39398402, -162.39092668, -162.38175476, ..., -162.36646861,\n",
            "       -162.38175476, -162.39092668]), array([-162.69343247, -162.69036948, -162.68118065, ..., -162.66586631,\n",
            "       -162.68118065, -162.69036948]), array([-162.99251159, -162.98944297, -162.98023724, ..., -162.96489474,\n",
            "       -162.98023724, -162.98944297]), array([-163.29122185, -163.28814761, -163.278925  , ..., -163.26355438,\n",
            "       -163.278925  , -163.28814761]), array([-163.58956369, -163.58648383, -163.57724437, ..., -163.56184566,\n",
            "       -163.57724437, -163.58648383]), array([-163.88753758, -163.88445211, -163.87519582, ..., -163.85976905,\n",
            "       -163.87519582, -163.88445211]), array([-164.18514397, -164.18205289, -164.17277979, ..., -164.157325  ,\n",
            "       -164.17277979, -164.18205289]), array([-164.4823833 , -164.47928663, -164.46999674, ..., -164.45451396,\n",
            "       -164.46999674, -164.47928663]), array([-164.77925604, -164.77615378, -164.76684711, ..., -164.75133639,\n",
            "       -164.76684711, -164.77615378]), array([-165.07576264, -165.07265479, -165.06333137, ..., -165.04779273,\n",
            "       -165.06333137, -165.07265479]), array([-165.37190354, -165.36879012, -165.35944997, ..., -165.34388345,\n",
            "       -165.35944997, -165.36879012]), array([-165.66767919, -165.6645602 , -165.65520335, ..., -165.63960898,\n",
            "       -165.65520335, -165.6645602 ]), array([-165.96309006, -165.95996551, -165.95059196, ..., -165.93496978,\n",
            "       -165.95059196, -165.95996551]), array([-166.25813659, -166.25500648, -166.24561626, ..., -166.2299663 ,\n",
            "       -166.24561626, -166.25500648]), array([-166.55281922, -166.54968356, -166.5402767 , ..., -166.52459899,\n",
            "       -166.5402767 , -166.54968356]), array([-166.8471384 , -166.8439972 , -166.83457372, ..., -166.8188683 ,\n",
            "       -166.83457372, -166.8439972 ]), array([-167.1410946 , -167.13794786, -167.12850777, ..., -167.11277468,\n",
            "       -167.12850777, -167.13794786]), array([-167.43468824, -167.43153598, -167.4220793 , ..., -167.40631857,\n",
            "       -167.4220793 , -167.43153598]), array([-167.72791979, -167.724762  , -167.71528876, ..., -167.69950042,\n",
            "       -167.71528876, -167.724762  ]), array([-168.02078968, -168.01762638, -168.00813659, ..., -167.99232067,\n",
            "       -168.00813659, -168.01762638]), array([-168.31329836, -168.31012955, -168.30062324, ..., -168.28477978,\n",
            "       -168.30062324, -168.31012955]), array([-168.60544628, -168.60227197, -168.59274916, ..., -168.57687819,\n",
            "       -168.59274916, -168.60227197]), array([-168.89723389, -168.89405408, -168.88451478, ..., -168.86861635,\n",
            "       -168.88451478, -168.89405408]), array([-169.18866162, -169.18547632, -169.17592056, ..., -169.15999469,\n",
            "       -169.17592056, -169.18547632]), array([-169.47972992, -169.47653915, -169.46696694, ..., -169.45101366,\n",
            "       -169.46696694, -169.47653915]), array([-169.77043924, -169.76724299, -169.75765436, ..., -169.74167371,\n",
            "       -169.75765436, -169.76724299]), array([-170.06079001, -170.0575883 , -170.04798326, ..., -170.03197528,\n",
            "       -170.04798326, -170.0575883 ]), array([-170.35078269, -170.34757551, -170.3379541 , ..., -170.32191881,\n",
            "       -170.3379541 , -170.34757551]), array([-170.6404177 , -170.63720507, -170.6275673 , ..., -170.61150474,\n",
            "       -170.6275673 , -170.63720507]), array([-170.9296955 , -170.92647742, -170.9168233 , ..., -170.90073351,\n",
            "       -170.9168233 , -170.92647742]), array([-171.21861652, -171.215393  , -171.20572256, ..., -171.18960557,\n",
            "       -171.20572256, -171.215393  ]), array([-171.50718121, -171.50395225, -171.49426551, ..., -171.47812135,\n",
            "       -171.49426551, -171.50395225]), array([-171.79538999, -171.79215561, -171.78245259, ..., -171.7662813 ,\n",
            "       -171.78245259, -171.79215561]), array([-172.08324332, -172.08000352, -172.07028424, ..., -172.05408584,\n",
            "       -172.07028424, -172.08000352]), array([-172.37074163, -172.36749642, -172.35776089, ..., -172.34153543,\n",
            "       -172.35776089, -172.36749642]), array([-172.65788536, -172.65463474, -172.64488299, ..., -172.62863049,\n",
            "       -172.64488299, -172.65463474]), array([-172.94467495, -172.94141892, -172.93165098, ..., -172.91537148,\n",
            "       -172.93165098, -172.94141892]), array([-173.23111082, -173.22784941, -173.21806528, ..., -173.20175881,\n",
            "       -173.21806528, -173.22784941]), array([-173.51719343, -173.51392662, -173.50412634, ..., -173.48779293,\n",
            "       -173.50412634, -173.51392662]), array([-173.8029232 , -173.79965102, -173.78983459, ..., -173.77347428,\n",
            "       -173.78983459, -173.79965102]), array([-174.08830057, -174.08502301, -174.07519046, ..., -174.05880329,\n",
            "       -174.07519046, -174.08502301]), array([-174.37332598, -174.37004305, -174.3601944 , ..., -174.34378039,\n",
            "       -174.3601944 , -174.37004305]), array([-174.65799985, -174.65471156, -174.64484683, ..., -174.62840602,\n",
            "       -174.64484683, -174.65471156]), array([-174.94232263, -174.93902899, -174.92914819, ..., -174.91268061,\n",
            "       -174.92914819, -174.93902899]), array([-175.22629474, -175.22299575, -175.21309892, ..., -175.1966046 ,\n",
            "       -175.21309892, -175.22299575]), array([-175.50991662, -175.50661229, -175.49669943, ..., -175.48017841,\n",
            "       -175.49669943, -175.50661229]), array([-175.7931887 , -175.78987904, -175.77995018, ..., -175.76340249,\n",
            "       -175.77995018, -175.78987904]), array([-176.07611142, -176.07279643, -176.06285158, ..., -176.04627726,\n",
            "       -176.06285158, -176.07279643]), array([-176.35868519, -176.35536488, -176.34540408, ..., -176.32880314,\n",
            "       -176.34540408, -176.35536488]), array([-176.64091046, -176.63758484, -176.62760809, ..., -176.61098059,\n",
            "       -176.62760809, -176.63758484]), array([-176.92278766, -176.91945672, -176.90946405, ..., -176.89281001,\n",
            "       -176.90946405, -176.91945672]), array([-177.2043172 , -177.20098097, -177.19097239, ..., -177.17429184,\n",
            "       -177.19097239, -177.20098097]), array([-177.48549953, -177.482158  , -177.47213354, ..., -177.45542652,\n",
            "       -177.47213354, -177.482158  ]), array([-177.76633507, -177.76298825, -177.75294793, ..., -177.73621447,\n",
            "       -177.75294793, -177.76298825]), array([-178.04682425, -178.04347215, -178.03341597, ..., -178.01665611,\n",
            "       -178.03341597, -178.04347215]), array([-178.32696749, -178.32361011, -178.31353812, ..., -178.29675187,\n",
            "       -178.31353812, -178.32361011]), array([-178.60676522, -178.60340258, -178.59331477, ..., -178.57650219,\n",
            "       -178.59331477, -178.60340258]), array([-178.88621787, -178.88284997, -178.87274638, ..., -178.85590748,\n",
            "       -178.87274638, -178.88284997]), array([-179.16532587, -179.16195271, -179.15183335, ..., -179.13496818,\n",
            "       -179.15183335, -179.16195271]), array([-179.44408964, -179.44071122, -179.43057612, ..., -179.4136847 ,\n",
            "       -179.43057612, -179.44071122]), array([-179.72250959, -179.71912594, -179.70897511, ..., -179.69205747,\n",
            "       -179.70897511, -179.71912594]), array([-180.00058617, -179.99719728, -179.98703074, ..., -179.97008692,\n",
            "       -179.98703074, -179.99719728]), array([-180.27831979, -180.27492567, -180.26474344, ..., -180.24777347,\n",
            "       -180.26474344, -180.27492567]), array([-180.55571087, -180.55231153, -180.54211363, ..., -180.52511755,\n",
            "       -180.54211363, -180.55231153]), array([-180.83275984, -180.82935528, -180.81914173, ..., -180.80211957,\n",
            "       -180.81914173, -180.82935528]), array([-181.10946712, -181.10605735, -181.09582817, ..., -181.07877995,\n",
            "       -181.09582817, -181.10605735]), array([-181.38583314, -181.38241816, -181.37217336, ..., -181.35509913,\n",
            "       -181.37217336, -181.38241816]), array([-181.6618583 , -181.65843813, -181.64817774, ..., -181.63107752,\n",
            "       -181.64817774, -181.65843813]), array([-181.93754304, -181.93411767, -181.92384171, ..., -181.90671553,\n",
            "       -181.92384171, -181.93411767]), array([-182.21288776, -182.20945722, -182.1991657 , ..., -182.1820136 ,\n",
            "       -182.1991657 , -182.20945722]), array([-182.48789291, -182.48445718, -182.47415012, ..., -182.45697213,\n",
            "       -182.47415012, -182.48445718]), array([-182.76255888, -182.75911798, -182.74879541, ..., -182.73159156,\n",
            "       -182.74879541, -182.75911798]), array([-183.0368861 , -183.03344003, -183.02310197, ..., -183.00587229,\n",
            "       -183.02310197, -183.03344003]), array([-183.31087499, -183.30742376, -183.29707022, ..., -183.27981474,\n",
            "       -183.29707022, -183.30742376]), array([-183.58452596, -183.58106958, -183.57070058, ..., -183.55341934,\n",
            "       -183.57070058, -183.58106958]), array([-183.85783944, -183.85437791, -183.84399347, ..., -183.8266865 ,\n",
            "       -183.84399347, -183.85437791]), array([-184.13081583, -184.12734917, -184.1169493 , ..., -184.09961663,\n",
            "       -184.1169493 , -184.12734917]), array([-184.40345556, -184.39998376, -184.3895685 , ..., -184.37221016,\n",
            "       -184.3895685 , -184.39998376]), array([-184.67575904, -184.67228211, -184.66185147, ..., -184.64446749,\n",
            "       -184.66185147, -184.67228211]), array([-184.94772668, -184.94424463, -184.93379862, ..., -184.91638904,\n",
            "       -184.93379862, -184.94424463]), array([-185.2193589 , -185.21587174, -185.20541038, ..., -185.18797523,\n",
            "       -185.20541038, -185.21587174]), array([-185.49065612, -185.48716384, -185.47668716, ..., -185.45922647,\n",
            "       -185.47668716, -185.48716384]), array([-185.76161874, -185.75812136, -185.74762937, ..., -185.73014317,\n",
            "       -185.74762937, -185.75812136]), array([-186.03224717, -186.0287447 , -186.01823743, ..., -186.00072574,\n",
            "       -186.01823743, -186.0287447 ]), array([-186.30254184, -186.29903428, -186.28851174, ..., -186.2709746 ,\n",
            "       -186.28851174, -186.29903428]), array([-186.57250316, -186.56899051, -186.55845272, ..., -186.54089017,\n",
            "       -186.55845272, -186.56899051]), array([-186.84213152, -186.8386138 , -186.82806078, ..., -186.81047284,\n",
            "       -186.82806078, -186.8386138 ]), array([-187.11142735, -187.10790456, -187.09733632, ..., -187.07972303,\n",
            "       -187.09733632, -187.10790456]), array([-187.38039106, -187.3768632 , -187.36627977, ..., -187.34864116,\n",
            "       -187.36627977, -187.3768632 ]), array([-187.64902305, -187.64549014, -187.63489153, ..., -187.61722763,\n",
            "       -187.63489153, -187.64549014]), array([-187.91732374, -187.91378577, -187.90317201, ..., -187.88548284,\n",
            "       -187.90317201, -187.91378577]), array([-188.18529353, -188.18175052, -188.17112161, ..., -188.15340722,\n",
            "       -188.17112161, -188.18175052]), array([-188.45293283, -188.44938478, -188.43874075, ..., -188.42100116,\n",
            "       -188.43874075, -188.44938478]), array([-188.72024205, -188.71668896, -188.70602984, ..., -188.68826508,\n",
            "       -188.70602984, -188.71668896]), array([-188.98722159, -188.98366348, -188.97298928, ..., -188.95519939,\n",
            "       -188.97298928, -188.98366348]), array([-189.25387187, -189.25030874, -189.23961947, ..., -189.22180448,\n",
            "       -189.23961947, -189.25030874]), array([-189.52019329, -189.51662514, -189.50592083, ..., -189.48808076,\n",
            "       -189.50592083, -189.51662514]), array([-189.78618626, -189.7826131 , -189.77189376, ..., -189.75402865,\n",
            "       -189.77189376, -189.7826131 ]), array([-190.05185117, -190.04827301, -190.03753867, ..., -190.01964854,\n",
            "       -190.03753867, -190.04827301]), array([-190.31718844, -190.31360529, -190.30285595, ..., -190.28494085,\n",
            "       -190.30285595, -190.31360529]), array([-190.58219847, -190.57861032, -190.56784602, ..., -190.54990596,\n",
            "       -190.56784602, -190.57861032]), array([-190.84688166, -190.84328853, -190.83250928, ..., -190.8145443 ,\n",
            "       -190.83250928, -190.84328853]), array([-191.11123842, -191.10764031, -191.09684613, ..., -191.07885626,\n",
            "       -191.09684613, -191.10764031]), array([-191.37526915, -191.37166607, -191.36085697, ..., -191.34284225,\n",
            "       -191.36085697, -191.37166607]), array([-191.63897425, -191.63536621, -191.6245422 , ..., -191.60650266,\n",
            "       -191.6245422 , -191.63536621]), array([-191.90235412, -191.89874112, -191.88790224, ..., -191.8698379 ,\n",
            "       -191.88790224, -191.89874112]), array([-192.16540917, -192.16179121, -192.15093748, ..., -192.13284836,\n",
            "       -192.15093748, -192.16179121]), array([-192.4281398 , -192.42451689, -192.41364831, ..., -192.39553446,\n",
            "       -192.41364831, -192.42451689]), array([-192.6905464 , -192.68691855, -192.67603515, ..., -192.65789659,\n",
            "       -192.67603515, -192.68691855]), array([-192.95262937, -192.94899659, -192.93809838, ..., -192.91993516,\n",
            "       -192.93809838, -192.94899659]), array([-193.21438912, -193.21075141, -193.19983842, ..., -193.18165055,\n",
            "       -193.19983842, -193.21075141]), array([-193.47582605, -193.47218341, -193.46125565, ..., -193.44304316,\n",
            "       -193.46125565, -193.47218341]), array([-193.73694054, -193.73329299, -193.72235048, ..., -193.70411341,\n",
            "       -193.72235048, -193.73329299]), array([-193.99773301, -193.99408055, -193.9831233 , ..., -193.96486168,\n",
            "       -193.9831233 , -193.99408055]), array([-194.25820384, -194.25454647, -194.24357451, ..., -194.22528837,\n",
            "       -194.24357451, -194.25454647]), array([-194.51835344, -194.51469117, -194.50370452, ..., -194.48539388,\n",
            "       -194.50370452, -194.51469117]), array([-194.77818219, -194.77451504, -194.7635137 , ..., -194.74517861,\n",
            "       -194.7635137 , -194.77451504]), array([-195.03769051, -195.03401846, -195.02300247, ..., -195.00464294,\n",
            "       -195.02300247, -195.03401846]), array([-195.29687877, -195.29320185, -195.28217121, ..., -195.26378728,\n",
            "       -195.28217121, -195.29320185]), array([-195.55574738, -195.55206559, -195.54102033, ..., -195.52261203,\n",
            "       -195.54102033, -195.55206559]), array([-195.81429674, -195.81061007, -195.79955021, ..., -195.78111756,\n",
            "       -195.79955021, -195.81061007]), array([-196.07252722, -196.0688357 , -196.05776125, ..., -196.03930429,\n",
            "       -196.05776125, -196.0688357 ]), array([-196.33043924, -196.32674285, -196.31565384, ..., -196.2971726 ,\n",
            "       -196.31565384, -196.32674285]), array([-196.58803318, -196.58433194, -196.57322837, ..., -196.55472289,\n",
            "       -196.57322837, -196.58433194]), array([-196.84530943, -196.84160335, -196.83048525, ..., -196.81195554,\n",
            "       -196.83048525, -196.84160335]), array([-197.10226839, -197.09855747, -197.08742485, ..., -197.06887095,\n",
            "       -197.08742485, -197.09855747]), array([-197.35891044, -197.35519469, -197.34404757, ..., -197.32546951,\n",
            "       -197.34404757, -197.35519469]), array([-197.61523599, -197.61151541, -197.60035381, ..., -197.58175162,\n",
            "       -197.60035381, -197.61151541]), array([-197.87124541, -197.86752001, -197.85634395, ..., -197.83771765,\n",
            "       -197.85634395, -197.86752001]), array([-198.1269391 , -198.12320888, -198.11201838, ..., -198.09336801,\n",
            "       -198.11201838, -198.12320888]), array([-198.38231745, -198.37858242, -198.3673775 , ..., -198.34870309,\n",
            "       -198.3673775 , -198.37858242]), array([-198.63738084, -198.63364102, -198.62242168, ..., -198.60372326,\n",
            "       -198.62242168, -198.63364102]), array([-198.89212968, -198.88838505, -198.87715133, ..., -198.85842892,\n",
            "       -198.87715133, -198.88838505]), array([-199.14656433, -199.14281492, -199.13156682, ..., -199.11282046,\n",
            "       -199.13156682, -199.14281492]), array([-199.4006852 , -199.39693101, -199.38566855, ..., -199.36689827,\n",
            "       -199.38566855, -199.39693101]), array([-199.65449267, -199.6507337 , -199.6394569 , ..., -199.62066272,\n",
            "       -199.6394569 , -199.6507337 ]), array([-199.90798713, -199.90422338, -199.89293227, ..., -199.87411422,\n",
            "       -199.89293227, -199.90422338]), array([-200.16116896, -200.15740044, -200.14609502, ..., -200.12725314,\n",
            "       -200.14609502, -200.15740044]), array([-200.41403854, -200.41026526, -200.39894556, ..., -200.38007987,\n",
            "       -200.39894556, -200.41026526]), array([-200.66659627, -200.66281823, -200.65148427, ..., -200.6325948 ,\n",
            "       -200.65148427, -200.66281823]), array([-200.91884252, -200.91505974, -200.90371153, ..., -200.88479831,\n",
            "       -200.90371153, -200.91505974]), array([-201.17077769, -201.16699016, -201.15562772, ..., -201.13669079,\n",
            "       -201.15562772, -201.16699016]), array([-201.42240216, -201.41860989, -201.40723323, ..., -201.38827261,\n",
            "       -201.40723323, -201.41860989]), array([-201.6737163 , -201.6699193 , -201.65852845, ..., -201.63954417,\n",
            "       -201.65852845, -201.6699193 ]), array([-201.92472051, -201.92091878, -201.90951375, ..., -201.89050584,\n",
            "       -201.90951375, -201.92091878]), array([-202.17541516, -202.17160871, -202.16018952, ..., -202.141158  ,\n",
            "       -202.16018952, -202.17160871]), array([-202.42580064, -202.42198948, -202.41055614, ..., -202.39150105,\n",
            "       -202.41055614, -202.42198948]), array([-202.67587732, -202.67206145, -202.66061399, ..., -202.64153536,\n",
            "       -202.66061399, -202.67206145]), array([-202.9256456 , -202.92182503, -202.91036345, ..., -202.89126131,\n",
            "       -202.91036345, -202.92182503]), array([-203.17510585, -203.17128058, -203.15980491, ..., -203.14067928,\n",
            "       -203.15980491, -203.17128058]), array([-203.42425844, -203.42042848, -203.40893874, ..., -203.38978965,\n",
            "       -203.40893874, -203.42042848]), array([-203.67310377, -203.66926912, -203.65776532, ..., -203.63859281,\n",
            "       -203.65776532, -203.66926912]), array([-203.9216422 , -203.91780287, -203.90628504, ..., -203.88708913,\n",
            "       -203.90628504, -203.91780287]), array([-204.16987412, -204.16603012, -204.15449826, ..., -204.13527898,\n",
            "       -204.15449826, -204.16603012]), array([-204.41779991, -204.41395124, -204.40240538, ..., -204.38316275,\n",
            "       -204.40240538, -204.41395124]), array([-204.66541994, -204.66156661, -204.65000676, ..., -204.63074082,\n",
            "       -204.65000676, -204.66156661]), array([-204.91273459, -204.9088766 , -204.89730278, ..., -204.87801356,\n",
            "       -204.89730278, -204.9088766 ]), array([-205.15974424, -205.1558816 , -205.14429382, ..., -205.12498135,\n",
            "       -205.14429382, -205.1558816 ]), array([-205.40644926, -205.40258198, -205.39098027, ..., -205.37164457,\n",
            "       -205.39098027, -205.40258198]), array([-205.65285003, -205.64897811, -205.63736248, ..., -205.61800358,\n",
            "       -205.63736248, -205.64897811]), array([-205.89894693, -205.89507037, -205.88344084, ..., -205.86405878,\n",
            "       -205.88344084, -205.89507037]), array([-206.14474033, -206.14085914, -206.12921573, ..., -206.10981052,\n",
            "       -206.12921573, -206.14085914]), array([-206.3902306 , -206.38634479, -206.37468751, ..., -206.35525919,\n",
            "       -206.37468751, -206.38634479]), array([-206.63541812, -206.63152769, -206.61985656, ..., -206.60040516,\n",
            "       -206.61985656, -206.63152769]), array([-206.88030326, -206.87640822, -206.86472326, ..., -206.84524881,\n",
            "       -206.86472326, -206.87640822]), array([-207.1248864 , -207.12098675, -207.10928797, ..., -207.0897905 ,\n",
            "       -207.10928797, -207.12098675]), array([-207.3691679 , -207.36526366, -207.35355108, ..., -207.3340306 ,\n",
            "       -207.35355108, -207.36526366]), array([-207.61314815, -207.60923931, -207.59751295, ..., -207.5779695 ,\n",
            "       -207.59751295, -207.60923931]), array([-207.8568275 , -207.85291408, -207.84117395, ..., -207.82160757,\n",
            "       -207.84117395, -207.85291408]), array([-208.10020634, -208.09628834, -208.08453446, ..., -208.06494516,\n",
            "       -208.08453446, -208.09628834]), array([-208.34328504, -208.33936245, -208.32759485, ..., -208.30798266,\n",
            "       -208.32759485, -208.33936245]), array([-208.58606395, -208.5821368 , -208.57035548, ..., -208.55072044,\n",
            "       -208.57035548, -208.5821368 ]), array([-208.82854347, -208.82461174, -208.81281673, ..., -208.79315886,\n",
            "       -208.81281673, -208.82461174]), array([-209.07072394, -209.06678766, -209.05497896, ..., -209.0352983 ,\n",
            "       -209.05497896, -209.06678766]), array([-209.31260575, -209.30866491, -209.29684255, ..., -209.27713912,\n",
            "       -209.29684255, -209.30866491]), array([-209.55418926, -209.55024387, -209.53840787, ..., -209.51868169,\n",
            "       -209.53840787, -209.55024387]), array([-209.79547484, -209.79152491, -209.77967527, ..., -209.75992637,\n",
            "       -209.77967527, -209.79152491]), array([-210.03646285, -210.03250838, -210.02064514, ..., -210.00087355,\n",
            "       -210.02064514, -210.03250838]), array([-210.27715367, -210.27319467, -210.26131783, ..., -210.24152358,\n",
            "       -210.26131783, -210.27319467]), array([-210.51754766, -210.51358413, -210.50169371, ..., -210.48187683,\n",
            "       -210.50169371, -210.51358413]), array([-210.75764518, -210.75367714, -210.74177315, ..., -210.72193367,\n",
            "       -210.74177315, -210.75367714]), array([-210.99744661, -210.99347405, -210.98155652, ..., -210.96169446,\n",
            "       -210.98155652, -210.99347405]), array([-211.23695231, -211.23297524, -211.22104418, ..., -211.20115957,\n",
            "       -211.22104418, -211.23297524]), array([-211.47616263, -211.47218106, -211.46023649, ..., -211.44032937,\n",
            "       -211.46023649, -211.47218106]), array([-211.71507796, -211.71109189, -211.69913382, ..., -211.67920421,\n",
            "       -211.69913382, -211.71109189]), array([-211.95369865, -211.94970808, -211.93773653, ..., -211.91778446,\n",
            "       -211.93773653, -211.94970808]), array([-212.19202506, -212.18803001, -212.176045  , ..., -212.15607048,\n",
            "       -212.176045  , -212.18803001]), array([-212.43005756, -212.42605802, -212.41405957, ..., -212.39406265,\n",
            "       -212.41405957, -212.42605802]), array([-212.66779651, -212.6637925 , -212.65178061, ..., -212.63176131,\n",
            "       -212.65178061, -212.6637925 ]), array([-212.90524227, -212.90123379, -212.88920849, ..., -212.86916684,\n",
            "       -212.88920849, -212.90123379]), array([-213.14239521, -213.13838226, -213.12634357, ..., -213.10627959,\n",
            "       -213.12634357, -213.13838226]), array([-213.37925569, -213.37523828, -213.36318621, ..., -213.34309992,\n",
            "       -213.36318621, -213.37523828]), array([-213.61582406, -213.61180219, -213.59973676, ..., -213.5796282 ,\n",
            "       -213.59973676, -213.61180219]), array([-213.85210068, -213.84807437, -213.83599559, ..., -213.81586479,\n",
            "       -213.83599559, -213.84807437]), array([-214.08808593, -214.08405517, -214.07196306, ..., -214.05181005,\n",
            "       -214.07196306, -214.08405517]), array([-214.32378015, -214.31974496, -214.30763953, ..., -214.28746433,\n",
            "       -214.30763953, -214.31974496]), array([-214.55918371, -214.55514408, -214.54302536, ..., -214.522828  ,\n",
            "       -214.54302536, -214.55514408]), array([-214.79429696, -214.79025291, -214.7781209 , ..., -214.75790141,\n",
            "       -214.7781209 , -214.79025291]), array([-215.02912026, -215.02507179, -215.01292652, ..., -214.99268492,\n",
            "       -215.01292652, -215.02507179]), array([-215.26365398, -215.25960109, -215.24744257, ..., -215.22717889,\n",
            "       -215.24744257, -215.25960109]), array([-215.49789846, -215.49384116, -215.48166941, ..., -215.46138368,\n",
            "       -215.48166941, -215.49384116]), array([-215.73185407, -215.72779236, -215.7156074 , ..., -215.69529964,\n",
            "       -215.7156074 , -215.72779236]), array([-215.96552115, -215.96145505, -215.94925689, ..., -215.92892713,\n",
            "       -215.94925689, -215.96145505]), array([-216.19890008, -216.19482958, -216.18261824, ..., -216.16226651,\n",
            "       -216.18261824, -216.19482958]), array([-216.4319912 , -216.42791631, -216.4156918 , ..., -216.39531812,\n",
            "       -216.4156918 , -216.42791631]), array([-216.66479486, -216.66071559, -216.64847793, ..., -216.62808234,\n",
            "       -216.64847793, -216.66071559]), array([-216.89731143, -216.89322778, -216.88097698, ..., -216.8605595 ,\n",
            "       -216.88097698, -216.89322778]), array([-217.12954125, -217.12545323, -217.11318932, ..., -217.09274997,\n",
            "       -217.11318932, -217.12545323]), array([-217.36148468, -217.35739229, -217.34511528, ..., -217.3246541 ,\n",
            "       -217.34511528, -217.35739229]), array([-217.59314208, -217.58904533, -217.57675523, ..., -217.55627225,\n",
            "       -217.57675523, -217.58904533]), array([-217.8245138 , -217.82041269, -217.80810952, ..., -217.78760475,\n",
            "       -217.80810952, -217.82041269]), array([-218.05560018, -218.05149472, -218.0391785 , ..., -218.01865198,\n",
            "       -218.0391785 , -218.05149472]), array([-218.28640158, -218.28229178, -218.26996252, ..., -218.24941427,\n",
            "       -218.26996252, -218.28229178]), array([-218.51691836, -218.51280421, -218.50046193, ..., -218.47989198,\n",
            "       -218.50046193, -218.51280421]), array([-218.74715086, -218.74303238, -218.7306771 , ..., -218.71008547,\n",
            "       -218.7306771 , -218.74303238]), array([-218.97709944, -218.97297663, -218.96060835, ..., -218.93999508,\n",
            "       -218.96060835, -218.97297663]), array([-219.20676444, -219.2026373 , -219.19025606, ..., -219.16962116,\n",
            "       -219.19025606, -219.2026373 ]), array([-219.43614621, -219.43201476, -219.41962056, ..., -219.39896407,\n",
            "       -219.41962056, -219.43201476]), array([-219.66524511, -219.66110935, -219.6487022 , ..., -219.62802415,\n",
            "       -219.6487022 , -219.66110935]), array([-219.89406149, -219.88992141, -219.87750134, ..., -219.85680175,\n",
            "       -219.87750134, -219.88992141]), array([-220.12259568, -220.1184513 , -220.10601833, ..., -220.08529722,\n",
            "       -220.10601833, -220.1184513 ]), array([-220.35084805, -220.34669937, -220.3342535 , ..., -220.3135109 ,\n",
            "       -220.3342535 , -220.34669937]), array([-220.57881893, -220.57466596, -220.56220721, ..., -220.54144315,\n",
            "       -220.56220721, -220.57466596]), array([-220.80650868, -220.80235142, -220.78987981, ..., -220.76909432,\n",
            "       -220.78987981, -220.80235142]), array([-221.03391764, -221.0297561 , -221.01727165, ..., -220.99646475,\n",
            "       -221.01727165, -221.0297561 ]), array([-221.26104616, -221.25688034, -221.24438306, ..., -221.22355478,\n",
            "       -221.24438306, -221.25688034]), array([-221.48789458, -221.4837245 , -221.4712144 , ..., -221.45036476,\n",
            "       -221.4712144 , -221.4837245 ]), array([-221.71446326, -221.7102889 , -221.69776601, ..., -221.67689504,\n",
            "       -221.69776601, -221.7102889 ]), array([-221.94075252, -221.93657391, -221.92403824, ..., -221.90314596,\n",
            "       -221.92403824, -221.93657391]), array([-222.16676273, -222.16257987, -222.15003142, ..., -222.12911788,\n",
            "       -222.15003142, -222.16257987]), array([-222.39249423, -222.38830711, -222.37574592, ..., -222.35481112,\n",
            "       -222.37574592, -222.38830711]), array([-222.61794735, -222.61375599, -222.60118206, ..., -222.58022604,\n",
            "       -222.60118206, -222.61375599]), array([-222.84312244, -222.83892684, -222.82634019, ..., -222.80536297,\n",
            "       -222.82634019, -222.83892684]), array([-223.06801985, -223.06382001, -223.05122066, ..., -223.03022227,\n",
            "       -223.05122066, -223.06382001]), array([-223.29263992, -223.28843585, -223.27582381, ..., -223.25480427,\n",
            "       -223.27582381, -223.28843585]), array([-223.51698298, -223.51277469, -223.50014998, ..., -223.47910932,\n",
            "       -223.50014998, -223.51277469]), array([-223.74104939, -223.73683688, -223.72419951, ..., -223.70313776,\n",
            "       -223.72419951, -223.73683688]), array([-223.96483947, -223.96062275, -223.94797274, ..., -223.92688993,\n",
            "       -223.94797274, -223.96062275]), array([-224.18835359, -224.18413266, -224.17147002, ..., -224.15036616,\n",
            "       -224.17147002, -224.18413266]), array([-224.41159206, -224.40736693, -224.39469169, ..., -224.37356681,\n",
            "       -224.39469169, -224.40736693]), array([-224.63455524, -224.63032591, -224.61763807, ..., -224.59649221,\n",
            "       -224.61763807, -224.63032591]), array([-224.85724347, -224.85300994, -224.84030953, ..., -224.8191427 ,\n",
            "       -224.84030953, -224.85300994]), array([-225.07965708, -225.07541936, -225.06270638, ..., -225.04151862,\n",
            "       -225.06270638, -225.07541936]), array([-225.3017964 , -225.29755451, -225.28482898, ..., -225.2636203 ,\n",
            "       -225.28482898, -225.29755451]), array([-225.52366179, -225.51941572, -225.50667766, ..., -225.4854481 ,\n",
            "       -225.50667766, -225.51941572]), array([-225.74525358, -225.74100334, -225.72825276, ..., -225.70700234,\n",
            "       -225.72825276, -225.74100334]), array([-225.9665721 , -225.96231769, -225.94955462, ..., -225.92828336,\n",
            "       -225.94955462, -225.96231769]), array([-226.1876177 , -226.18335913, -226.17058357, ..., -226.1492915 ,\n",
            "       -226.17058357, -226.18335913]), array([-226.40839071, -226.40412798, -226.39133994, ..., -226.37002709,\n",
            "       -226.39133994, -226.40412798]), array([-226.62889146, -226.62462458, -226.61182409, ..., -226.59049048,\n",
            "       -226.61182409, -226.62462458]), array([-226.84912029, -226.84484926, -226.83203634, ..., -226.810682  ,\n",
            "       -226.83203634, -226.84484926]), array([-227.06907755, -227.06480237, -227.05197702, ..., -227.03060198,\n",
            "       -227.05197702, -227.06480237]), array([-227.28876355, -227.28448424, -227.27164648, ..., -227.25025075,\n",
            "       -227.27164648, -227.28448424]), array([-227.50817864, -227.5038952 , -227.49104505, ..., -227.46962866,\n",
            "       -227.49104505, -227.5038952 ]), array([-227.72732315, -227.72303559, -227.71017306, ..., -227.68873604,\n",
            "       -227.71017306, -227.72303559]), array([-227.94619742, -227.94190574, -227.92903084, ..., -227.90757322,\n",
            "       -227.92903084, -227.94190574]), array([-228.16480178, -228.16050598, -228.14761873, ..., -228.12614054,\n",
            "       -228.14761873, -228.16050598]), array([-228.38313655, -228.37883664, -228.36593707, ..., -228.34443832,\n",
            "       -228.36593707, -228.37883664]), array([-228.60120209, -228.59689807, -228.58398618, ..., -228.5624669 ,\n",
            "       -228.58398618, -228.59689807]), array([-228.81899871, -228.81469059, -228.80176639, ..., -228.78022661,\n",
            "       -228.80176639, -228.81469059]), array([-229.03652674, -229.03221453, -229.01927805, ..., -228.99771779,\n",
            "       -229.01927805, -229.03221453]), array([-229.25378653, -229.24947022, -229.23652147, ..., -229.21494076,\n",
            "       -229.23652147, -229.24947022]), array([-229.4707784 , -229.46645801, -229.453497  , ..., -229.43189586,\n",
            "       -229.453497  , -229.46645801]), array([-229.68750268, -229.6831782 , -229.67020495, ..., -229.64858341,\n",
            "       -229.67020495, -229.6831782 ]), array([-229.90395969, -229.89963115, -229.88664567, ..., -229.86500375,\n",
            "       -229.88664567, -229.89963115]), array([-230.12014979, -230.11581717, -230.10281948, ..., -230.08115721,\n",
            "       -230.10281948, -230.11581717]), array([-230.33607328, -230.33173659, -230.31872671, ..., -230.29704411,\n",
            "       -230.31872671, -230.33173659]), array([-230.5517305 , -230.54738975, -230.53436769, ..., -230.51266479,\n",
            "       -230.53436769, -230.54738975]), array([-230.76712177, -230.76277698, -230.74974274, ..., -230.72801957,\n",
            "       -230.74974274, -230.76277698]), array([-230.98224744, -230.97789859, -230.96485221, ..., -230.94310878,\n",
            "       -230.96485221, -230.97789859]), array([-231.19710782, -231.19275492, -231.1796964 , ..., -231.15793275,\n",
            "       -231.1796964 , -231.19275492]), array([-231.41170323, -231.4073463 , -231.39427566, ..., -231.3724918 ,\n",
            "       -231.39427566, -231.4073463 ]), array([-231.62603402, -231.62167305, -231.6085903 , ..., -231.58678627,\n",
            "       -231.6085903 , -231.62167305]), array([-231.8401005 , -231.8357355 , -231.82264066, ..., -231.80081648,\n",
            "       -231.82264066, -231.8357355 ]), array([-232.053903  , -232.04953397, -232.03642706, ..., -232.01458275,\n",
            "       -232.03642706, -232.04953397]), array([-232.26744185, -232.2630688 , -232.24994982, ..., -232.22808541,\n",
            "       -232.24994982, -232.2630688 ]), array([-232.48071736, -232.4763403 , -232.46320928, ..., -232.44132479,\n",
            "       -232.46320928, -232.4763403 ]), array([-232.69372988, -232.68934881, -232.67620575, ..., -232.65430121,\n",
            "       -232.67620575, -232.68934881]), array([-232.90647971, -232.90209463, -232.88893956, ..., -232.86701499,\n",
            "       -232.88893956, -232.90209463]), array([-233.11896719, -233.11457811, -233.10141104, ..., -233.07946647,\n",
            "       -233.10141104, -233.11457811]), array([-233.33119264, -233.32679956, -233.3136205 , ..., -233.29165595,\n",
            "       -233.3136205 , -233.32679956]), array([-233.54315638, -233.53875931, -233.52556828, ..., -233.50358378,\n",
            "       -233.52556828, -233.53875931]), array([-233.75485873, -233.75045768, -233.73725469, ..., -233.71525026,\n",
            "       -233.73725469, -233.75045768]), array([-233.96630002, -233.96189499, -233.94868006, ..., -233.92665572,\n",
            "       -233.94868006, -233.96189499]), array([-234.17748057, -234.17307157, -234.1598447 , ..., -234.13780049,\n",
            "       -234.1598447 , -234.17307157]), array([-234.38840071, -234.38398772, -234.37074895, ..., -234.34868488,\n",
            "       -234.37074895, -234.38398772]), array([-234.59906074, -234.59464379, -234.58139312, ..., -234.55930921,\n",
            "       -234.58139312, -234.59464379]), array([-234.80946099, -234.80504009, -234.79177753, ..., -234.76967382,\n",
            "       -234.79177753, -234.80504009]), array([-235.01960179, -235.01517693, -235.0019025 , ..., -234.97977901,\n",
            "       -235.0019025 , -235.01517693]), array([-235.22948346, -235.22505464, -235.21176836, ..., -235.18962511,\n",
            "       -235.21176836, -235.22505464]), array([-235.4391063 , -235.43467354, -235.42137542, ..., -235.39921244,\n",
            "       -235.42137542, -235.43467354]), array([-235.64847065, -235.64403395, -235.630724  , ..., -235.60854131,\n",
            "       -235.630724  , -235.64403395]), array([-235.85757682, -235.85313618, -235.83981442, ..., -235.81761205,\n",
            "       -235.83981442, -235.85313618]), array([-236.06642513, -236.06198056, -236.048647  , ..., -236.02642497,\n",
            "       -236.048647  , -236.06198056]), array([-236.2750159 , -236.2705674 , -236.25722206, ..., -236.23498039,\n",
            "       -236.25722206, -236.2705674 ]), array([-236.48334945, -236.47889702, -236.46553992, ..., -236.44327863,\n",
            "       -236.46553992, -236.47889702]), array([-236.69142608, -236.68696974, -236.67360088, ..., -236.65132001,\n",
            "       -236.67360088, -236.68696974]), array([-236.89924613, -236.89478588, -236.88140528, ..., -236.85910485,\n",
            "       -236.88140528, -236.89478588]), array([-237.1068099 , -237.10234574, -237.08895342, ..., -237.06663345,\n",
            "       -237.08895342, -237.10234574]), array([-237.31411772, -237.30964966, -237.29624563, ..., -237.27390614,\n",
            "       -237.29624563, -237.30964966]), array([-237.5211699 , -237.51669793, -237.50328221, ..., -237.48092323,\n",
            "       -237.50328221, -237.51669793]), array([-237.72796675, -237.72349089, -237.71006349, ..., -237.68768504,\n",
            "       -237.71006349, -237.72349089]), array([-237.93450859, -237.93002884, -237.91658977, ..., -237.89419188,\n",
            "       -237.91658977, -237.93002884]), array([-238.14079573, -238.1363121 , -238.12286138, ..., -238.10044407,\n",
            "       -238.12286138, -238.1363121 ]), array([-238.34682849, -238.34234098, -238.32887862, ..., -238.30644192,\n",
            "       -238.32887862, -238.34234098]), array([-238.55260718, -238.5481158 , -238.53464181, ..., -238.51218574,\n",
            "       -238.53464181, -238.5481158 ]), array([-238.75813212, -238.75363686, -238.74015127, ..., -238.71767585,\n",
            "       -238.74015127, -238.75363686]), array([-238.96340361, -238.9589045 , -238.94540731, ..., -238.92291256,\n",
            "       -238.94540731, -238.9589045 ]), array([-239.16842198, -239.163919  , -239.15041024, ..., -239.12789619,\n",
            "       -239.15041024, -239.163919  ]), array([-239.37318753, -239.3686807 , -239.35516036, ..., -239.33262704,\n",
            "       -239.35516036, -239.3686807 ]), array([-239.57770057, -239.57318989, -239.55965801, ..., -239.53710543,\n",
            "       -239.55965801, -239.57318989]), array([-239.78196142, -239.77744689, -239.76390347, ..., -239.74133167,\n",
            "       -239.76390347, -239.77744689]), array([-239.98597039, -239.98145202, -239.96789708, ..., -239.94530607,\n",
            "       -239.96789708, -239.98145202]), array([-240.18972779, -240.18520558, -240.17163913, ..., -240.14902894,\n",
            "       -240.17163913, -240.18520558]), array([-240.39323392, -240.38870788, -240.37512994, ..., -240.3525006 ,\n",
            "       -240.37512994, -240.38870788]), array([-240.59648911, -240.59195924, -240.57836982, ..., -240.55572134,\n",
            "       -240.57836982, -240.59195924]), array([-240.79949365, -240.79495996, -240.78135907, ..., -240.75869148,\n",
            "       -240.78135907, -240.79495996]), array([-241.00224786, -240.99771035, -240.98409801, ..., -240.96141134,\n",
            "       -240.98409801, -240.99771035]), array([-241.20475205, -241.20021073, -241.18658695, ..., -241.16388121,\n",
            "       -241.18658695, -241.20021073]), array([-241.40700652, -241.40246139, -241.38882618, ..., -241.36610141,\n",
            "       -241.38882618, -241.40246139]), array([-241.60901158, -241.60446265, -241.59081604, ..., -241.56807225,\n",
            "       -241.59081604, -241.60446265]), array([-241.81076755, -241.80621482, -241.79255681, ..., -241.76979402,\n",
            "       -241.79255681, -241.80621482]), array([-242.01227472, -242.0077182 , -241.9940488 , ..., -241.97126705,\n",
            "       -241.9940488 , -242.0077182 ]), array([-242.2135334 , -242.20897309, -242.19529233, ..., -242.17249164,\n",
            "       -242.19529233, -242.20897309]), array([-242.41454391, -242.40997982, -242.3962877 , ..., -242.37346808,\n",
            "       -242.3962877 , -242.40997982]), array([-242.61530655, -242.61073867, -242.59703522, ..., -242.5741967 ,\n",
            "       -242.59703522, -242.61073867]), array([-242.81582162, -242.81124997, -242.79753519, ..., -242.77467779,\n",
            "       -242.79753519, -242.81124997]), array([-243.01608942, -243.011514  , -242.99778791, ..., -242.97491167,\n",
            "       -242.99778791, -243.011514  ]), array([-243.21611028, -243.21153109, -243.1977937 , ..., -243.17489863,\n",
            "       -243.1977937 , -243.21153109]), array([-243.41588447, -243.41130153, -243.39755285, ..., -243.37463897,\n",
            "       -243.39755285, -243.41130153]), array([-243.61541233, -243.61082562, -243.59706568, ..., -243.57413302,\n",
            "       -243.59706568, -243.61082562]), array([-243.81469414, -243.81010368, -243.79633248, ..., -243.77338106,\n",
            "       -243.79633248, -243.81010368]), array([-244.0137302 , -244.009136  , -243.99535356, ..., -243.9723834 ,\n",
            "       -243.99535356, -244.009136  ]), array([-244.21252084, -244.20792289, -244.19412922, ..., -244.17114035,\n",
            "       -244.19412922, -244.20792289]), array([-244.41106633, -244.40646465, -244.39265977, ..., -244.36965221,\n",
            "       -244.39265977, -244.40646465]), array([-244.609367  , -244.60476158, -244.5909455 , ..., -244.56791927,\n",
            "       -244.5909455 , -244.60476158]), array([-244.80742314, -244.80281399, -244.78898672, ..., -244.76594185,\n",
            "       -244.78898672, -244.80281399]), array([-245.00523504, -245.00062217, -244.98678373, ..., -244.96372024,\n",
            "       -244.98678373, -245.00062217]), array([-245.20280303, -245.19818643, -245.18433683, ..., -245.16125474,\n",
            "       -245.18433683, -245.19818643]), array([-245.40012738, -245.39550708, -245.38164633, ..., -245.35854566,\n",
            "       -245.38164633, -245.39550708]), array([-245.59720841, -245.5925844 , -245.57871252, ..., -245.5555933 ,\n",
            "       -245.57871252, -245.5925844 ]), array([-245.79404642, -245.7894187 , -245.7755357 , ..., -245.75239795,\n",
            "       -245.7755357 , -245.7894187 ]), array([-245.9906417 , -245.98601028, -245.97211618, ..., -245.94895992,\n",
            "       -245.97211618, -245.98601028]), array([-246.18699456, -246.18235943, -246.16845424, ..., -246.14527951,\n",
            "       -246.16845424, -246.18235943]), array([-246.38310528, -246.37846647, -246.3645502 , ..., -246.34135701,\n",
            "       -246.3645502 , -246.37846647]), array([-246.57897418, -246.57433168, -246.56040435, ..., -246.53719272,\n",
            "       -246.56040435, -246.57433168]), array([-246.77460155, -246.76995537, -246.75601699, ..., -246.73278694,\n",
            "       -246.75601699, -246.76995537]), array([-246.96998769, -246.96533783, -246.95138841, ..., -246.92813997,\n",
            "       -246.95138841, -246.96533783]), array([-247.1651329 , -247.16047936, -247.14651892, ..., -247.12325211,\n",
            "       -247.14651892, -247.16047936]), array([-247.36003747, -247.35538026, -247.34140881, ..., -247.31812365,\n",
            "       -247.34140881, -247.35538026]), array([-247.55470169, -247.55004082, -247.53605838, ..., -247.5127549 ,\n",
            "       -247.53605838, -247.55004082]), array([-247.74912588, -247.74446134, -247.73046792, ..., -247.70714614,\n",
            "       -247.73046792, -247.74446134]), array([-247.94331031, -247.93864212, -247.92463773, ..., -247.90129767,\n",
            "       -247.92463773, -247.93864212]), array([-248.1372553 , -248.13258346, -248.11856811, ..., -248.09520979,\n",
            "       -248.11856811, -248.13258346]), array([-248.33096113, -248.32628564, -248.31225935, ..., -248.2888828 ,\n",
            "       -248.31225935, -248.32628564]), array([-248.52442809, -248.51974896, -248.50571175, ..., -248.48231698,\n",
            "       -248.50571175, -248.51974896]), array([-248.71765649, -248.71297372, -248.6989256 , ..., -248.67551264,\n",
            "       -248.6989256 , -248.71297372]), array([-248.91064662, -248.90596022, -248.89190119, ..., -248.86847007,\n",
            "       -248.89190119, -248.90596022]), array([-249.10339877, -249.09870874, -249.08463883, ..., -249.06118956,\n",
            "       -249.08463883, -249.09870874]), array([-249.29591323, -249.29121958, -249.27713879, ..., -249.2536714 ,\n",
            "       -249.27713879, -249.29121958]), array([-249.48819031, -249.48349303, -249.46940138, ..., -249.4459159 ,\n",
            "       -249.46940138, -249.48349303]), array([-249.68023028, -249.67552939, -249.6614269 , ..., -249.63792333,\n",
            "       -249.6614269 , -249.67552939]), array([-249.87203345, -249.86732895, -249.85321562, ..., -249.829694  ,\n",
            "       -249.85321562, -249.86732895]), array([-250.0636001 , -250.05889199, -250.04476785, ..., -250.02122819,\n",
            "       -250.04476785, -250.05889199]), array([-250.25493053, -250.25021882, -250.23608387, ..., -250.2125262 ,\n",
            "       -250.23608387, -250.25021882]), array([-250.44602503, -250.44130972, -250.42716398, ..., -250.40358832,\n",
            "       -250.42716398, -250.44130972]), array([-250.63688389, -250.63216499, -250.61800846, ..., -250.59441484,\n",
            "       -250.61800846, -250.63216499]), array([-250.8275074 , -250.82278491, -250.80861762, ..., -250.78500605,\n",
            "       -250.80861762, -250.82278491]), array([-251.01789585, -251.01316977, -250.99899173, ..., -250.97536224,\n",
            "       -250.99899173, -251.01316977]), array([-251.20804953, -251.20331988, -251.18913109, ..., -251.16548371,\n",
            "       -251.18913109, -251.20331988]), array([-251.39796873, -251.3932355 , -251.37903599, ..., -251.35537073,\n",
            "       -251.37903599, -251.3932355 ]), array([-251.58765375, -251.58291694, -251.56870672, ..., -251.5450236 ,\n",
            "       -251.56870672, -251.58291694]), array([-251.77710486, -251.77236449, -251.75814356, ..., -251.73444261,\n",
            "       -251.75814356, -251.77236449]), array([-251.96632235, -251.96157842, -251.94734681, ..., -251.92362805,\n",
            "       -251.94734681, -251.96157842]), array([-252.15530653, -252.15055904, -252.13631675, ..., -252.1125802 ,\n",
            "       -252.13631675, -252.15055904]), array([-252.34405766, -252.33930662, -252.32505367, ..., -252.30129935,\n",
            "       -252.32505367, -252.33930662]), array([-252.53257605, -252.52782146, -252.51355786, ..., -252.4897858 ,\n",
            "       -252.51355786, -252.52782146]), array([-252.72086197, -252.71610384, -252.7018296 , ..., -252.67803982,\n",
            "       -252.7018296 , -252.71610384]), array([-252.90891572, -252.90415404, -252.88986919, ..., -252.8660617 ,\n",
            "       -252.88986919, -252.90415404]), array([-253.09673758, -253.09197237, -253.07767691, ..., -253.05385174,\n",
            "       -253.07767691, -253.09197237]), array([-253.28432784, -253.27955909, -253.26525304, ..., -253.24141021,\n",
            "       -253.26525304, -253.27955909]), array([-253.47168678, -253.4669145 , -253.45259787, ..., -253.4287374 ,\n",
            "       -253.45259787, -253.4669145 ]), array([-253.65881468, -253.65403889, -253.63971168, ..., -253.6158336 ,\n",
            "       -253.63971168, -253.65403889]), array([-253.84571184, -253.84093253, -253.82659477, ..., -253.80269909,\n",
            "       -253.82659477, -253.84093253]), array([-254.03237854, -254.02759571, -254.01324741, ..., -253.98933416,\n",
            "       -254.01324741, -254.02759571]), array([-254.21881506, -254.21402872, -254.19966989, ..., -254.17573909,\n",
            "       -254.19966989, -254.21402872]), array([-254.40502169, -254.40023184, -254.38586249, ..., -254.36191417,\n",
            "       -254.38586249, -254.40023184]), array([-254.5909987 , -254.58620536, -254.5718255 , ..., -254.54785967,\n",
            "       -254.5718255 , -254.58620536]), array([-254.77674639, -254.77194955, -254.7575592 , ..., -254.73357588,\n",
            "       -254.7575592 , -254.77194955]), array([-254.96226503, -254.9574647 , -254.94306387, ..., -254.91906309,\n",
            "       -254.94306387, -254.9574647 ]), array([-255.14755491, -255.14275109, -255.12833979, ..., -255.10432158,\n",
            "       -255.12833979, -255.14275109]), array([-255.33261631, -255.327809  , -255.31338726, ..., -255.28935162,\n",
            "       -255.31338726, -255.327809  ]), array([-255.51744952, -255.51263873, -255.49820654, ..., -255.47415351,\n",
            "       -255.49820654, -255.51263873]), array([-255.7020548 , -255.69724054, -255.68279793, ..., -255.65872751,\n",
            "       -255.68279793, -255.69724054]), array([-255.88643245, -255.88161472, -255.86716169, ..., -255.84307392,\n",
            "       -255.86716169, -255.88161472]), array([-256.07058275, -256.06576155, -256.05129812, ..., -256.02719302,\n",
            "       -256.05129812, -256.06576155]), array([-256.25450597, -256.24968131, -256.23520749, ..., -256.21108507,\n",
            "       -256.23520749, -256.24968131]), array([-256.4382024 , -256.43337428, -256.41889009, ..., -256.39475038,\n",
            "       -256.41889009, -256.43337428]), array([-256.62167231, -256.61684074, -256.60234618, ..., -256.5781892 ,\n",
            "       -256.60234618, -256.61684074]), array([-256.80491599, -256.80008096, -256.78557606, ..., -256.76140184,\n",
            "       -256.78557606, -256.80008096]), array([-256.98793372, -256.98309524, -256.96858   , ..., -256.94438855,\n",
            "       -256.96858   , -256.98309524]), array([-257.17072576, -257.16588385, -257.15135829, ..., -257.12714962,\n",
            "       -257.15135829, -257.16588385]), array([-257.35329241, -257.34844706, -257.33391118, ..., -257.30968534,\n",
            "       -257.33391118, -257.34844706]), array([-257.53563394, -257.53078515, -257.51623898, ..., -257.49199597,\n",
            "       -257.51623898, -257.53078515]), array([-257.71775062, -257.71289841, -257.69834195, ..., -257.67408179,\n",
            "       -257.69834195, -257.71289841]), array([-257.89964274, -257.8947871 , -257.88022037, ..., -257.85594309,\n",
            "       -257.88022037, -257.8947871 ]), array([-258.08131057, -258.07645151, -258.06187452, ..., -258.03758014,\n",
            "       -258.06187452, -258.07645151]), array([-258.26275439, -258.25789191, -258.24330467, ..., -258.21899321,\n",
            "       -258.24330467, -258.25789191]), array([-258.44397447, -258.43910858, -258.42451111, ..., -258.40018259,\n",
            "       -258.42451111, -258.43910858]), array([-258.62497109, -258.6201018 , -258.6054941 , ..., -258.58114855,\n",
            "       -258.6054941 , -258.6201018 ]), array([-258.80574453, -258.80087183, -258.78625392, ..., -258.76189135,\n",
            "       -258.78625392, -258.80087183]), array([-258.98629506, -258.98141896, -258.96679086, ..., -258.94241129,\n",
            "       -258.96679086, -258.98141896]), array([-259.16662295, -259.16174346, -259.14710517, ..., -259.12270863,\n",
            "       -259.14710517, -259.16174346]), array([-259.34672849, -259.34184561, -259.32719714, ..., -259.30278365,\n",
            "       -259.32719714, -259.34184561]), array([-259.52661194, -259.52172567, -259.50706705, ..., -259.48263663,\n",
            "       -259.50706705, -259.52172567]), array([-259.70627358, -259.70138393, -259.68671516, ..., -259.66226782,\n",
            "       -259.68671516, -259.70138393]), array([-259.88571368, -259.88082066, -259.86614175, ..., -259.84167752,\n",
            "       -259.86614175, -259.88082066]), array([-260.06493252, -260.06003612, -260.04534709, ..., -260.020866  ,\n",
            "       -260.04534709, -260.06003612]), array([-260.24393037, -260.2390306 , -260.22433146, ..., -260.19983351,\n",
            "       -260.22433146, -260.2390306 ]), array([-260.4227075 , -260.41780436, -260.40309513, ..., -260.37858035,\n",
            "       -260.40309513, -260.41780436]), array([-260.60126418, -260.59635768, -260.58163836, ..., -260.55710678,\n",
            "       -260.58163836, -260.59635768]), array([-260.77960069, -260.77469083, -260.75996144, ..., -260.73541307,\n",
            "       -260.75996144, -260.77469083]), array([-260.9577173 , -260.95280409, -260.93806463, ..., -260.9134995 ,\n",
            "       -260.93806463, -260.95280409]), array([-261.13561427, -261.13069771, -261.11594821, ..., -261.09136633,\n",
            "       -261.11594821, -261.13069771]), array([-261.31329189, -261.30837198, -261.29361244, ..., -261.26901384,\n",
            "       -261.29361244, -261.30837198]), array([-261.49075041, -261.48582716, -261.4710576 , ..., -261.44644229,\n",
            "       -261.4710576 , -261.48582716]), array([-261.66799011, -261.66306353, -261.64828396, ..., -261.62365197,\n",
            "       -261.64828396, -261.66306353]), array([-261.84501127, -261.84008135, -261.82529178, ..., -261.80064313,\n",
            "       -261.82529178, -261.84008135]), array([-262.02181414, -262.01688089, -262.00208134, ..., -261.97741604,\n",
            "       -262.00208134, -262.01688089]), array([-262.198399  , -262.19346243, -262.1786529 , ..., -262.15397098,\n",
            "       -262.1786529 , -262.19346243]), array([-262.37476612, -262.36982623, -262.35500674, ..., -262.33030822,\n",
            "       -262.35500674, -262.36982623]), array([-262.55091576, -262.54597256, -262.53114312, ..., -262.50642802,\n",
            "       -262.53114312, -262.54597256]), array([-262.7268482 , -262.72190169, -262.70706231, ..., -262.68233065,\n",
            "       -262.70706231, -262.72190169]), array([-262.90256371, -262.89761388, -262.88276458, ..., -262.85801638,\n",
            "       -262.88276458, -262.89761388]), array([-263.07806254, -263.07310941, -263.0582502 , ..., -263.03348548,\n",
            "       -263.0582502 , -263.07310941]), array([-263.25334497, -263.24838854, -263.23351943, ..., -263.20873821,\n",
            "       -263.23351943, -263.24838854]), array([-263.42841126, -263.42345154, -263.40857254, ..., -263.38377484,\n",
            "       -263.40857254, -263.42345154]), array([-263.60326169, -263.59829867, -263.5834098 , ..., -263.55859564,\n",
            "       -263.5834098 , -263.59829867]), array([-263.77789651, -263.7729302 , -263.75803147, ..., -263.73320087,\n",
            "       -263.75803147, -263.7729302 ]), array([-263.952316  , -263.94734641, -263.93243782, ..., -263.9075908 ,\n",
            "       -263.93243782, -263.94734641]), array([-264.12652041, -264.12154754, -264.10662912, ..., -264.0817657 ,\n",
            "       -264.10662912, -264.12154754]), array([-264.30051002, -264.29553387, -264.28060562, ..., -264.25572583,\n",
            "       -264.28060562, -264.29553387]), array([-264.47428508, -264.46930567, -264.4543676 , ..., -264.42947145,\n",
            "       -264.4543676 , -264.46930567]), array([-264.64784587, -264.64286319, -264.62791532, ..., -264.60300283,\n",
            "       -264.62791532, -264.64286319]), array([-264.82119265, -264.8162067 , -264.80124904, ..., -264.77632024,\n",
            "       -264.80124904, -264.8162067 ]), array([-264.99432568, -264.98933647, -264.97436904, ..., -264.94942393,\n",
            "       -264.97436904, -264.98933647]), array([-265.16724523, -265.16225276, -265.14727556, ..., -265.12231418,\n",
            "       -265.14727556, -265.16225276]), array([-265.33995155, -265.33495583, -265.31996888, ..., -265.29499124,\n",
            "       -265.31996888, -265.33495583]), array([-265.51244491, -265.50744595, -265.49244925, ..., -265.46745538,\n",
            "       -265.49244925, -265.50744595]), array([-265.68472558, -265.67972338, -265.66471695, ..., -265.63970686,\n",
            "       -265.66471695, -265.67972338]), array([-265.85679382, -265.85178837, -265.83677223, ..., -265.81174594,\n",
            "       -265.83677223, -265.85178837]), array([-266.02864989, -266.0236412 , -266.00861535, ..., -265.98357289,\n",
            "       -266.00861535, -266.0236412 ]), array([-266.20029404, -266.19528213, -266.18024658, ..., -266.15518796,\n",
            "       -266.18024658, -266.19528213]), array([-266.37172655, -266.36671141, -266.35166618, ..., -266.32659142,\n",
            "       -266.35166618, -266.36671141]), array([-266.54294767, -266.5379293 , -266.5228744 , ..., -266.49778353,\n",
            "       -266.5228744 , -266.5379293 ]), array([-266.71395766, -266.70893608, -266.69387152, ..., -266.66876455,\n",
            "       -266.69387152, -266.70893608]), array([-266.88475679, -266.87973199, -266.86465778, ..., -266.83953474,\n",
            "       -266.86465778, -266.87973199]), array([-267.05534531, -267.0503173 , -267.03523346, ..., -267.01009435,\n",
            "       -267.03523346, -267.0503173 ]), array([-267.22572348, -267.22069227, -267.2055988 , ..., -267.18044366,\n",
            "       -267.2055988 , -267.22069227]), array([-267.39589157, -267.39085715, -267.37575408, ..., -267.35058292,\n",
            "       -267.37575408, -267.39085715]), array([-267.56584983, -267.56081221, -267.54569954, ..., -267.52051238,\n",
            "       -267.54569954, -267.56081221]), array([-267.73559853, -267.73055771, -267.71543545, ..., -267.69023231,\n",
            "       -267.71543545, -267.73055771]), array([-267.90513791, -267.9000939 , -267.88496206, ..., -267.85974297,\n",
            "       -267.88496206, -267.9000939 ]), array([-268.07446824, -268.06942104, -268.05427964, ..., -268.02904461,\n",
            "       -268.05427964, -268.06942104]), array([-268.24358977, -268.23853939, -268.22338844, ..., -268.19813749,\n",
            "       -268.22338844, -268.23853939]), array([-268.41250277, -268.40744921, -268.39228872, ..., -268.36702186,\n",
            "       -268.39228872, -268.40744921]), array([-268.58120749, -268.57615075, -268.56098073, ..., -268.535698  ,\n",
            "       -268.56098073, -268.57615075]), array([-268.74970419, -268.74464428, -268.72946474, ..., -268.70416615,\n",
            "       -268.72946474, -268.74464428]), array([-268.91799312, -268.91293004, -268.897741  , ..., -268.87242656,\n",
            "       -268.897741  , -268.91293004]), array([-269.08607454, -269.08100829, -269.06580976, ..., -269.0404795 ,\n",
            "       -269.06580976, -269.08100829]), array([-269.2539487 , -269.2488793 , -269.23367128, ..., -269.20832523,\n",
            "       -269.23367128, -269.2488793 ]), array([-269.42161587, -269.41654331, -269.40132583, ..., -269.37596399,\n",
            "       -269.40132583, -269.41654331]), array([-269.5890763 , -269.58400058, -269.56877364, ..., -269.54339604,\n",
            "       -269.56877364, -269.58400058]), array([-269.75633023, -269.75125137, -269.73601498, ..., -269.71062164,\n",
            "       -269.73601498, -269.75125137]), array([-269.92337794, -269.91829593, -269.90305011, ..., -269.87764104,\n",
            "       -269.90305011, -269.91829593]), array([-270.09021966, -270.08513451, -270.06987927, ..., -270.04445449,\n",
            "       -270.06987927, -270.08513451]), array([-270.25685566, -270.25176738, -270.23650272, ..., -270.21106226,\n",
            "       -270.23650272, -270.25176738]), array([-270.42328619, -270.41819477, -270.40292071, ..., -270.37746459,\n",
            "       -270.40292071, -270.41819477]), array([-270.5895115 , -270.58441695, -270.56913351, ..., -270.54366173,\n",
            "       -270.56913351, -270.58441695]), array([-270.75553185, -270.75043417, -270.73514135, ..., -270.70965395,\n",
            "       -270.73514135, -270.75043417]), array([-270.92134748, -270.91624669, -270.9009445 , ..., -270.87544149,\n",
            "       -270.9009445 , -270.91624669]), array([-271.08695866, -271.08185474, -271.0665432 , ..., -271.0410246 ,\n",
            "       -271.0665432 , -271.08185474]), array([-271.25236562, -271.2472586 , -271.23193771, ..., -271.20640355,\n",
            "       -271.23193771, -271.2472586 ]), array([-271.41756864, -271.4124585 , -271.39712829, ..., -271.37157857,\n",
            "       -271.39712829, -271.4124585 ]), array([-271.58256794, -271.5774547 , -271.56211517, ..., -271.53654992,\n",
            "       -271.56211517, -271.5774547 ]), array([-271.7473638 , -271.74224746, -271.72689862, ..., -271.70131786,\n",
            "       -271.72689862, -271.74224746]), array([-271.91195646, -271.90683701, -271.89147888, ..., -271.86588262,\n",
            "       -271.89147888, -271.90683701]), array([-272.07634616, -272.07122362, -272.0558562 , ..., -272.03024447,\n",
            "       -272.0558562 , -272.07122362]), array([-272.24053316, -272.23540753, -272.22003084, ..., -272.19440366,\n",
            "       -272.22003084, -272.23540753]), array([-272.40451771, -272.399389  , -272.38400304, ..., -272.35836043,\n",
            "       -272.38400304, -272.399389  ]), array([-272.56830007, -272.56316827, -272.54777306, ..., -272.52211503,\n",
            "       -272.54777306, -272.56316827]), array([-272.73188047, -272.72674559, -272.71134114, ..., -272.68566771,\n",
            "       -272.71134114, -272.72674559]), array([-272.89525916, -272.89012121, -272.87470754, ..., -272.84901873,\n",
            "       -272.87470754, -272.89012121]), array([-273.05843641, -273.05329538, -273.03787249, ..., -273.01216832,\n",
            "       -273.03787249, -273.05329538]), array([-273.22141245, -273.21626835, -273.20083626, ..., -273.17511675,\n",
            "       -273.20083626, -273.21626835]), array([-273.38418753, -273.37904037, -273.36359908, ..., -273.33786425,\n",
            "       -273.36359908, -273.37904037]), array([-273.5467619 , -273.54161168, -273.52616121, ..., -273.50041108,\n",
            "       -273.52616121, -273.54161168]), array([-273.70913581, -273.70398253, -273.68852289, ..., -273.66275748,\n",
            "       -273.68852289, -273.70398253]), array([-273.87130951, -273.86615318, -273.85068438, ..., -273.8249037 ,\n",
            "       -273.85068438, -273.86615318]), array([-274.03328324, -274.02812386, -274.01264591, ..., -273.98684998,\n",
            "       -274.01264591, -274.02812386]), array([-274.19505724, -274.18989482, -274.17440773, ..., -274.14859658,\n",
            "       -274.17440773, -274.18989482]), array([-274.35663178, -274.35146631, -274.3359701 , ..., -274.31014374,\n",
            "       -274.3359701 , -274.35146631]), array([-274.51800708, -274.51283858, -274.49733325, ..., -274.4714917 ,\n",
            "       -274.49733325, -274.51283858]), array([-274.6791834 , -274.67401186, -274.65849744, ..., -274.63264071,\n",
            "       -274.65849744, -274.67401186]), array([-274.84016099, -274.83498642, -274.8194629 , ..., -274.79359102,\n",
            "       -274.8194629 , -274.83498642]), array([-275.00094008, -274.99576248, -274.98022988, ..., -274.95434287,\n",
            "       -274.98022988, -274.99576248]), array([-275.16152092, -275.1563403 , -275.14079864, ..., -275.11489651,\n",
            "       -275.14079864, -275.1563403 ]), array([-275.32190377, -275.31672013, -275.3011694 , ..., -275.27525218,\n",
            "       -275.3011694 , -275.31672013]), array([-275.48208885, -275.47690219, -275.46134242, ..., -275.43541012,\n",
            "       -275.46134242, -275.47690219]), array([-275.64207642, -275.63688675, -275.62131794, ..., -275.59537058,\n",
            "       -275.62131794, -275.63688675]), array([-275.80186671, -275.79667404, -275.7810962 , ..., -275.7551338 ,\n",
            "       -275.7810962 , -275.79667404]), array([-275.96145998, -275.9562643 , -275.94067746, ..., -275.91470003,\n",
            "       -275.94067746, -275.9562643 ]), array([-276.12085647, -276.11565778, -276.10006194, ..., -276.07406951,\n",
            "       -276.10006194, -276.11565778]), array([-276.28005641, -276.27485473, -276.25924989, ..., -276.23324248,\n",
            "       -276.25924989, -276.27485473]), array([-276.43906005, -276.43385538, -276.41824156, ..., -276.39221918,\n",
            "       -276.41824156, -276.43385538]), array([-276.59786763, -276.59265997, -276.57703718, ..., -276.55099985,\n",
            "       -276.57703718, -276.59265997]), array([-276.7564794 , -276.75126875, -276.73563701, ..., -276.70958475,\n",
            "       -276.73563701, -276.75126875]), array([-276.91489559, -276.90968196, -276.89404127, ..., -276.8679741 ,\n",
            "       -276.89404127, -276.90968196]), array([-277.07311645, -277.06789985, -277.05225022, ..., -277.02616815,\n",
            "       -277.05225022, -277.06789985]), array([-277.23114222, -277.22592264, -277.21026408, ..., -277.18416715,\n",
            "       -277.21026408, -277.22592264]), array([-277.38897314, -277.38375058, -277.36808311, ..., -277.34197132,\n",
            "       -277.36808311, -277.38375058]), array([-277.54660944, -277.54138392, -277.52570755, ..., -277.49958092,\n",
            "       -277.52570755, -277.54138392]), array([-277.70405138, -277.69882289, -277.68313763, ..., -277.65699618,\n",
            "       -277.68313763, -277.69882289]), array([-277.86129918, -277.85606773, -277.84037359, ..., -277.81421733,\n",
            "       -277.84037359, -277.85606773]), array([-278.01835309, -278.01311868, -277.99741567, ..., -277.97124463,\n",
            "       -277.99741567, -278.01311868]), array([-278.17521334, -278.16997599, -278.15426411, ..., -278.12807831,\n",
            "       -278.15426411, -278.16997599]), array([-278.33188019, -278.32663988, -278.31091916, ..., -278.28471861,\n",
            "       -278.31091916, -278.32663988]), array([-278.48835385, -278.4831106 , -278.46738104, ..., -278.44116577,\n",
            "       -278.46738104, -278.4831106 ]), array([-278.64463458, -278.63938839, -278.62365   , ..., -278.59742002,\n",
            "       -278.62365   , -278.63938839]), array([-278.80072261, -278.79547348, -278.77972628, ..., -278.7534816 ,\n",
            "       -278.77972628, -278.79547348]), array([-278.95661818, -278.95136611, -278.9356101 , ..., -278.90935075,\n",
            "       -278.9356101 , -278.95136611]), array([-279.11232152, -279.10706652, -279.09130172, ..., -279.06502772,\n",
            "       -279.09130172, -279.10706652]), array([-279.26783288, -279.26257495, -279.24680137, ..., -279.22051272,\n",
            "       -279.24680137, -279.26257495]), array([-279.42315248, -279.41789163, -279.40210928, ..., -279.37580601,\n",
            "       -279.40210928, -279.41789163]), array([-279.57828057, -279.5730168 , -279.55722568, ..., -279.53090782,\n",
            "       -279.55722568, -279.5730168 ]), array([-279.73321739, -279.7279507 , -279.71215083, ..., -279.68581838,\n",
            "       -279.71215083, -279.7279507 ]), array([-279.88796316, -279.88269355, -279.86688495, ..., -279.84053793,\n",
            "       -279.86688495, -279.88269355]), array([-280.04251812, -280.03724561, -280.02142827, ..., -279.99506671,\n",
            "       -280.02142827, -280.03724561]), array([-280.19688251, -280.1916071 , -280.17578104, ..., -280.14940495,\n",
            "       -280.17578104, -280.1916071 ]), array([-280.35105657, -280.34577825, -280.32994349, ..., -280.30355288,\n",
            "       -280.32994349, -280.34577825]), array([-280.50504053, -280.49975931, -280.48391585, ..., -280.45751075,\n",
            "       -280.48391585, -280.49975931]), array([-280.65883461, -280.6535505 , -280.63769836, ..., -280.61127878,\n",
            "       -280.63769836, -280.6535505 ]), array([-280.81243907, -280.80715206, -280.79129124, ..., -280.76485721,\n",
            "       -280.79129124, -280.80715206]), array([-280.96585413, -280.96056423, -280.94469475, ..., -280.91824627,\n",
            "       -280.94469475, -280.96056423]), array([-281.11908002, -281.11378724, -281.0979091 , ..., -281.07144621,\n",
            "       -281.0979091 , -281.11378724]), array([-281.27211698, -281.26682132, -281.25093454, ..., -281.22445724,\n",
            "       -281.25093454, -281.26682132]), array([-281.42496524, -281.4196667 , -281.40377129, ..., -281.3772796 ,\n",
            "       -281.40377129, -281.4196667 ]), array([-281.57762503, -281.57232362, -281.55641959, ..., -281.52991353,\n",
            "       -281.55641959, -281.57232362]), array([-281.73009659, -281.72479231, -281.70887967, ..., -281.68235926,\n",
            "       -281.70887967, -281.72479231]), array([-281.88238015, -281.877073  , -281.86115176, ..., -281.83461701,\n",
            "       -281.86115176, -281.877073  ]), array([-282.03447594, -282.02916593, -282.01323609, ..., -281.98668703,\n",
            "       -282.01323609, -282.02916593]), array([-282.18638419, -282.18107132, -282.1651329 , ..., -282.13856954,\n",
            "       -282.1651329 , -282.18107132]), array([-282.33810513, -282.33278941, -282.31684242, ..., -282.29026478,\n",
            "       -282.31684242, -282.33278941]), array([-282.489639  , -282.48432042, -282.46836488, ..., -282.44177298,\n",
            "       -282.46836488, -282.48432042]), array([-282.64098602, -282.63566459, -282.6197005 , ..., -282.59309435,\n",
            "       -282.6197005 , -282.63566459]), array([-282.79214643, -282.78682216, -282.77084953, ..., -282.74422915,\n",
            "       -282.77084953, -282.78682216]), array([-282.94312046, -282.93779334, -282.92181218, ..., -282.89517759,\n",
            "       -282.92181218, -282.93779334]), array([-283.09390832, -283.08857837, -283.0725887 , ..., -283.04593991,\n",
            "       -283.0725887 , -283.08857837]), array([-283.24451027, -283.23917747, -283.2231793 , ..., -283.19651634,\n",
            "       -283.2231793 , -283.23917747]), array([-283.39492651, -283.38959089, -283.37358422, ..., -283.3469071 ,\n",
            "       -283.37358422, -283.38959089]), array([-283.54515729, -283.53981884, -283.52380369, ..., -283.49711243,\n",
            "       -283.52380369, -283.53981884]), array([-283.69520283, -283.68986156, -283.67383793, ..., -283.64713255,\n",
            "       -283.67383793, -283.68986156]), array([-283.84506337, -283.83971927, -283.82368718, ..., -283.79696769,\n",
            "       -283.82368718, -283.83971927]), array([-283.99473912, -283.9893922 , -283.97335165, ..., -283.94661808,\n",
            "       -283.97335165, -283.9893922 ]), array([-284.14423031, -284.13888058, -284.12283159, ..., -284.09608395,\n",
            "       -284.12283159, -284.13888058]), array([-284.29353718, -284.28818464, -284.27212722, ..., -284.24536552,\n",
            "       -284.27212722, -284.28818464]), array([-284.44265996, -284.43730461, -284.42123876, ..., -284.39446303,\n",
            "       -284.42123876, -284.43730461]), array([-284.59159886, -284.5862407 , -284.57016645, ..., -284.54337669,\n",
            "       -284.57016645, -284.5862407 ]), array([-284.74035411, -284.73499316, -284.7189105 , ..., -284.69210675,\n",
            "       -284.7189105 , -284.73499316]), array([-284.88892595, -284.8835622 , -284.86747115, ..., -284.84065341,\n",
            "       -284.86747115, -284.8835622 ]), array([-285.03731459, -285.03194805, -285.01584862, ..., -284.98901691,\n",
            "       -285.01584862, -285.03194805]), array([-285.18552027, -285.18015094, -285.16404314, ..., -285.13719748,\n",
            "       -285.16404314, -285.18015094]), array([-285.33354321, -285.32817109, -285.31205493, ..., -285.28519534,\n",
            "       -285.31205493, -285.32817109]), array([-285.48138363, -285.47600873, -285.45988422, ..., -285.43301071,\n",
            "       -285.45988422, -285.47600873]), array([-285.62904176, -285.62366408, -285.60753123, ..., -285.58064383,\n",
            "       -285.60753123, -285.62366408]), array([-285.77651783, -285.77113737, -285.75499619, ..., -285.72809491,\n",
            "       -285.75499619, -285.77113737]), array([-285.92381205, -285.91842882, -285.90227933, ..., -285.87536418,\n",
            "       -285.90227933, -285.91842882]), array([-286.07092466, -286.06553866, -286.04938086, ..., -286.02245186,\n",
            "       -286.04938086, -286.06553866]), array([-286.21785588, -286.21246711, -286.19630101, ..., -286.16935818,\n",
            "       -286.19630101, -286.21246711]), array([-286.36460593, -286.35921439, -286.34304   , ..., -286.31608336,\n",
            "       -286.34304   , -286.35921439]), array([-286.51117503, -286.50578074, -286.48959807, ..., -286.46262763,\n",
            "       -286.48959807, -286.50578074]), array([-286.65756341, -286.65216636, -286.63597542, ..., -286.60899121,\n",
            "       -286.63597542, -286.65216636]), array([-286.80377129, -286.79837149, -286.78217229, ..., -286.75517432,\n",
            "       -286.78217229, -286.79837149]), array([-286.94979889, -286.94439634, -286.9281889 , ..., -286.90117718,\n",
            "       -286.9281889 , -286.94439634]), array([-287.09564644, -287.09024114, -287.07402547, ..., -287.04700002,\n",
            "       -287.07402547, -287.09024114]), array([-287.24131415, -287.23590612, -287.21968221, ..., -287.19264305,\n",
            "       -287.21968221, -287.23590612]), array([-287.38680226, -287.38139148, -287.36515936, ..., -287.33810651,\n",
            "       -287.36515936, -287.38139148]), array([-287.53211097, -287.52669746, -287.51045713, ..., -287.4833906 ,\n",
            "       -287.51045713, -287.52669746]), array([-287.67724052, -287.67182428, -287.65557575, ..., -287.62849556,\n",
            "       -287.65557575, -287.67182428]), array([-287.82219112, -287.81677215, -287.80051544, ..., -287.7734216 ,\n",
            "       -287.80051544, -287.81677215]), array([-287.96696299, -287.9615413 , -287.94527641, ..., -287.91816895,\n",
            "       -287.94527641, -287.9615413 ]), array([-288.11155636, -288.10613194, -288.08985889, ..., -288.06273782,\n",
            "       -288.08985889, -288.10613194]), array([-288.25597144, -288.25054431, -288.2342631 , ..., -288.20712843,\n",
            "       -288.2342631 , -288.25054431]), array([-288.40020846, -288.39477861, -288.37848925, ..., -288.35134101,\n",
            "       -288.37848925, -288.39477861]), array([-288.54426763, -288.53883507, -288.52253757, ..., -288.49537577,\n",
            "       -288.52253757, -288.53883507]), array([-288.68814917, -288.6827139 , -288.66640828, ..., -288.63923294,\n",
            "       -288.66640828, -288.6827139 ]), array([-288.83185331, -288.82641533, -288.8101016 , ..., -288.78291272,\n",
            "       -288.8101016 , -288.82641533]), array([-288.97538025, -288.96993957, -288.95361773, ..., -288.92641535,\n",
            "       -288.95361773, -288.96993957]), array([-289.11873023, -289.11328685, -289.09695691, ..., -289.06974104,\n",
            "       -289.09695691, -289.11328685]), array([-289.26190345, -289.25645738, -289.24011936, ..., -289.21289001,\n",
            "       -289.24011936, -289.25645738]), array([-289.40490014, -289.39945137, -289.38310528, ..., -289.35586247,\n",
            "       -289.38310528, -289.39945137]), array([-289.54772051, -289.54226905, -289.52591489, ..., -289.49865864,\n",
            "       -289.52591489, -289.54226905]), array([-289.69036478, -289.68491064, -289.66854842, ..., -289.64127874,\n",
            "       -289.66854842, -289.68491064]), array([-289.83283317, -289.82737635, -289.81100608, ..., -289.78372299,\n",
            "       -289.81100608, -289.82737635]), array([-289.9751259 , -289.96966639, -289.95328809, ..., -289.92599161,\n",
            "       -289.95328809, -289.96966639]), array([-290.11724317, -290.11178099, -290.09539467, ..., -290.06808481,\n",
            "       -290.09539467, -290.11178099]), array([-290.25918522, -290.25372037, -290.23732602, ..., -290.2100028 ,\n",
            "       -290.23732602, -290.25372037]), array([-290.40095224, -290.39548472, -290.37908237, ..., -290.35174581,\n",
            "       -290.37908237, -290.39548472]), array([-290.54254447, -290.53707429, -290.52066394, ..., -290.49331405,\n",
            "       -290.52066394, -290.53707429]), array([-290.68396211, -290.67848927, -290.66207093, ..., -290.63470773,\n",
            "       -290.66207093, -290.67848927]), array([-290.82520539, -290.81972988, -290.80330357, ..., -290.77592707,\n",
            "       -290.80330357, -290.81972988]), array([-290.9662745 , -290.96079634, -290.94436207, ..., -290.91697229,\n",
            "       -290.94436207, -290.96079634]), array([-291.10716968, -291.10168887, -291.08524664, ..., -291.0578436 ,\n",
            "       -291.08524664, -291.10168887]), array([-291.24789114, -291.24240767, -291.22595749, ..., -291.19854121,\n",
            "       -291.22595749, -291.24240767]), array([-291.38843908, -291.38295297, -291.36649485, ..., -291.33906534,\n",
            "       -291.36649485, -291.38295297]), array([-291.52881373, -291.52332497, -291.50685893, ..., -291.4794162 ,\n",
            "       -291.50685893, -291.52332497]), array([-291.66901529, -291.6635239 , -291.64704993, ..., -291.61959401,\n",
            "       -291.64704993, -291.6635239 ]), array([-291.80904398, -291.80354996, -291.78706808, ..., -291.75959898,\n",
            "       -291.78706808, -291.80354996]), array([-291.94890002, -291.94340336, -291.92691359, ..., -291.89943132,\n",
            "       -291.92691359, -291.94340336]), array([-292.08858361, -292.08308432, -292.06658666, ..., -292.03909125,\n",
            "       -292.06658666, -292.08308432]), array([-292.22809497, -292.22259306, -292.20608752, ..., -292.17857897,\n",
            "       -292.20608752, -292.22259306]), array([-292.36743432, -292.36192978, -292.34541637, ..., -292.31789471,\n",
            "       -292.34541637, -292.36192978]), array([-292.50660185, -292.50109469, -292.48457342, ..., -292.45703867,\n",
            "       -292.48457342, -292.50109469]), array([-292.6455978 , -292.64008802, -292.6235589 , ..., -292.59601106,\n",
            "       -292.6235589 , -292.64008802]), array([-292.78442235, -292.77890997, -292.762373  , ..., -292.7348121 ,\n",
            "       -292.762373  , -292.77890997]), array([-292.92307574, -292.91756074, -292.90101595, ..., -292.87344199,\n",
            "       -292.90101595, -292.91756074]), array([-293.06155817, -293.05604056, -293.03948795, ..., -293.01190096,\n",
            "       -293.03948795, -293.05604056]), array([-293.19986985, -293.19434964, -293.17778921, ..., -293.1501892 ,\n",
            "       -293.17778921, -293.19434964]), array([-293.33801098, -293.33248817, -293.31591995, ..., -293.28830693,\n",
            "       -293.31591995, -293.33248817]), array([-293.47598179, -293.47045639, -293.45388037, ..., -293.42625437,\n",
            "       -293.45388037, -293.47045639]), array([-293.61378248, -293.60825448, -293.59167068, ..., -293.56403171,\n",
            "       -293.59167068, -293.60825448]), array([-293.75141327, -293.74588267, -293.7292911 , ..., -293.70163917,\n",
            "       -293.7292911 , -293.74588267]), array([-293.88887435, -293.88334117, -293.86674183, ..., -293.83907697,\n",
            "       -293.86674183, -293.88334117]), array([-294.02616594, -294.02063017, -294.00402308, ..., -293.9763453 ,\n",
            "       -294.00402308, -294.02063017]), array([-294.16328825, -294.1577499 , -294.14113507, ..., -294.11344438,\n",
            "       -294.14113507, -294.1577499 ]), array([-294.30024149, -294.29470056, -294.278078  , ..., -294.25037441,\n",
            "       -294.278078  , -294.29470056]), array([-294.43702586, -294.43148236, -294.41485207, ..., -294.38713561,\n",
            "       -294.41485207, -294.43148236]), array([-294.57364158, -294.56809551, -294.5514575 , ..., -294.52372818,\n",
            "       -294.5514575 , -294.56809551]), array([-294.71008885, -294.70454021, -294.6878945 , ..., -294.66015233,\n",
            "       -294.6878945 , -294.70454021]), array([-294.84636788, -294.84081668, -294.82416327, ..., -294.79640828,\n",
            "       -294.82416327, -294.84081668]), array([-294.98247888, -294.97692511, -294.96026402, ..., -294.93249621,\n",
            "       -294.96026402, -294.97692511]), array([-295.11842206, -295.11286573, -295.09619695, ..., -295.06841636,\n",
            "       -295.09619695, -295.11286573]), array([-295.25419761, -295.24863873, -295.23196228, ..., -295.20416891,\n",
            "       -295.23196228, -295.24863873]), array([-295.38980576, -295.38424432, -295.36756021, ..., -295.33975407,\n",
            "       -295.36756021, -295.38424432]), array([-295.52524669, -295.51968271, -295.50299095, ..., -295.47517207,\n",
            "       -295.50299095, -295.51968271]), array([-295.66052063, -295.6549541 , -295.63825471, ..., -295.61042309,\n",
            "       -295.63825471, -295.6549541 ]), array([-295.79562778, -295.7900587 , -295.77335168, ..., -295.74550734,\n",
            "       -295.77335168, -295.7900587 ]), array([-295.93056834, -295.92499672, -295.90828208, ..., -295.88042504,\n",
            "       -295.90828208, -295.92499672]), array([-296.06534252, -296.05976836, -296.04304611, ..., -296.01517638,\n",
            "       -296.04304611, -296.05976836]), array([-296.19995052, -296.19437383, -296.17764397, ..., -296.14976157,\n",
            "       -296.17764397, -296.19437383]), array([-296.33439254, -296.32881332, -296.31207587, ..., -296.28418082,\n",
            "       -296.31207587, -296.32881332]), array([-296.46866881, -296.46308706, -296.44634202, ..., -296.41843434,\n",
            "       -296.44634202, -296.46308706]), array([-296.6027795 , -296.59719523, -296.58044262, ..., -296.55252231,\n",
            "       -296.58044262, -296.59719523]), array([-296.73672484, -296.73113805, -296.71437788, ..., -296.68644496,\n",
            "       -296.71437788, -296.73113805]), array([-296.87050503, -296.86491572, -296.84814799, ..., -296.82020248,\n",
            "       -296.84814799, -296.86491572]), array([-297.00412026, -296.99852844, -296.98175316, ..., -296.95379508,\n",
            "       -296.98175316, -296.99852844]), array([-297.13757075, -297.13197641, -297.1151936 , ..., -297.08722295,\n",
            "       -297.1151936 , -297.13197641]), array([-297.27085669, -297.26525984, -297.24846951, ..., -297.22048631,\n",
            "       -297.24846951, -297.26525984]), array([-297.4039783 , -297.39837894, -297.38158108, ..., -297.35358536,\n",
            "       -297.38158108, -297.39837894]), array([-297.53693576, -297.5313339 , -297.51452853, ..., -297.4865203 ,\n",
            "       -297.51452853, -297.5313339 ]), array([-297.66972928, -297.66412493, -297.64731206, ..., -297.61929132,\n",
            "       -297.64731206, -297.66412493]), array([-297.80235908, -297.79675222, -297.77993187, ..., -297.75189864,\n",
            "       -297.77993187, -297.79675222]), array([-297.93482533, -297.92921599, -297.91238815, ..., -297.88434246,\n",
            "       -297.91238815, -297.92921599]), array([-298.06712826, -298.06151642, -298.04468112, ..., -298.01662297,\n",
            "       -298.04468112, -298.06151642]), array([-298.19926806, -298.19365374, -298.17681096, ..., -298.14874038,\n",
            "       -298.17681096, -298.19365374]), array([-298.33124493, -298.32562812, -298.3087779 , ..., -298.2806949 ,\n",
            "       -298.3087779 , -298.32562812]), array([-298.46305908, -298.45743979, -298.44058212, ..., -298.41248671,\n",
            "       -298.44058212, -298.45743979]), array([-298.5947107 , -298.58908892, -298.57222382, ..., -298.54411602,\n",
            "       -298.57222382, -298.58908892]), array([-298.72619999, -298.72057574, -298.70370321, ..., -298.67558303,\n",
            "       -298.70370321, -298.72057574]), array([-298.85752715, -298.85190043, -298.83502049, ..., -298.80688795,\n",
            "       -298.83502049, -298.85190043]), array([-298.98869239, -298.98306321, -298.96617585, ..., -298.93803097,\n",
            "       -298.96617585, -298.98306321]), array([-299.11969591, -299.11406425, -299.0971695 , ..., -299.06901229,\n",
            "       -299.0971695 , -299.11406425]), array([-299.25053789, -299.24490378, -299.22800163, ..., -299.1998321 ,\n",
            "       -299.22800163, -299.24490378]), array([-299.38121855, -299.37558198, -299.35867245, ..., -299.33049062,\n",
            "       -299.35867245, -299.37558198]), array([-299.51173808, -299.50609905, -299.48918216, ..., -299.46098804,\n",
            "       -299.48918216, -299.50609905]), array([-299.64209668, -299.6364552 , -299.61953094, ..., -299.59132455,\n",
            "       -299.61953094, -299.6364552 ]), array([-299.77229455, -299.76665061, -299.749719  , ..., -299.72150036,\n",
            "       -299.749719  , -299.76665061]), array([-299.90233189, -299.8966855 , -299.87974655, ..., -299.85151567,\n",
            "       -299.87974655, -299.8966855 ]), array([-300.03220889, -300.02656006, -300.00961377, ..., -299.98137066,\n",
            "       -300.00961377, -300.02656006]), array([-300.16192575, -300.15627448, -300.13932086, ..., -300.11106555,\n",
            "       -300.13932086, -300.15627448]), array([-300.29148267, -300.28582896, -300.26886803, ..., -300.24060052,\n",
            "       -300.26886803, -300.28582896]), array([-300.42087985, -300.4152237 , -300.39825546, ..., -300.36997578,\n",
            "       -300.39825546, -300.4152237 ]), array([-300.55011749, -300.5444589 , -300.52748337, ..., -300.49919151,\n",
            "       -300.52748337, -300.5444589 ]), array([-300.67919577, -300.67353476, -300.65655193, ..., -300.62824793,\n",
            "       -300.65655193, -300.67353476]), array([-300.8081149 , -300.80245146, -300.78546135, ..., -300.75714522,\n",
            "       -300.78546135, -300.80245146]), array([-300.93687508, -300.93120921, -300.91421183, ..., -300.88588358,\n",
            "       -300.91421183, -300.93120921]), array([-301.06547649, -301.05980821, -301.04280356, ..., -301.0144632 ,\n",
            "       -301.04280356, -301.05980821]), array([-301.19391934, -301.18824864, -301.17123674, ..., -301.14288429,\n",
            "       -301.17123674, -301.18824864]), array([-301.32220382, -301.3165307 , -301.29951156, ..., -301.27114704,\n",
            "       -301.29951156, -301.3165307 ]), array([-301.45033013, -301.4446546 , -301.42762822, ..., -301.39925164,\n",
            "       -301.42762822, -301.4446546 ]), array([-301.57829846, -301.57262052, -301.55558691, ..., -301.52719828,\n",
            "       -301.55558691, -301.57262052]), array([-301.706109  , -301.70042865, -301.68338783, ..., -301.65498717,\n",
            "       -301.68338783, -301.70042865]), array([-301.83376195, -301.82807921, -301.81103117, ..., -301.7826185 ,\n",
            "       -301.81103117, -301.82807921]), array([-301.96125751, -301.95557236, -301.93851713, ..., -301.91009246,\n",
            "       -301.93851713, -301.95557236]), array([-302.08859587, -302.08290833, -302.0658459 , ..., -302.03740924,\n",
            "       -302.0658459 , -302.08290833]), array([-302.21577722, -302.21008728, -302.19301768, ..., -302.16456905,\n",
            "       -302.19301768, -302.21008728]), array([-302.34280176, -302.33710943, -302.32003265, ..., -302.29157206,\n",
            "       -302.32003265, -302.33710943]), array([-302.46966968, -302.46397496, -302.44689101, ..., -302.41841848,\n",
            "       -302.44689101, -302.46397496]), array([-302.59638117, -302.59068406, -302.57359296, ..., -302.54510851,\n",
            "       -302.57359296, -302.59068406]), array([-302.72293643, -302.71723694, -302.70013869, ..., -302.67164232,\n",
            "       -302.70013869, -302.71723694]), array([-302.84933564, -302.84363377, -302.82652839, ..., -302.79802012,\n",
            "       -302.82652839, -302.84363377]), array([-302.97557901, -302.96987476, -302.95276225, ..., -302.9242421 ,\n",
            "       -302.95276225, -302.96987476]), array([-303.10166672, -303.0959601 , -303.07884046, ..., -303.05030845,\n",
            "       -303.07884046, -303.0959601 ]), array([-303.22759896, -303.22188997, -303.20476322, ..., -303.17621935,\n",
            "       -303.20476322, -303.22188997]), array([-303.35337593, -303.34766457, -303.33053072, ..., -303.30197501,\n",
            "       -303.33053072, -303.34766457]), array([-303.47899782, -303.4732841 , -303.45614315, ..., -303.42757562,\n",
            "       -303.45614315, -303.4732841 ]), array([-303.60446482, -303.59874874, -303.5816007 , ..., -303.55302136,\n",
            "       -303.5816007 , -303.59874874]), array([-303.72977712, -303.72405868, -303.70690356, ..., -303.67831243,\n",
            "       -303.70690356, -303.72405868]), array([-303.85493491, -303.84921411, -303.83205193, ..., -303.80344902,\n",
            "       -303.83205193, -303.84921411]), array([-303.97993838, -303.97421523, -303.95704599, ..., -303.92843131,\n",
            "       -303.95704599, -303.97421523]), array([-304.10478773, -304.09906222, -304.08188593, ..., -304.0532595 ,\n",
            "       -304.08188593, -304.09906222]), array([-304.22948313, -304.22375528, -304.20657195, ..., -304.17793378,\n",
            "       -304.20657195, -304.22375528]), array([-304.35402479, -304.3482946 , -304.33110423, ..., -304.30245434,\n",
            "       -304.33110423, -304.3482946 ]), array([-304.47841289, -304.47268035, -304.45548296, ..., -304.42682137,\n",
            "       -304.45548296, -304.47268035]), array([-304.60264762, -304.59691275, -304.57970834, ..., -304.55103505,\n",
            "       -304.57970834, -304.59691275]), array([-304.72672917, -304.72099196, -304.70378055, ..., -304.67509558,\n",
            "       -304.70378055, -304.72099196]), array([-304.85065773, -304.84491819, -304.82769978, ..., -304.79900314,\n",
            "       -304.82769978, -304.84491819]), array([-304.97443349, -304.96869162, -304.95146621, ..., -304.92275793,\n",
            "       -304.95146621, -304.96869162]), array([-305.09805663, -305.09231243, -305.07508005, ..., -305.04636013,\n",
            "       -305.07508005, -305.09231243]), array([-305.22152735, -305.21578083, -305.19854147, ..., -305.16980992,\n",
            "       -305.19854147, -305.21578083]), array([-305.34484583, -305.33909699, -305.32185066, ..., -305.29310751,\n",
            "       -305.32185066, -305.33909699]), array([-305.46801226, -305.4622611 , -305.44500782, ..., -305.41625307,\n",
            "       -305.44500782, -305.4622611 ]), array([-305.59102683, -305.58527335, -305.56801312, ..., -305.5392468 ,\n",
            "       -305.56801312, -305.58527335]), array([-305.71388972, -305.70813393, -305.69086676, ..., -305.66208888,\n",
            "       -305.69086676, -305.70813393]), array([-305.83660113, -305.83084302, -305.81356893, ..., -305.78477949,\n",
            "       -305.81356893, -305.83084302]), array([-305.95916123, -305.95340082, -305.9361198 , ..., -305.90731883,\n",
            "       -305.9361198 , -305.95340082]), array([-306.08157022, -306.0758075 , -306.05851957, ..., -306.02970708,\n",
            "       -306.05851957, -306.0758075 ]), array([-306.20382827, -306.19806326, -306.18076842, ..., -306.15194442,\n",
            "       -306.18076842, -306.19806326]), array([-306.32593559, -306.32016827, -306.30286654, ..., -306.27403105,\n",
            "       -306.30286654, -306.32016827]), array([-306.44789235, -306.44212274, -306.42481412, ..., -306.39596715,\n",
            "       -306.42481412, -306.44212274]), array([-306.56969874, -306.56392683, -306.54661134, ..., -306.5177529 ,\n",
            "       -306.54661134, -306.56392683]), array([-306.69135494, -306.68558075, -306.66825838, ..., -306.63938849,\n",
            "       -306.66825838, -306.68558075]), array([-306.81286115, -306.80708466, -306.78975543, ..., -306.76087411,\n",
            "       -306.78975543, -306.80708466]), array([-306.93421753, -306.92843877, -306.91110268, ..., -306.88220993,\n",
            "       -306.91110268, -306.92843877]), array([-307.05542429, -307.04964324, -307.03230031, ..., -307.00339616,\n",
            "       -307.03230031, -307.04964324]), array([-307.1764816 , -307.17069827, -307.15334851, ..., -307.12443296,\n",
            "       -307.15334851, -307.17069827]), array([-307.29738965, -307.29160405, -307.27424745, ..., -307.24532052,\n",
            "       -307.27424745, -307.29160405]), array([-307.41814862, -307.41236075, -307.39499733, ..., -307.36605903,\n",
            "       -307.39499733, -307.41236075]), array([-307.5387587 , -307.53296855, -307.51559833, ..., -307.48664868,\n",
            "       -307.51559833, -307.53296855]), array([-307.65922007, -307.65342765, -307.63605062, ..., -307.60708964,\n",
            "       -307.63605062, -307.65342765]), array([-307.77953291, -307.77373823, -307.7563544 , ..., -307.72738209,\n",
            "       -307.7563544 , -307.77373823]), array([-307.8996974 , -307.89390046, -307.87650985, ..., -307.84752623,\n",
            "       -307.87650985, -307.89390046]), array([-308.01971374, -308.01391454, -307.99651715, ..., -307.96752223,\n",
            "       -307.99651715, -308.01391454]), array([-308.1395821 , -308.13378064, -308.11637648, ..., -308.08737028,\n",
            "       -308.11637648, -308.13378064]), array([-308.25930266, -308.25349895, -308.23608803, ..., -308.20707056,\n",
            "       -308.23608803, -308.25349895]), array([-308.37887561, -308.37306965, -308.35565197, ..., -308.32662325,\n",
            "       -308.35565197, -308.37306965]), array([-308.49830113, -308.49249291, -308.4750685 , ..., -308.44602853,\n",
            "       -308.4750685 , -308.49249291]), array([-308.61757939, -308.61176894, -308.59433778, ..., -308.56528659,\n",
            "       -308.59433778, -308.61176894]), array([-308.73671059, -308.73089789, -308.71346001, ..., -308.68439761,\n",
            "       -308.71346001, -308.73089789]), array([-308.85569491, -308.84987997, -308.83243537, ..., -308.80336176,\n",
            "       -308.83243537, -308.84987997]), array([-308.97453251, -308.96871534, -308.95126402, ..., -308.92217924,\n",
            "       -308.95126402, -308.96871534]), array([-309.0932236 , -309.08740418, -309.06994617, ..., -309.04085021,\n",
            "       -309.06994617, -309.08740418]), array([-309.21176833, -309.20594669, -309.18848198, ..., -309.15937486,\n",
            "       -309.18848198, -309.20594669]), array([-309.33016691, -309.32434304, -309.30687164, ..., -309.27775338,\n",
            "       -309.30687164, -309.32434304]), array([-309.4484195 , -309.4425934 , -309.42511533, ..., -309.39598594,\n",
            "       -309.42511533, -309.4425934 ]), array([-309.56652629, -309.56069797, -309.54321322, ..., -309.51407271,\n",
            "       -309.54321322, -309.56069797]), array([-309.68448746, -309.67865691, -309.66116551, ..., -309.63201389,\n",
            "       -309.66116551, -309.67865691]), array([-309.80230318, -309.79647042, -309.77897236, ..., -309.74980966,\n",
            "       -309.77897236, -309.79647042]), array([-309.91997363, -309.91413866, -309.89663395, ..., -309.86746018,\n",
            "       -309.89663395, -309.91413866]), array([-310.03749901, -310.03166182, -310.01415047, ..., -309.98496564,\n",
            "       -310.01415047, -310.03166182]), array([-310.15487947, -310.14904007, -310.1315221 , ..., -310.10232621,\n",
            "       -310.1315221 , -310.14904007]), array([-310.27211521, -310.2662736 , -310.24874901, ..., -310.21954209,\n",
            "       -310.24874901, -310.2662736 ]), array([-310.38920639, -310.38336259, -310.36583138, ..., -310.33661344,\n",
            "       -310.36583138, -310.38336259]), array([-310.50615321, -310.5003072 , -310.48276939, ..., -310.45354044,\n",
            "       -310.48276939, -310.5003072 ]), array([-310.62295583, -310.61710763, -310.59956322, ..., -310.57032327,\n",
            "       -310.59956322, -310.61710763]), array([-310.73961444, -310.73376404, -310.71621304, ..., -310.68696212,\n",
            "       -310.71621304, -310.73376404]), array([-310.85612921, -310.85027661, -310.83271904, ..., -310.80345715,\n",
            "       -310.83271904, -310.85027661]), array([-310.97250032, -310.96664553, -310.94908139, ..., -310.91980854,\n",
            "       -310.94908139, -310.96664553]), array([-311.08872795, -311.08287097, -311.06530026, ..., -311.03601648,\n",
            "       -311.06530026, -311.08287097]), array([-311.20481227, -311.19895311, -311.18137584, ..., -311.15208113,\n",
            "       -311.18137584, -311.19895311]), array([-311.32075346, -311.31489212, -311.2973083 , ..., -311.26800268,\n",
            "       -311.2973083 , -311.31489212]), array([-311.4365517 , -311.43068817, -311.41309782, ..., -311.3837813 ,\n",
            "       -311.41309782, -311.43068817]), array([-311.55220716, -311.54634146, -311.52874457, ..., -311.49941716,\n",
            "       -311.52874457, -311.54634146]), array([-311.66772002, -311.66185214, -311.64424873, ..., -311.61491045,\n",
            "       -311.64424873, -311.66185214]), array([-311.78309046, -311.77722041, -311.75961048, ..., -311.73026134,\n",
            "       -311.75961048, -311.77722041]), array([-311.89831864, -311.89244642, -311.87482999, ..., -311.84547001,\n",
            "       -311.87482999, -311.89244642]), array([-312.01340475, -312.00753037, -311.98990744, ..., -311.96053662,\n",
            "       -311.98990744, -312.00753037]), array([-312.12834897, -312.12247242, -312.104843  , ..., -312.07546136,\n",
            "       -312.104843  , -312.12247242]), array([-312.24315146, -312.23727275, -312.21963684, ..., -312.1902444 ,\n",
            "       -312.21963684, -312.23727275]), array([-312.3578124 , -312.35193153, -312.33428915, ..., -312.30488591,\n",
            "       -312.33428915, -312.35193153]), array([-312.47233197, -312.46644894, -312.44880009, ..., -312.41938608,\n",
            "       -312.44880009, -312.46644894]), array([-312.58671033, -312.58082515, -312.56316984, ..., -312.53374507,\n",
            "       -312.56316984, -312.58082515]), array([-312.70094767, -312.69506034, -312.67739858, ..., -312.64796305,\n",
            "       -312.67739858, -312.69506034]), array([-312.81504416, -312.80915469, -312.79148648, ..., -312.76204021,\n",
            "       -312.79148648, -312.80915469]), array([-312.92899997, -312.92310835, -312.90543371, ..., -312.87597671,\n",
            "       -312.90543371, -312.92310835]), array([-313.04281528, -313.03692151, -313.01924044, ..., -312.98977273,\n",
            "       -313.01924044, -313.03692151]), array([-313.15649025, -313.15059435, -313.13290686, ..., -313.10342845,\n",
            "       -313.13290686, -313.15059435]), array([-313.27002506, -313.26412702, -313.24643312, ..., -313.21694403,\n",
            "       -313.24643312, -313.26412702]), array([-313.38341989, -313.37751972, -313.35981941, ..., -313.33031965,\n",
            "       -313.35981941, -313.37751972]), array([-313.49667491, -313.4907726 , -313.4730659 , ..., -313.44355547,\n",
            "       -313.4730659 , -313.4907726 ]), array([-313.60979028, -313.60388585, -313.58617276, ..., -313.55665168,\n",
            "       -313.58617276, -313.60388585]), array([-313.72276619, -313.71685963, -313.69914016, ..., -313.66960845,\n",
            "       -313.69914016, -313.71685963]), array([-313.8356028 , -313.82969411, -313.81196827, ..., -313.78242594,\n",
            "       -313.81196827, -313.82969411]), array([-313.94830029, -313.94238948, -313.92465727, ..., -313.89510433,\n",
            "       -313.92465727, -313.94238948]), array([-314.06085882, -314.05494589, -314.03720733, ..., -314.0076438 ,\n",
            "       -314.03720733, -314.05494589]), array([-314.17327857, -314.16736352, -314.14961861, ..., -314.1200445 ,\n",
            "       -314.14961861, -314.16736352]), array([-314.28555971, -314.27964255, -314.2618913 , ..., -314.23230662,\n",
            "       -314.2618913 , -314.27964255]), array([-314.39770241, -314.39178314, -314.37402555, ..., -314.34443032,\n",
            "       -314.37402555, -314.39178314]), array([-314.50970684, -314.50378546, -314.48602155, ..., -314.45641577,\n",
            "       -314.48602155, -314.50378546]), array([-314.62157317, -314.61564968, -314.59787945, ..., -314.56826315,\n",
            "       -314.59787945, -314.61564968]), array([-314.73330157, -314.72737598, -314.70959944, ..., -314.67997262,\n",
            "       -314.70959944, -314.72737598]), array([-314.84489221, -314.83896453, -314.82118169, ..., -314.79154436,\n",
            "       -314.82118169, -314.83896453]), array([-314.95634527, -314.95041548, -314.93262635, ..., -314.90297853,\n",
            "       -314.93262635, -314.95041548]), array([-315.06766091, -315.06172903, -315.0439336 , ..., -315.01427531,\n",
            "       -315.0439336 , -315.06172903]), array([-315.1788393 , -315.17290532, -315.15510362, ..., -315.12543486,\n",
            "       -315.15510362, -315.17290532]), array([-315.2898806 , -315.28394454, -315.26613657, ..., -315.23645736,\n",
            "       -315.26613657, -315.28394454]), array([-315.400785  , -315.39484685, -315.37703261, ..., -315.34734296,\n",
            "       -315.37703261, -315.39484685]), array([-315.51155265, -315.50561242, -315.48779193, ..., -315.45809185,\n",
            "       -315.48779193, -315.50561242]), array([-315.62218374, -315.61624141, -315.59841468, ..., -315.56870419,\n",
            "       -315.59841468, -315.61624141]), array([-315.73267841, -315.72673401, -315.70890103, ..., -315.67918014,\n",
            "       -315.70890103, -315.72673401]), array([-315.84303685, -315.83709037, -315.81925116, ..., -315.78951989,\n",
            "       -315.81925116, -315.83709037]), array([-315.95325922, -315.94731067, -315.92946523, ..., -315.89972358,\n",
            "       -315.92946523, -315.94731067]), array([-316.06334569, -316.05739506, -316.03954341, ..., -316.0097914 ,\n",
            "       -316.03954341, -316.05739506]), array([-316.17329642, -316.16734373, -316.14948586, ..., -316.1197235 ,\n",
            "       -316.14948586, -316.16734373]), array([-316.28311159, -316.27715683, -316.25929276, ..., -316.22952007,\n",
            "       -316.25929276, -316.27715683]), array([-316.39279136, -316.38683453, -316.36896427, ..., -316.33918125,\n",
            "       -316.36896427, -316.38683453]), array([-316.50233589, -316.496377  , -316.47850056, ..., -316.44870723,\n",
            "       -316.47850056, -316.496377  ]), array([-316.61174537, -316.60578442, -316.58790179, ..., -316.55809817,\n",
            "       -316.58790179, -316.60578442]), array([-316.72101994, -316.71505693, -316.69716814, ..., -316.66735422,\n",
            "       -316.69716814, -316.71505693]), array([-316.83015978, -316.82419472, -316.80629976, ..., -316.77647557,\n",
            "       -316.80629976, -316.82419472]), array([-316.93916505, -316.93319794, -316.91529682, ..., -316.88546238,\n",
            "       -316.91529682, -316.93319794]), array([-317.04803592, -317.04206676, -317.0241595 , ..., -316.99431481,\n",
            "       -317.0241595 , -317.04206676]), array([-317.15677256, -317.15080135, -317.13288795, ..., -317.10303302,\n",
            "       -317.13288795, -317.15080135]), array([-317.26537513, -317.25940188, -317.24148234, ..., -317.21161719,\n",
            "       -317.24148234, -317.25940188]), array([-317.3738438 , -317.3678685 , -317.34994284, ..., -317.32006748,\n",
            "       -317.34994284, -317.3678685 ]), array([-317.48217872, -317.47620139, -317.4582696 , ..., -317.42838405,\n",
            "       -317.4582696 , -317.47620139]), array([-317.59038007, -317.5844007 , -317.56646281, ..., -317.53656707,\n",
            "       -317.56646281, -317.5844007 ]), array([-317.69844802, -317.69246661, -317.67452261, ..., -317.6446167 ,\n",
            "       -317.67452261, -317.69246661]), array([-317.80638271, -317.80039928, -317.78244918, ..., -317.75253312,\n",
            "       -317.78244918, -317.80039928]), array([-317.91418433, -317.90819886, -317.89024268, ..., -317.86031647,\n",
            "       -317.89024268, -317.90819886]), array([-318.02185303, -318.01586554, -317.99790328, ..., -317.96796693,\n",
            "       -317.99790328, -318.01586554]), array([-318.12938898, -318.12339946, -318.10543113, ..., -318.07548466,\n",
            "       -318.10543113, -318.12339946]), array([-318.23679234, -318.2308008 , -318.2128264 , ..., -318.18286982,\n",
            "       -318.2128264 , -318.2308008 ]), array([-318.34406328, -318.33806972, -318.32008926, ..., -318.29012258,\n",
            "       -318.32008926, -318.33806972]), array([-318.45120195, -318.44520637, -318.42721986, ..., -318.3972431 ,\n",
            "       -318.42721986, -318.44520637]), array([-318.55820852, -318.55221093, -318.53421838, ..., -318.50423155,\n",
            "       -318.53421838, -318.55221093]), array([-318.66508316, -318.65908356, -318.64108497, ..., -318.61108808,\n",
            "       -318.64108497, -318.65908356]), array([-318.77182603, -318.76582441, -318.7478198 , ..., -318.71781286,\n",
            "       -318.7478198 , -318.76582441]), array([-318.87843728, -318.87243366, -318.85442303, ..., -318.82440605,\n",
            "       -318.85442303, -318.87243366]), array([-318.98491709, -318.97891146, -318.96089481, ..., -318.93086782,\n",
            "       -318.96089481, -318.97891146]), array([-319.09126561, -319.08525798, -319.06723532, ..., -319.03719832,\n",
            "       -319.06723532, -319.08525798]), array([-319.197483  , -319.19147337, -319.17344472, ..., -319.14339772,\n",
            "       -319.17344472, -319.19147337]), array([-319.30356943, -319.29755781, -319.27952316, ..., -319.24946618,\n",
            "       -319.27952316, -319.29755781]), array([-319.40952506, -319.40351144, -319.38547081, ..., -319.35540385,\n",
            "       -319.38547081, -319.40351144]), array([-319.51535005, -319.50933444, -319.49128784, ..., -319.46121092,\n",
            "       -319.49128784, -319.50933444]), array([-319.62104456, -319.61502696, -319.59697439, ..., -319.56688752,\n",
            "       -319.59697439, -319.61502696]), array([-319.72660876, -319.72058917, -319.70253063, ..., -319.67243383,\n",
            "       -319.70253063, -319.72058917]), array([-319.83204279, -319.82602122, -319.80795673, ..., -319.77785   ,\n",
            "       -319.80795673, -319.82602122]), array([-319.93734683, -319.93132328, -319.91325284, ..., -319.8831362 ,\n",
            "       -319.91325284, -319.93132328]), array([-320.04252103, -320.0364955 , -320.01841912, ..., -319.98829258,\n",
            "       -320.01841912, -320.0364955 ]), array([-320.14756556, -320.14153805, -320.12345574, ..., -320.09331931,\n",
            "       -320.12345574, -320.14153805]), array([-320.25248057, -320.24645108, -320.22836284, ..., -320.19821654,\n",
            "       -320.22836284, -320.24645108]), array([-320.35726622, -320.35123476, -320.33314061, ..., -320.30298444,\n",
            "       -320.33314061, -320.35123476]), array([-320.46192267, -320.45588924, -320.43778918, ..., -320.40762317,\n",
            "       -320.43778918, -320.45588924]), array([-320.56645009, -320.56041469, -320.54230872, ..., -320.51213287,\n",
            "       -320.54230872, -320.56041469]), array([-320.67084862, -320.66481126, -320.6466994 , ..., -320.61651372,\n",
            "       -320.6466994 , -320.66481126]), array([-320.77511844, -320.76907912, -320.75096137, ..., -320.72076587,\n",
            "       -320.75096137, -320.76907912]), array([-320.8792597 , -320.87321841, -320.85509478, ..., -320.82488948,\n",
            "       -320.85509478, -320.87321841]), array([-320.98327255, -320.97722931, -320.9590998 , ..., -320.92888472,\n",
            "       -320.9590998 , -320.97722931]), array([-321.08715716, -321.08111196, -321.06297659, ..., -321.03275172,\n",
            "       -321.06297659, -321.08111196]), array([-321.19091368, -321.18486653, -321.16672529, ..., -321.13649067,\n",
            "       -321.16672529, -321.18486653]), array([-321.29454227, -321.28849317, -321.27034608, ..., -321.2401017 ,\n",
            "       -321.27034608, -321.28849317]), array([-321.3980431 , -321.39199204, -321.37383911, ..., -321.34358499,\n",
            "       -321.37383911, -321.39199204]), array([-321.5014163 , -321.49536331, -321.47720454, ..., -321.44694069,\n",
            "       -321.47720454, -321.49536331]), array([-321.60466206, -321.59860712, -321.58044252, ..., -321.55016895,\n",
            "       -321.58044252, -321.59860712]), array([-321.70778051, -321.70172363, -321.68355321, ..., -321.65326993,\n",
            "       -321.68355321, -321.70172363]), array([-321.81077183, -321.804713  , -321.78653677, ..., -321.75624379,\n",
            "       -321.78653677, -321.804713  ]), array([-321.91363615, -321.9075754 , -321.88939335, ..., -321.8590907 ,\n",
            "       -321.88939335, -321.9075754 ]), array([-322.01637365, -322.01031096, -321.99212311, ..., -321.96181079,\n",
            "       -321.99212311, -322.01031096]), array([-322.11898448, -322.11291986, -322.09472621, ..., -322.06440423,\n",
            "       -322.09472621, -322.11291986]), array([-322.22146879, -322.21540224, -322.19720281, ..., -322.16687118,\n",
            "       -322.19720281, -322.21540224]), array([-322.32382675, -322.31775827, -322.29955305, ..., -322.26921179,\n",
            "       -322.29955305, -322.31775827]), array([-322.42605849, -322.41998809, -322.4017771 , ..., -322.37142622,\n",
            "       -322.4017771 , -322.41998809]), array([-322.52816419, -322.52209187, -322.50387511, ..., -322.47351462,\n",
            "       -322.50387511, -322.52209187]), array([-322.630144  , -322.62406975, -322.60584724, ..., -322.57547715,\n",
            "       -322.60584724, -322.62406975]), array([-322.73199807, -322.72592191, -322.70769364, ..., -322.67731396,\n",
            "       -322.70769364, -322.72592191]), array([-322.83372656, -322.82764848, -322.80941447, ..., -322.77902521,\n",
            "       -322.80941447, -322.82764848]), array([-322.93532962, -322.92924962, -322.91100988, ..., -322.88061106,\n",
            "       -322.91100988, -322.92924962]), array([-323.0368074 , -323.0307255 , -323.01248002, ..., -322.98207165,\n",
            "       -323.01248002, -323.0307255 ]), array([-323.13816007, -323.13207626, -323.11382506, ..., -323.08340715,\n",
            "       -323.11382506, -323.13207626]), array([-323.23938777, -323.23330205, -323.21504514, ..., -323.1846177 ,\n",
            "       -323.21504514, -323.23330205]), array([-323.34049066, -323.33440304, -323.31614041, ..., -323.28570346,\n",
            "       -323.31614041, -323.33440304]), array([-323.4414689 , -323.43537938, -323.41711105, ..., -323.38666459,\n",
            "       -323.41711105, -323.43537938]), array([-323.54232263, -323.53623121, -323.51795719, ..., -323.48750124,\n",
            "       -323.51795719, -323.53623121]), array([-323.64305202, -323.6369587 , -323.61867898, ..., -323.58821356,\n",
            "       -323.61867898, -323.6369587 ]), array([-323.7436572 , -323.73756199, -323.7192766 , ..., -323.6888017 ,\n",
            "       -323.7192766 , -323.73756199]), array([-323.84413835, -323.83804125, -323.81975018, ..., -323.78926582,\n",
            "       -323.81975018, -323.83804125]), array([-323.9444956 , -323.93839661, -323.92009987, ..., -323.88960607,\n",
            "       -323.92009987, -323.93839661]), array([-324.04472912, -324.03862825, -324.02032584, ..., -323.98982261,\n",
            "       -324.02032584, -324.03862825]), array([-324.14483906, -324.13873629, -324.12042824, ..., -324.08991558,\n",
            "       -324.12042824, -324.13873629]), array([-324.24482556, -324.23872091, -324.22040721, ..., -324.18988514,\n",
            "       -324.22040721, -324.23872091]), array([-324.34468878, -324.33858226, -324.32026292, ..., -324.28973145,\n",
            "       -324.32026292, -324.33858226]), array([-324.44442887, -324.43832047, -324.4199955 , ..., -324.38945464,\n",
            "       -324.4199955 , -324.43832047]), array([-324.54404599, -324.53793572, -324.51960512, ..., -324.48905488,\n",
            "       -324.51960512, -324.53793572]), array([-324.64354029, -324.63742814, -324.61909192, ..., -324.58853232,\n",
            "       -324.61909192, -324.63742814]), array([-324.74291191, -324.73679789, -324.71845606, ..., -324.68788711,\n",
            "       -324.71845606, -324.73679789]), array([-324.84216101, -324.83604512, -324.81769768, ..., -324.78711939,\n",
            "       -324.81769768, -324.83604512]), array([-324.94128773, -324.93516998, -324.91681695, ..., -324.88622932,\n",
            "       -324.91681695, -324.93516998]), array([-325.04029224, -325.03417262, -325.015814  , ..., -324.98521706,\n",
            "       -325.015814  , -325.03417262]), array([-325.13917468, -325.1330532 , -325.11468899, ..., -325.08408275,\n",
            "       -325.11468899, -325.1330532 ]), array([-325.2379352 , -325.23181186, -325.21344208, ..., -325.18282654,\n",
            "       -325.21344208, -325.23181186]), array([-325.33657396, -325.33044876, -325.3120734 , ..., -325.28144858,\n",
            "       -325.3120734 , -325.33044876]), array([-325.43509109, -325.42896404, -325.41058312, ..., -325.37994902,\n",
            "       -325.41058312, -325.42896404]), array([-325.53348676, -325.52735785, -325.50897138, ..., -325.47832802,\n",
            "       -325.50897138, -325.52735785]), array([-325.63176111, -325.62563035, -325.60723833, ..., -325.57658572,\n",
            "       -325.60723833, -325.62563035]), array([-325.72991429, -325.72378168, -325.70538411, ..., -325.67472227,\n",
            "       -325.70538411, -325.72378168]), array([-325.82794645, -325.821812  , -325.80340889, ..., -325.77273782,\n",
            "       -325.80340889, -325.821812  ]), array([-325.92585774, -325.91972145, -325.90131281, ..., -325.87063252,\n",
            "       -325.90131281, -325.91972145]), array([-326.02364831, -326.01751018, -325.99909602, ..., -325.96840652,\n",
            "       -325.99909602, -326.01751018]), array([-326.1213183 , -326.11517833, -326.09675866, ..., -326.06605997,\n",
            "       -326.09675866, -326.11517833]), array([-326.21886788, -326.21272607, -326.19430089, ..., -326.16359302,\n",
            "       -326.19430089, -326.21272607]), array([-326.31629717, -326.31015353, -326.29172285, ..., -326.26100581,\n",
            "       -326.29172285, -326.31015353]), array([-326.41360635, -326.40746087, -326.38902469, ..., -326.35829849,\n",
            "       -326.38902469, -326.40746087]), array([-326.51079554, -326.50464824, -326.48620657, ..., -326.45547122,\n",
            "       -326.48620657, -326.50464824]), array([-326.6078649 , -326.60171577, -326.58326862, ..., -326.55252414,\n",
            "       -326.58326862, -326.60171577]), array([-326.70481458, -326.69866363, -326.680211  , ..., -326.64945739,\n",
            "       -326.680211  , -326.69866363]), array([-326.80164472, -326.79549195, -326.77703385, ..., -326.74627113,\n",
            "       -326.77703385, -326.79549195]), array([-326.89835548, -326.89220088, -326.87373733, ..., -326.8429655 ,\n",
            "       -326.87373733, -326.89220088]), array([-326.994947  , -326.98879058, -326.97032157, ..., -326.93954065,\n",
            "       -326.97032157, -326.98879058]), array([-327.09141942, -327.08526119, -327.06678673, ..., -327.03599673,\n",
            "       -327.06678673, -327.08526119]), array([-327.18777289, -327.18161285, -327.16313295, ..., -327.13233388,\n",
            "       -327.16313295, -327.18161285]), array([-327.28400757, -327.27784571, -327.25936037, ..., -327.22855225,\n",
            "       -327.25936037, -327.27784571]), array([-327.38012359, -327.37395992, -327.35546916, ..., -327.32465199,\n",
            "       -327.35546916, -327.37395992]), array([-327.4761211 , -327.46995563, -327.45145944, ..., -327.42063324,\n",
            "       -327.45145944, -327.46995563]), array([-327.57200025, -327.56583297, -327.54733137, ..., -327.51649614,\n",
            "       -327.54733137, -327.56583297]), array([-327.66776119, -327.66159211, -327.6430851 , ..., -327.61224086,\n",
            "       -327.6430851 , -327.66159211]), array([-327.76340406, -327.75723318, -327.73872076, ..., -327.70786752,\n",
            "       -327.73872076, -327.75723318]), array([-327.858929  , -327.85275632, -327.83423851, ..., -327.80337628,\n",
            "       -327.83423851, -327.85275632]), array([-327.95433616, -327.94816169, -327.92963849, ..., -327.89876728,\n",
            "       -327.92963849, -327.94816169]), array([-328.04962569, -328.04344943, -328.02492085, ..., -327.99404067,\n",
            "       -328.02492085, -328.04344943]), array([-328.14479774, -328.13861968, -328.12008573, ..., -328.08919659,\n",
            "       -328.12008573, -328.13861968]), array([-328.23985244, -328.23367259, -328.21513327, ..., -328.18423518,\n",
            "       -328.21513327, -328.23367259]), array([-328.33478994, -328.3286083 , -328.31006362, ..., -328.2791566 ,\n",
            "       -328.31006362, -328.3286083 ]), array([-328.42961038, -328.42342696, -328.40487693, ..., -328.37396098,\n",
            "       -328.40487693, -328.42342696]), array([-328.52431392, -328.51812871, -328.49957333, ..., -328.46864847,\n",
            "       -328.49957333, -328.51812871]), array([-328.61890069, -328.6127137 , -328.59415298, ..., -328.56321921,\n",
            "       -328.59415298, -328.6127137 ]), array([-328.71337084, -328.70718207, -328.68861601, ..., -328.65767336,\n",
            "       -328.68861601, -328.70718207]), array([-328.80772451, -328.80153397, -328.78296258, ..., -328.75201104,\n",
            "       -328.78296258, -328.80153397]), array([-328.90196184, -328.89576953, -328.87719282, ..., -328.84623241,\n",
            "       -328.87719282, -328.89576953]), array([-328.99608299, -328.9898889 , -328.97130688, ..., -328.94033761,\n",
            "       -328.97130688, -328.9898889 ]), array([-329.09008809, -329.08389223, -329.0653049 , ..., -329.03432678,\n",
            "       -329.0653049 , -329.08389223]), array([-329.18397728, -329.17777966, -329.15918702, ..., -329.12820007,\n",
            "       -329.15918702, -329.17777966]), array([-329.27775071, -329.27155132, -329.25295339, ..., -329.22195761,\n",
            "       -329.25295339, -329.27155132]), array([-329.37140852, -329.36520737, -329.34660415, ..., -329.31559956,\n",
            "       -329.34660415, -329.36520737]), array([-329.46495086, -329.45874795, -329.44013944, ..., -329.40912604,\n",
            "       -329.44013944, -329.45874795]), array([-329.55837786, -329.55217319, -329.53355941, ..., -329.50253722,\n",
            "       -329.53355941, -329.55217319]), array([-329.65168967, -329.64548324, -329.62686419, ..., -329.59583322,\n",
            "       -329.62686419, -329.64548324]), array([-329.74488643, -329.73867825, -329.72005393, ..., -329.68901419,\n",
            "       -329.72005393, -329.73867825]), array([-329.83796828, -329.83175835, -329.81312878, ..., -329.78208027,\n",
            "       -329.81312878, -329.83175835]), array([-329.93093537, -329.92472368, -329.90608886, ..., -329.87503161,\n",
            "       -329.90608886, -329.92472368]), array([-330.02378783, -330.0175744 , -329.99893433, ..., -329.96786834,\n",
            "       -329.99893433, -330.0175744 ]), array([-330.11652581, -330.11031063, -330.09166533, ..., -330.0605906 ,\n",
            "       -330.09166533, -330.11031063]), array([-330.20914944, -330.20293252, -330.18428199, ..., -330.15319855,\n",
            "       -330.18428199, -330.20293252]), array([-330.30165888, -330.29544021, -330.27678446, ..., -330.24569231,\n",
            "       -330.27678446, -330.29544021]), array([-330.39405425, -330.38783385, -330.36917287, ..., -330.33807203,\n",
            "       -330.36917287, -330.38783385]), array([-330.48633571, -330.48011356, -330.46144738, ..., -330.43033785,\n",
            "       -330.46144738, -330.48011356]), array([-330.57850338, -330.5722795 , -330.55360811, ..., -330.52248991,\n",
            "       -330.55360811, -330.5722795 ]), array([-330.67055742, -330.66433181, -330.64565522, ..., -330.61452835,\n",
            "       -330.64565522, -330.66433181]), array([-330.76249795, -330.75627061, -330.73758883, ..., -330.70645331,\n",
            "       -330.73758883, -330.75627061]), array([-330.85432513, -330.84809606, -330.82940909, ..., -330.79826493,\n",
            "       -330.82940909, -330.84809606]), array([-330.94603909, -330.93980829, -330.92111615, ..., -330.88996335,\n",
            "       -330.92111615, -330.93980829]), array([-331.03763997, -331.03140745, -331.01271013, ..., -330.98154871,\n",
            "       -331.01271013, -331.03140745]), array([-331.12912791, -331.12289367, -331.10419118, ..., -331.07302115,\n",
            "       -331.10419118, -331.12289367]), array([-331.22050305, -331.21426708, -331.19555944, ..., -331.1643808 ,\n",
            "       -331.19555944, -331.21426708]), array([-331.31176552, -331.30552784, -331.28681504, ..., -331.25562782,\n",
            "       -331.28681504, -331.30552784]), array([-331.40291547, -331.39667608, -331.37795813, ..., -331.34676233,\n",
            "       -331.37795813, -331.39667608]), array([-331.49395304, -331.48771194, -331.46898884, ..., -331.43778447,\n",
            "       -331.46898884, -331.48771194]), array([-331.58487837, -331.57863555, -331.55990732, ..., -331.52869439,\n",
            "       -331.55990732, -331.57863555]), array([-331.67569158, -331.66944705, -331.6507137 , ..., -331.61949222,\n",
            "       -331.6507137 , -331.66944705]), array([-331.76639283, -331.76014659, -331.74140812, ..., -331.71017811,\n",
            "       -331.74140812, -331.76014659]), array([-331.85698225, -331.85073431, -331.83199071, ..., -331.80075217,\n",
            "       -331.83199071, -331.85073431]), array([-331.94745997, -331.94121033, -331.92246162, ..., -331.89121457,\n",
            "       -331.92246162, -331.94121033]), array([-332.03782614, -332.03157479, -332.01282099, ..., -331.98156543,\n",
            "       -332.01282099, -332.03157479]), array([-332.12808089, -332.12182784, -332.10306894, ..., -332.07180489,\n",
            "       -332.10306894, -332.12182784]), array([-332.21822436, -332.21196962, -332.19320562, ..., -332.16193308,\n",
            "       -332.19320562, -332.21196962]), array([-332.30825669, -332.30200025, -332.28323117, ..., -332.25195016,\n",
            "       -332.28323117, -332.30200025]), array([-332.39817801, -332.39191988, -332.37314572, ..., -332.34185624,\n",
            "       -332.37314572, -332.39191988]), array([-332.48798846, -332.48172864, -332.46294941, ..., -332.43165148,\n",
            "       -332.46294941, -332.48172864]), array([-332.57768818, -332.57142667, -332.55264237, ..., -332.521336  ,\n",
            "       -332.55264237, -332.57142667]), array([-332.6672773 , -332.66101411, -332.64222475, ..., -332.61090995,\n",
            "       -332.64222475, -332.66101411]), array([-332.75675597, -332.75049108, -332.73169668, ..., -332.70037345,\n",
            "       -332.73169668, -332.75049108]), array([-332.84612431, -332.83985774, -332.82105829, ..., -332.78972665,\n",
            "       -332.82105829, -332.83985774]), array([-332.93538246, -332.92911421, -332.91030972, ..., -332.87896968,\n",
            "       -332.91030972, -332.92911421]), array([-333.02453056, -333.01826064, -332.99945111, ..., -332.96810268,\n",
            "       -332.99945111, -333.01826064]), array([-333.11356874, -333.10729715, -333.08848259, ..., -333.05712578,\n",
            "       -333.08848259, -333.10729715]), array([-333.20249715, -333.19622388, -333.1774043 , ..., -333.14603912,\n",
            "       -333.1774043 , -333.19622388]), array([-333.29131591, -333.28504097, -333.26621637, ..., -333.23484283,\n",
            "       -333.26621637, -333.28504097]), array([-333.38002516, -333.37374855, -333.35491894, ..., -333.32353705,\n",
            "       -333.35491894, -333.37374855]), array([-333.46862503, -333.46234675, -333.44351214, ..., -333.41212192,\n",
            "       -333.44351214, -333.46234675]), array([-333.55711567, -333.55083572, -333.53199612, ..., -333.50059756,\n",
            "       -333.53199612, -333.55083572]), array([-333.6454972 , -333.63921559, -333.62037099, ..., -333.58896412,\n",
            "       -333.62037099, -333.63921559]), array([-333.73376976, -333.72748649, -333.7086369 , ..., -333.67722172,\n",
            "       -333.7086369 , -333.72748649]), array([-333.82193348, -333.81564855, -333.79679399, ..., -333.76537051,\n",
            "       -333.79679399, -333.81564855]), array([-333.9099885 , -333.90370191, -333.88484238, ..., -333.85341061,\n",
            "       -333.88484238, -333.90370191]), array([-333.99793496, -333.99164671, -333.97278221, ..., -333.94134216,\n",
            "       -333.97278221, -333.99164671]), array([-334.08577298, -334.07948308, -334.06061361, ..., -334.0291653 ,\n",
            "       -334.06061361, -334.07948308]), array([-334.1735027 , -334.16721114, -334.14833673, ..., -334.11688016,\n",
            "       -334.14833673, -334.16721114]), array([-334.26112425, -334.25483105, -334.23595168, ..., -334.20448686,\n",
            "       -334.23595168, -334.25483105]), array([-334.34863776, -334.34234292, -334.32345861, ..., -334.29198555,\n",
            "       -334.32345861, -334.34234292]), array([-334.43604338, -334.42974689, -334.41085765, ..., -334.37937636,\n",
            "       -334.41085765, -334.42974689]), array([-334.52334123, -334.5170431 , -334.49814892, ..., -334.46665942,\n",
            "       -334.49814892, -334.5170431 ]), array([-334.61053145, -334.60423167, -334.58533257, ..., -334.55383487,\n",
            "       -334.58533257, -334.60423167]), array([-334.69761416, -334.69131274, -334.67240873, ..., -334.64090283,\n",
            "       -334.67240873, -334.69131274]), array([-334.78458951, -334.77828645, -334.75937752, ..., -334.72786344,\n",
            "       -334.75937752, -334.77828645]), array([-334.87145761, -334.86515292, -334.84623909, ..., -334.81471683,\n",
            "       -334.84623909, -334.86515292]), array([-334.95821862, -334.95191229, -334.93299356, ..., -334.90146313,\n",
            "       -334.93299356, -334.95191229]), array([-335.04487265, -335.03856469, -335.01964107, ..., -334.98810248,\n",
            "       -335.01964107, -335.03856469]), array([-335.13141984, -335.12511025, -335.10618174, ..., -335.07463501,\n",
            "       -335.10618174, -335.12511025]), array([-335.21786032, -335.21154911, -335.19261571, ..., -335.16106084,\n",
            "       -335.19261571, -335.21154911]), array([-335.30419422, -335.29788139, -335.27894312, ..., -335.24738012,\n",
            "       -335.27894312, -335.29788139]), array([-335.39042168, -335.38410722, -335.36516408, ..., -335.33359297,\n",
            "       -335.36516408, -335.38410722]), array([-335.47654283, -335.47022674, -335.45127874, ..., -335.41969952,\n",
            "       -335.45127874, -335.47022674]), array([-335.56255778, -335.55624008, -335.53728722, ..., -335.50569991,\n",
            "       -335.53728722, -335.55624008]), array([-335.64846669, -335.64214737, -335.62318966, ..., -335.59159426,\n",
            "       -335.62318966, -335.64214737]), array([-335.73426968, -335.72794874, -335.70898618, ..., -335.67738271,\n",
            "       -335.70898618, -335.72794874]), array([-335.81996687, -335.81364432, -335.79467693, ..., -335.76306539,\n",
            "       -335.79467693, -335.81364432]), array([-335.9055584 , -335.89923425, -335.88026201, ..., -335.84864242,\n",
            "       -335.88026201, -335.89923425]), array([-335.99104441, -335.98471864, -335.96574158, ..., -335.93411394,\n",
            "       -335.96574158, -335.98471864]), array([-336.07642501, -336.07009763, -336.05111575, ..., -336.01948007,\n",
            "       -336.05111575, -336.07009763]), array([-336.16170034, -336.15537136, -336.13638466, ..., -336.10474096,\n",
            "       -336.13638466, -336.15537136]), array([-336.24687053, -336.24053995, -336.22154844, ..., -336.18989672,\n",
            "       -336.22154844, -336.24053995]), array([-336.33193571, -336.32560353, -336.30660721, ..., -336.27494749,\n",
            "       -336.30660721, -336.32560353]), array([-336.41689601, -336.41056222, -336.39156111, ..., -336.35989339,\n",
            "       -336.39156111, -336.41056222]), array([-336.50175155, -336.49541617, -336.47641027, ..., -336.44473456,\n",
            "       -336.47641027, -336.49541617]), array([-336.58650248, -336.5801655 , -336.56115481, ..., -336.52947112,\n",
            "       -336.56115481, -336.5801655 ]), array([-336.6711489 , -336.66481034, -336.64579487, ..., -336.61410321,\n",
            "       -336.64579487, -336.66481034]), array([-336.75569097, -336.74935081, -336.73033056, ..., -336.69863095,\n",
            "       -336.73033056, -336.74935081]), array([-336.8401288 , -336.83378704, -336.81476203, ..., -336.78305447,\n",
            "       -336.81476203, -336.83378704]), array([-336.92446251, -336.91811918, -336.8990894 , ..., -336.8673739 ,\n",
            "       -336.8990894 , -336.91811918]), array([-337.00869225, -337.00234733, -336.9833128 , ..., -336.95158937,\n",
            "       -336.9833128 , -337.00234733]), array([-337.09281814, -337.08647163, -337.06743235, ..., -337.03570101,\n",
            "       -337.06743235, -337.08647163]), array([-337.1768403 , -337.17049222, -337.15144819, ..., -337.11970894,\n",
            "       -337.15144819, -337.17049222]), array([-337.26075887, -337.2544092 , -337.23536044, ..., -337.20361329,\n",
            "       -337.23536044, -337.2544092 ]), array([-337.34457397, -337.33822273, -337.31916923, ..., -337.28741419,\n",
            "       -337.31916923, -337.33822273]), array([-337.42828573, -337.42193291, -337.40287468, ..., -337.37111177,\n",
            "       -337.40287468, -337.42193291]), array([-337.51189428, -337.50553989, -337.48647694, ..., -337.45470615,\n",
            "       -337.48647694, -337.50553989]), array([-337.59539974, -337.58904378, -337.56997611, ..., -337.53819746,\n",
            "       -337.56997611, -337.58904378]), array([-337.67880225, -337.67244471, -337.65337233, ..., -337.62158584,\n",
            "       -337.65337233, -337.67244471]), array([-337.76210192, -337.75574281, -337.73666573, ..., -337.7048714 ,\n",
            "       -337.73666573, -337.75574281]), array([-337.84529889, -337.83893821, -337.81985644, ..., -337.78805427,\n",
            "       -337.81985644, -337.83893821]), array([-337.92839328, -337.92203104, -337.90294457, ..., -337.87113458,\n",
            "       -337.90294457, -337.92203104]), array([-338.01138521, -338.00502142, -337.98593026, ..., -337.95411246,\n",
            "       -337.98593026, -338.00502142]), array([-338.09427483, -338.08790947, -338.06881363, ..., -338.03698803,\n",
            "       -338.06881363, -338.08790947]), array([-338.17706224, -338.17069532, -338.15159481, ..., -338.11976142,\n",
            "       -338.15159481, -338.17069532]), array([-338.25974758, -338.25337911, -338.23427392, ..., -338.20243275,\n",
            "       -338.23427392, -338.25337911]), array([-338.34233097, -338.33596094, -338.3168511 , ..., -338.28500215,\n",
            "       -338.3168511 , -338.33596094]), array([-338.42481255, -338.41844096, -338.39932646, ..., -338.36746975,\n",
            "       -338.39932646, -338.41844096]), array([-338.50719242, -338.50081929, -338.48170013, ..., -338.44983567,\n",
            "       -338.48170013, -338.50081929]), array([-338.58947073, -338.58309604, -338.56397224, ..., -338.53210003,\n",
            "       -338.56397224, -338.58309604]), array([-338.67164759, -338.66527136, -338.64614291, ..., -338.61426297,\n",
            "       -338.64614291, -338.66527136]), array([-338.75372312, -338.74734535, -338.72821227, ..., -338.6963246 ,\n",
            "       -338.72821227, -338.74734535]), array([-338.83569747, -338.82931815, -338.81018044, ..., -338.77828506,\n",
            "       -338.81018044, -338.82931815]), array([-338.91757074, -338.91118988, -338.89204755, ..., -338.86014446,\n",
            "       -338.89204755, -338.91118988]), array([-338.99934307, -338.99296067, -338.97381372, ..., -338.94190293,\n",
            "       -338.97381372, -338.99296067]), array([-339.08101458, -339.07463064, -339.05547908, ..., -339.0235606 ,\n",
            "       -339.05547908, -339.07463064]), array([-339.16258538, -339.15619991, -339.13704374, ..., -339.10511759,\n",
            "       -339.13704374, -339.15619991]), array([-339.24405562, -339.23766862, -339.21850784, ..., -339.18657402,\n",
            "       -339.21850784, -339.23766862]), array([-339.32542541, -339.31903687, -339.2998715 , ..., -339.26793003,\n",
            "       -339.2998715 , -339.31903687]), array([-339.40669487, -339.4003048 , -339.38113484, ..., -339.34918572,\n",
            "       -339.38113484, -339.4003048 ]), array([-339.48786413, -339.48147253, -339.46229799, ..., -339.43034123,\n",
            "       -339.46229799, -339.48147253]), array([-339.56893331, -339.56254019, -339.54336107, ..., -339.51139667,\n",
            "       -339.54336107, -339.56254019]), array([-339.64990254, -339.64350789, -339.6243242 , ..., -339.59235218,\n",
            "       -339.6243242 , -339.64350789]), array([-339.73077193, -339.72437577, -339.70518751, ..., -339.67320788,\n",
            "       -339.70518751, -339.72437577]), array([-339.81154162, -339.80514393, -339.78595111, ..., -339.75396388,\n",
            "       -339.78595111, -339.80514393]), array([-339.89221172, -339.88581252, -339.86661514, ..., -339.83462032,\n",
            "       -339.86661514, -339.88581252]), array([-339.97278236, -339.96638164, -339.94717972, ..., -339.91517731,\n",
            "       -339.94717972, -339.96638164]), array([-340.05325367, -340.04685143, -340.02764496, ..., -339.99563498,\n",
            "       -340.02764496, -340.04685143]), array([-340.13362575, -340.127222  , -340.10801099, ..., -340.07599344,\n",
            "       -340.10801099, -340.127222  ]), array([-340.21389874, -340.20749348, -340.18827793, ..., -340.15625283,\n",
            "       -340.18827793, -340.20749348]), array([-340.29407275, -340.28766598, -340.26844591, ..., -340.23641326,\n",
            "       -340.26844591, -340.28766598]), array([-340.37414792, -340.36773964, -340.34851505, ..., -340.31647486,\n",
            "       -340.34851505, -340.36773964]), array([-340.45412435, -340.44771457, -340.42848546, ..., -340.39643775,\n",
            "       -340.42848546, -340.44771457]), array([-340.53400218, -340.52759089, -340.50835727, ..., -340.47630204,\n",
            "       -340.50835727, -340.52759089]), array([-340.61378152, -340.60736873, -340.58813061, ..., -340.55606787,\n",
            "       -340.58813061, -340.60736873]), array([-340.6934625 , -340.68704821, -340.66780559, ..., -340.63573535,\n",
            "       -340.66780559, -340.68704821]), array([-340.77304524, -340.76662945, -340.74738233, ..., -340.7153046 ,\n",
            "       -340.74738233, -340.76662945]), array([-340.85252985, -340.84611257, -340.82686096, ..., -340.79477575,\n",
            "       -340.82686096, -340.84611257]), array([-340.93191647, -340.92549769, -340.90624159, ..., -340.87414891,\n",
            "       -340.90624159, -340.92549769]), array([-341.0112052 , -341.00478493, -340.98552436, ..., -340.95342421,\n",
            "       -340.98552436, -341.00478493]), array([-341.09039617, -341.08397441, -341.06470937, ..., -341.03260177,\n",
            "       -341.06470937, -341.08397441]), array([-341.16948951, -341.16306626, -341.14379675, ..., -341.11168171,\n",
            "       -341.14379675, -341.16306626]), array([-341.24848533, -341.24206059, -341.22278662, ..., -341.19066414,\n",
            "       -341.22278662, -341.24206059]), array([-341.32738374, -341.32095752, -341.3016791 , ..., -341.26954919,\n",
            "       -341.3016791 , -341.32095752]), array([-341.40618489, -341.39975718, -341.3804743 , ..., -341.34833698,\n",
            "       -341.3804743 , -341.39975718]), array([-341.48488887, -341.47845968, -341.45917236, ..., -341.42702763,\n",
            "       -341.45917236, -341.47845968]), array([-341.56349581, -341.55706515, -341.53777339, ..., -341.50562126,\n",
            "       -341.53777339, -341.55706515]), array([-341.64200584, -341.63557369, -341.6162775 , ..., -341.58411798,\n",
            "       -341.6162775 , -341.63557369]), array([-341.72041907, -341.71398544, -341.69468482, ..., -341.66251793,\n",
            "       -341.69468482, -341.71398544]), array([-341.79873561, -341.79230052, -341.77299547, ..., -341.7408212 ,\n",
            "       -341.77299547, -341.79230052]), array([-341.8769556 , -341.87051903, -341.85120957, ..., -341.81902794,\n",
            "       -341.85120957, -341.87051903]), array([-341.95507915, -341.94864111, -341.92932723, ..., -341.89713825,\n",
            "       -341.92932723, -341.94864111]), array([-342.03310637, -342.02666686, -342.00734858, ..., -341.97515225,\n",
            "       -342.00734858, -342.02666686]), array([-342.11103739, -342.10459641, -342.08527373, ..., -342.05307007,\n",
            "       -342.08527373, -342.10459641]), array([-342.18887232, -342.18242988, -342.1631028 , ..., -342.13089181,\n",
            "       -342.1631028 , -342.18242988]), array([-342.26661129, -342.26016738, -342.24083592, ..., -342.20861761,\n",
            "       -342.24083592, -342.26016738]), array([-342.34425441, -342.33780904, -342.31847319, ..., -342.28624757,\n",
            "       -342.31847319, -342.33780904]), array([-342.42180179, -342.41535497, -342.39601474, ..., -342.36378183,\n",
            "       -342.39601474, -342.41535497]), array([-342.49925357, -342.49280529, -342.47346068, ..., -342.44122048,\n",
            "       -342.47346068, -342.49280529]), array([-342.57660985, -342.57016011, -342.55081114, ..., -342.51856366,\n",
            "       -342.55081114, -342.57016011]), array([-342.65387076, -342.64741956, -342.62806622, ..., -342.59581147,\n",
            "       -342.62806622, -342.64741956]), array([-342.7310364 , -342.72458376, -342.70522606, ..., -342.67296404,\n",
            "       -342.70522606, -342.72458376]), array([-342.80810691, -342.80165281, -342.78229076, ..., -342.75002149,\n",
            "       -342.78229076, -342.80165281]), array([-342.88508239, -342.87862684, -342.85926045, ..., -342.82698393,\n",
            "       -342.85926045, -342.87862684]), array([-342.96196296, -342.95550597, -342.93613523, ..., -342.90385148,\n",
            "       -342.93613523, -342.95550597]), array([-343.03874874, -343.03229031, -343.01291523, ..., -342.98062425,\n",
            "       -343.01291523, -343.03229031]), array([-343.11543986, -343.10897997, -343.08960057, ..., -343.05730237,\n",
            "       -343.08960057, -343.10897997]), array([-343.19203641, -343.18557508, -343.16619135, ..., -343.13388595,\n",
            "       -343.16619135, -343.18557508]), array([-343.26853852, -343.26207576, -343.24268771, ..., -343.2103751 ,\n",
            "       -343.24268771, -343.26207576]), array([-343.34494631, -343.33848211, -343.31908974, ..., -343.28676995,\n",
            "       -343.31908974, -343.33848211]), array([-343.4212599 , -343.41479426, -343.39539758, ..., -343.3630706 ,\n",
            "       -343.39539758, -343.41479426]), array([-343.49747939, -343.49101232, -343.47161134, ..., -343.43927718,\n",
            "       -343.47161134, -343.49101232]), array([-343.57360491, -343.5671364 , -343.54773112, ..., -343.5153898 ,\n",
            "       -343.54773112, -343.5671364 ]), array([-343.64963657, -343.64316663, -343.62375705, ..., -343.59140858,\n",
            "       -343.62375705, -343.64316663]), array([-343.72557448, -343.71910311, -343.69968925, ..., -343.66733363,\n",
            "       -343.69968925, -343.71910311]), array([-343.80141877, -343.79494597, -343.77552783, ..., -343.74316507,\n",
            "       -343.77552783, -343.79494597]), array([-343.87716955, -343.87069532, -343.8512729 , ..., -343.81890301,\n",
            "       -343.8512729 , -343.87069532]), array([-343.95282692, -343.94635128, -343.92692458, ..., -343.89454757,\n",
            "       -343.92692458, -343.94635128]), array([-344.02839102, -344.02191395, -344.00248299, ..., -343.97009886,\n",
            "       -344.00248299, -344.02191395]), array([-344.10386195, -344.09738346, -344.07794824, ..., -344.04555701,\n",
            "       -344.07794824, -344.09738346]), array([-344.17923983, -344.17275992, -344.15332044, ..., -344.12092211,\n",
            "       -344.15332044, -344.17275992]), array([-344.25452477, -344.24804344, -344.22859971, ..., -344.1961943 ,\n",
            "       -344.22859971, -344.24804344]), array([-344.32971689, -344.32323415, -344.30378617, ..., -344.27137368,\n",
            "       -344.30378617, -344.32323415]), array([-344.4048163 , -344.39833214, -344.37887992, ..., -344.34646037,\n",
            "       -344.37887992, -344.39833214]), array([-344.47982311, -344.47333755, -344.45388109, ..., -344.42145447,\n",
            "       -344.45388109, -344.47333755]), array([-344.55473745, -344.54825047, -344.52878978, ..., -344.49635612,\n",
            "       -344.52878978, -344.54825047]), array([-344.62955942, -344.62307103, -344.60360612, ..., -344.57116541,\n",
            "       -344.60360612, -344.62307103]), array([-344.70428914, -344.69779935, -344.67833021, ..., -344.64588247,\n",
            "       -344.67833021, -344.69779935]), array([-344.77892672, -344.77243552, -344.75296217, ..., -344.72050741,\n",
            "       -344.75296217, -344.77243552]), array([-344.85347227, -344.84697967, -344.82750212, ..., -344.79504033,\n",
            "       -344.82750212, -344.84697967]), array([-344.92792592, -344.92143192, -344.90195015, ..., -344.86948136,\n",
            "       -344.90195015, -344.92143192]), array([-345.00228777, -344.99579237, -344.9763064 , ..., -344.94383061,\n",
            "       -344.9763064 , -344.99579237]), array([-345.07655793, -345.07006113, -345.05057097, ..., -345.01808819,\n",
            "       -345.05057097, -345.07006113]), array([-345.15073652, -345.14423833, -345.12474398, ..., -345.09225422,\n",
            "       -345.12474398, -345.14423833]), array([-345.22482366, -345.21832406, -345.19882553, ..., -345.1663288 ,\n",
            "       -345.19882553, -345.21832406]), array([-345.29881944, -345.29231846, -345.27281575, ..., -345.24031205,\n",
            "       -345.27281575, -345.29231846]), array([-345.372724  , -345.36622162, -345.34671474, ..., -345.31420408,\n",
            "       -345.34671474, -345.36622162]), array([-345.44653743, -345.44003367, -345.42052261, ..., -345.38800501,\n",
            "       -345.42052261, -345.44003367]), array([-345.52025986, -345.5137547 , -345.49423949, ..., -345.46171495,\n",
            "       -345.49423949, -345.5137547 ]), array([-345.59389139, -345.58738485, -345.56786547, ..., -345.535334  ,\n",
            "       -345.56786547, -345.58738485]), array([-345.66743213, -345.66092421, -345.64140068, ..., -345.60886229,\n",
            "       -345.64140068, -345.66092421]), array([-345.7408822 , -345.7343729 , -345.71484522, ..., -345.68229992,\n",
            "       -345.71484522, -345.7343729 ]), array([-345.81424172, -345.80773103, -345.78819921, ..., -345.755647  ,\n",
            "       -345.78819921, -345.80773103]), array([-345.88751078, -345.88099872, -345.86146276, ..., -345.82890365,\n",
            "       -345.86146276, -345.88099872]), array([-345.96068951, -345.95417607, -345.93463598, ..., -345.90206998,\n",
            "       -345.93463598, -345.95417607]), array([-346.03377801, -346.02726319, -346.00771898, ..., -345.9751461 ,\n",
            "       -346.00771898, -346.02726319]), array([-346.1067764 , -346.1002602 , -346.08071187, ..., -346.04813212,\n",
            "       -346.08071187, -346.1002602 ]), array([-346.17968478, -346.17316722, -346.15361476, ..., -346.12102815,\n",
            "       -346.15361476, -346.17316722]), array([-346.25250327, -346.24598434, -346.22642777, ..., -346.19383431,\n",
            "       -346.22642777, -346.24598434]), array([-346.32523198, -346.31871168, -346.299151  , ..., -346.2665507 ,\n",
            "       -346.299151  , -346.31871168]), array([-346.39787102, -346.39134935, -346.37178457, ..., -346.33917743,\n",
            "       -346.37178457, -346.39134935]), array([-346.4704205 , -346.46389746, -346.44432859, ..., -346.41171462,\n",
            "       -346.44432859, -346.46389746]), array([-346.54288053, -346.53635613, -346.51678316, ..., -346.48416237,\n",
            "       -346.51678316, -346.53635613]), array([-346.61525122, -346.60872545, -346.5891484 , ..., -346.5565208 ,\n",
            "       -346.5891484 , -346.60872545]), array([-346.68753268, -346.68100555, -346.66142442, ..., -346.62879001,\n",
            "       -346.66142442, -346.68100555]), array([-346.75972502, -346.75319653, -346.73361132, ..., -346.70097012,\n",
            "       -346.73361132, -346.75319653]), array([-346.83182835, -346.82529851, -346.80570922, ..., -346.77306124,\n",
            "       -346.80570922, -346.82529851]), array([-346.90384278, -346.89731158, -346.87771823, ..., -346.84506347,\n",
            "       -346.87771823, -346.89731158]), array([-346.97576842, -346.96923587, -346.94963846, ..., -346.91697692,\n",
            "       -346.94963846, -346.96923587]), array([-347.04760538, -347.04107148, -347.02147001, ..., -346.98880171,\n",
            "       -347.02147001, -347.04107148]), array([-347.11935377, -347.11281852, -347.093213  , ..., -347.06053795,\n",
            "       -347.093213  , -347.11281852]), array([-347.1910137 , -347.1844771 , -347.16486753, ..., -347.13218573,\n",
            "       -347.16486753, -347.1844771 ]), array([-347.26258527, -347.25604732, -347.23643371, ..., -347.20374518,\n",
            "       -347.23643371, -347.25604732]), array([-347.3340686 , -347.32752931, -347.30791166, ..., -347.2752164 ,\n",
            "       -347.30791166, -347.32752931]), array([-347.4054638 , -347.39892316, -347.37930148, ..., -347.3465995 ,\n",
            "       -347.37930148, -347.39892316]), array([-347.47677097, -347.47022898, -347.45060328, ..., -347.41789459,\n",
            "       -347.45060328, -347.47022898]), array([-347.54799022, -347.54144689, -347.52181716, ..., -347.48910177,\n",
            "       -347.52181716, -347.54144689]), array([-347.61912166, -347.61257699, -347.59294325, ..., -347.56022116,\n",
            "       -347.59294325, -347.61257699]), array([-347.6901654 , -347.68361939, -347.66398164, ..., -347.63125286,\n",
            "       -347.66398164, -347.68361939]), array([-347.76112154, -347.7545742 , -347.73493244, ..., -347.70219699,\n",
            "       -347.73493244, -347.7545742 ]), array([-347.8319902 , -347.82544153, -347.80579576, ..., -347.77305364,\n",
            "       -347.80579576, -347.82544153]), array([-347.90277148, -347.89622148, -347.87657172, ..., -347.84382293,\n",
            "       -347.87657172, -347.89622148]), array([-347.9734655 , -347.96691416, -347.94726041, ..., -347.91450497,\n",
            "       -347.94726041, -347.96691416]), array([-348.04407235, -348.03751968, -348.01786194, ..., -347.98509986,\n",
            "       -348.01786194, -348.03751968]), array([-348.11459214, -348.10803815, -348.08837643, ..., -348.0556077 ,\n",
            "       -348.08837643, -348.10803815]), array([-348.18502499, -348.17846967, -348.15880397, ..., -348.12602862,\n",
            "       -348.15880397, -348.17846967]), array([-348.255371  , -348.24881436, -348.22914468, ..., -348.19636271,\n",
            "       -348.22914468, -348.24881436]), array([-348.32563028, -348.31907231, -348.29939867, ..., -348.26661008,\n",
            "       -348.29939867, -348.31907231]), array([-348.39580293, -348.38924364, -348.36956603, ..., -348.33677084,\n",
            "       -348.36956603, -348.38924364]), array([-348.46588906, -348.45932845, -348.43964689, ..., -348.4068451 ,\n",
            "       -348.43964689, -348.45932845]), array([-348.53588877, -348.52932685, -348.50964133, ..., -348.47683296,\n",
            "       -348.50964133, -348.52932685]), array([-348.60580219, -348.59923895, -348.57954948, ..., -348.54673453,\n",
            "       -348.57954948, -348.59923895]), array([-348.6756294 , -348.66906484, -348.64937143, ..., -348.61654991,\n",
            "       -348.64937143, -348.66906484]), array([-348.74537052, -348.73880465, -348.7191073 , ..., -348.68627921,\n",
            "       -348.7191073 , -348.73880465]), array([-348.81502565, -348.80845847, -348.78875719, ..., -348.75592254,\n",
            "       -348.78875719, -348.80845847]), array([-348.8845949 , -348.87802641, -348.8583212 , ..., -348.82548001,\n",
            "       -348.8583212 , -348.87802641]), array([-348.95407837, -348.94750858, -348.92779944, ..., -348.89495171,\n",
            "       -348.92779944, -348.94750858]), array([-349.02347618, -349.01690508, -348.99719202, ..., -348.96433776,\n",
            "       -348.99719202, -349.01690508]), array([-349.09278842, -349.08621601, -349.06649904, ..., -349.03363826,\n",
            "       -349.06649904, -349.08621601]), array([-349.1620152 , -349.15544149, -349.13572062, ..., -349.10285331,\n",
            "       -349.13572062, -349.15544149]), array([-349.23115663, -349.22458162, -349.20485684, ..., -349.17198303,\n",
            "       -349.20485684, -349.22458162]), array([-349.30021281, -349.2936365 , -349.27390782, ..., -349.24102751,\n",
            "       -349.27390782, -349.2936365 ]), array([-349.36918385, -349.36260625, -349.34287367, ..., -349.30998686,\n",
            "       -349.34287367, -349.36260625]), array([-349.43806986, -349.43149095, -349.41175448, ..., -349.37886119,\n",
            "       -349.41175448, -349.43149095]), array([-349.50687092, -349.50029072, -349.48055037, ..., -349.44765061,\n",
            "       -349.48055037, -349.50029072]), array([-349.57558717, -349.56900567, -349.54926144, ..., -349.51635521,\n",
            "       -349.54926144, -349.56900567]), array([-349.64421868, -349.6376359 , -349.61788779, ..., -349.5849751 ,\n",
            "       -349.61788779, -349.6376359 ]), array([-349.71276558, -349.7061815 , -349.68642952, ..., -349.65351038,\n",
            "       -349.68642952, -349.7061815 ]), array([-349.78122796, -349.7746426 , -349.75488675, ..., -349.72196116,\n",
            "       -349.75488675, -349.7746426 ]), array([-349.84960594, -349.84301928, -349.82325958, ..., -349.79032755,\n",
            "       -349.82325958, -349.84301928]), array([-349.9178996 , -349.91131166, -349.8915481 , ..., -349.85860965,\n",
            "       -349.8915481 , -349.91131166]), array([-349.98610907, -349.97951984, -349.95975243, ..., -349.92680756,\n",
            "       -349.95975243, -349.97951984]), array([-350.05423443, -350.04764393, -350.02787266, ..., -349.99492138,\n",
            "       -350.02787266, -350.04764393]), array([-350.1222758 , -350.11568402, -350.09590891, ..., -350.06295122,\n",
            "       -350.09590891, -350.11568402]), array([-350.19023328, -350.18364022, -350.16386127, ..., -350.13089719,\n",
            "       -350.16386127, -350.18364022]), array([-350.25810697, -350.25151263, -350.23172985, ..., -350.19875938,\n",
            "       -350.23172985, -350.25151263]), array([-350.32589698, -350.31930136, -350.29951475, ..., -350.2665379 ,\n",
            "       -350.29951475, -350.31930136]), array([-350.3936034 , -350.38700651, -350.36721608, ..., -350.33423285,\n",
            "       -350.36721608, -350.38700651]), array([-350.46122635, -350.45462818, -350.43483393, ..., -350.40184434,\n",
            "       -350.43483393, -350.45462818]), array([-350.52876592, -350.52216648, -350.50236841, ..., -350.46937247,\n",
            "       -350.50236841, -350.52216648]), array([-350.59622221, -350.58962151, -350.56981963, ..., -350.53681734,\n",
            "       -350.56981963, -350.58962151]), array([-350.66359534, -350.65699337, -350.63718769, ..., -350.60417905,\n",
            "       -350.63718769, -350.65699337]), array([-350.7308854 , -350.72428216, -350.70447268, ..., -350.67145771,\n",
            "       -350.70447268, -350.72428216]), array([-350.7980925 , -350.79148799, -350.77167471, ..., -350.73865342,\n",
            "       -350.77167471, -350.79148799]), array([-350.86521673, -350.85861096, -350.83879389, ..., -350.80576628,\n",
            "       -350.83879389, -350.85861096]), array([-350.9322582 , -350.92565117, -350.90583031, ..., -350.87279639,\n",
            "       -350.90583031, -350.92565117]), array([-350.99921701, -350.99260872, -350.97278409, ..., -350.93974386,\n",
            "       -350.97278409, -350.99260872]), array([-351.06609327, -351.05948371, -351.03965531, ..., -351.00660879,\n",
            "       -351.03965531, -351.05948371]), array([-351.13288707, -351.12627626, -351.10644408, ..., -351.07339127,\n",
            "       -351.10644408, -351.12627626]), array([-351.19959852, -351.19298645, -351.1731505 , ..., -351.14009142,\n",
            "       -351.1731505 , -351.19298645]), array([-351.26622771, -351.25961439, -351.23977468, ..., -351.20670932,\n",
            "       -351.23977468, -351.25961439]), array([-351.33277476, -351.32616018, -351.30631671, ..., -351.2732451 ,\n",
            "       -351.30631671, -351.32616018]), array([-351.39923975, -351.39262393, -351.37277671, ..., -351.33969883,\n",
            "       -351.37277671, -351.39262393]), array([-351.4656228 , -351.45900573, -351.43915476, ..., -351.40607063,\n",
            "       -351.43915476, -351.45900573]), array([-351.531924  , -351.52530568, -351.50545097, ..., -351.4723606 ,\n",
            "       -351.50545097, -351.52530568]), array([-351.59814346, -351.59152389, -351.57166544, ..., -351.53856884,\n",
            "       -351.57166544, -351.59152389]), array([-351.66428127, -351.65766046, -351.63779827, ..., -351.60469545,\n",
            "       -351.63779827, -351.65766046]), array([-351.73033754, -351.72371548, -351.70384956, ..., -351.67074052,\n",
            "       -351.70384956, -351.72371548]), array([-351.79631236, -351.78968906, -351.76981941, ..., -351.73670417,\n",
            "       -351.76981941, -351.78968906]), array([-351.86220584, -351.8555813 , -351.83570793, ..., -351.80258648,\n",
            "       -351.83570793, -351.8555813 ]), array([-351.92801808, -351.9213923 , -351.90151521, ..., -351.86838757,\n",
            "       -351.90151521, -351.9213923 ]), array([-351.99374917, -351.98712215, -351.96724136, ..., -351.93410753,\n",
            "       -351.96724136, -351.98712215]), array([-352.05939922, -352.05277097, -352.03288646, ..., -351.99974645,\n",
            "       -352.03288646, -352.05277097]), array([-352.12496833, -352.11833884, -352.09845063, ..., -352.06530445,\n",
            "       -352.09845063, -352.11833884]), array([-352.19045659, -352.18382587, -352.16393396, ..., -352.13078162,\n",
            "       -352.16393396, -352.18382587]), array([-352.25586411, -352.24923216, -352.22933656, ..., -352.19617806,\n",
            "       -352.22933656, -352.24923216]), array([-352.32119099, -352.31455781, -352.29465852, ..., -352.26149387,\n",
            "       -352.29465852, -352.31455781]), array([-352.38643732, -352.37980291, -352.35989994, ..., -352.32672915,\n",
            "       -352.35989994, -352.37980291]), array([-352.4516032 , -352.44496757, -352.42506091, ..., -352.39188399,\n",
            "       -352.42506091, -352.44496757]), array([-352.51668874, -352.51005188, -352.49014155, ..., -352.4569585 ,\n",
            "       -352.49014155, -352.51005188]), array([-352.58169404, -352.57505595, -352.55514195, ..., -352.52195278,\n",
            "       -352.55514195, -352.57505595]), array([-352.64661918, -352.63997988, -352.62006221, ..., -352.58686693,\n",
            "       -352.62006221, -352.63997988]), array([-352.71146428, -352.70482375, -352.68490242, ..., -352.65170104,\n",
            "       -352.68490242, -352.70482375]), array([-352.77622942, -352.76958768, -352.74966269, ..., -352.71645521,\n",
            "       -352.74966269, -352.76958768]), array([-352.84091472, -352.83427175, -352.81434311, ..., -352.78112955,\n",
            "       -352.81434311, -352.83427175]), array([-352.90552026, -352.89887608, -352.87894379, ..., -352.84572414,\n",
            "       -352.87894379, -352.89887608]), array([-352.97004614, -352.96340075, -352.94346481, ..., -352.91023909,\n",
            "       -352.94346481, -352.96340075]), array([-353.03449247, -353.02784586, -353.00790629, ..., -352.9746745 ,\n",
            "       -353.00790629, -353.02784586]), array([-353.09885934, -353.09221152, -353.07226831, ..., -353.03903047,\n",
            "       -353.07226831, -353.09221152]), array([-353.16314684, -353.15649782, -353.13655098, ..., -353.10330708,\n",
            "       -353.13655098, -353.15649782]), array([-353.22735509, -353.22070485, -353.20075439, ..., -353.16750445,\n",
            "       -353.20075439, -353.22070485]), array([-353.29148417, -353.28483272, -353.26487864, ..., -353.23162266,\n",
            "       -353.26487864, -353.28483272]), array([-353.35553418, -353.34888153, -353.32892383, ..., -353.29566183,\n",
            "       -353.32892383, -353.34888153]), array([-353.41950522, -353.41285137, -353.39289005, ..., -353.35962203,\n",
            "       -353.39289005, -353.41285137]), array([-353.48339739, -353.47674233, -353.45677741, ..., -353.42350337,\n",
            "       -353.45677741, -353.47674233]), array([-353.54721078, -353.54055452, -353.520586  , ..., -353.48730595,\n",
            "       -353.520586  , -353.54055452]), array([-353.6109455 , -353.60428804, -353.58431591, ..., -353.55102987,\n",
            "       -353.58431591, -353.60428804]), array([-353.67460163, -353.66794297, -353.64796725, ..., -353.61467522,\n",
            "       -353.64796725, -353.66794297]), array([-353.73817928, -353.73151942, -353.71154011, ..., -353.6782421 ,\n",
            "       -353.71154011, -353.73151942]), array([-353.80167854, -353.79501749, -353.77503459, ..., -353.7417306 ,\n",
            "       -353.77503459, -353.79501749]), array([-353.86509951, -353.85843727, -353.83845079, ..., -353.80514082,\n",
            "       -353.83845079, -353.85843727]), array([-353.92844228, -353.92177885, -353.90178879, ..., -353.86847287,\n",
            "       -353.90178879, -353.92177885]), array([-353.99170696, -353.98504233, -353.9650487 , ..., -353.93172682,\n",
            "       -353.9650487 , -353.98504233]), array([-354.05489363, -354.04822782, -354.02823062, ..., -353.99490279,\n",
            "       -354.02823062, -354.04822782]), array([-354.1180024 , -354.1113354 , -354.09133464, ..., -354.05800087,\n",
            "       -354.09133464, -354.1113354 ]), array([-354.18103336, -354.17436517, -354.15436085, ..., -354.12102115,\n",
            "       -354.15436085, -354.17436517]), array([-354.24398661, -354.23731723, -354.21730935, ..., -354.18396373,\n",
            "       -354.21730935, -354.23731723]), array([-354.30686223, -354.30019167, -354.28018025, ..., -354.24682871,\n",
            "       -354.28018025, -354.30019167]), array([-354.36966034, -354.3629886 , -354.34297362, ..., -354.30961617,\n",
            "       -354.34297362, -354.3629886 ]), array([-354.43238102, -354.42570809, -354.40568958, ..., -354.37232622,\n",
            "       -354.40568958, -354.42570809]), array([-354.49502436, -354.48835026, -354.46832821, ..., -354.43495896,\n",
            "       -354.46832821, -354.48835026]), array([-354.55759047, -354.5509152 , -354.53088961, ..., -354.49751447,\n",
            "       -354.53088961, -354.5509152 ]), array([-354.62007945, -354.61340299, -354.59337387, ..., -354.55999285,\n",
            "       -354.59337387, -354.61340299]), array([-354.68249137, -354.67581374, -354.6557811 , ..., -354.6223942 ,\n",
            "       -354.6557811 , -354.67581374]), array([-354.74482634, -354.73814754, -354.71811138, ..., -354.68471862,\n",
            "       -354.71811138, -354.73814754]), array([-354.80708446, -354.80040449, -354.78036481, ..., -354.74696619,\n",
            "       -354.78036481, -354.80040449]), array([-354.86926582, -354.86258467, -354.84254149, ..., -354.80913701,\n",
            "       -354.84254149, -354.86258467]), array([-354.93137051, -354.9246882 , -354.9046415 , ..., -354.87123118,\n",
            "       -354.9046415 , -354.9246882 ]), array([-354.99339863, -354.98671515, -354.96666495, ..., -354.93324879,\n",
            "       -354.96666495, -354.98671515]), array([-355.05535027, -355.04866563, -355.02861193, ..., -354.99518994,\n",
            "       -355.02861193, -355.04866563]), array([-355.11722553, -355.11053972, -355.09048253, ..., -355.05705471,\n",
            "       -355.09048253, -355.11053972]), array([-355.1790245 , -355.17233753, -355.15227685, ..., -355.11884322,\n",
            "       -355.15227685, -355.17233753]), array([-355.24074728, -355.23405914, -355.21399497, ..., -355.18055553,\n",
            "       -355.21399497, -355.23405914]), array([-355.30239396, -355.29570466, -355.27563701, ..., -355.24219177,\n",
            "       -355.27563701, -355.29570466]), array([-355.36396462, -355.35727416, -355.33720304, ..., -355.303752  ,\n",
            "       -355.33720304, -355.35727416]), array([-355.42545938, -355.41876776, -355.39869316, ..., -355.36523634,\n",
            "       -355.39869316, -355.41876776]), array([-355.48687831, -355.48018554, -355.46010747, ..., -355.42664487,\n",
            "       -355.46010747, -355.48018554]), array([-355.54822152, -355.54152759, -355.52144606, ..., -355.48797768,\n",
            "       -355.52144606, -355.54152759]), array([-355.6094891 , -355.60279402, -355.58270903, ..., -355.54923488,\n",
            "       -355.58270903, -355.60279402]), array([-355.67068113, -355.6639849 , -355.64389645, ..., -355.61041655,\n",
            "       -355.64389645, -355.6639849 ]), array([-355.73179772, -355.72510034, -355.70500844, ..., -355.67152278,\n",
            "       -355.70500844, -355.72510034]), array([-355.79283896, -355.78614043, -355.76604508, ..., -355.73255368,\n",
            "       -355.76604508, -355.78614043]), array([-355.85380494, -355.84710526, -355.82700647, ..., -355.79350933,\n",
            "       -355.82700647, -355.84710526]), array([-355.91469574, -355.90799492, -355.88789269, ..., -355.85438982,\n",
            "       -355.88789269, -355.90799492]), array([-355.97551148, -355.96880951, -355.94870384, ..., -355.91519525,\n",
            "       -355.94870384, -355.96880951]), array([-356.03625223, -356.02954911, -356.00944002, ..., -355.97592571,\n",
            "       -356.00944002, -356.02954911]), array([-356.09691809, -356.09021383, -356.07010131, ..., -356.03658129,\n",
            "       -356.07010131, -356.09021383]), array([-356.15750915, -356.15080375, -356.13068781, ..., -356.09716209,\n",
            "       -356.13068781, -356.15080375]), array([-356.21802551, -356.21131897, -356.19119961, ..., -356.15766819,\n",
            "       -356.19119961, -356.21131897]), array([-356.27846725, -356.27175958, -356.25163681, ..., -356.2180997 ,\n",
            "       -356.25163681, -356.27175958]), array([-356.33883447, -356.33212566, -356.31199948, ..., -356.27845669,\n",
            "       -356.31199948, -356.33212566]), array([-356.39912727, -356.39241732, -356.37228774, ..., -356.33873927,\n",
            "       -356.37228774, -356.39241732]), array([-356.45934572, -356.45263464, -356.43250166, ..., -356.39894752,\n",
            "       -356.43250166, -356.45263464]), array([-356.51948993, -356.51277772, -356.49264134, ..., -356.45908154,\n",
            "       -356.49264134, -356.51277772]), array([-356.57955999, -356.57284664, -356.55270687, ..., -356.51914142,\n",
            "       -356.55270687, -356.57284664]), array([-356.63955598, -356.63284151, -356.61269834, ..., -356.57912725,\n",
            "       -356.61269834, -356.63284151]), array([-356.699478  , -356.6927624 , -356.67261585, ..., -356.63903912,\n",
            "       -356.67261585, -356.6927624 ]), array([-356.75932614, -356.75260941, -356.73245948, ..., -356.69887711,\n",
            "       -356.73245948, -356.75260941]), array([-356.81910049, -356.81238264, -356.79222933, ..., -356.75864134,\n",
            "       -356.79222933, -356.81238264]), array([-356.87880114, -356.87208216, -356.85192549, ..., -356.81833187,\n",
            "       -356.85192549, -356.87208216]), array([-356.93842818, -356.93170808, -356.91154804, ..., -356.87794882,\n",
            "       -356.91154804, -356.93170808]), array([-356.99798171, -356.99126049, -356.97109708, ..., -356.93749225,\n",
            "       -356.97109708, -356.99126049]), array([-357.05746181, -357.05073947, -357.03057271, ..., -356.99696228,\n",
            "       -357.03057271, -357.05073947]), array([-357.11686857, -357.11014512, -357.089975  , ..., -357.05635898,\n",
            "       -357.089975  , -357.11014512]), array([-357.17620209, -357.16947752, -357.14930405, ..., -357.11568244,\n",
            "       -357.14930405, -357.16947752]), array([-357.23546246, -357.22873677, -357.20855995, ..., -357.17493277,\n",
            "       -357.20855995, -357.22873677]), array([-357.29464976, -357.28792295, -357.26774279, ..., -357.23411004,\n",
            "       -357.26774279, -357.28792295]), array([-357.35376408, -357.34703617, -357.32685267, ..., -357.29321435,\n",
            "       -357.32685267, -357.34703617]), array([-357.41280552, -357.40607649, -357.38588966, ..., -357.35224579,\n",
            "       -357.38588966, -357.40607649]), array([-357.47177417, -357.46504403, -357.44485387, ..., -357.41120444,\n",
            "       -357.44485387, -357.46504403]), array([-357.53067011, -357.52393886, -357.50374537, ..., -357.47009041,\n",
            "       -357.50374537, -357.52393886]), array([-357.58949343, -357.58276108, -357.56256427, ..., -357.52890376,\n",
            "       -357.56256427, -357.58276108]), array([-357.64824423, -357.64151077, -357.62131064, ..., -357.58764461,\n",
            "       -357.62131064, -357.64151077]), array([-357.70692259, -357.70018803, -357.67998459, ..., -357.64631303,\n",
            "       -357.67998459, -357.70018803]), array([-357.76552861, -357.75879294, -357.73858619, ..., -357.70490912,\n",
            "       -357.73858619, -357.75879294]), array([-357.82406237, -357.8173256 , -357.79711554, ..., -357.76343296,\n",
            "       -357.79711554, -357.8173256 ]), array([-357.88252396, -357.87578608, -357.85557273, ..., -357.82188464,\n",
            "       -357.85557273, -357.87578608]), array([-357.94091346, -357.93417449, -357.91395784, ..., -357.88026426,\n",
            "       -357.91395784, -357.93417449]), array([-357.99923098, -357.99249091, -357.97227096, ..., -357.9385719 ,\n",
            "       -357.97227096, -357.99249091]), array([-358.0574766 , -358.05073543, -358.03051219, ..., -357.99680764,\n",
            "       -358.03051219, -358.05073543]), array([-358.1156504 , -358.10890814, -358.08868161, ..., -358.05497159,\n",
            "       -358.08868161, -358.10890814]), array([-358.17375247, -358.16700912, -358.14677932, ..., -358.11306382,\n",
            "       -358.14677932, -358.16700912]), array([-358.23178291, -358.22503847, -358.20480539, ..., -358.17108443,\n",
            "       -358.20480539, -358.22503847]), array([-358.2897418 , -358.28299627, -358.26275991, ..., -358.2290335 ,\n",
            "       -358.26275991, -358.28299627]), array([-358.34762924, -358.34088261, -358.32064299, ..., -358.28691112,\n",
            "       -358.32064299, -358.34088261]), array([-358.40544529, -358.39869758, -358.37845469, ..., -358.34471739,\n",
            "       -358.37845469, -358.39869758]), array([-358.46319007, -358.45644127, -358.43619512, ..., -358.40245238,\n",
            "       -358.43619512, -358.45644127]), array([-358.52086365, -358.51411376, -358.49386435, ..., -358.46011619,\n",
            "       -358.49386435, -358.51411376]), array([-358.57846612, -358.57171515, -358.55146249, ..., -358.5177089 ,\n",
            "       -358.55146249, -358.57171515]), array([-358.63599757, -358.62924551, -358.60898961, ..., -358.5752306 ,\n",
            "       -358.60898961, -358.62924551]), array([-358.69345809, -358.68670495, -358.6664458 , ..., -358.63268139,\n",
            "       -358.6664458 , -358.68670495]), array([-358.75084776, -358.74409354, -358.72383115, ..., -358.69006133,\n",
            "       -358.72383115, -358.74409354]), array([-358.80816667, -358.80141138, -358.78114574, ..., -358.74737054,\n",
            "       -358.78114574, -358.80141138]), array([-358.86541491, -358.85865854, -358.83838967, ..., -358.80460908,\n",
            "       -358.83838967, -358.85865854]), array([-358.92259257, -358.91583512, -358.89556303, ..., -358.86177705,\n",
            "       -358.89556303, -358.91583512]), array([-358.97969973, -358.97294121, -358.95266589, ..., -358.91887454,\n",
            "       -358.95266589, -358.97294121]), array([-359.03673648, -359.02997688, -359.00969834, ..., -358.97590162,\n",
            "       -359.00969834, -359.02997688]), array([-359.09370291, -359.08694224, -359.06666048, ..., -359.0328584 ,\n",
            "       -359.06666048, -359.08694224]), array([-359.1505991 , -359.14383736, -359.12355239, ..., -359.08974495,\n",
            "       -359.12355239, -359.14383736]), array([-359.20742514, -359.20066233, -359.18037415, ..., -359.14656137,\n",
            "       -359.18037415, -359.20066233]), array([-359.26418112, -359.25741724, -359.23712586, ..., -359.20330773,\n",
            "       -359.23712586, -359.25741724]), array([-359.32086712, -359.31410218, -359.29380759, ..., -359.25998413,\n",
            "       -359.29380759, -359.31410218]), array([-359.37748323, -359.37071722, -359.35041944, ..., -359.31659065,\n",
            "       -359.35041944, -359.37071722]), array([-359.43402954, -359.42726246, -359.40696149, ..., -359.37312737,\n",
            "       -359.40696149, -359.42726246]), array([-359.49050613, -359.48373799, -359.46343382, ..., -359.42959439,\n",
            "       -359.46343382, -359.48373799]), array([-359.54691308, -359.54014388, -359.51983653, ..., -359.48599179,\n",
            "       -359.51983653, -359.54014388]), array([-359.60325049, -359.59648023, -359.57616969, ..., -359.54231965,\n",
            "       -359.57616969, -359.59648023]), array([-359.65951844, -359.65274712, -359.63243341, ..., -359.59857807,\n",
            "       -359.63243341, -359.65274712]), array([-359.71571701, -359.70894463, -359.68862775, ..., -359.65476712,\n",
            "       -359.68862775, -359.70894463]), array([-359.77184629, -359.76507286, -359.7447528 , ..., -359.71088689,\n",
            "       -359.7447528 , -359.76507286]), array([-359.82790637, -359.82113188, -359.80080866, ..., -359.76693747,\n",
            "       -359.80080866, -359.82113188]), array([-359.88389733, -359.87712179, -359.8567954 , ..., -359.82291895,\n",
            "       -359.8567954 , -359.87712179]), array([-359.93981926, -359.93304266, -359.91271312, ..., -359.8788314 ,\n",
            "       -359.91271312, -359.93304266]), array([-359.99567223, -359.98889458, -359.96856189, ..., -359.93467491,\n",
            "       -359.96856189, -359.98889458]), array([-360.05145635, -360.04467765, -360.0243418 , ..., -359.99044958,\n",
            "       -360.0243418 , -360.04467765]), array([-360.10717168, -360.10039193, -360.08005294, ..., -360.04615547,\n",
            "       -360.08005294, -360.10039193]), array([-360.16281832, -360.15603753, -360.13569539, ..., -360.10179268,\n",
            "       -360.13569539, -360.15603753]), array([-360.21839635, -360.21161451, -360.19126924, ..., -360.1573613 ,\n",
            "       -360.19126924, -360.21161451]), array([-360.27390586, -360.26712297, -360.24677457, ..., -360.2128614 ,\n",
            "       -360.24677457, -360.26712297]), array([-360.32934693, -360.322563  , -360.30221146, ..., -360.26829308,\n",
            "       -360.30221146, -360.322563  ]), array([-360.38471964, -360.37793467, -360.35758   , ..., -360.32365641,\n",
            "       -360.35758   , -360.37793467]), array([-360.44002408, -360.43323806, -360.41288027, ..., -360.37895148,\n",
            "       -360.41288027, -360.43323806]), array([-360.49526033, -360.48847328, -360.46811237, ..., -360.43417837,\n",
            "       -360.46811237, -360.48847328]), array([-360.55042848, -360.54364039, -360.52327636, ..., -360.48933717,\n",
            "       -360.52327636, -360.54364039]), array([-360.60552861, -360.59873948, -360.57837234, ..., -360.54442797,\n",
            "       -360.57837234, -360.59873948]), array([-360.6605608 , -360.65377064, -360.63340039, ..., -360.59945084,\n",
            "       -360.63340039, -360.65377064]), array([-360.71552515, -360.70873395, -360.6883606 , ..., -360.65440587,\n",
            "       -360.6883606 , -360.70873395]), array([-360.77042172, -360.76362949, -360.74325304, ..., -360.70929314,\n",
            "       -360.74325304, -360.76362949]), array([-360.82525061, -360.81845735, -360.7980778 , ..., -360.76411275,\n",
            "       -360.7980778 , -360.81845735]), array([-360.8800119 , -360.8732176 , -360.85283497, ..., -360.81886476,\n",
            "       -360.85283497, -360.8732176 ]), array([-360.93470567, -360.92791035, -360.90752462, ..., -360.87354926,\n",
            "       -360.90752462, -360.92791035]), array([-360.98933201, -360.98253566, -360.96214684, ..., -360.92816635,\n",
            "       -360.96214684, -360.98253566]), array([-361.043891  , -361.03709361, -361.01670172, ..., -360.98271609,\n",
            "       -361.01670172, -361.03709361]), array([-361.09838272, -361.09158431, -361.07118934, ..., -361.03719857,\n",
            "       -361.07118934, -361.09158431]), array([-361.15280725, -361.14600782, -361.12560977, ..., -361.09161389,\n",
            "       -361.12560977, -361.14600782]), array([-361.20716468, -361.20036422, -361.17996311, ..., -361.14596211,\n",
            "       -361.17996311, -361.20036422]), array([-361.26145509, -361.25465361, -361.23424943, ..., -361.20024332,\n",
            "       -361.23424943, -361.25465361]), array([-361.31567856, -361.30887606, -361.28846882, ..., -361.25445761,\n",
            "       -361.28846882, -361.30887606]), array([-361.36983518, -361.36303166, -361.34262136, ..., -361.30860505,\n",
            "       -361.34262136, -361.36303166]), array([-361.42392503, -361.41712049, -361.39670714, ..., -361.36268574,\n",
            "       -361.39670714, -361.41712049]), array([-361.47794819, -361.47114263, -361.45072623, ..., -361.41669974,\n",
            "       -361.45072623, -361.47114263]), array([-361.53190474, -361.52509817, -361.50467872, ..., -361.47064715,\n",
            "       -361.50467872, -361.52509817]), array([-361.58579476, -361.57898718, -361.55856468, ..., -361.52452804,\n",
            "       -361.55856468, -361.57898718]), array([-361.63961834, -361.63280974, -361.61238421, ..., -361.57834251,\n",
            "       -361.61238421, -361.63280974]), array([-361.69337556, -361.68656595, -361.66613738, ..., -361.63209062,\n",
            "       -361.66613738, -361.68656595]), array([-361.7470665 , -361.74025588, -361.71982428, ..., -361.68577246,\n",
            "       -361.71982428, -361.74025588]), array([-361.80069124, -361.79387961, -361.77344498, ..., -361.73938812,\n",
            "       -361.77344498, -361.79387961]), array([-361.85424987, -361.84743723, -361.82699958, ..., -361.79293767,\n",
            "       -361.82699958, -361.84743723]), array([-361.90774246, -361.90092882, -361.88048814, ..., -361.8464212 ,\n",
            "       -361.88048814, -361.90092882]), array([-361.9611691 , -361.95435445, -361.93391075, ..., -361.89983879,\n",
            "       -361.93391075, -361.95435445]), array([-362.01452986, -362.00771421, -361.9872675 , ..., -361.95319051,\n",
            "       -361.9872675 , -362.00771421]), array([-362.06782484, -362.06100818, -362.04055846, ..., -362.00647646,\n",
            "       -362.04055846, -362.06100818]), array([-362.1210541 , -362.11423644, -362.09378372, ..., -362.0596967 ,\n",
            "       -362.09378372, -362.11423644]), array([-362.17421774, -362.16739908, -362.14694335, ..., -362.11285133,\n",
            "       -362.14694335, -362.16739908]), array([-362.22731583, -362.22049617, -362.20003744, ..., -362.16594043,\n",
            "       -362.20003744, -362.22049617]), array([-362.28034845, -362.27352779, -362.25306607, ..., -362.21896406,\n",
            "       -362.25306607, -362.27352779]), array([-362.33331569, -362.32649403, -362.30602932, ..., -362.27192232,\n",
            "       -362.30602932, -362.32649403]), array([-362.38621761, -362.37939496, -362.35892727, ..., -362.32481529,\n",
            "       -362.35892727, -362.37939496]), array([-362.43905432, -362.43223067, -362.41175999, ..., -362.37764304,\n",
            "       -362.41175999, -362.43223067]), array([-362.49182588, -362.48500124, -362.46452758, ..., -362.43040566,\n",
            "       -362.46452758, -362.48500124]), array([-362.54453238, -362.53770674, -362.5172301 , ..., -362.48310323,\n",
            "       -362.5172301 , -362.53770674]), array([-362.59717389, -362.59034726, -362.56986765, ..., -362.53573582,\n",
            "       -362.56986765, -362.59034726]), array([-362.64975049, -362.64292288, -362.6224403 , ..., -362.58830352,\n",
            "       -362.6224403 , -362.64292288]), array([-362.70226228, -362.69543368, -362.67494813, ..., -362.64080641,\n",
            "       -362.67494813, -362.69543368]), array([-362.75470932, -362.74787973, -362.72739122, ..., -362.69324456,\n",
            "       -362.72739122, -362.74787973]), array([-362.80709169, -362.80026112, -362.77976965, ..., -362.74561806,\n",
            "       -362.77976965, -362.80026112]), array([-362.85940948, -362.85257792, -362.8320835 , ..., -362.79792699,\n",
            "       -362.8320835 , -362.85257792]), array([-362.91166277, -362.90483023, -362.88433285, ..., -362.85017142,\n",
            "       -362.88433285, -362.90483023]), array([-362.96385163, -362.9570181 , -362.93651778, ..., -362.90235144,\n",
            "       -362.93651778, -362.9570181 ]), array([-363.01597614, -363.00914164, -362.98863837, ..., -362.95446713,\n",
            "       -362.98863837, -363.00914164]), array([-363.06803639, -363.0612009 , -363.0406947 , ..., -363.00651855,\n",
            "       -363.0406947 , -363.0612009 ]), array([-363.12003245, -363.11319599, -363.09268685, ..., -363.05850581,\n",
            "       -363.09268685, -363.11319599]), array([-363.1719644 , -363.16512696, -363.14461489, ..., -363.11042896,\n",
            "       -363.14461489, -363.16512696]), array([-363.22383233, -363.21699391, -363.19647891, ..., -363.1622881 ,\n",
            "       -363.19647891, -363.21699391]), array([-363.2756363 , -363.2687969 , -363.24827898, ..., -363.21408329,\n",
            "       -363.24827898, -363.2687969 ]), array([-363.3273764 , -363.32053603, -363.30001518, ..., -363.26581463,\n",
            "       -363.30001518, -363.32053603]), array([-363.37905271, -363.37221137, -363.3516876 , ..., -363.31748218,\n",
            "       -363.3516876 , -363.37221137]), array([-363.43066531, -363.42382299, -363.40329631, ..., -363.36908603,\n",
            "       -363.40329631, -363.42382299]), array([-363.48221426, -363.47537098, -363.45484139, ..., -363.42062626,\n",
            "       -363.45484139, -363.47537098]), array([-363.53369967, -363.52685541, -363.50632291, ..., -363.47210294,\n",
            "       -363.50632291, -363.52685541]), array([-363.58512159, -363.57827637, -363.55774097, ..., -363.52351615,\n",
            "       -363.55774097, -363.57827637]), array([-363.63648011, -363.62963393, -363.60909562, ..., -363.57486597,\n",
            "       -363.60909562, -363.62963393]), array([-363.68777532, -363.68092816, -363.66038696, ..., -363.62615248,\n",
            "       -363.66038696, -363.68092816]), array([-363.73900727, -363.73215916, -363.71161506, ..., -363.67737576,\n",
            "       -363.71161506, -363.73215916]), array([-363.79017607, -363.78332698, -363.76278   , ..., -363.72853588,\n",
            "       -363.76278   , -363.78332698]), array([-363.84128177, -363.83443173, -363.81388185, ..., -363.77963293,\n",
            "       -363.81388185, -363.83443173]), array([-363.89232446, -363.88547346, -363.8649207 , ..., -363.83066697,\n",
            "       -363.8649207 , -363.88547346]), array([-363.94330422, -363.93645226, -363.91589663, ..., -363.8816381 ,\n",
            "       -363.91589663, -363.93645226]), array([-363.99422113, -363.9873682 , -363.9668097 , ..., -363.93254638,\n",
            "       -363.9668097 , -363.9873682 ]), array([-364.04507525, -364.03822137, -364.01765999, ..., -363.98339189,\n",
            "       -364.01765999, -364.03822137]), array([-364.09586668, -364.08901184, -364.0684476 , ..., -364.03417471,\n",
            "       -364.0684476 , -364.08901184]), array([-364.14659548, -364.13973969, -364.11917258, ..., -364.08489492,\n",
            "       -364.11917258, -364.13973969]), array([-364.19726174, -364.190405  , -364.16983502, ..., -364.13555259,\n",
            "       -364.16983502, -364.190405  ]), array([-364.24786553, -364.24100783, -364.220435  , ..., -364.18614781,\n",
            "       -364.220435  , -364.24100783]), array([-364.29840693, -364.29154828, -364.27097259, ..., -364.23668064,\n",
            "       -364.27097259, -364.29154828]), array([-364.34888601, -364.34202641, -364.32144788, ..., -364.28715118,\n",
            "       -364.32144788, -364.34202641]), array([-364.39930286, -364.39244231, -364.37186093, ..., -364.33755948,\n",
            "       -364.37186093, -364.39244231]), array([-364.44965754, -364.44279605, -364.42221182, ..., -364.38790563,\n",
            "       -364.42221182, -364.44279605]), array([-364.49995014, -364.4930877 , -364.47250063, ..., -364.43818971,\n",
            "       -364.47250063, -364.4930877 ]), array([-364.55018073, -364.54331735, -364.52272744, ..., -364.48841179,\n",
            "       -364.52272744, -364.54331735]), array([-364.60034939, -364.59348506, -364.57289232, ..., -364.53857196,\n",
            "       -364.57289232, -364.59348506]), array([-364.6504562 , -364.64359092, -364.62299536, ..., -364.58867027,\n",
            "       -364.62299536, -364.64359092]), array([-364.70050123, -364.69363501, -364.67303661, ..., -364.63870682,\n",
            "       -364.67303661, -364.69363501]), array([-364.75048455, -364.74361739, -364.72301617, ..., -364.68868168,\n",
            "       -364.72301617, -364.74361739]), array([-364.80040625, -364.79353815, -364.77293411, ..., -364.73859491,\n",
            "       -364.77293411, -364.79353815]), array([-364.85026639, -364.84339736, -364.82279051, ..., -364.78844661,\n",
            "       -364.82279051, -364.84339736]), array([-364.90006507, -364.89319509, -364.87258543, ..., -364.83823685,\n",
            "       -364.87258543, -364.89319509]), array([-364.94980234, -364.94293143, -364.92231896, ..., -364.8879657 ,\n",
            "       -364.92231896, -364.94293143]), array([-364.99947829, -364.99260644, -364.97199116, ..., -364.93763323,\n",
            "       -364.97199116, -364.99260644]), array([-365.04909299, -365.04222021, -365.02160213, ..., -364.98723953,\n",
            "       -365.02160213, -365.04222021]), array([-365.09864652, -365.09177281, -365.07115193, ..., -365.03678466,\n",
            "       -365.07115193, -365.09177281]), array([-365.14813895, -365.14126431, -365.12064064, ..., -365.08626871,\n",
            "       -365.12064064, -365.14126431]), array([-365.19757037, -365.19069479, -365.17006833, ..., -365.13569175,\n",
            "       -365.17006833, -365.19069479]), array([-365.24694083, -365.24006433, -365.21943507, ..., -365.18505385,\n",
            "       -365.21943507, -365.24006433]), array([-365.29625043, -365.28937299, -365.26874096, ..., -365.23435509,\n",
            "       -365.26874096, -365.28937299]), array([-365.34549923, -365.33862087, -365.31798605, ..., -365.28359554,\n",
            "       -365.31798605, -365.33862087]), array([-365.3946873 , -365.38780802, -365.36717042, ..., -365.33277529,\n",
            "       -365.36717042, -365.38780802]), array([-365.44381474, -365.43693453, -365.41629415, ..., -365.3818944 ,\n",
            "       -365.41629415, -365.43693453]), array([-365.4928816 , -365.48600046, -365.46535732, ..., -365.43095295,\n",
            "       -365.46535732, -365.48600046]), array([-365.54188796, -365.5350059 , -365.51435999, ..., -365.47995101,\n",
            "       -365.51435999, -365.5350059 ]), array([-365.5908339 , -365.58395092, -365.56330225, ..., -365.52888866,\n",
            "       -365.56330225, -365.58395092]), array([-365.6397195 , -365.6328356 , -365.61218416, ..., -365.57776597,\n",
            "       -365.61218416, -365.6328356 ]), array([-365.68854482, -365.68166   , -365.66100581, ..., -365.62658302,\n",
            "       -365.66100581, -365.68166   ]), array([-365.73730994, -365.7304242 , -365.70976726, ..., -365.67533988,\n",
            "       -365.70976726, -365.7304242 ]), array([-365.78601494, -365.77912829, -365.75846859, ..., -365.72403662,\n",
            "       -365.75846859, -365.77912829]), array([-365.83465988, -365.82777232, -365.80710987, ..., -365.77267333,\n",
            "       -365.80710987, -365.82777232]), array([-365.88324486, -365.87635637, -365.85569119, ..., -365.82125007,\n",
            "       -365.85569119, -365.87635637]), array([-365.93176992, -365.92488053, -365.9042126 , ..., -365.86976692,\n",
            "       -365.9042126 , -365.92488053]), array([-365.98023516, -365.97334486, -365.95267419, ..., -365.91822395,\n",
            "       -365.95267419, -365.97334486]), array([-366.02864065, -366.02174943, -366.00107603, ..., -365.96662123,\n",
            "       -366.00107603, -366.02174943]), array([-366.07698645, -366.07009432, -366.04941819, ..., -366.01495884,\n",
            "       -366.04941819, -366.07009432]), array([-366.12527265, -366.11837961, -366.09770075, ..., -366.06323686,\n",
            "       -366.09770075, -366.11837961]), array([-366.17349931, -366.16660536, -366.14592378, ..., -366.11145535,\n",
            "       -366.14592378, -366.16660536]), array([-366.22166651, -366.21477166, -366.19408736, ..., -366.15961439,\n",
            "       -366.19408736, -366.21477166]), array([-366.26977432, -366.26287857, -366.24219155, ..., -366.20771405,\n",
            "       -366.24219155, -366.26287857]), array([-366.31782282, -366.31092616, -366.29023643, ..., -366.25575441,\n",
            "       -366.29023643, -366.31092616]), array([-366.36581208, -366.35891452, -366.33822208, ..., -366.30373554,\n",
            "       -366.33822208, -366.35891452]), array([-366.41374217, -366.4068437 , -366.38614856, ..., -366.35165751,\n",
            "       -366.38614856, -366.4068437 ]), array([-366.46161317, -366.4547138 , -366.43401595, ..., -366.3995204 ,\n",
            "       -366.43401595, -366.4547138 ]), array([-366.50942514, -366.50252487, -366.48182432, ..., -366.44732427,\n",
            "       -366.48182432, -366.50252487]), array([-366.55717817, -366.550277  , -366.52957375, ..., -366.4950692 ,\n",
            "       -366.52957375, -366.550277  ]), array([-366.60487231, -366.59797025, -366.57726431, ..., -366.54275527,\n",
            "       -366.57726431, -366.59797025]), array([-366.65250766, -366.64560469, -366.62489606, ..., -366.59038254,\n",
            "       -366.62489606, -366.64560469]), array([-366.70008427, -366.69318041, -366.67246909, ..., -366.63795109,\n",
            "       -366.67246909, -366.69318041]), array([-366.74760222, -366.74069747, -366.71998346, ..., -366.685461  ,\n",
            "       -366.71998346, -366.74069747]), array([-366.79506158, -366.78815594, -366.76743926, ..., -366.73291232,\n",
            "       -366.76743926, -366.78815594]), array([-366.84246243, -366.8355559 , -366.81483654, ..., -366.78030514,\n",
            "       -366.81483654, -366.8355559 ]), array([-366.88980484, -366.88289741, -366.86217538, ..., -366.82763953,\n",
            "       -366.86217538, -366.88289741]), array([-366.93708888, -366.93018056, -366.90945586, ..., -366.87491555,\n",
            "       -366.90945586, -366.93018056]), array([-366.98431462, -366.97740541, -366.95667804, ..., -366.92213329,\n",
            "       -366.95667804, -366.97740541]), array([-367.03148213, -367.02457203, -367.003842  , ..., -366.96929281,\n",
            "       -367.003842  , -367.02457203]), array([-367.07859149, -367.0716805 , -367.05094781, ..., -367.01639419,\n",
            "       -367.05094781, -367.0716805 ]), array([-367.12564276, -367.11873089, -367.09799554, ..., -367.06343749,\n",
            "       -367.09799554, -367.11873089]), array([-367.17263603, -367.16572327, -367.14498527, ..., -367.11042279,\n",
            "       -367.14498527, -367.16572327]), array([-367.21957135, -367.21265771, -367.19191706, ..., -367.15735016,\n",
            "       -367.19191706, -367.21265771]), array([-367.2664488 , -367.25953428, -367.23879098, ..., -367.20421968,\n",
            "       -367.23879098, -367.25953428]), array([-367.31326846, -367.30635306, -367.28560711, ..., -367.2510314 ,\n",
            "       -367.28560711, -367.30635306]), array([-367.36003039, -367.35311411, -367.33236552, ..., -367.29778541,\n",
            "       -367.33236552, -367.35311411]), array([-367.40673467, -367.39981751, -367.37906628, ..., -367.34448177,\n",
            "       -367.37906628, -367.39981751]), array([-367.45338136, -367.44646332, -367.42570946, ..., -367.39112056,\n",
            "       -367.42570946, -367.44646332]), array([-367.49997054, -367.49305162, -367.47229513, ..., -367.43770185,\n",
            "       -367.47229513, -367.49305162]), array([-367.54650228, -367.53958249, -367.51882337, ..., -367.48422571,\n",
            "       -367.51882337, -367.53958249]), array([-367.59297665, -367.58605598, -367.56529424, ..., -367.5306922 ,\n",
            "       -367.56529424, -367.58605598]), array([-367.63939371, -367.63247217, -367.61170781, ..., -367.5771014 ,\n",
            "       -367.61170781, -367.63247217]), array([-367.68575355, -367.67883114, -367.65806415, ..., -367.62345339,\n",
            "       -367.65806415, -367.67883114]), array([-367.73205623, -367.72513294, -367.70436335, ..., -367.66974822,\n",
            "       -367.70436335, -367.72513294]), array([-367.77830182, -367.77137766, -367.75060545, ..., -367.71598597,\n",
            "       -367.75060545, -367.77137766]), array([-367.82449039, -367.81756536, -367.79679055, ..., -367.76216672,\n",
            "       -367.79679055, -367.81756536]), array([-367.87062201, -367.86369612, -367.8429187 , ..., -367.80829053,\n",
            "       -367.8429187 , -367.86369612]), array([-367.91669676, -367.90977   , -367.88898997, ..., -367.85435747,\n",
            "       -367.88898997, -367.90977   ]), array([-367.9627147 , -367.95578707, -367.93500445, ..., -367.90036761,\n",
            "       -367.93500445, -367.95578707]), array([-368.0086759 , -368.00174741, -367.98096219, ..., -367.94632103,\n",
            "       -367.98096219, -368.00174741]), array([-368.05458043, -368.04765108, -368.02686326, ..., -367.99221778,\n",
            "       -368.02686326, -368.04765108]), array([-368.10042837, -368.09349815, -368.07270775, ..., -368.03805795,\n",
            "       -368.07270775, -368.09349815]), array([-368.14621978, -368.13928869, -368.11849571, ..., -368.0838416 ,\n",
            "       -368.11849571, -368.13928869]), array([-368.19195473, -368.18502278, -368.16422722, ..., -368.1295688 ,\n",
            "       -368.16422722, -368.18502278]), array([-368.23763329, -368.23070049, -368.20990234, ..., -368.17523963,\n",
            "       -368.20990234, -368.23070049]), array([-368.28325553, -368.27632187, -368.25552114, ..., -368.22085414,\n",
            "       -368.25552114, -368.27632187]), array([-368.32882152, -368.321887  , -368.30108371, ..., -368.26641241,\n",
            "       -368.30108371, -368.321887  ]), array([-368.37433134, -368.36739596, -368.34659009, ..., -368.31191451,\n",
            "       -368.34659009, -368.36739596]), array([-368.41978504, -368.41284881, -368.39204037, ..., -368.35736052,\n",
            "       -368.39204037, -368.41284881]), array([-368.4651827 , -368.45824561, -368.43743461, ..., -368.40275048,\n",
            "       -368.43743461, -368.45824561]), array([-368.51052439, -368.50358644, -368.48277289, ..., -368.44808449,\n",
            "       -368.48277289, -368.50358644]), array([-368.55581017, -368.54887138, -368.52805526, ..., -368.4933626 ,\n",
            "       -368.52805526, -368.54887138]), array([-368.60104012, -368.59410047, -368.5732818 , ..., -368.53858489,\n",
            "       -368.5732818 , -368.59410047]), array([-368.6462143 , -368.63927381, -368.61845258, ..., -368.58375142,\n",
            "       -368.61845258, -368.63927381]), array([-368.69133279, -368.68439144, -368.66356767, ..., -368.62886226,\n",
            "       -368.66356767, -368.68439144]), array([-368.73639564, -368.72945345, -368.70862713, ..., -368.67391748,\n",
            "       -368.70862713, -368.72945345]), array([-368.78140294, -368.7744599 , -368.75363104, ..., -368.71891715,\n",
            "       -368.75363104, -368.7744599 ]), array([-368.82635475, -368.81941086, -368.79857946, ..., -368.76386134,\n",
            "       -368.79857946, -368.81941086]), array([-368.87125113, -368.8643064 , -368.84347247, ..., -368.80875012,\n",
            "       -368.84347247, -368.8643064 ]), array([-368.91609216, -368.90914658, -368.88831012, ..., -368.85358355,\n",
            "       -368.88831012, -368.90914658]), array([-368.9608779 , -368.95393148, -368.93309249, ..., -368.8983617 ,\n",
            "       -368.93309249, -368.95393148]), array([-369.00560842, -368.99866116, -368.97781964, ..., -368.94308465,\n",
            "       -368.97781964, -368.99866116]), array([-369.05028379, -369.04333569, -369.02249165, ..., -368.98775245,\n",
            "       -369.02249165, -369.04333569]), array([-369.09490409, -369.08795515, -369.06710858, ..., -369.03236519,\n",
            "       -369.06710858, -369.08795515]), array([-369.13946936, -369.13251958, -369.1116705 , ..., -369.07692291,\n",
            "       -369.1116705 , -369.13251958]), array([-369.18397969, -369.17702908, -369.15617748, ..., -369.1214257 ,\n",
            "       -369.15617748, -369.17702908]), array([-369.22843515, -369.22148369, -369.20062959, ..., -369.16587362,\n",
            "       -369.20062959, -369.22148369]), array([-369.27283579, -369.2658835 , -369.24502689, ..., -369.21026674,\n",
            "       -369.24502689, -369.2658835 ]), array([-369.31718168, -369.31022856, -369.28936944, ..., -369.25460513,\n",
            "       -369.28936944, -369.31022856]), array([-369.36147291, -369.35451895, -369.33365733, ..., -369.29888884,\n",
            "       -369.33365733, -369.35451895]), array([-369.40570952, -369.39875473, -369.37789061, ..., -369.34311796,\n",
            "       -369.37789061, -369.39875473]), array([-369.44989159, -369.44293597, -369.42206936, ..., -369.38729255,\n",
            "       -369.42206936, -369.44293597]), array([-369.49401919, -369.48706273, -369.46619363, ..., -369.43141267,\n",
            "       -369.46619363, -369.48706273]), array([-369.53809238, -369.5311351 , -369.51026351, ..., -369.47547839,\n",
            "       -369.51026351, -369.5311351 ]), array([-369.58211123, -369.57515312, -369.55427904, ..., -369.51948979,\n",
            "       -369.55427904, -369.57515312]), array([-369.62607581, -369.61911687, -369.59824031, ..., -369.56344692,\n",
            "       -369.59824031, -369.61911687]), array([-369.66998618, -369.66302642, -369.64214738, ..., -369.60734985,\n",
            "       -369.64214738, -369.66302642]), array([-369.71384242, -369.70688182, -369.68600031, ..., -369.65119866,\n",
            "       -369.68600031, -369.70688182]), array([-369.75764458, -369.75068316, -369.72979917, ..., -369.6949934 ,\n",
            "       -369.72979917, -369.75068316]), array([-369.80139273, -369.79443049, -369.77354403, ..., -369.73873414,\n",
            "       -369.77354403, -369.79443049]), array([-369.84508695, -369.83812389, -369.81723496, ..., -369.78242096,\n",
            "       -369.81723496, -369.83812389]), array([-369.8887273 , -369.88176341, -369.86087202, ..., -369.82605391,\n",
            "       -369.86087202, -369.88176341]), array([-369.93231384, -369.92534913, -369.90445528, ..., -369.86963306,\n",
            "       -369.90445528, -369.92534913]), array([-369.97584663, -369.96888111, -369.9479848 , ..., -369.91315849,\n",
            "       -369.9479848 , -369.96888111]), array([-370.01932576, -370.01235942, -369.99146065, ..., -369.95663025,\n",
            "       -369.99146065, -370.01235942]), array([-370.06275128, -370.05578412, -370.0348829 , ..., -370.00004841,\n",
            "       -370.0348829 , -370.05578412]), array([-370.10612326, -370.09915528, -370.07825161, ..., -370.04341304,\n",
            "       -370.07825161, -370.09915528]), array([-370.14944176, -370.14247297, -370.12156685, ..., -370.0867242 ,\n",
            "       -370.12156685, -370.14247297]), array([-370.19270685, -370.18573724, -370.16482869, ..., -370.12998196,\n",
            "       -370.16482869, -370.18573724]), array([-370.2359186 , -370.22894818, -370.20803718, ..., -370.17318639,\n",
            "       -370.20803718, -370.22894818]), array([-370.27907707, -370.27210584, -370.2511924 , ..., -370.21633755,\n",
            "       -370.2511924 , -370.27210584]), array([-370.32218233, -370.31521029, -370.29429442, ..., -370.25943551,\n",
            "       -370.29429442, -370.31521029]), array([-370.36523445, -370.35826159, -370.33734329, ..., -370.30248033,\n",
            "       -370.33734329, -370.35826159]), array([-370.40823348, -370.40125982, -370.38033909, ..., -370.34547208,\n",
            "       -370.38033909, -370.40125982]), array([-370.4511795 , -370.44420503, -370.42328187, ..., -370.38841082,\n",
            "       -370.42328187, -370.44420503]), array([-370.49407257, -370.48709729, -370.46617171, ..., -370.43129662,\n",
            "       -370.46617171, -370.48709729]), array([-370.53691275, -370.52993666, -370.50900867, ..., -370.47412955,\n",
            "       -370.50900867, -370.52993666]), array([-370.57970011, -370.57272322, -370.55179281, ..., -370.51690966,\n",
            "       -370.55179281, -370.57272322]), array([-370.62243472, -370.61545703, -370.5945242 , ..., -370.55963703,\n",
            "       -370.5945242 , -370.61545703]), array([-370.66511664, -370.65813814, -370.63720291, ..., -370.60231172,\n",
            "       -370.63720291, -370.65813814]), array([-370.70774594, -370.70076664, -370.67982899, ..., -370.64493379,\n",
            "       -370.67982899, -370.70076664]), array([-370.75032267, -370.74334257, -370.72240252, ..., -370.68750332,\n",
            "       -370.72240252, -370.74334257]), array([-370.79284692, -370.78586601, -370.76492356, ..., -370.73002035,\n",
            "       -370.76492356, -370.78586601]), array([-370.83531873, -370.82833702, -370.80739217, ..., -370.77248497,\n",
            "       -370.80739217, -370.82833702]), array([-370.87773817, -370.87075567, -370.84980843, ..., -370.81489723,\n",
            "       -370.84980843, -370.87075567]), array([-370.92010532, -370.91312202, -370.89217238, ..., -370.8572572 ,\n",
            "       -370.89217238, -370.91312202]), array([-370.96242023, -370.95543613, -370.93448411, ..., -370.89956494,\n",
            "       -370.93448411, -370.95543613]), array([-371.00468297, -370.99769808, -370.97674366, ..., -370.94182052,\n",
            "       -370.97674366, -370.99769808]), array([-371.0468936 , -371.03990791, -371.01895111, ..., -370.98402399,\n",
            "       -371.01895111, -371.03990791]), array([-371.08905218, -371.0820657 , -371.06110653, ..., -371.02617544,\n",
            "       -371.06110653, -371.0820657 ]), array([-371.13115879, -371.12417152, -371.10320996, ..., -371.06827491,\n",
            "       -371.10320996, -371.12417152]), array([-371.17321349, -371.16622542, -371.14526149, ..., -371.11032248,\n",
            "       -371.14526149, -371.16622542]), array([-371.21521633, -371.20822747, -371.18726117, ..., -371.15231821,\n",
            "       -371.18726117, -371.20822747]), array([-371.25716738, -371.25017774, -371.22920906, ..., -371.19426215,\n",
            "       -371.22920906, -371.25017774]), array([-371.29906671, -371.29207628, -371.27110524, ..., -371.23615439,\n",
            "       -371.27110524, -371.29207628]), array([-371.34091439, -371.33392316, -371.31294976, ..., -371.27799497,\n",
            "       -371.31294976, -371.33392316]), array([-371.38271046, -371.37571845, -371.35474269, ..., -371.31978397,\n",
            "       -371.35474269, -371.37571845]), array([-371.42445501, -371.41746221, -371.39648409, ..., -371.36152144,\n",
            "       -371.39648409, -371.41746221]), array([-371.46614808, -371.4591545 , -371.43817403, ..., -371.40320745,\n",
            "       -371.43817403, -371.4591545 ]), array([-371.50778975, -371.50079539, -371.47981256, ..., -371.44484207,\n",
            "       -371.47981256, -371.50079539]), array([-371.54938008, -371.54238494, -371.52139976, ..., -371.48642535,\n",
            "       -371.52139976, -371.54238494]), array([-371.59091913, -371.5839232 , -371.56293568, ..., -371.52795736,\n",
            "       -371.56293568, -371.5839232 ]), array([-371.63240697, -371.62541026, -371.60442039, ..., -371.56943817,\n",
            "       -371.60442039, -371.62541026]), array([-371.67384365, -371.66684616, -371.64585396, ..., -371.61086783,\n",
            "       -371.64585396, -371.66684616]), array([-371.71522924, -371.70823098, -371.68723644, ..., -371.65224641,\n",
            "       -371.68723644, -371.70823098]), array([-371.75656381, -371.74956477, -371.72856789, ..., -371.69357398,\n",
            "       -371.72856789, -371.74956477]), array([-371.79784742, -371.79084759, -371.76984839, ..., -371.73485059,\n",
            "       -371.76984839, -371.79084759]), array([-371.83908012, -371.83207952, -371.81107799, ..., -371.77607631,\n",
            "       -371.81107799, -371.83207952]), array([-371.88026199, -371.87326061, -371.85225675, ..., -371.8172512 ,\n",
            "       -371.85225675, -371.87326061]), array([-371.92139308, -371.91439093, -371.89338475, ..., -371.85837532,\n",
            "       -371.89338475, -371.91439093]), array([-371.96247346, -371.95547054, -371.93446203, ..., -371.89944874,\n",
            "       -371.93446203, -371.95547054]), array([-372.00350319, -371.9964995 , -371.97548868, ..., -371.94047152,\n",
            "       -371.97548868, -371.9964995 ]), array([-372.04448233, -372.03747787, -372.01646473, ..., -371.98144372,\n",
            "       -372.01646473, -372.03747787]), array([-372.08541095, -372.07840572, -372.05739027, ..., -372.0223654 ,\n",
            "       -372.05739027, -372.07840572]), array([-372.12628911, -372.1192831 , -372.09826535, ..., -372.06323663,\n",
            "       -372.09826535, -372.1192831 ]), array([-372.16711686, -372.16011009, -372.13909003, ..., -372.10405747,\n",
            "       -372.13909003, -372.16011009]), array([-372.20789428, -372.20088674, -372.17986437, ..., -372.14482798,\n",
            "       -372.17986437, -372.20088674]), array([-372.24862142, -372.24161311, -372.22058845, ..., -372.18554822,\n",
            "       -372.22058845, -372.24161311]), array([-372.28929835, -372.28228927, -372.26126231, ..., -372.22621826,\n",
            "       -372.26126231, -372.28228927]), array([-372.32992512, -372.32291528, -372.30188603, ..., -372.26683815,\n",
            "       -372.30188603, -372.32291528]), array([-372.3705018 , -372.3634912 , -372.34245965, ..., -372.30740796,\n",
            "       -372.34245965, -372.3634912 ]), array([-372.41102846, -372.40401709, -372.38298326, ..., -372.34792775,\n",
            "       -372.38298326, -372.40401709]), array([-372.45150515, -372.44449302, -372.4234569 , ..., -372.38839758,\n",
            "       -372.4234569 , -372.44449302]), array([-372.49193193, -372.48491904, -372.46388064, ..., -372.42881751,\n",
            "       -372.46388064, -372.48491904]), array([-372.53230887, -372.52529522, -372.50425454, ..., -372.46918761,\n",
            "       -372.50425454, -372.52529522]), array([-372.57263603, -372.56562162, -372.54457866, ..., -372.50950793,\n",
            "       -372.54457866, -372.56562162]), array([-372.61291346, -372.60589829, -372.58485306, ..., -372.54977854,\n",
            "       -372.58485306, -372.60589829]), array([-372.65314124, -372.64612531, -372.6250778 , ..., -372.58999951,\n",
            "       -372.6250778 , -372.64612531]), array([-372.69331941, -372.68630273, -372.66525296, ..., -372.63017088,\n",
            "       -372.66525296, -372.68630273]), array([-372.73344805, -372.72643062, -372.70537857, ..., -372.67029272,\n",
            "       -372.70537857, -372.72643062]), array([-372.77352722, -372.76650903, -372.74545472, ..., -372.71036509,\n",
            "       -372.74545472, -372.76650903]), array([-372.81355697, -372.80653802, -372.78548145, ..., -372.75038806,\n",
            "       -372.78548145, -372.80653802]), array([-372.85353736, -372.84651766, -372.82545884, ..., -372.79036168,\n",
            "       -372.82545884, -372.84651766]), array([-372.89346846, -372.88644801, -372.86538693, ..., -372.83028601,\n",
            "       -372.86538693, -372.88644801]), array([-372.93335033, -372.92632913, -372.9052658 , ..., -372.87016112,\n",
            "       -372.9052658 , -372.92632913]), array([-372.97318302, -372.96616107, -372.94509549, ..., -372.90998707,\n",
            "       -372.94509549, -372.96616107]), array([-373.01296661, -373.00594391, -372.98487608, ..., -372.94976392,\n",
            "       -372.98487608, -373.00594391]), array([-373.05270114, -373.0456777 , -373.02460762, ..., -372.98949172,\n",
            "       -373.02460762, -373.0456777 ]), array([-373.09238668, -373.08536249, -373.06429018, ..., -373.02917054,\n",
            "       -373.06429018, -373.08536249]), array([-373.1320233 , -373.12499836, -373.10392381, ..., -373.06880043,\n",
            "       -373.10392381, -373.12499836]), array([-373.17161104, -373.16458536, -373.14350857, ..., -373.10838147,\n",
            "       -373.14350857, -373.16458536]), array([-373.21114997, -373.20412355, -373.18304453, ..., -373.14791371,\n",
            "       -373.18304453, -373.20412355]), array([-373.25064016, -373.24361299, -373.22253174, ..., -373.1873972 ,\n",
            "       -373.22253174, -373.24361299]), array([-373.29008166, -373.28305374, -373.26197026, ..., -373.22683201,\n",
            "       -373.26197026, -373.28305374]), array([-373.32947452, -373.32244587, -373.30136016, ..., -373.26621821,\n",
            "       -373.30136016, -373.32244587]), array([-373.36881882, -373.36178942, -373.3407015 , ..., -373.30555584,\n",
            "       -373.3407015 , -373.36178942]), array([-373.40811461, -373.40108447, -373.37999433, ..., -373.34484497,\n",
            "       -373.37999433, -373.40108447]), array([-373.44736195, -373.44033107, -373.41923871, ..., -373.38408566,\n",
            "       -373.41923871, -373.44033107]), array([-373.4865609 , -373.47952928, -373.45843471, ..., -373.42327797,\n",
            "       -373.45843471, -373.47952928]), array([-373.52571152, -373.51867917, -373.49758238, ..., -373.46242196,\n",
            "       -373.49758238, -373.51867917]), array([-373.56481387, -373.55778078, -373.53668179, ..., -373.50151768,\n",
            "       -373.53668179, -373.55778078]), array([-373.603868  , -373.59683418, -373.57573298, ..., -373.5405652 ,\n",
            "       -373.57573298, -373.59683418]), array([-373.64287399, -373.63583943, -373.61473603, ..., -373.57956458,\n",
            "       -373.61473603, -373.63583943]), array([-373.68183188, -373.6747966 , -373.65369099, ..., -373.61851587,\n",
            "       -373.65369099, -373.6747966 ]), array([-373.72074175, -373.71370572, -373.69259793, ..., -373.65741914,\n",
            "       -373.69259793, -373.71370572]), array([-373.75960363, -373.75256688, -373.73145689, ..., -373.69627445,\n",
            "       -373.73145689, -373.75256688]), array([-373.79841761, -373.79138012, -373.77026794, ..., -373.73508185,\n",
            "       -373.77026794, -373.79138012]), array([-373.83718373, -373.83014551, -373.80903114, ..., -373.7738414 ,\n",
            "       -373.80903114, -373.83014551]), array([-373.87590205, -373.86886311, -373.84774654, ..., -373.81255316,\n",
            "       -373.84774654, -373.86886311]), array([-373.91457263, -373.90753296, -373.88641422, ..., -373.85121719,\n",
            "       -373.88641422, -373.90753296]), array([-373.95319554, -373.94615514, -373.92503422, ..., -373.88983355,\n",
            "       -373.92503422, -373.94615514]), array([-373.99177082, -373.9847297 , -373.9636066 , ..., -373.92840231,\n",
            "       -373.9636066 , -373.9847297 ]), array([-374.03029855, -374.0232567 , -374.00213142, ..., -373.9669235 ,\n",
            "       -374.00213142, -374.0232567 ]), array([-374.06877877, -374.0617362 , -374.04060875, ..., -374.00539721,\n",
            "       -374.04060875, -374.0617362 ]), array([-374.10721155, -374.10016826, -374.07903863, ..., -374.04382347,\n",
            "       -374.07903863, -374.10016826]), array([-374.14559694, -374.13855293, -374.11742113, ..., -374.08220236,\n",
            "       -374.11742113, -374.13855293]), array([-374.18393501, -374.17689027, -374.15575631, ..., -374.12053394,\n",
            "       -374.15575631, -374.17689027]), array([-374.22222581, -374.21518035, -374.19404423, ..., -374.15881825,\n",
            "       -374.19404423, -374.21518035]), array([-374.2604694 , -374.25342322, -374.23228494, ..., -374.19705535,\n",
            "       -374.23228494, -374.25342322]), array([-374.29866583, -374.29161893, -374.2704785 , ..., -374.23524532,\n",
            "       -374.2704785 , -374.29161893]), array([-374.33681517, -374.32976756, -374.30862496, ..., -374.2733882 ,\n",
            "       -374.30862496, -374.32976756]), array([-374.37491748, -374.36786914, -374.3467244 , ..., -374.31148405,\n",
            "       -374.3467244 , -374.36786914]), array([-374.41297281, -374.40592376, -374.38477686, ..., -374.34953293,\n",
            "       -374.38477686, -374.40592376]), array([-374.45098122, -374.44393145, -374.42278241, ..., -374.3875349 ,\n",
            "       -374.42278241, -374.44393145]), array([-374.48894276, -374.48189228, -374.4607411 , ..., -374.42549001,\n",
            "       -374.4607411 , -374.48189228]), array([-374.5268575 , -374.51980631, -374.49865298, ..., -374.46339833,\n",
            "       -374.49865298, -374.51980631]), array([-374.5647255 , -374.55767359, -374.53651813, ..., -374.50125991,\n",
            "       -374.53651813, -374.55767359]), array([-374.6025468 , -374.59549418, -374.57433658, ..., -374.53907481,\n",
            "       -374.57433658, -374.59549418]), array([-374.64032148, -374.63326814, -374.61210841, ..., -374.57684308,\n",
            "       -374.61210841, -374.63326814]), array([-374.67804958, -374.67099553, -374.64983367, ..., -374.61456479,\n",
            "       -374.64983367, -374.67099553]), array([-374.71573116, -374.70867641, -374.68751242, ..., -374.65223999,\n",
            "       -374.68751242, -374.70867641]), array([-374.75336628, -374.74631082, -374.72514471, ..., -374.68986874,\n",
            "       -374.72514471, -374.74631082]), array([-374.79095501, -374.78389884, -374.7627306 , ..., -374.72745109,\n",
            "       -374.7627306 , -374.78389884]), array([-374.82849738, -374.82144051, -374.80027015, ..., -374.76498711,\n",
            "       -374.80027015, -374.82144051]), array([-374.86599348, -374.85893589, -374.83776342, ..., -374.80247685,\n",
            "       -374.83776342, -374.85893589]), array([-374.90344333, -374.89638505, -374.87521046, ..., -374.83992036,\n",
            "       -374.87521046, -374.89638505]), array([-374.94084702, -374.93378803, -374.91261133, ..., -374.87731771,\n",
            "       -374.91261133, -374.93378803]), array([-374.97820459, -374.9711449 , -374.94996609, ..., -374.91466895,\n",
            "       -374.94996609, -374.9711449 ]), array([-375.0155161 , -375.00845571, -374.98727479, ..., -374.95197414,\n",
            "       -374.98727479, -375.00845571]), array([-375.05278161, -375.04572051, -375.02453749, ..., -374.98923333,\n",
            "       -375.02453749, -375.04572051]), array([-375.09000117, -375.08293937, -375.06175425, ..., -375.02644659,\n",
            "       -375.06175425, -375.08293937]), array([-375.12717484, -375.12011234, -375.09892512, ..., -375.06361396,\n",
            "       -375.09892512, -375.12011234]), array([-375.16430268, -375.15723948, -375.13605016, ..., -375.10073551,\n",
            "       -375.13605016, -375.15723948]), array([-375.20138474, -375.19432085, -375.17312943, ..., -375.13781129,\n",
            "       -375.17312943, -375.19432085]), array([-375.23842108, -375.23135649, -375.21016298, ..., -375.17484136,\n",
            "       -375.21016298, -375.23135649]), array([-375.27541176, -375.26834647, -375.24715088, ..., -375.21182577,\n",
            "       -375.24715088, -375.26834647]), array([-375.31235683, -375.30529085, -375.28409317, ..., -375.24876458,\n",
            "       -375.28409317, -375.30529085]), array([-375.34925635, -375.34218968, -375.32098991, ..., -375.28565785,\n",
            "       -375.32098991, -375.34218968]), array([-375.38611038, -375.37904301, -375.35784116, ..., -375.32250563,\n",
            "       -375.35784116, -375.37904301]), array([-375.42291896, -375.4158509 , -375.39464697, ..., -375.35930798,\n",
            "       -375.39464697, -375.4158509 ]), array([-375.45968217, -375.45261341, -375.43140741, ..., -375.39606496,\n",
            "       -375.43140741, -375.45261341]), array([-375.49640004, -375.4893306 , -375.46812252, ..., -375.43277661,\n",
            "       -375.46812252, -375.4893306 ]), array([-375.53307265, -375.52600251, -375.50479236, ..., -375.469443  ,\n",
            "       -375.50479236, -375.52600251]), array([-375.56970004, -375.56262921, -375.541417  , ..., -375.50606419,\n",
            "       -375.541417  , -375.56262921]), array([-375.60628227, -375.59921075, -375.57799647, ..., -375.54264022,\n",
            "       -375.57799647, -375.59921075]), array([-375.6428194 , -375.63574719, -375.61453085, ..., -375.57917116,\n",
            "       -375.61453085, -375.63574719]), array([-375.67931148, -375.67223859, -375.65102018, ..., -375.61565706,\n",
            "       -375.65102018, -375.67223859]), array([-375.71575856, -375.70868499, -375.68746452, ..., -375.65209797,\n",
            "       -375.68746452, -375.70868499]), array([-375.75216071, -375.74508645, -375.72386393, ..., -375.68849395,\n",
            "       -375.72386393, -375.74508645]), array([-375.78851798, -375.78144303, -375.76021846, ..., -375.72484506,\n",
            "       -375.76021846, -375.78144303]), array([-375.82483042, -375.81775479, -375.79652817, ..., -375.76115135,\n",
            "       -375.79652817, -375.81775479]), array([-375.86109809, -375.85402178, -375.83279311, ..., -375.79741287,\n",
            "       -375.83279311, -375.85402178]), array([-375.89732105, -375.89024405, -375.86901333, ..., -375.83362969,\n",
            "       -375.86901333, -375.89024405]), array([-375.93349934, -375.92642166, -375.9051889 , ..., -375.86980186,\n",
            "       -375.9051889 , -375.92642166]), array([-375.96963303, -375.96255467, -375.94131987, ..., -375.90592942,\n",
            "       -375.94131987, -375.96255467]), array([-376.00572216, -375.99864313, -375.97740629, ..., -375.94201244,\n",
            "       -375.97740629, -375.99864313]), array([-376.04176681, -376.03468709, -376.01344822, ..., -375.97805098,\n",
            "       -376.01344822, -376.03468709]), array([-376.07776701, -376.07068661, -376.04944571, ..., -376.01404508,\n",
            "       -376.04944571, -376.07068661]), array([-376.11372282, -376.10664175, -376.08539881, ..., -376.0499948 ,\n",
            "       -376.08539881, -376.10664175]), array([-376.1496343 , -376.14255256, -376.12130759, ..., -376.0859002 ,\n",
            "       -376.12130759, -376.14255256]), array([-376.18550151, -376.17841909, -376.1571721 , ..., -376.12176133,\n",
            "       -376.1571721 , -376.17841909]), array([-376.22132449, -376.2142414 , -376.19299238, ..., -376.15757825,\n",
            "       -376.19299238, -376.2142414 ]), array([-376.25710331, -376.25001954, -376.22876851, ..., -376.193351  ,\n",
            "       -376.22876851, -376.25001954]), array([-376.29283801, -376.28575357, -376.26450052, ..., -376.22907965,\n",
            "       -376.26450052, -376.28575357]), array([-376.32852866, -376.32144354, -376.30018847, ..., -376.26476425,\n",
            "       -376.30018847, -376.32144354]), array([-376.3641753 , -376.35708951, -376.33583243, ..., -376.30040485,\n",
            "       -376.33583243, -376.35708951]), array([-376.39977799, -376.39269153, -376.37143244, ..., -376.33600151,\n",
            "       -376.37143244, -376.39269153]), array([-376.43533678, -376.42824966, -376.40698856, ..., -376.37155428,\n",
            "       -376.40698856, -376.42824966]), array([-376.47085173, -376.46376394, -376.44250083, ..., -376.40706321,\n",
            "       -376.44250083, -376.46376394]), array([-376.5063229 , -376.49923444, -376.47796933, ..., -376.44252836,\n",
            "       -376.47796933, -376.49923444]), array([-376.54175033, -376.5346612 , -376.51339409, ..., -376.47794979,\n",
            "       -376.51339409, -376.5346612 ]), array([-376.57713408, -376.57004428, -376.54877517, ..., -376.51332755,\n",
            "       -376.54877517, -376.57004428]), array([-376.6124742 , -376.60538374, -376.58411264, ..., -376.54866168,\n",
            "       -376.58411264, -376.60538374]), array([-376.64777075, -376.64067963, -376.61940653, ..., -376.58395226,\n",
            "       -376.61940653, -376.64067963]), array([-376.68302378, -376.675932  , -376.65465691, ..., -376.61919932,\n",
            "       -376.65465691, -376.675932  ]), array([-376.71823335, -376.7111409 , -376.68986383, ..., -376.65440292,\n",
            "       -376.68986383, -376.7111409 ]), array([-376.75339951, -376.7463064 , -376.72502734, ..., -376.68956312,\n",
            "       -376.72502734, -376.7463064 ]), array([-376.78852231, -376.78142854, -376.76014749, ..., -376.72467997,\n",
            "       -376.76014749, -376.78142854]), array([-376.8236018 , -376.81650737, -376.79522434, ..., -376.75975352,\n",
            "       -376.79522434, -376.81650737]), array([-376.85863805, -376.85154296, -376.83025795, ..., -376.79478383,\n",
            "       -376.83025795, -376.85154296]), array([-376.89363109, -376.88653534, -376.86524836, ..., -376.82977095,\n",
            "       -376.86524836, -376.88653534]), array([-376.928581  , -376.92148459, -376.90019563, ..., -376.86471493,\n",
            "       -376.90019563, -376.92148459]), array([-376.96348781, -376.95639074, -376.93509981, ..., -376.89961582,\n",
            "       -376.93509981, -376.95639074]), array([-376.99835158, -376.99125386, -376.96996096, ..., -376.93447369,\n",
            "       -376.96996096, -376.99125386]), array([-377.03317237, -377.02607399, -377.00477913, ..., -376.96928858,\n",
            "       -377.00477913, -377.02607399]), array([-377.06795022, -377.06085119, -377.03955436, ..., -377.00406054,\n",
            "       -377.03955436, -377.06085119]), array([-377.1026852 , -377.09558551, -377.07428672, ..., -377.03878963,\n",
            "       -377.07428672, -377.09558551]), array([-377.13737735, -377.13027701, -377.10897626, ..., -377.07347591,\n",
            "       -377.10897626, -377.13027701]), array([-377.17202673, -377.16492574, -377.14362303, ..., -377.10811941,\n",
            "       -377.14362303, -377.16492574]), array([-377.20663338, -377.19953174, -377.17822708, ..., -377.14272021,\n",
            "       -377.17822708, -377.19953174]), array([-377.24119737, -377.23409508, -377.21278847, ..., -377.17727834,\n",
            "       -377.21278847, -377.23409508]), array([-377.27571874, -377.2686158 , -377.24730724, ..., -377.21179386,\n",
            "       -377.24730724, -377.2686158 ]), array([-377.31019755, -377.30309396, -377.28178345, ..., -377.24626683,\n",
            "       -377.28178345, -377.30309396]), array([-377.34463385, -377.33752961, -377.31621716, ..., -377.2806973 ,\n",
            "       -377.31621716, -377.33752961]), array([-377.3790277 , -377.37192281, -377.35060841, ..., -377.31508531,\n",
            "       -377.35060841, -377.37192281]), array([-377.41337913, -377.4062736 , -377.38495726, ..., -377.34943093,\n",
            "       -377.38495726, -377.4062736 ]), array([-377.44768822, -377.44058204, -377.41926376, ..., -377.3837342 ,\n",
            "       -377.41926376, -377.44058204]), array([-377.481955  , -377.47484817, -377.45352797, ..., -377.41799518,\n",
            "       -377.45352797, -377.47484817]), array([-377.51617953, -377.50907206, -377.48774992, ..., -377.45221391,\n",
            "       -377.48774992, -377.50907206]), array([-377.55036187, -377.54325375, -377.52192968, ..., -377.48639046,\n",
            "       -377.52192968, -377.54325375]), array([-377.58450206, -377.5773933 , -377.5560673 , ..., -377.52052486,\n",
            "       -377.5560673 , -377.5773933 ]), array([-377.61860016, -377.61149076, -377.59016284, ..., -377.55461719,\n",
            "       -377.59016284, -377.61149076]), array([-377.65265622, -377.64554618, -377.62421633, ..., -377.58866747,\n",
            "       -377.62421633, -377.64554618]), array([-377.68667028, -377.67955961, -377.65822784, ..., -377.62267578,\n",
            "       -377.65822784, -377.67955961]), array([-377.72064242, -377.7135311 , -377.69219741, ..., -377.65664216,\n",
            "       -377.69219741, -377.7135311 ]), array([-377.75457266, -377.7474607 , -377.7261251 , ..., -377.69056665,\n",
            "       -377.7261251 , -377.7474607 ]), array([-377.78846107, -377.78134848, -377.76001096, ..., -377.72444932,\n",
            "       -377.76001096, -377.78134848]), array([-377.8223077 , -377.81519447, -377.79385504, ..., -377.75829022,\n",
            "       -377.79385504, -377.81519447]), array([-377.8561126 , -377.84899873, -377.82765739, ..., -377.79208939,\n",
            "       -377.82765739, -377.84899873]), array([-377.88987582, -377.88276132, -377.86141807, ..., -377.82584689,\n",
            "       -377.86141807, -377.88276132]), array([-377.92359741, -377.91648227, -377.89513712, ..., -377.85956277,\n",
            "       -377.89513712, -377.91648227]), array([-377.95727742, -377.95016165, -377.9288146 , ..., -377.89323707,\n",
            "       -377.9288146 , -377.95016165]), array([-377.99091591, -377.98379951, -377.96245056, ..., -377.92686986,\n",
            "       -377.96245056, -377.98379951]), array([-378.02451293, -378.01739589, -377.99604504, ..., -377.96046119,\n",
            "       -377.99604504, -378.01739589]), array([-378.05806852, -378.05095085, -378.02959811, ..., -377.99401109,\n",
            "       -378.02959811, -378.05095085]), array([-378.09158274, -378.08446444, -378.0631098 , ..., -378.02751963,\n",
            "       -378.0631098 , -378.08446444]), array([-378.12505564, -378.1179367 , -378.09658018, ..., -378.06098686,\n",
            "       -378.09658018, -378.1179367 ]), array([-378.15848726, -378.1513677 , -378.13000929, ..., -378.09441283,\n",
            "       -378.13000929, -378.1513677 ]), array([-378.19187767, -378.18475748, -378.16339718, ..., -378.12779758,\n",
            "       -378.16339718, -378.18475748]), array([-378.22522691, -378.2181061 , -378.19674391, ..., -378.16114117,\n",
            "       -378.19674391, -378.2181061 ]), array([-378.25853504, -378.25141359, -378.23004953, ..., -378.19444365,\n",
            "       -378.23004953, -378.25141359]), array([-378.29180209, -378.28468002, -378.26331408, ..., -378.22770507,\n",
            "       -378.26331408, -378.28468002]), array([-378.32502813, -378.31790544, -378.29653762, ..., -378.26092548,\n",
            "       -378.29653762, -378.31790544]), array([-378.3582132 , -378.35108988, -378.32972019, ..., -378.29410493,\n",
            "       -378.32972019, -378.35108988]), array([-378.39135736, -378.38423342, -378.36286185, ..., -378.32724347,\n",
            "       -378.36286185, -378.38423342]), array([-378.42446066, -378.41733609, -378.39596265, ..., -378.36034116,\n",
            "       -378.39596265, -378.41733609]), array([-378.45752314, -378.45039795, -378.42902264, ..., -378.39339804,\n",
            "       -378.42902264, -378.45039795]), array([-378.49054485, -378.48341904, -378.46204187, ..., -378.42641416,\n",
            "       -378.46204187, -378.48341904]), array([-378.52352585, -378.51639942, -378.49502039, ..., -378.45938957,\n",
            "       -378.49502039, -378.51639942]), array([-378.55646619, -378.54933914, -378.52795825, ..., -378.49232433,\n",
            "       -378.52795825, -378.54933914]), array([-378.58936591, -378.58223824, -378.5608555 , ..., -378.52521848,\n",
            "       -378.5608555 , -378.58223824]), array([-378.62222508, -378.61509679, -378.59371218, ..., -378.55807207,\n",
            "       -378.59371218, -378.61509679]), array([-378.65504372, -378.64791481, -378.62652836, ..., -378.59088516,\n",
            "       -378.62652836, -378.64791481]), array([-378.68782191, -378.68069238, -378.65930407, ..., -378.62365779,\n",
            "       -378.65930407, -378.68069238]), array([-378.72055968, -378.71342954, -378.69203938, ..., -378.65639001,\n",
            "       -378.69203938, -378.71342954]), array([-378.75325708, -378.74612633, -378.72473432, ..., -378.68908188,\n",
            "       -378.72473432, -378.74612633]), array([-378.78591418, -378.77878281, -378.75738896, ..., -378.72173344,\n",
            "       -378.75738896, -378.77878281]), array([-378.81853101, -378.81139902, -378.79000333, ..., -378.75434474,\n",
            "       -378.79000333, -378.81139902]), array([-378.85110762, -378.84397502, -378.82257749, ..., -378.78691584,\n",
            "       -378.82257749, -378.84397502]), array([-378.88364407, -378.87651086, -378.85511149, ..., -378.81944678,\n",
            "       -378.85511149, -378.87651086]), array([-378.9161404 , -378.90900658, -378.88760538, ..., -378.8519376 ,\n",
            "       -378.88760538, -378.90900658]), array([-378.94859667, -378.94146223, -378.9200592 , ..., -378.88438837,\n",
            "       -378.9200592 , -378.94146223]), array([-378.98101292, -378.97387787, -378.95247301, ..., -378.91679913,\n",
            "       -378.95247301, -378.97387787]), array([-379.0133892 , -379.00625355, -378.98484685, ..., -378.94916993,\n",
            "       -378.98484685, -379.00625355]), array([-379.04572557, -379.0385893 , -379.01718079, ..., -378.98150082,\n",
            "       -379.01718079, -379.0385893 ]), array([-379.07802206, -379.07088519, -379.04947485, ..., -379.01379184,\n",
            "       -379.04947485, -379.07088519]), array([-379.11027874, -379.10314126, -379.0817291 , ..., -379.04604305,\n",
            "       -379.0817291 , -379.10314126]), array([-379.14249565, -379.13535756, -379.11394358, ..., -379.0782545 ,\n",
            "       -379.11394358, -379.13535756]), array([-379.17467283, -379.16753414, -379.14611834, ..., -379.11042623,\n",
            "       -379.14611834, -379.16753414]), array([-379.20681034, -379.19967105, -379.17825343, ..., -379.1425583 ,\n",
            "       -379.17825343, -379.19967105]), array([-379.23890823, -379.23176833, -379.2103489 , ..., -379.17465075,\n",
            "       -379.2103489 , -379.23176833]), array([-379.27096655, -379.26382604, -379.2424048 , ..., -379.20670363,\n",
            "       -379.2424048 , -379.26382604]), array([-379.30298533, -379.29584423, -379.27442118, ..., -379.238717  ,\n",
            "       -379.27442118, -379.29584423]), array([-379.33496464, -379.32782294, -379.30639808, ..., -379.27069089,\n",
            "       -379.30639808, -379.32782294]), array([-379.36690452, -379.35976222, -379.33833556, ..., -379.30262536,\n",
            "       -379.33833556, -379.35976222]), array([-379.39880503, -379.39166212, -379.37023366, ..., -379.33452046,\n",
            "       -379.37023366, -379.39166212]), array([-379.4306662 , -379.42352269, -379.40209243, ..., -379.36637623,\n",
            "       -379.40209243, -379.42352269]), array([-379.46248808, -379.45534398, -379.43391192, ..., -379.39819272,\n",
            "       -379.43391192, -379.45534398]), array([-379.49427074, -379.48712603, -379.46569218, ..., -379.42996999,\n",
            "       -379.46569218, -379.48712603]), array([-379.5260142 , -379.5188689 , -379.49743326, ..., -379.46170808,\n",
            "       -379.49743326, -379.5188689 ]), array([-379.55771853, -379.55057263, -379.5291352 , ..., -379.49340704,\n",
            "       -379.5291352 , -379.55057263]), array([-379.58938377, -379.58223728, -379.56079805, ..., -379.52506691,\n",
            "       -379.56079805, -379.58223728]), array([-379.62100997, -379.61386288, -379.59242187, ..., -379.55668775,\n",
            "       -379.59242187, -379.61386288]), array([-379.65259717, -379.64544949, -379.6240067 , ..., -379.58826961,\n",
            "       -379.6240067 , -379.64544949]), array([-379.68414543, -379.67699715, -379.65555258, ..., -379.61981252,\n",
            "       -379.65555258, -379.67699715]), array([-379.7156548 , -379.70850592, -379.68705957, ..., -379.65131655,\n",
            "       -379.68705957, -379.70850592]), array([-379.74712531, -379.73997584, -379.71852771, ..., -379.68278173,\n",
            "       -379.71852771, -379.73997584]), array([-379.77855702, -379.77140696, -379.74995706, ..., -379.71420811,\n",
            "       -379.74995706, -379.77140696]), array([-379.80994998, -379.80279933, -379.78134765, ..., -379.74559575,\n",
            "       -379.78134765, -379.80279933]), array([-379.84130423, -379.83415299, -379.81269955, ..., -379.7769447 ,\n",
            "       -379.81269955, -379.83415299]), array([-379.87261983, -379.865468  , -379.84401278, ..., -379.80825499,\n",
            "       -379.84401278, -379.865468  ]), array([-379.90389681, -379.8967444 , -379.87528741, ..., -379.83952667,\n",
            "       -379.87528741, -379.8967444 ]), array([-379.93513524, -379.92798223, -379.90652348, ..., -379.8707598 ,\n",
            "       -379.90652348, -379.92798223]), array([-379.96633514, -379.95918155, -379.93772104, ..., -379.90195442,\n",
            "       -379.93772104, -379.95918155]), array([-379.99749658, -379.9903424 , -379.96888013, ..., -379.93311058,\n",
            "       -379.96888013, -379.9903424 ]), array([-380.0286196 , -380.02146484, -380.00000081, ..., -379.96422833,\n",
            "       -380.00000081, -380.02146484]), array([-380.05970425, -380.0525489 , -380.03108311, ..., -379.99530771,\n",
            "       -380.03108311, -380.0525489 ]), array([-380.09075057, -380.08359463, -380.0621271 , ..., -380.02634877,\n",
            "       -380.0621271 , -380.08359463]), array([-380.12175861, -380.11460209, -380.0931328 , ..., -380.05735156,\n",
            "       -380.0931328 , -380.11460209]), array([-380.15272842, -380.14557132, -380.12410028, ..., -380.08831612,\n",
            "       -380.12410028, -380.14557132]), array([-380.18366005, -380.17650236, -380.15502958, ..., -380.11924251,\n",
            "       -380.15502958, -380.17650236]), array([-380.21455354, -380.20739527, -380.18592075, ..., -380.15013077,\n",
            "       -380.18592075, -380.20739527]), array([-380.24540894, -380.23825009, -380.21677382, ..., -380.18098094,\n",
            "       -380.21677382, -380.23825009]), array([-380.2762263 , -380.26906687, -380.24758886, ..., -380.21179308,\n",
            "       -380.24758886, -380.26906687]), array([-380.30700566, -380.29984565, -380.27836591, ..., -380.24256722,\n",
            "       -380.27836591, -380.29984565]), array([-380.33774707, -380.33058649, -380.309105  , ..., -380.27330343,\n",
            "       -380.309105  , -380.33058649]), array([-380.36845058, -380.36128942, -380.3398062 , ..., -380.30400174,\n",
            "       -380.3398062 , -380.36128942]), array([-380.39911624, -380.3919545 , -380.37046955, ..., -380.3346622 ,\n",
            "       -380.37046955, -380.3919545 ]), array([-380.42974408, -380.42258177, -380.40109509, ..., -380.36528485,\n",
            "       -380.40109509, -380.42258177]), array([-380.46033417, -380.45317127, -380.43168287, ..., -380.39586975,\n",
            "       -380.43168287, -380.45317127]), array([-380.49088653, -380.48372307, -380.46223293, ..., -380.42641694,\n",
            "       -380.46223293, -380.48372307]), array([-380.52140123, -380.51423719, -380.49274533, ..., -380.45692647,\n",
            "       -380.49274533, -380.51423719]), array([-380.55187831, -380.54471369, -380.52322012, ..., -380.48739839,\n",
            "       -380.52322012, -380.54471369]), array([-380.58231781, -380.57515262, -380.55365732, ..., -380.51783273,\n",
            "       -380.55365732, -380.57515262]), array([-380.61271978, -380.60555402, -380.584057  , ..., -380.54822955,\n",
            "       -380.584057  , -380.60555402]), array([-380.64308426, -380.63591793, -380.6144192 , ..., -380.57858889,\n",
            "       -380.6144192 , -380.63591793]), array([-380.67341131, -380.66624441, -380.64474397, ..., -380.6089108 ,\n",
            "       -380.64474397, -380.66624441]), array([-380.70370097, -380.69653349, -380.67503134, ..., -380.63919532,\n",
            "       -380.67503134, -380.69653349]), array([-380.73395328, -380.72678523, -380.70528137, ..., -380.66944251,\n",
            "       -380.70528137, -380.72678523]), array([-380.76416829, -380.75699968, -380.73549411, ..., -380.6996524 ,\n",
            "       -380.73549411, -380.75699968]), array([-380.79434605, -380.78717687, -380.7656696 , ..., -380.72982505,\n",
            "       -380.7656696 , -380.78717687]), array([-380.8244866 , -380.81731685, -380.79580788, ..., -380.75996049,\n",
            "       -380.79580788, -380.81731685]), array([-380.85458999, -380.84741967, -380.825909  , ..., -380.79005878,\n",
            "       -380.825909  , -380.84741967]), array([-380.88465626, -380.87748538, -380.85597301, ..., -380.82011996,\n",
            "       -380.85597301, -380.87748538]), array([-380.91468546, -380.90751402, -380.88599995, ..., -380.85014408,\n",
            "       -380.88599995, -380.90751402]), array([-380.94467764, -380.93750563, -380.91598987, ..., -380.88013117,\n",
            "       -380.91598987, -380.93750563]), array([-380.97463284, -380.96746027, -380.94594282, ..., -380.9100813 ,\n",
            "       -380.94594282, -380.96746027]), array([-381.00455111, -380.99737798, -380.97585883, ..., -380.9399945 ,\n",
            "       -380.97585883, -380.99737798]), array([-381.03443249, -381.02725879, -381.00573796, ..., -380.96987082,\n",
            "       -381.00573796, -381.02725879]), array([-381.06427703, -381.05710277, -381.03558026, ..., -380.9997103 ,\n",
            "       -381.03558026, -381.05710277]), array([-381.09408477, -381.08690995, -381.06538575, ..., -381.02951299,\n",
            "       -381.06538575, -381.08690995]), array([-381.12385576, -381.11668038, -381.0951545 , ..., -381.05927894,\n",
            "       -381.0951545 , -381.11668038]), array([-381.15359005, -381.14641411, -381.12488655, ..., -381.08900819,\n",
            "       -381.12488655, -381.14641411]), array([-381.18328767, -381.17611117, -381.15458194, ..., -381.11870078,\n",
            "       -381.15458194, -381.17611117]), array([-381.21294868, -381.20577162, -381.18424071, ..., -381.14835676,\n",
            "       -381.18424071, -381.20577162]), array([-381.24257312, -381.2353955 , -381.21386292, ..., -381.17797618,\n",
            "       -381.21386292, -381.2353955 ]), array([-381.27216103, -381.26498286, -381.24344861, ..., -381.20755908,\n",
            "       -381.24344861, -381.26498286]), array([-381.30171247, -381.29453374, -381.27299781, ..., -381.23710551,\n",
            "       -381.27299781, -381.29453374]), array([-381.33122747, -381.32404818, -381.30251059, ..., -381.26661551,\n",
            "       -381.30251059, -381.32404818]), array([-381.36070607, -381.35352623, -381.33198698, ..., -381.29608912,\n",
            "       -381.33198698, -381.35352623]), array([-381.39014834, -381.38296794, -381.36142702, ..., -381.3255264 ,\n",
            "       -381.36142702, -381.38296794]), array([-381.4195543 , -381.41237335, -381.39083077, ..., -381.35492738,\n",
            "       -381.39083077, -381.41237335]), array([-381.44892401, -381.4417425 , -381.42019827, ..., -381.38429211,\n",
            "       -381.42019827, -381.4417425 ]), array([-381.4782575 , -381.47107545, -381.44952955, ..., -381.41362063,\n",
            "       -381.44952955, -381.47107545]), array([-381.50755483, -381.50037222, -381.47882468, ..., -381.442913  ,\n",
            "       -381.47882468, -381.50037222]), array([-381.53681604, -381.52963288, -381.50808368, ..., -381.47216925,\n",
            "       -381.50808368, -381.52963288]), array([-381.56604117, -381.55885746, -381.53730661, ..., -381.50138943,\n",
            "       -381.53730661, -381.55885746]), array([-381.59523026, -381.58804601, -381.56649351, ..., -381.53057358,\n",
            "       -381.56649351, -381.58804601]), array([-381.62438337, -381.61719856, -381.59564442, ..., -381.55972175,\n",
            "       -381.59564442, -381.61719856]), array([-381.65350053, -381.64631518, -381.62475939, ..., -381.58883398,\n",
            "       -381.62475939, -381.64631518]), array([-381.6825818 , -381.6753959 , -381.65383847, ..., -381.61791031,\n",
            "       -381.65383847, -381.6753959 ]), array([-381.71162721, -381.70444076, -381.68288169, ..., -381.6469508 ,\n",
            "       -381.68288169, -381.70444076]), array([-381.7406368 , -381.73344981, -381.7118891 , ..., -381.67595549,\n",
            "       -381.7118891 , -381.73344981]), array([-381.76961064, -381.7624231 , -381.74086075, ..., -381.70492441,\n",
            "       -381.74086075, -381.7624231 ]), array([-381.79854874, -381.79136066, -381.76979668, ..., -381.73385761,\n",
            "       -381.76979668, -381.79136066]), array([-381.82745117, -381.82026254, -381.79869693, ..., -381.76275514,\n",
            "       -381.79869693, -381.82026254]), array([-381.85631797, -381.84912879, -381.82756155, ..., -381.79161705,\n",
            "       -381.82756155, -381.84912879]), array([-381.88514917, -381.87795945, -381.85639058, ..., -381.82044336,\n",
            "       -381.85639058, -381.87795945]), array([-381.91394482, -381.90675457, -381.88518407, ..., -381.84923414,\n",
            "       -381.88518407, -381.90675457]), array([-381.94270498, -381.93551418, -381.91394206, ..., -381.87798942,\n",
            "       -381.91394206, -381.93551418]), array([-381.97142967, -381.96423833, -381.94266458, ..., -381.90670925,\n",
            "       -381.94266458, -381.96423833]), array([-382.00011894, -381.99292707, -381.9713517 , ..., -381.93539366,\n",
            "       -381.9713517 , -381.99292707]), array([-382.02877285, -382.02158043, -382.00000345, ..., -381.96404271,\n",
            "       -382.00000345, -382.02158043]), array([-382.05739142, -382.05019847, -382.02861987, ..., -381.99265644,\n",
            "       -382.02861987, -382.05019847]), array([-382.08597472, -382.07878122, -382.05720101, ..., -382.02123489,\n",
            "       -382.05720101, -382.07878122]), array([-382.11452276, -382.10732873, -382.08574691, ..., -382.0497781 ,\n",
            "       -382.08574691, -382.10732873]), array([-382.14303562, -382.13584105, -382.11425761, ..., -382.07828612,\n",
            "       -382.11425761, -382.13584105]), array([-382.17151331, -382.16431821, -382.14273316, ..., -382.10675899,\n",
            "       -382.14273316, -382.16431821]), array([-382.1999559 , -382.19276026, -382.17117361, ..., -382.13519676,\n",
            "       -382.17117361, -382.19276026]), array([-382.22836342, -382.22116724, -382.19957899, ..., -382.16359947,\n",
            "       -382.19957899, -382.22116724]), array([-382.25673591, -382.2495392 , -382.22794934, ..., -382.19196715,\n",
            "       -382.22794934, -382.2495392 ]), array([-382.28507342, -382.27787618, -382.25628472, ..., -382.22029986,\n",
            "       -382.25628472, -382.27787618]), array([-382.31337599, -382.30617822, -382.28458516, ..., -382.24859764,\n",
            "       -382.28458516, -382.30617822]), array([-382.34164367, -382.33444536, -382.31285071, ..., -382.27686053,\n",
            "       -382.31285071, -382.33444536]), array([-382.36987649, -382.36267765, -382.34108141, ..., -382.30508857,\n",
            "       -382.34108141, -382.36267765]), array([-382.39807451, -382.39087514, -382.3692773 , ..., -382.33328181,\n",
            "       -382.3692773 , -382.39087514]), array([-382.42623776, -382.41903786, -382.39743843, ..., -382.36144028,\n",
            "       -382.39743843, -382.41903786]), array([-382.45436628, -382.44716585, -382.42556484, ..., -382.38956404,\n",
            "       -382.42556484, -382.44716585]), array([-382.48246013, -382.47525917, -382.45365657, ..., -382.41765313,\n",
            "       -382.45365657, -382.47525917]), array([-382.51051933, -382.50331785, -382.48171366, ..., -382.44570758,\n",
            "       -382.48171366, -382.50331785]), array([-382.53854395, -382.53134193, -382.50973616, ..., -382.47372745,\n",
            "       -382.50973616, -382.53134193]), array([-382.566534  , -382.55933146, -382.53772411, ..., -382.50171276,\n",
            "       -382.53772411, -382.55933146]), array([-382.59448955, -382.58728648, -382.56567755, ..., -382.52966357,\n",
            "       -382.56567755, -382.58728648]), array([-382.62241063, -382.61520704, -382.59359653, ..., -382.55757992,\n",
            "       -382.59359653, -382.61520704]), array([-382.65029729, -382.64309317, -382.62148109, ..., -382.58546186,\n",
            "       -382.62148109, -382.64309317]), array([-382.67814956, -382.67094492, -382.64933126, ..., -382.61330941,\n",
            "       -382.64933126, -382.67094492]), array([-382.70596749, -382.69876233, -382.6771471 , ..., -382.64112263,\n",
            "       -382.6771471 , -382.69876233]), array([-382.73375113, -382.72654544, -382.70492865, ..., -382.66890156,\n",
            "       -382.70492865, -382.72654544]), array([-382.76150051, -382.7542943 , -382.73267594, ..., -382.69664624,\n",
            "       -382.73267594, -382.7542943 ]), array([-382.78921568, -382.78200894, -382.76038902, ..., -382.72435671,\n",
            "       -382.76038902, -382.78200894]), array([-382.81689667, -382.80968942, -382.78806793, ..., -382.75203301,\n",
            "       -382.78806793, -382.80968942]), array([-382.84454354, -382.83733576, -382.81571271, ..., -382.77967519,\n",
            "       -382.81571271, -382.83733576]), array([-382.87215632, -382.86494802, -382.84332341, ..., -382.8072833 ,\n",
            "       -382.84332341, -382.86494802]), array([-382.89973505, -382.89252624, -382.87090007, ..., -382.83485736,\n",
            "       -382.87090007, -382.89252624]), array([-382.92727978, -382.92007045, -382.89844273, ..., -382.86239742,\n",
            "       -382.89844273, -382.92007045]), array([-382.95479055, -382.9475807 , -382.92595142, ..., -382.88990353,\n",
            "       -382.92595142, -382.9475807 ]), array([-382.9822674 , -382.97505704, -382.95342621, ..., -382.91737573,\n",
            "       -382.95342621, -382.97505704]), array([-383.00971038, -383.00249949, -382.98086711, ..., -382.94481405,\n",
            "       -382.98086711, -383.00249949]), array([-383.03711951, -383.02990812, -383.00827419, ..., -382.97221855,\n",
            "       -383.00827419, -383.02990812]), array([-383.06449486, -383.05728294, -383.03564747, ..., -382.99958925,\n",
            "       -383.03564747, -383.05728294]), array([-383.09183645, -383.08462402, -383.062987  , ..., -383.02692621,\n",
            "       -383.062987  , -383.08462402]), array([-383.11914433, -383.11193139, -383.09029283, ..., -383.05422947,\n",
            "       -383.09029283, -383.11193139]), array([-383.14641855, -383.13920509, -383.11756499, ..., -383.08149906,\n",
            "       -383.11756499, -383.13920509]), array([-383.17365913, -383.16644516, -383.14480352, ..., -383.10873503,\n",
            "       -383.14480352, -383.16644516]), array([-383.20086613, -383.19365165, -383.17200847, ..., -383.13593742,\n",
            "       -383.17200847, -383.19365165]), array([-383.22803958, -383.22082459, -383.19917988, ..., -383.16310627,\n",
            "       -383.19917988, -383.22082459]), array([-383.25517954, -383.24796403, -383.22631779, ..., -383.19024162,\n",
            "       -383.22631779, -383.24796403]), array([-383.28228603, -383.27507001, -383.25342224, ..., -383.21734352,\n",
            "       -383.25342224, -383.27507001]), array([-383.30935909, -383.30214257, -383.28049327, ..., -383.244412  ,\n",
            "       -383.28049327, -383.30214257]), array([-383.33639878, -383.32918175, -383.30753092, ..., -383.27144711,\n",
            "       -383.30753092, -383.32918175]), array([-383.36340513, -383.35618759, -383.33453524, ..., -383.29844889,\n",
            "       -383.33453524, -383.35618759]), array([-383.39037819, -383.38316014, -383.36150626, ..., -383.32541737,\n",
            "       -383.36150626, -383.38316014]), array([-383.41731798, -383.41009943, -383.38844403, ..., -383.3523526 ,\n",
            "       -383.38844403, -383.41009943]), array([-383.44422457, -383.4370055 , -383.41534859, ..., -383.37925463,\n",
            "       -383.41534859, -383.4370055 ]), array([-383.47109798, -383.46387841, -383.44221997, ..., -383.40612348,\n",
            "       -383.44221997, -383.46387841]), array([-383.49793825, -383.49071818, -383.46905822, ..., -383.43295921,\n",
            "       -383.46905822, -383.49071818]), array([-383.52474543, -383.51752485, -383.49586339, ..., -383.45976185,\n",
            "       -383.49586339, -383.51752485]), array([-383.55151956, -383.54429848, -383.5226355 , ..., -383.48653145,\n",
            "       -383.5226355 , -383.54429848]), array([-383.57826068, -383.5710391 , -383.54937461, ..., -383.51326804,\n",
            "       -383.54937461, -383.5710391 ]), array([-383.60496883, -383.59774674, -383.57608075, ..., -383.53997166,\n",
            "       -383.57608075, -383.59774674]), array([-383.63164405, -383.62442146, -383.60275396, ..., -383.56664236,\n",
            "       -383.60275396, -383.62442146]), array([-383.65828638, -383.65106329, -383.62939428, ..., -383.59328018,\n",
            "       -383.62939428, -383.65106329]), array([-383.68489587, -383.67767227, -383.65600176, ..., -383.61988515,\n",
            "       -383.65600176, -383.67767227]), array([-383.71147254, -383.70424845, -383.68257644, ..., -383.64645733,\n",
            "       -383.68257644, -383.70424845]), array([-383.73801645, -383.73079185, -383.70911834, ..., -383.67299674,\n",
            "       -383.70911834, -383.73079185]), array([-383.76452763, -383.75730254, -383.73562753, ..., -383.69950342,\n",
            "       -383.73562753, -383.75730254]), array([-383.79100612, -383.78378053, -383.76210403, ..., -383.72597743,\n",
            "       -383.76210403, -383.78378053]), array([-383.81745197, -383.81022588, -383.78854788, ..., -383.7524188 ,\n",
            "       -383.78854788, -383.81022588]), array([-383.84386521, -383.83663862, -383.81495914, ..., -383.77882756,\n",
            "       -383.81495914, -383.83663862]), array([-383.87024588, -383.8630188 , -383.84133782, ..., -383.80520377,\n",
            "       -383.84133782, -383.8630188 ]), array([-383.89659403, -383.88936645, -383.86768399, ..., -383.83154746,\n",
            "       -383.86768399, -383.88936645]), array([-383.9229097 , -383.91568162, -383.89399767, ..., -383.85785866,\n",
            "       -383.89399767, -383.91568162]), array([-383.94919291, -383.94196435, -383.92027891, ..., -383.88413743,\n",
            "       -383.92027891, -383.94196435]), array([-383.97544373, -383.96821466, -383.94652775, ..., -383.91038379,\n",
            "       -383.94652775, -383.96821466]), array([-384.00166217, -383.99443262, -383.97274422, ..., -383.93659779,\n",
            "       -383.97274422, -383.99443262]), array([-384.02784829, -384.02061824, -383.99892837, ..., -383.96277948,\n",
            "       -383.99892837, -384.02061824]), array([-384.05400213, -384.04677159, -384.02508023, ..., -383.98892888,\n",
            "       -384.02508023, -384.04677159]), array([-384.08012372, -384.07289268, -384.05119985, ..., -384.01504605,\n",
            "       -384.05119985, -384.07289268]), array([-384.1062131 , -384.09898157, -384.07728727, ..., -384.04113101,\n",
            "       -384.07728727, -384.09898157]), array([-384.13227032, -384.1250383 , -384.10334253, ..., -384.06718381,\n",
            "       -384.10334253, -384.1250383 ]), array([-384.1582954 , -384.1510629 , -384.12936565, ..., -384.09320449,\n",
            "       -384.12936565, -384.1510629 ]), array([-384.18428841, -384.17705541, -384.1553567 , ..., -384.11919309,\n",
            "       -384.1553567 , -384.17705541]), array([-384.21024936, -384.20301588, -384.1813157 , ..., -384.14514964,\n",
            "       -384.1813157 , -384.20301588]), array([-384.2361783 , -384.22894433, -384.20724269, ..., -384.17107419,\n",
            "       -384.20724269, -384.22894433]), array([-384.26207528, -384.25484082, -384.23313772, ..., -384.19696678,\n",
            "       -384.23313772, -384.25484082]), array([-384.28794033, -384.28070538, -384.25900082, ..., -384.22282745,\n",
            "       -384.25900082, -384.28070538]), array([-384.31377348, -384.30653805, -384.28483203, ..., -384.24865623,\n",
            "       -384.28483203, -384.30653805]), array([-384.33957479, -384.33233887, -384.31063139, ..., -384.27445316,\n",
            "       -384.31063139, -384.33233887]), array([-384.36534428, -384.35810788, -384.33639894, ..., -384.30021829,\n",
            "       -384.33639894, -384.35810788]), array([-384.39108201, -384.38384512, -384.36213473, ..., -384.32595165,\n",
            "       -384.36213473, -384.38384512]), array([-384.416788  , -384.40955062, -384.38783878, ..., -384.35165329,\n",
            "       -384.38783878, -384.40955062]), array([-384.44246229, -384.43522444, -384.41351114, ..., -384.37732323,\n",
            "       -384.41351114, -384.43522444]), array([-384.46810493, -384.46086659, -384.43915185, ..., -384.40296153,\n",
            "       -384.43915185, -384.46086659]), array([-384.49371596, -384.48647714, -384.46476095, ..., -384.42856821,\n",
            "       -384.46476095, -384.48647714]), array([-384.5192954 , -384.5120561 , -384.49033847, ..., -384.45414333,\n",
            "       -384.49033847, -384.5120561 ]), array([-384.54484331, -384.53760353, -384.51588446, ..., -384.47968691,\n",
            "       -384.51588446, -384.53760353]), array([-384.57035972, -384.56311946, -384.54139895, ..., -384.505199  ,\n",
            "       -384.54139895, -384.56311946]), array([-384.59584467, -384.58860393, -384.56688198, ..., -384.53067963,\n",
            "       -384.56688198, -384.58860393]), array([-384.6212982 , -384.61405698, -384.59233359, ..., -384.55612885,\n",
            "       -384.59233359, -384.61405698]), array([-384.64672035, -384.63947865, -384.61775382, ..., -384.58154669,\n",
            "       -384.61775382, -384.63947865]), array([-384.67211115, -384.66486897, -384.64314271, ..., -384.60693319,\n",
            "       -384.64314271, -384.66486897]), array([-384.69747065, -384.69022799, -384.6685003 , ..., -384.63228839,\n",
            "       -384.6685003 , -384.69022799]), array([-384.72279888, -384.71555575, -384.69382662, ..., -384.65761233,\n",
            "       -384.69382662, -384.71555575]), array([-384.74809588, -384.74085227, -384.71912172, ..., -384.68290504,\n",
            "       -384.71912172, -384.74085227]), array([-384.77336169, -384.76611761, -384.74438563, ..., -384.70816658,\n",
            "       -384.74438563, -384.76611761]), array([-384.79859636, -384.7913518 , -384.76961839, ..., -384.73339696,\n",
            "       -384.76961839, -384.7913518 ]), array([-384.8237999 , -384.81655487, -384.79482004, ..., -384.75859624,\n",
            "       -384.79482004, -384.81655487]), array([-384.84897238, -384.84172687, -384.81999062, ..., -384.78376445,\n",
            "       -384.81999062, -384.84172687]), array([-384.87411381, -384.86686783, -384.84513017, ..., -384.80890163,\n",
            "       -384.84513017, -384.86686783]), array([-384.89922425, -384.8919778 , -384.87023871, ..., -384.83400781,\n",
            "       -384.87023871, -384.8919778 ]), array([-384.92430373, -384.91705681, -384.89531631, ..., -384.85908304,\n",
            "       -384.89531631, -384.91705681]), array([-384.94935229, -384.9421049 , -384.92036298, ..., -384.88412736,\n",
            "       -384.92036298, -384.9421049 ]), array([-384.97436997, -384.9671221 , -384.94537877, ..., -384.9091408 ,\n",
            "       -384.94537877, -384.9671221 ]), array([-384.9993568 , -384.99210846, -384.97036372, ..., -384.93412339,\n",
            "       -384.97036372, -384.99210846]), array([-385.02431282, -385.01706401, -384.99531786, ..., -384.95907519,\n",
            "       -384.99531786, -385.01706401]), array([-385.04923807, -385.0419888 , -385.02024124, ..., -384.98399622,\n",
            "       -385.02024124, -385.0419888 ]), array([-385.0741326 , -385.06688285, -385.04513389, ..., -385.00888652,\n",
            "       -385.04513389, -385.06688285]), array([-385.09899643, -385.09174621, -385.06999584, ..., -385.03374614,\n",
            "       -385.06999584, -385.09174621]), array([-385.1238296 , -385.11657892, -385.09482715, ..., -385.0585751 ,\n",
            "       -385.09482715, -385.11657892]), array([-385.14863215, -385.141381  , -385.11962783, ..., -385.08337346,\n",
            "       -385.11962783, -385.141381  ]), array([-385.17340413, -385.16615251, -385.14439794, ..., -385.10814123,\n",
            "       -385.14439794, -385.16615251]), array([-385.19814556, -385.19089348, -385.16913751, ..., -385.13287848,\n",
            "       -385.16913751, -385.19089348]), array([-385.22285649, -385.21560394, -385.19384658, ..., -385.15758522,\n",
            "       -385.19384658, -385.21560394]), array([-385.24753695, -385.24028394, -385.21852518, ..., -385.1822615 ,\n",
            "       -385.21852518, -385.24028394]), array([-385.27218698, -385.26493351, -385.24317336, ..., -385.20690735,\n",
            "       -385.24317336, -385.26493351]), array([-385.29680662, -385.28955268, -385.26779114, ..., -385.23152282,\n",
            "       -385.26779114, -385.28955268]), array([-385.3213959 , -385.3141415 , -385.29237858, ..., -385.25610794,\n",
            "       -385.29237858, -385.3141415 ]), array([-385.34595487, -385.33870001, -385.31693569, ..., -385.28066275,\n",
            "       -385.31693569, -385.33870001]), array([-385.37048356, -385.36322824, -385.34146254, ..., -385.30518728,\n",
            "       -385.34146254, -385.36322824]), array([-385.39498201, -385.38772622, -385.36595914, ..., -385.32968157,\n",
            "       -385.36595914, -385.38772622]), array([-385.41945025, -385.412194  , -385.39042553, ..., -385.35414567,\n",
            "       -385.39042553, -385.412194  ]), array([-385.44388832, -385.43663161, -385.41486177, ..., -385.3785796 ,\n",
            "       -385.41486177, -385.43663161]), array([-385.46829626, -385.46103909, -385.43926787, ..., -385.40298341,\n",
            "       -385.43926787, -385.46103909]), array([-385.49267411, -385.48541648, -385.46364388, ..., -385.42735713,\n",
            "       -385.46364388, -385.48541648]), array([-385.5170219 , -385.50976382, -385.48798984, ..., -385.45170079,\n",
            "       -385.48798984, -385.50976382]), array([-385.54133967, -385.53408113, -385.51230578, ..., -385.47601444,\n",
            "       -385.51230578, -385.53408113]), array([-385.56562746, -385.55836846, -385.53659174, ..., -385.50029812,\n",
            "       -385.53659174, -385.55836846]), array([-385.58988531, -385.58262585, -385.56084776, ..., -385.52455185,\n",
            "       -385.56084776, -385.58262585]), array([-385.61411324, -385.60685333, -385.58507387, ..., -385.54877569,\n",
            "       -385.58507387, -385.60685333]), array([-385.63831131, -385.63105094, -385.60927012, ..., -385.57296965,\n",
            "       -385.60927012, -385.63105094]), array([-385.66247954, -385.65521872, -385.63343653, ..., -385.59713379,\n",
            "       -385.63343653, -385.65521872]), array([-385.68661797, -385.67935669, -385.65757314, ..., -385.62126813,\n",
            "       -385.65757314, -385.67935669]), array([-385.71072664, -385.70346491, -385.68168   , ..., -385.64537272,\n",
            "       -385.68168   , -385.70346491]), array([-385.73480559, -385.7275434 , -385.70575713, ..., -385.66944758,\n",
            "       -385.70575713, -385.7275434 ]), array([-385.75885484, -385.75159221, -385.72980458, ..., -385.69349277,\n",
            "       -385.72980458, -385.75159221]), array([-385.78287445, -385.77561136, -385.75382237, ..., -385.7175083 ,\n",
            "       -385.75382237, -385.77561136]), array([-385.80686444, -385.7996009 , -385.77781056, ..., -385.74149423,\n",
            "       -385.77781056, -385.7996009 ]), array([-385.83082486, -385.82356087, -385.80176917, ..., -385.76545059,\n",
            "       -385.80176917, -385.82356087]), array([-385.85475573, -385.84749129, -385.82569824, ..., -385.7893774 ,\n",
            "       -385.82569824, -385.84749129]), array([-385.8786571 , -385.87139221, -385.84959781, ..., -385.81327472,\n",
            "       -385.84959781, -385.87139221]), array([-385.90252899, -385.89526365, -385.87346791, ..., -385.83714257,\n",
            "       -385.87346791, -385.89526365]), array([-385.92637146, -385.91910567, -385.89730858, ..., -385.860981  ,\n",
            "       -385.89730858, -385.91910567]), array([-385.95018453, -385.94291829, -385.92111985, ..., -385.88479003,\n",
            "       -385.92111985, -385.94291829]), array([-385.97396824, -385.96670155, -385.94490177, ..., -385.90856971,\n",
            "       -385.94490177, -385.96670155]), array([-385.99772262, -385.99045549, -385.96865437, ..., -385.93232007,\n",
            "       -385.96865437, -385.99045549]), array([-386.02144772, -386.01418014, -385.99237768, ..., -385.95604115,\n",
            "       -385.99237768, -386.01418014]), array([-386.04514356, -386.03787554, -386.01607174, ..., -385.97973298,\n",
            "       -386.01607174, -386.03787554]), array([-386.06881019, -386.06154172, -386.03973659, ..., -386.0033956 ,\n",
            "       -386.03973659, -386.06154172]), array([-386.09244764, -386.08517873, -386.06337226, ..., -386.02702905,\n",
            "       -386.06337226, -386.08517873]), array([-386.11605595, -386.10878659, -386.08697879, ..., -386.05063336,\n",
            "       -386.08697879, -386.10878659]), array([-386.13963515, -386.13236535, -386.11055621, ..., -386.07420856,\n",
            "       -386.11055621, -386.13236535]), array([-386.16318528, -386.15591503, -386.13410456, ..., -386.0977547 ,\n",
            "       -386.13410456, -386.15591503]), array([-386.18670637, -386.17943568, -386.15762388, ..., -386.1212718 ,\n",
            "       -386.15762388, -386.17943568]), array([-386.21019846, -386.20292733, -386.18111421, ..., -386.14475992,\n",
            "       -386.18111421, -386.20292733]), array([-386.23366159, -386.22639001, -386.20457557, ..., -386.16821907,\n",
            "       -386.20457557, -386.22639001]), array([-386.25709579, -386.24982377, -386.228008  , ..., -386.1916493 ,\n",
            "       -386.228008  , -386.24982377]), array([-386.28050109, -386.27322864, -386.25141154, ..., -386.21505064,\n",
            "       -386.25141154, -386.27322864]), array([-386.30387754, -386.29660464, -386.27478623, ..., -386.23842312,\n",
            "       -386.27478623, -386.29660464]), array([-386.32722517, -386.31995183, -386.2981321 , ..., -386.26176679,\n",
            "       -386.2981321 , -386.31995183]), array([-386.35054401, -386.34327023, -386.32144918, ..., -386.28508168,\n",
            "       -386.32144918, -386.34327023]), array([-386.3738341 , -386.36655988, -386.34473752, ..., -386.30836783,\n",
            "       -386.34473752, -386.36655988]), array([-386.39709547, -386.38982082, -386.36799714, ..., -386.33162526,\n",
            "       -386.36799714, -386.38982082]), array([-386.42032816, -386.41305308, -386.39122809, ..., -386.35485402,\n",
            "       -386.39122809, -386.41305308]), array([-386.44353221, -386.43625669, -386.41443039, ..., -386.37805414,\n",
            "       -386.41443039, -386.43625669]), array([-386.46670765, -386.45943169, -386.43760409, ..., -386.40122565,\n",
            "       -386.43760409, -386.45943169]), array([-386.48985452, -386.48257812, -386.46074921, ..., -386.4243686 ,\n",
            "       -386.46074921, -386.48257812]), array([-386.51297285, -386.50569602, -386.4838658 , ..., -386.44748301,\n",
            "       -386.4838658 , -386.50569602]), array([-386.53606267, -386.52878541, -386.50695388, ..., -386.47056892,\n",
            "       -386.50695388, -386.52878541]), array([-386.55912403, -386.55184633, -386.5300135 , ..., -386.49362637,\n",
            "       -386.5300135 , -386.55184633]), array([-386.58215695, -386.57487882, -386.55304469, ..., -386.51665539,\n",
            "       -386.55304469, -386.57487882]), array([-386.60516148, -386.59788291, -386.57604748, ..., -386.53965602,\n",
            "       -386.57604748, -386.59788291]), array([-386.62813764, -386.62085864, -386.59902191, ..., -386.56262829,\n",
            "       -386.59902191, -386.62085864]), array([-386.65108547, -386.64380604, -386.62196802, ..., -386.58557223,\n",
            "       -386.62196802, -386.64380604]), array([-386.67400501, -386.66672515, -386.64488583, ..., -386.60848789,\n",
            "       -386.64488583, -386.66672515]), array([-386.69689629, -386.689616  , -386.66777539, ..., -386.63137529,\n",
            "       -386.66777539, -386.689616  ]), array([-386.71975935, -386.71247862, -386.69063673, ..., -386.65423448,\n",
            "       -386.69063673, -386.71247862]), array([-386.74259422, -386.73531306, -386.71346988, ..., -386.67706548,\n",
            "       -386.71346988, -386.73531306]), array([-386.76540093, -386.75811935, -386.73627487, ..., -386.69986833,\n",
            "       -386.73627487, -386.75811935]), array([-386.78817953, -386.78089752, -386.75905175, ..., -386.72264306,\n",
            "       -386.75905175, -386.78089752]), array([-386.81093004, -386.8036476 , -386.78180055, ..., -386.74538972,\n",
            "       -386.78180055, -386.8036476 ]), array([-386.8336525 , -386.82636963, -386.8045213 , ..., -386.76810833,\n",
            "       -386.8045213 , -386.82636963]), array([-386.85634695, -386.84906365, -386.82721404, ..., -386.79079893,\n",
            "       -386.82721404, -386.84906365]), array([-386.87901341, -386.87172969, -386.8498788 , ..., -386.81346156,\n",
            "       -386.8498788 , -386.87172969]), array([-386.90165193, -386.89436778, -386.87251561, ..., -386.83609624,\n",
            "       -386.87251561, -386.89436778]), array([-386.92426253, -386.91697796, -386.89512451, ..., -386.85870301,\n",
            "       -386.89512451, -386.91697796]), array([-386.94684526, -386.93956026, -386.91770554, ..., -386.88128192,\n",
            "       -386.91770554, -386.93956026]), array([-386.96940015, -386.96211473, -386.94025873, ..., -386.90383298,\n",
            "       -386.94025873, -386.96211473]), array([-386.99192723, -386.98464138, -386.96278411, ..., -386.92635624,\n",
            "       -386.96278411, -386.98464138]), array([-387.01442653, -387.00714026, -386.98528172, ..., -386.94885173,\n",
            "       -386.98528172, -387.00714026]), array([-387.03689809, -387.0296114 , -387.00775159, ..., -386.97131949,\n",
            "       -387.00775159, -387.0296114 ]), array([-387.05934195, -387.05205483, -387.03019375, ..., -386.99375954,\n",
            "       -387.03019375, -387.05205483]), array([-387.08175813, -387.07447059, -387.05260825, ..., -387.01617193,\n",
            "       -387.05260825, -387.07447059]), array([-387.10414668, -387.09685872, -387.07499511, ..., -387.03855668,\n",
            "       -387.07499511, -387.09685872]), array([-387.12650762, -387.11921924, -387.09735437, ..., -387.06091383,\n",
            "       -387.09735437, -387.11921924]), array([-387.14884099, -387.14155219, -387.11968606, ..., -387.08324342,\n",
            "       -387.11968606, -387.14155219]), array([-387.17114683, -387.16385761, -387.14199022, ..., -387.10554548,\n",
            "       -387.14199022, -387.16385761]), array([-387.19342516, -387.18613552, -387.16426687, ..., -387.12782004,\n",
            "       -387.16426687, -387.18613552]), array([-387.21567603, -387.20838597, -387.18651606, ..., -387.15006714,\n",
            "       -387.18651606, -387.20838597]), array([-387.23789946, -387.23060898, -387.20873782, ..., -387.17228681,\n",
            "       -387.20873782, -387.23060898]), array([-387.2600955 , -387.2528046 , -387.23093219, ..., -387.19447908,\n",
            "       -387.23093219, -387.2528046 ]), array([-387.28226416, -387.27497285, -387.25309918, ..., -387.21664399,\n",
            "       -387.25309918, -387.27497285]), array([-387.3044055 , -387.29711377, -387.27523885, ..., -387.23878157,\n",
            "       -387.27523885, -387.29711377]), array([-387.32651953, -387.31922739, -387.29735122, ..., -387.26089186,\n",
            "       -387.29735122, -387.31922739]), array([-387.3486063 , -387.34131374, -387.31943633, ..., -387.28297489,\n",
            "       -387.31943633, -387.34131374]), array([-387.37066584, -387.36337286, -387.3414942 , ..., -387.30503069,\n",
            "       -387.3414942 , -387.36337286]), array([-387.39269818, -387.38540479, -387.36352489, ..., -387.3270593 ,\n",
            "       -387.36352489, -387.38540479]), array([-387.41470336, -387.40740955, -387.3855284 , ..., -387.34906074,\n",
            "       -387.3855284 , -387.40740955]), array([-387.4366814 , -387.42938718, -387.40750479, ..., -387.37103507,\n",
            "       -387.40750479, -387.42938718]), array([-387.45863235, -387.45133771, -387.42945409, ..., -387.39298229,\n",
            "       -387.42945409, -387.45133771]), array([-387.48055623, -387.47326118, -387.45137632, ..., -387.41490246,\n",
            "       -387.45137632, -387.47326118]), array([-387.50245308, -387.49515762, -387.47327152, ..., -387.4367956 ,\n",
            "       -387.47327152, -387.49515762]), array([-387.52432294, -387.51702707, -387.49513973, ..., -387.45866175,\n",
            "       -387.49513973, -387.51702707]), array([-387.54616583, -387.53886954, -387.51698098, ..., -387.48050094,\n",
            "       -387.51698098, -387.53886954]), array([-387.56798178, -387.56068509, -387.53879529, ..., -387.50231321,\n",
            "       -387.53879529, -387.56068509]), array([-387.58977085, -387.58247374, -387.56058271, ..., -387.52409858,\n",
            "       -387.56058271, -387.58247374]), array([-387.61153304, -387.60423553, -387.58234327, ..., -387.54585709,\n",
            "       -387.58234327, -387.60423553]), array([-387.63326841, -387.62597049, -387.604077  , ..., -387.56758877,\n",
            "       -387.604077  , -387.62597049]), array([-387.65497697, -387.64767864, -387.62578393, ..., -387.58929366,\n",
            "       -387.62578393, -387.64767864]), array([-387.67665878, -387.66936004, -387.6474641 , ..., -387.61097179,\n",
            "       -387.6474641 , -387.66936004]), array([-387.69831384, -387.6910147 , -387.66911754, ..., -387.63262319,\n",
            "       -387.66911754, -387.6910147 ]), array([-387.71994221, -387.71264266, -387.69074428, ..., -387.65424789,\n",
            "       -387.69074428, -387.71264266]), array([-387.74154392, -387.73424396, -387.71234436, ..., -387.67584593,\n",
            "       -387.71234436, -387.73424396]), array([-387.76311899, -387.75581862, -387.7339178 , ..., -387.69741735,\n",
            "       -387.7339178 , -387.75581862]), array([-387.78466746, -387.77736668, -387.75546465, ..., -387.71896217,\n",
            "       -387.75546465, -387.77736668]), array([-387.80618936, -387.79888818, -387.77698493, ..., -387.74048042,\n",
            "       -387.77698493, -387.79888818]), array([-387.82768472, -387.82038314, -387.79847867, ..., -387.76197215,\n",
            "       -387.79847867, -387.82038314]), array([-387.84915359, -387.8418516 , -387.81994592, ..., -387.78343737,\n",
            "       -387.81994592, -387.8418516 ]), array([-387.87059598, -387.86329359, -387.8413867 , ..., -387.80487613,\n",
            "       -387.8413867 , -387.86329359]), array([-387.89201193, -387.88470914, -387.86280104, ..., -387.82628846,\n",
            "       -387.86280104, -387.88470914]), array([-387.91340149, -387.90609829, -387.88418898, ..., -387.84767439,\n",
            "       -387.88418898, -387.90609829]), array([-387.93476467, -387.92746107, -387.90555055, ..., -387.86903395,\n",
            "       -387.90555055, -387.92746107]), array([-387.95610151, -387.94879751, -387.92688579, ..., -387.89036717,\n",
            "       -387.92688579, -387.94879751]), array([-387.97741204, -387.97010764, -387.94819472, ..., -387.91167409,\n",
            "       -387.94819472, -387.97010764]), array([-387.9986963 , -387.9913915 , -387.96947737, ..., -387.93295475,\n",
            "       -387.96947737, -387.9913915 ]), array([-388.01995431, -388.01264911, -387.99073379, ..., -387.95420916,\n",
            "       -387.99073379, -388.01264911]), array([-388.04118612, -388.03388052, -388.01196399, ..., -387.97543737,\n",
            "       -388.01196399, -388.03388052]), array([-388.06239175, -388.05508575, -388.03316803, ..., -387.99663941,\n",
            "       -388.03316803, -388.05508575]), array([-388.08357123, -388.07626483, -388.05434591, ..., -388.0178153 ,\n",
            "       -388.05434591, -388.07626483]), array([-388.1047246 , -388.09741781, -388.07549769, ..., -388.03896509,\n",
            "       -388.07549769, -388.09741781]), array([-388.12585189, -388.1185447 , -388.09662339, ..., -388.0600888 ,\n",
            "       -388.09662339, -388.1185447 ]), array([-388.14695313, -388.13964554, -388.11772304, ..., -388.08118646,\n",
            "       -388.11772304, -388.13964554]), array([-388.16802836, -388.16072037, -388.13879668, ..., -388.10225812,\n",
            "       -388.13879668, -388.16072037]), array([-388.1890776 , -388.18176921, -388.15984433, ..., -388.12330379,\n",
            "       -388.15984433, -388.18176921]), array([-388.21010088, -388.2027921 , -388.18086604, ..., -388.14432352,\n",
            "       -388.18086604, -388.2027921 ]), array([-388.23109825, -388.22378907, -388.20186182, ..., -388.16531733,\n",
            "       -388.20186182, -388.22378907]), array([-388.25206973, -388.24476016, -388.22283172, ..., -388.18628525,\n",
            "       -388.22283172, -388.24476016]), array([-388.27301535, -388.26570539, -388.24377577, ..., -388.20722733,\n",
            "       -388.24377577, -388.26570539]), array([-388.29393515, -388.28662479, -388.26469399, ..., -388.22814358,\n",
            "       -388.26469399, -388.28662479]), array([-388.31482915, -388.3075184 , -388.28558642, ..., -388.24903404,\n",
            "       -388.28558642, -388.3075184 ]), array([-388.33569739, -388.32838625, -388.30645309, ..., -388.26989875,\n",
            "       -388.30645309, -388.32838625]), array([-388.35653991, -388.34922837, -388.32729404, ..., -388.29073773,\n",
            "       -388.32729404, -388.34922837]), array([-388.37735672, -388.3700448 , -388.34810929, ..., -388.31155102,\n",
            "       -388.34810929, -388.3700448 ]), array([-388.39814787, -388.39083555, -388.36889887, ..., -388.33233865,\n",
            "       -388.36889887, -388.39083555]), array([-388.41891339, -388.41160068, -388.38966282, ..., -388.35310065,\n",
            "       -388.38966282, -388.41160068]), array([-388.4396533 , -388.4323402 , -388.41040118, ..., -388.37383705,\n",
            "       -388.41040118, -388.4323402 ]), array([-388.46036765, -388.45305416, -388.43111396, ..., -388.39454788,\n",
            "       -388.43111396, -388.45305416]), array([-388.48105645, -388.47374257, -388.4518012 , ..., -388.41523318,\n",
            "       -388.4518012 , -388.47374257]), array([-388.50171974, -388.49440547, -388.47246294, ..., -388.43589297,\n",
            "       -388.47246294, -388.49440547]), array([-388.52235756, -388.5150429 , -388.49309921, ..., -388.45652729,\n",
            "       -388.49309921, -388.5150429 ]), array([-388.54296993, -388.53565489, -388.51371003, ..., -388.47713618,\n",
            "       -388.51371003, -388.53565489]), array([-388.56355689, -388.55624146, -388.53429544, ..., -388.49771965,\n",
            "       -388.53429544, -388.55624146]), array([-388.58411847, -388.57680265, -388.55485546, ..., -388.51827774,\n",
            "       -388.55485546, -388.57680265]), array([-388.6046547 , -388.59733849, -388.57539014, ..., -388.53881049,\n",
            "       -388.57539014, -388.59733849]), array([-388.6251656 , -388.61784901, -388.5958995 , ..., -388.55931792,\n",
            "       -388.5958995 , -388.61784901]), array([-388.64565122, -388.63833424, -388.61638358, ..., -388.57980006,\n",
            "       -388.61638358, -388.63833424]), array([-388.66611158, -388.65879421, -388.6368424 , ..., -388.60025696,\n",
            "       -388.6368424 , -388.65879421]), array([-388.68654671, -388.67922896, -388.65727599, ..., -388.62068863,\n",
            "       -388.65727599, -388.67922896]), array([-388.70695665, -388.69963852, -388.67768439, ..., -388.64109511,\n",
            "       -388.67768439, -388.69963852]), array([-388.72734142, -388.7200229 , -388.69806763, ..., -388.66147643,\n",
            "       -388.69806763, -388.7200229 ]), array([-388.74770106, -388.74038216, -388.71842574, ..., -388.68183262,\n",
            "       -388.71842574, -388.74038216]), array([-388.7680356 , -388.76071632, -388.73875874, ..., -388.70216371,\n",
            "       -388.73875874, -388.76071632]), array([-388.78834507, -388.7810254 , -388.75906668, ..., -388.72246974,\n",
            "       -388.75906668, -388.7810254 ]), array([-388.80862949, -388.80130945, -388.77934958, ..., -388.74275073,\n",
            "       -388.77934958, -388.80130945]), array([-388.82888891, -388.82156848, -388.79960747, ..., -388.76300671,\n",
            "       -388.79960747, -388.82156848]), array([-388.84912335, -388.84180254, -388.81984039, ..., -388.78323772,\n",
            "       -388.81984039, -388.84180254]), array([-388.86933284, -388.86201165, -388.84004836, ..., -388.80344379,\n",
            "       -388.84004836, -388.86201165]), array([-388.88951741, -388.88219584, -388.86023141, ..., -388.82362494,\n",
            "       -388.86023141, -388.88219584]), array([-388.9096771 , -388.90235515, -388.88038958, ..., -388.84378121,\n",
            "       -388.88038958, -388.90235515]), array([-388.92981193, -388.9224896 , -388.90052289, ..., -388.86391263,\n",
            "       -388.90052289, -388.9224896 ]), array([-388.94992193, -388.94259923, -388.92063138, ..., -388.88401923,\n",
            "       -388.92063138, -388.94259923]), array([-388.97000715, -388.96268406, -388.94071508, ..., -388.90410104,\n",
            "       -388.94071508, -388.96268406]), array([-388.99006759, -388.98274413, -388.96077402, ..., -388.92415809,\n",
            "       -388.96077402, -388.98274413]), array([-389.01010331, -389.00277947, -388.98080823, ..., -388.94419041,\n",
            "       -388.98080823, -389.00277947]), array([-389.03011432, -389.0227901 , -389.00081773, ..., -388.96419803,\n",
            "       -389.00081773, -389.0227901 ]), array([-389.05010066, -389.04277607, -389.02080257, ..., -388.98418098,\n",
            "       -389.02080257, -389.04277607]), array([-389.07006236, -389.06273739, -389.04076276, ..., -389.0041393 ,\n",
            "       -389.04076276, -389.06273739]), array([-389.08999944, -389.0826741 , -389.06069834, ..., -389.02407301,\n",
            "       -389.06069834, -389.0826741 ]), array([-389.10991195, -389.10258623, -389.08060935, ..., -389.04398214,\n",
            "       -389.08060935, -389.10258623]), array([-389.1297999 , -389.12247381, -389.10049581, ..., -389.06386672,\n",
            "       -389.10049581, -389.12247381]), array([-389.14966333, -389.14233687, -389.12035774, ..., -389.08372679,\n",
            "       -389.12035774, -389.14233687]), array([-389.16950228, -389.16217544, -389.14019519, ..., -389.10356237,\n",
            "       -389.14019519, -389.16217544]), array([-389.18931676, -389.18198955, -389.16000818, ..., -389.1233735 ,\n",
            "       -389.16000818, -389.18198955]), array([-389.20910681, -389.20177922, -389.17979674, ..., -389.1431602 ,\n",
            "       -389.17979674, -389.20177922]), array([-389.22887246, -389.2215445 , -389.19956091, ..., -389.1629225 ,\n",
            "       -389.19956091, -389.2215445 ]), array([-389.24861375, -389.24128542, -389.2193007 , ..., -389.18266044,\n",
            "       -389.2193007 , -389.24128542]), array([-389.26833069, -389.26100199, -389.23901616, ..., -389.20237404,\n",
            "       -389.23901616, -389.26100199]), array([-389.28802332, -389.28069425, -389.25870731, ..., -389.22206334,\n",
            "       -389.25870731, -389.28069425]), array([-389.30769167, -389.30036223, -389.27837418, ..., -389.24172836,\n",
            "       -389.27837418, -389.30036223]), array([-389.32733578, -389.32000596, -389.29801681, ..., -389.26136913,\n",
            "       -389.29801681, -389.32000596]), array([-389.34695566, -389.33962548, -389.31763521, ..., -389.28098569,\n",
            "       -389.31763521, -389.33962548]), array([-389.36655135, -389.3592208 , -389.33722943, ..., -389.30057806,\n",
            "       -389.33722943, -389.3592208 ]), array([-389.38612288, -389.37879197, -389.35679949, ..., -389.32014628,\n",
            "       -389.35679949, -389.37879197]), array([-389.40567029, -389.398339  , -389.37634542, ..., -389.33969037,\n",
            "       -389.37634542, -389.398339  ]), array([-389.42519359, -389.41786193, -389.39586725, ..., -389.35921036,\n",
            "       -389.39586725, -389.41786193]), array([-389.44469282, -389.4373608 , -389.41536501, ..., -389.37870629,\n",
            "       -389.41536501, -389.4373608 ]), array([-389.46416801, -389.45683562, -389.43483873, ..., -389.39817818,\n",
            "       -389.43483873, -389.45683562]), array([-389.48361918, -389.47628643, -389.45428845, ..., -389.41762606,\n",
            "       -389.45428845, -389.47628643]), array([-389.50304638, -389.49571326, -389.47371418, ..., -389.43704996,\n",
            "       -389.47371418, -389.49571326]), array([-389.52244962, -389.51511614, -389.49311596, ..., -389.45644992,\n",
            "       -389.49311596, -389.51511614]), array([-389.54182894, -389.53449509, -389.51249382, ..., -389.47582596,\n",
            "       -389.51249382, -389.53449509]), array([-389.56118437, -389.55385015, -389.53184779, ..., -389.4951781 ,\n",
            "       -389.53184779, -389.55385015]), array([-389.58051593, -389.57318135, -389.55117789, ..., -389.51450639,\n",
            "       -389.55117789, -389.57318135]), array([-389.59982365, -389.59248871, -389.57048417, ..., -389.53381084,\n",
            "       -389.57048417, -389.59248871]), array([-389.61910758, -389.61177227, -389.58976664, ..., -389.5530915 ,\n",
            "       -389.58976664, -389.61177227]), array([-389.63836772, -389.63103206, -389.60902533, ..., -389.57234838,\n",
            "       -389.60902533, -389.63103206]), array([-389.65760412, -389.65026809, -389.62826028, ..., -389.59158152,\n",
            "       -389.62826028, -389.65026809]), array([-389.6768168 , -389.66948041, -389.64747152, ..., -389.61079095,\n",
            "       -389.64747152, -389.66948041]), array([-389.6960058 , -389.68866905, -389.66665907, ..., -389.62997669,\n",
            "       -389.66665907, -389.68866905]), array([-389.71517113, -389.70783402, -389.68582296, ..., -389.64913878,\n",
            "       -389.68582296, -389.70783402]), array([-389.73431284, -389.72697536, -389.70496322, ..., -389.66827724,\n",
            "       -389.70496322, -389.72697536]), array([-389.75343094, -389.74609311, -389.72407989, ..., -389.68739211,\n",
            "       -389.72407989, -389.74609311]), array([-389.77252547, -389.76518728, -389.74317298, ..., -389.70648341,\n",
            "       -389.74317298, -389.76518728]), array([-389.79159646, -389.78425791, -389.76224254, ..., -389.72555117,\n",
            "       -389.76224254, -389.78425791]), array([-389.81064394, -389.80330503, -389.78128858, ..., -389.74459542,\n",
            "       -389.78128858, -389.80330503]), array([-389.82966794, -389.82232867, -389.80031114, ..., -389.76361619,\n",
            "       -389.80031114, -389.82232867]), array([-389.84866847, -389.84132885, -389.81931025, ..., -389.7826135 ,\n",
            "       -389.81931025, -389.84132885]), array([-389.86764558, -389.8603056 , -389.83828593, ..., -389.8015874 ,\n",
            "       -389.83828593, -389.8603056 ]), array([-389.8865993 , -389.87925896, -389.85723822, ..., -389.8205379 ,\n",
            "       -389.85723822, -389.87925896]), array([-389.90552964, -389.89818895, -389.87616714, ..., -389.83946504,\n",
            "       -389.87616714, -389.89818895]), array([-389.92443665, -389.91709559, -389.89507272, ..., -389.85836884,\n",
            "       -389.89507272, -389.91709559]), array([-389.94332034, -389.93597893, -389.91395499, ..., -389.87724934,\n",
            "       -389.91395499, -389.93597893]), array([-389.96218075, -389.95483899, -389.93281398, ..., -389.89610655,\n",
            "       -389.93281398, -389.95483899]), array([-389.98101791, -389.97367579, -389.95164972, ..., -389.91494052,\n",
            "       -389.95164972, -389.97367579]), array([-389.99983184, -389.99248937, -389.97046223, ..., -389.93375126,\n",
            "       -389.97046223, -389.99248937]), array([-390.01862257, -390.01127975, -389.98925155, ..., -389.95253881,\n",
            "       -389.98925155, -390.01127975]), array([-390.03739014, -390.03004696, -390.00801771, ..., -389.9713032 ,\n",
            "       -390.00801771, -390.03004696]), array([-390.05613457, -390.04879104, -390.02676072, ..., -389.99004445,\n",
            "       -390.02676072, -390.04879104]), array([-390.07485589, -390.06751201, -390.04548063, ..., -390.0087626 ,\n",
            "       -390.04548063, -390.06751201]), array([-390.09355412, -390.08620989, -390.06417746, ..., -390.02745767,\n",
            "       -390.06417746, -390.08620989]), array([-390.11222931, -390.10488472, -390.08285124, ..., -390.04612968,\n",
            "       -390.08285124, -390.10488472]), array([-390.13088146, -390.12353652, -390.10150199, ..., -390.06477868,\n",
            "       -390.10150199, -390.12353652]), array([-390.14951062, -390.14216533, -390.12012974, ..., -390.08340468,\n",
            "       -390.12012974, -390.14216533]), array([-390.16811681, -390.16077117, -390.13873453, ..., -390.10200772,\n",
            "       -390.13873453, -390.16077117]), array([-390.18670006, -390.17935407, -390.15731638, ..., -390.12058782,\n",
            "       -390.15731638, -390.17935407]), array([-390.2052604 , -390.19791406, -390.17587532, ..., -390.13914502,\n",
            "       -390.17587532, -390.19791406]), array([-390.22379785, -390.21645117, -390.19441138, ..., -390.15767933,\n",
            "       -390.19441138, -390.21645117]), array([-390.24231245, -390.23496542, -390.21292459, ..., -390.17619079,\n",
            "       -390.21292459, -390.23496542]), array([-390.26080422, -390.25345684, -390.23141497, ..., -390.19467943,\n",
            "       -390.23141497, -390.25345684]), array([-390.2792732 , -390.27192547, -390.24988255, ..., -390.21314528,\n",
            "       -390.24988255, -390.27192547]), array([-390.2977194 , -390.29037132, -390.26832736, ..., -390.23158835,\n",
            "       -390.26832736, -390.29037132]), array([-390.31614286, -390.30879443, -390.28674943, ..., -390.25000869,\n",
            "       -390.28674943, -390.30879443]), array([-390.3345436 , -390.32719483, -390.30514879, ..., -390.26840631,\n",
            "       -390.30514879, -390.32719483]), array([-390.35292165, -390.34557254, -390.32352546, ..., -390.28678126,\n",
            "       -390.32352546, -390.34557254]), array([-390.37127705, -390.36392759, -390.34187948, ..., -390.30513354,\n",
            "       -390.34187948, -390.36392759]), array([-390.38960982, -390.38226001, -390.36021086, ..., -390.3234632 ,\n",
            "       -390.36021086, -390.38226001]), array([-390.40791998, -390.40056983, -390.37851965, ..., -390.34177026,\n",
            "       -390.37851965, -390.40056983]), array([-390.42620757, -390.41885707, -390.39680586, ..., -390.36005475,\n",
            "       -390.39680586, -390.41885707]), array([-390.44447261, -390.43712177, -390.41506952, ..., -390.3783167 ,\n",
            "       -390.41506952, -390.43712177]), array([-390.46271513, -390.45536394, -390.43331067, ..., -390.39655613,\n",
            "       -390.43331067, -390.45536394]), array([-390.48093516, -390.47358363, -390.45152932, ..., -390.41477307,\n",
            "       -390.45152932, -390.47358363]), array([-390.49913272, -390.49178085, -390.46972552, ..., -390.43296755,\n",
            "       -390.46972552, -390.49178085]), array([-390.51730785, -390.50995563, -390.48789928, ..., -390.4511396 ,\n",
            "       -390.48789928, -390.50995563]), array([-390.53546057, -390.52810801, -390.50605063, ..., -390.46928924,\n",
            "       -390.50605063, -390.52810801]), array([-390.5535909 , -390.54623801, -390.5241796 , ..., -390.48741651,\n",
            "       -390.5241796 , -390.54623801]), array([-390.57169889, -390.56434565, -390.54228622, ..., -390.50552142,\n",
            "       -390.54228622, -390.56434565]), array([-390.58978454, -390.58243097, -390.56037052, ..., -390.52360402,\n",
            "       -390.56037052, -390.58243097]), array([-390.6078479 , -390.60049399, -390.57843251, ..., -390.54166432,\n",
            "       -390.57843251, -390.60049399]), array([-390.62588899, -390.61853474, -390.59647224, ..., -390.55970235,\n",
            "       -390.59647224, -390.61853474]), array([-390.64390784, -390.63655324, -390.61448973, ..., -390.57771814,\n",
            "       -390.61448973, -390.63655324]), array([-390.66190446, -390.65454953, -390.632485  , ..., -390.59571172,\n",
            "       -390.632485  , -390.65454953]), array([-390.6798789 , -390.67252363, -390.65045809, ..., -390.61368311,\n",
            "       -390.65045809, -390.67252363]), array([-390.69783118, -390.69047557, -390.66840902, ..., -390.63163235,\n",
            "       -390.66840902, -390.69047557]), array([-390.71576133, -390.70840538, -390.68633781, ..., -390.64955946,\n",
            "       -390.68633781, -390.70840538]), array([-390.73366936, -390.72631308, -390.7042445 , ..., -390.66746446,\n",
            "       -390.7042445 , -390.72631308]), array([-390.75155532, -390.7441987 , -390.72212911, ..., -390.68534739,\n",
            "       -390.72212911, -390.7441987 ]), array([-390.76941923, -390.76206227, -390.73999167, ..., -390.70320827,\n",
            "       -390.73999167, -390.76206227]), array([-390.78726111, -390.77990381, -390.75783221, ..., -390.72104712,\n",
            "       -390.75783221, -390.77990381]), array([-390.80508099, -390.79772336, -390.77565075, ..., -390.73886399,\n",
            "       -390.77565075, -390.79772336]), array([-390.8228789 , -390.81552094, -390.79344732, ..., -390.75665888,\n",
            "       -390.79344732, -390.81552094]), array([-390.84065487, -390.83329657, -390.81122195, ..., -390.77443184,\n",
            "       -390.81122195, -390.83329657]), array([-390.85840892, -390.85105029, -390.82897466, ..., -390.79218288,\n",
            "       -390.82897466, -390.85105029]), array([-390.87614108, -390.86878211, -390.84670549, ..., -390.80991204,\n",
            "       -390.84670549, -390.86878211]), array([-390.89385138, -390.88649208, -390.86441446, ..., -390.82761934,\n",
            "       -390.86441446, -390.88649208]), array([-390.91153984, -390.90418021, -390.88210159, ..., -390.8453048 ,\n",
            "       -390.88210159, -390.90418021]), array([-390.9292065 , -390.92184653, -390.89976691, ..., -390.86296847,\n",
            "       -390.89976691, -390.92184653]), array([-390.94685137, -390.93949107, -390.91741045, ..., -390.88061035,\n",
            "       -390.91741045, -390.93949107]), array([-390.96447449, -390.95711386, -390.93503224, ..., -390.89823048,\n",
            "       -390.93503224, -390.95711386]), array([-390.98207588, -390.97471491, -390.95263231, ..., -390.91582889,\n",
            "       -390.95263231, -390.97471491]), array([-390.99965556, -390.99229427, -390.97021067, ..., -390.9334056 ,\n",
            "       -390.97021067, -390.99229427]), array([-391.01721358, -391.00985195, -390.98776736, ..., -390.95096063,\n",
            "       -390.98776736, -391.00985195]), array([-391.03474994, -391.02738799, -391.00530241, ..., -390.96849403,\n",
            "       -391.00530241, -391.02738799]), array([-391.05226468, -391.0449024 , -391.02281583, ..., -390.9860058 ,\n",
            "       -391.02281583, -391.0449024 ]), array([-391.06975783, -391.06239522, -391.04030766, ..., -391.00349599,\n",
            "       -391.04030766, -391.06239522]), array([-391.08722941, -391.07986647, -391.05777793, ..., -391.02096461,\n",
            "       -391.05777793, -391.07986647]), array([-391.10467945, -391.09731618, -391.07522665, ..., -391.03841169,\n",
            "       -391.07522665, -391.09731618]), array([-391.12210798, -391.11474438, -391.09265387, ..., -391.05583726,\n",
            "       -391.09265387, -391.11474438]), array([-391.13951501, -391.13215109, -391.11005959, ..., -391.07324135,\n",
            "       -391.11005959, -391.13215109]), array([-391.15690059, -391.14953634, -391.12744386, ..., -391.09062398,\n",
            "       -391.12744386, -391.14953634]), array([-391.17426473, -391.16690015, -391.14480669, ..., -391.10798518,\n",
            "       -391.14480669, -391.16690015]), array([-391.19160746, -391.18424255, -391.16214811, ..., -391.12532497,\n",
            "       -391.16214811, -391.18424255]), array([-391.2089288 , -391.20156357, -391.17946815, ..., -391.14264338,\n",
            "       -391.17946815, -391.20156357]), array([-391.2262288 , -391.21886324, -391.19676684, ..., -391.15994044,\n",
            "       -391.19676684, -391.21886324]), array([-391.24350746, -391.23614157, -391.2140442 , ..., -391.17721618,\n",
            "       -391.2140442 , -391.23614157]), array([-391.26076482, -391.25339861, -391.23130026, ..., -391.19447061,\n",
            "       -391.23130026, -391.25339861]), array([-391.2780009 , -391.27063436, -391.24853505, ..., -391.21170377,\n",
            "       -391.24853505, -391.27063436]), array([-391.29521573, -391.28784887, -391.26574858, ..., -391.22891569,\n",
            "       -391.26574858, -391.28784887]), array([-391.31240933, -391.30504215, -391.28294089, ..., -391.24610638,\n",
            "       -391.28294089, -391.30504215]), array([-391.32958174, -391.32221423, -391.300112  , ..., -391.26327587,\n",
            "       -391.300112  , -391.32221423]), array([-391.34673297, -391.33936514, -391.31726194, ..., -391.2804242 ,\n",
            "       -391.31726194, -391.33936514]), array([-391.36386306, -391.35649491, -391.33439074, ..., -391.29755139,\n",
            "       -391.33439074, -391.35649491]), array([-391.38097202, -391.37360355, -391.35149842, ..., -391.31465745,\n",
            "       -391.35149842, -391.37360355]), array([-391.3980599 , -391.3906911 , -391.36858501, ..., -391.33174243,\n",
            "       -391.36858501, -391.3906911 ]), array([-391.4151267 , -391.40775759, -391.38565052, ..., -391.34880634,\n",
            "       -391.38565052, -391.40775759]), array([-391.43217246, -391.42480303, -391.402695  , ..., -391.36584922,\n",
            "       -391.402695  , -391.42480303]), array([-391.44919721, -391.44182745, -391.41971847, ..., -391.38287108,\n",
            "       -391.41971847, -391.44182745]), array([-391.46620096, -391.45883089, -391.43672094, ..., -391.39987195,\n",
            "       -391.43672094, -391.45883089]), array([-391.48318375, -391.47581336, -391.45370245, ..., -391.41685187,\n",
            "       -391.45370245, -391.47581336]), array([-391.5001456 , -391.49277489, -391.47066303, ..., -391.43381084,\n",
            "       -391.47066303, -391.49277489]), array([-391.51708654, -391.50971551, -391.48760269, ..., -391.45074891,\n",
            "       -391.48760269, -391.50971551]), array([-391.53400659, -391.52663524, -391.50452147, ..., -391.4676661 ,\n",
            "       -391.50452147, -391.52663524]), array([-391.55090578, -391.54353411, -391.52141938, ..., -391.48456242,\n",
            "       -391.52141938, -391.54353411]), array([-391.56778414, -391.56041215, -391.53829647, ..., -391.50143792,\n",
            "       -391.53829647, -391.56041215]), array([-391.58464168, -391.57726938, -391.55515274, ..., -391.51829261,\n",
            "       -391.55515274, -391.57726938]), array([-391.60147844, -391.59410582, -391.57198823, ..., -391.53512651,\n",
            "       -391.57198823, -391.59410582]), array([-391.61829444, -391.6109215 , -391.58880297, ..., -391.55193967,\n",
            "       -391.58880297, -391.6109215 ]), array([-391.63508971, -391.62771646, -391.60559697, ..., -391.56873209,\n",
            "       -391.60559697, -391.62771646]), array([-391.65186427, -391.6444907 , -391.62237027, ..., -391.58550381,\n",
            "       -391.62237027, -391.6444907 ]), array([-391.66861815, -391.66124426, -391.63912289, ..., -391.60225485,\n",
            "       -391.63912289, -391.66124426]), array([-391.68535137, -391.67797717, -391.65585485, ..., -391.61898523,\n",
            "       -391.65585485, -391.67797717]), array([-391.70206396, -391.69468945, -391.67256618, ..., -391.63569499,\n",
            "       -391.67256618, -391.69468945]), array([-391.71875595, -391.71138112, -391.68925691, ..., -391.65238415,\n",
            "       -391.68925691, -391.71138112]), array([-391.73542735, -391.72805221, -391.70592706, ..., -391.66905273,\n",
            "       -391.70592706, -391.72805221]), array([-391.7520782 , -391.74470275, -391.72257665, ..., -391.68570076,\n",
            "       -391.72257665, -391.74470275]), array([-391.76870852, -391.76133275, -391.73920572, ..., -391.70232826,\n",
            "       -391.73920572, -391.76133275]), array([-391.78531834, -391.77794226, -391.75581429, ..., -391.71893527,\n",
            "       -391.75581429, -391.77794226]), array([-391.80190768, -391.79453128, -391.77240238, ..., -391.73552179,\n",
            "       -391.77240238, -391.79453128]), array([-391.81847656, -391.81109985, -391.78897001, ..., -391.75208787,\n",
            "       -391.78897001, -391.81109985]), array([-391.83502502, -391.827648  , -391.80551722, ..., -391.76863352,\n",
            "       -391.80551722, -391.827648  ]), array([-391.85155307, -391.84417574, -391.82204403, ..., -391.78515877,\n",
            "       -391.82204403, -391.84417574]), array([-391.86806074, -391.8606831 , -391.83855046, ..., -391.80166365,\n",
            "       -391.83855046, -391.8606831 ]), array([-391.88454806, -391.87717011, -391.85503654, ..., -391.81814818,\n",
            "       -391.85503654, -391.87717011]), array([-391.90101506, -391.8936368 , -391.87150229, ..., -391.83461238,\n",
            "       -391.87150229, -391.8936368 ]), array([-391.91746175, -391.91008318, -391.88794775, ..., -391.85105629,\n",
            "       -391.88794775, -391.91008318]), array([-391.93388816, -391.92650928, -391.90437292, ..., -391.86747992,\n",
            "       -391.90437292, -391.92650928]), array([-391.95029432, -391.94291513, -391.92077785, ..., -391.8838833 ,\n",
            "       -391.92077785, -391.94291513]), array([-391.96668025, -391.95930076, -391.93716254, ..., -391.90026645,\n",
            "       -391.93716254, -391.95930076]), array([-391.98304598, -391.97566618, -391.95352704, ..., -391.91662941,\n",
            "       -391.95352704, -391.97566618]), array([-391.99939153, -391.99201142, -391.96987136, ..., -391.93297219,\n",
            "       -391.96987136, -391.99201142]), array([-392.01571693, -392.00833651, -391.98619553, ..., -391.94929482,\n",
            "       -391.98619553, -392.00833651]), array([-392.0320222 , -392.02464147, -392.00249957, ..., -391.96559733,\n",
            "       -392.00249957, -392.02464147]), array([-392.04830737, -392.04092633, -392.01878351, ..., -391.98187974,\n",
            "       -392.01878351, -392.04092633]), array([-392.06457245, -392.05719112, -392.03504738, ..., -391.99814207,\n",
            "       -392.03504738, -392.05719112]), array([-392.08081749, -392.07343584, -392.05129119, ..., -392.01438435,\n",
            "       -392.05129119, -392.07343584]), array([-392.09704249, -392.08966054, -392.06751497, ..., -392.03060661,\n",
            "       -392.06751497, -392.08966054]), array([-392.11324749, -392.10586524, -392.08371875, ..., -392.04680886,\n",
            "       -392.08371875, -392.10586524]), array([-392.12943251, -392.12204995, -392.09990255, ..., -392.06299114,\n",
            "       -392.09990255, -392.12204995]), array([-392.14559758, -392.13821471, -392.1160664 , ..., -392.07915347,\n",
            "       -392.1160664 , -392.13821471]), array([-392.16174271, -392.15435955, -392.13221032, ..., -392.09529587,\n",
            "       -392.13221032, -392.15435955]), array([-392.17786794, -392.17048447, -392.14833433, ..., -392.11141837,\n",
            "       -392.14833433, -392.17048447]), array([-392.19397329, -392.18658952, -392.16443847, ..., -392.12752098,\n",
            "       -392.16443847, -392.18658952]), array([-392.21005878, -392.2026747 , -392.18052275, ..., -392.14360375,\n",
            "       -392.18052275, -392.2026747 ]), array([-392.22612444, -392.21874006, -392.1965872 , ..., -392.15966669,\n",
            "       -392.1965872 , -392.21874006]), array([-392.24217029, -392.23478561, -392.21263184, ..., -392.17570982,\n",
            "       -392.21263184, -392.23478561]), array([-392.25819636, -392.25081137, -392.2286567 , ..., -392.19173317,\n",
            "       -392.2286567 , -392.25081137]), array([-392.27420266, -392.26681738, -392.2446618 , ..., -392.20773676,\n",
            "       -392.2446618 , -392.26681738]), array([-392.29018923, -392.28280365, -392.26064717, ..., -392.22372063,\n",
            "       -392.26064717, -392.28280365]), array([-392.3061561 , -392.29877021, -392.27661283, ..., -392.23968479,\n",
            "       -392.27661283, -392.29877021]), array([-392.32210327, -392.31471709, -392.2925588 , ..., -392.25562926,\n",
            "       -392.2925588 , -392.31471709]), array([-392.33803079, -392.3306443 , -392.30848512, ..., -392.27155407,\n",
            "       -392.30848512, -392.3306443 ]), array([-392.35393866, -392.34655188, -392.3243918 , ..., -392.28745926,\n",
            "       -392.3243918 , -392.34655188]), array([-392.36982693, -392.36243984, -392.34027886, ..., -392.30334483,\n",
            "       -392.34027886, -392.36243984]), array([-392.3856956 , -392.37830821, -392.35614634, ..., -392.31921081,\n",
            "       -392.35614634, -392.37830821]), array([-392.40154471, -392.39415702, -392.37199426, ..., -392.33505724,\n",
            "       -392.37199426, -392.39415702]), array([-392.41737427, -392.40998629, -392.38782263, ..., -392.35088412,\n",
            "       -392.38782263, -392.40998629]), array([-392.43318433, -392.42579605, -392.40363149, ..., -392.36669149,\n",
            "       -392.40363149, -392.42579605]), array([-392.44897488, -392.44158631, -392.41942086, ..., -392.38247937,\n",
            "       -392.41942086, -392.44158631]), array([-392.46474597, -392.4573571 , -392.43519076, ..., -392.39824779,\n",
            "       -392.43519076, -392.4573571 ]), array([-392.48049762, -392.47310845, -392.45094122, ..., -392.41399677,\n",
            "       -392.45094122, -392.47310845]), array([-392.49622984, -392.48884037, -392.46667226, ..., -392.42972632,\n",
            "       -392.46667226, -392.48884037]), array([-392.51194266, -392.5045529 , -392.4823839 , ..., -392.44543649,\n",
            "       -392.4823839 , -392.5045529 ]), array([-392.52763612, -392.52024606, -392.49807617, ..., -392.46112728,\n",
            "       -392.49807617, -392.52024606]), array([-392.54331022, -392.53591987, -392.5137491 , ..., -392.47679873,\n",
            "       -392.5137491 , -392.53591987]), array([-392.558965  , -392.55157436, -392.5294027 , ..., -392.49245086,\n",
            "       -392.5294027 , -392.55157436]), array([-392.57460048, -392.56720954, -392.545037  , ..., -392.50808369,\n",
            "       -392.545037  , -392.56720954]), array([-392.59021668, -392.58282544, -392.56065202, ..., -392.52369724,\n",
            "       -392.56065202, -392.58282544]), array([-392.60581362, -392.5984221 , -392.57624779, ..., -392.53929155,\n",
            "       -392.57624779, -392.5984221 ]), array([-392.62139134, -392.61399952, -392.59182434, ..., -392.55486662,\n",
            "       -392.59182434, -392.61399952]), array([-392.63694985, -392.62955774, -392.60738167, ..., -392.5704225 ,\n",
            "       -392.60738167, -392.62955774]), array([-392.65248918, -392.64509677, -392.62291983, ..., -392.58595919,\n",
            "       -392.62291983, -392.64509677]), array([-392.66800935, -392.66061665, -392.63843883, ..., -392.60147673,\n",
            "       -392.63843883, -392.66061665]), array([-392.68351038, -392.67611739, -392.65393869, ..., -392.61697514,\n",
            "       -392.65393869, -392.67611739]), array([-392.6989923 , -392.69159902, -392.66941945, ..., -392.63245443,\n",
            "       -392.66941945, -392.69159902]), array([-392.71445513, -392.70706156, -392.68488112, ..., -392.64791465,\n",
            "       -392.68488112, -392.70706156]), array([-392.7298989 , -392.72250503, -392.70032372, ..., -392.6633558 ,\n",
            "       -392.70032372, -392.72250503]), array([-392.74532362, -392.73792947, -392.71574729, ..., -392.67877791,\n",
            "       -392.71574729, -392.73792947]), array([-392.76072933, -392.75333489, -392.73115184, ..., -392.69418101,\n",
            "       -392.73115184, -392.75333489]), array([-392.77611605, -392.76872131, -392.74653739, ..., -392.70956512,\n",
            "       -392.74653739, -392.76872131]), array([-392.79148379, -392.78408877, -392.76190398, ..., -392.72493026,\n",
            "       -392.76190398, -392.78408877]), array([-392.80683259, -392.79943727, -392.77725162, ..., -392.74027645,\n",
            "       -392.77725162, -392.79943727]), array([-392.82216246, -392.81476686, -392.79258033, ..., -392.75560373,\n",
            "       -392.79258033, -392.81476686]), array([-392.83747343, -392.83007754, -392.80789015, ..., -392.7709121 ,\n",
            "       -392.80789015, -392.83007754]), array([-392.85276552, -392.84536935, -392.82318109, ..., -392.7862016 ,\n",
            "       -392.82318109, -392.84536935]), array([-392.86803876, -392.8606423 , -392.83845318, ..., -392.80147226,\n",
            "       -392.83845318, -392.8606423 ]), array([-392.88329317, -392.87589642, -392.85370644, ..., -392.81672408,\n",
            "       -392.85370644, -392.87589642]), array([-392.89852877, -392.89113173, -392.8689409 , ..., -392.8319571 ,\n",
            "       -392.8689409 , -392.89113173]), array([-392.91374559, -392.90634826, -392.88415657, ..., -392.84717134,\n",
            "       -392.88415657, -392.90634826]), array([-392.92894364, -392.92154603, -392.89935348, ..., -392.86236682,\n",
            "       -392.89935348, -392.92154603]), array([-392.94412296, -392.93672506, -392.91453165, ..., -392.87754356,\n",
            "       -392.91453165, -392.93672506]), array([-392.95928356, -392.95188537, -392.92969111, ..., -392.89270159,\n",
            "       -392.92969111, -392.95188537]), array([-392.97442546, -392.967027  , -392.94483188, ..., -392.90784094,\n",
            "       -392.94483188, -392.967027  ]), array([-392.9895487 , -392.98214995, -392.95995398, ..., -392.92296161,\n",
            "       -392.95995398, -392.98214995]), array([-393.0046533 , -392.99725426, -392.97505743, ..., -392.93806365,\n",
            "       -392.97505743, -392.99725426]), array([-393.01973927, -393.01233995, -392.99014227, ..., -392.95314706,\n",
            "       -392.99014227, -393.01233995]), array([-393.03480664, -393.02740704, -393.0052085 , ..., -392.96821188,\n",
            "       -393.0052085 , -393.02740704]), array([-393.04985543, -393.04245555, -393.02025616, ..., -392.98325812,\n",
            "       -393.02025616, -393.04245555]), array([-393.06488567, -393.0574855 , -393.03528527, ..., -392.99828582,\n",
            "       -393.03528527, -393.0574855 ]), array([-393.07989738, -393.07249693, -393.05029585, ..., -393.01329498,\n",
            "       -393.05029585, -393.07249693]), array([-393.09489058, -393.08748984, -393.06528792, ..., -393.02828564,\n",
            "       -393.06528792, -393.08748984]), array([-393.10986529, -393.10246428, -393.08026151, ..., -393.04325782,\n",
            "       -393.08026151, -393.10246428]), array([-393.12482154, -393.11742024, -393.09521663, ..., -393.05821153,\n",
            "       -393.09521663, -393.11742024]), array([-393.13975935, -393.13235777, -393.11015332, ..., -393.07314681,\n",
            "       -393.11015332, -393.13235777]), array([-393.15467875, -393.14727689, -393.12507158, ..., -393.08806368,\n",
            "       -393.12507158, -393.14727689]), array([-393.16957974, -393.1621776 , -393.13997146, ..., -393.10296215,\n",
            "       -393.13997146, -393.1621776 ]), array([-393.18446237, -393.17705995, -393.15485297, ..., -393.11784226,\n",
            "       -393.15485297, -393.17705995]), array([-393.19932665, -393.19192395, -393.16971612, ..., -393.13270402,\n",
            "       -393.16971612, -393.19192395]), array([-393.2141726 , -393.20676962, -393.18456096, ..., -393.14754745,\n",
            "       -393.18456096, -393.20676962]), array([-393.22900024, -393.22159698, -393.19938749, ..., -393.16237258,\n",
            "       -393.19938749, -393.22159698]), array([-393.24380961, -393.23640607, -393.21419573, ..., -393.17717944,\n",
            "       -393.21419573, -393.23640607]), array([-393.25860071, -393.2511969 , -393.22898573, ..., -393.19196804,\n",
            "       -393.22898573, -393.2511969 ]), array([-393.27337358, -393.26596949, -393.24375748, ..., -393.2067384 ,\n",
            "       -393.24375748, -393.26596949]), array([-393.28812824, -393.28072386, -393.25851103, ..., -393.22149056,\n",
            "       -393.25851103, -393.28072386]), array([-393.3028647 , -393.29546005, -393.27324638, ..., -393.23622453,\n",
            "       -393.27324638, -393.29546005]), array([-393.31758299, -393.31017807, -393.28796356, ..., -393.25094033,\n",
            "       -393.28796356, -393.31017807]), array([-393.33228314, -393.32487794, -393.3026626 , ..., -393.26563798,\n",
            "       -393.3026626 , -393.32487794]), array([-393.34696516, -393.33955968, -393.31734352, ..., -393.28031752,\n",
            "       -393.31734352, -393.33955968]), array([-393.36162908, -393.35422333, -393.33200634, ..., -393.29497895,\n",
            "       -393.33200634, -393.35422333]), array([-393.37627492, -393.36886889, -393.34665108, ..., -393.30962231,\n",
            "       -393.34665108, -393.36886889]), array([-393.39090271, -393.3834964 , -393.36127776, ..., -393.32424762,\n",
            "       -393.36127776, -393.3834964 ]), array([-393.40551245, -393.39810587, -393.37588641, ..., -393.33885489,\n",
            "       -393.37588641, -393.39810587]), array([-393.42010419, -393.41269733, -393.39047704, ..., -393.35344415,\n",
            "       -393.39047704, -393.41269733]), array([-393.43467793, -393.4272708 , -393.40504969, ..., -393.36801543,\n",
            "       -393.40504969, -393.4272708 ]), array([-393.44923371, -393.44182631, -393.41960437, ..., -393.38256874,\n",
            "       -393.41960437, -393.44182631]), array([-393.46377154, -393.45636386, -393.4341411 , ..., -393.39710411,\n",
            "       -393.4341411 , -393.45636386]), array([-393.47829144, -393.47088349, -393.44865992, ..., -393.41162155,\n",
            "       -393.44865992, -393.47088349]), array([-393.49279345, -393.48538522, -393.46316083, ..., -393.4261211 ,\n",
            "       -393.46316083, -393.48538522]), array([-393.50727757, -393.49986907, -393.47764386, ..., -393.44060277,\n",
            "       -393.47764386, -393.49986907]), array([-393.52174384, -393.51433507, -393.49210904, ..., -393.45506658,\n",
            "       -393.49210904, -393.51433507]), array([-393.53619226, -393.52878322, -393.50655638, ..., -393.46951256,\n",
            "       -393.50655638, -393.52878322]), array([-393.55062288, -393.54321357, -393.5209859 , ..., -393.48394073,\n",
            "       -393.5209859 , -393.54321357]), array([-393.5650357 , -393.55762612, -393.53539764, ..., -393.49835111,\n",
            "       -393.53539764, -393.55762612]), array([-393.57943076, -393.5720209 , -393.54979161, ..., -393.51274373,\n",
            "       -393.54979161, -393.5720209 ]), array([-393.59380806, -393.58639793, -393.56416783, ..., -393.5271186 ,\n",
            "       -393.56416783, -393.58639793]), array([-393.60816764, -393.60075724, -393.57852633, ..., -393.54147574,\n",
            "       -393.57852633, -393.60075724]), array([-393.62250951, -393.61509884, -393.59286712, ..., -393.55581519,\n",
            "       -393.59286712, -393.61509884]), array([-393.6368337 , -393.62942277, -393.60719024, ..., -393.57013695,\n",
            "       -393.60719024, -393.62942277]), array([-393.65114023, -393.64372903, -393.62149569, ..., -393.58444106,\n",
            "       -393.62149569, -393.64372903]), array([-393.66542912, -393.65801765, -393.6357835 , ..., -393.59872753,\n",
            "       -393.6357835 , -393.65801765]), array([-393.6797004 , -393.67228865, -393.6500537 , ..., -393.61299638,\n",
            "       -393.6500537 , -393.67228865]), array([-393.69395407, -393.68654206, -393.66430631, ..., -393.62724764,\n",
            "       -393.66430631, -393.68654206]), array([-393.70819018, -393.7007779 , -393.67854134, ..., -393.64148134,\n",
            "       -393.67854134, -393.7007779 ]), array([-393.72240873, -393.71499618, -393.69275882, ..., -393.65569748,\n",
            "       -393.69275882, -393.71499618]), array([-393.73660975, -393.72919694, -393.70695877, ..., -393.66989609,\n",
            "       -393.70695877, -393.72919694]), array([-393.75079326, -393.74338018, -393.72114122, ..., -393.6840772 ,\n",
            "       -393.72114122, -393.74338018]), array([-393.76495929, -393.75754594, -393.73530617, ..., -393.69824083,\n",
            "       -393.73530617, -393.75754594]), array([-393.77910785, -393.77169423, -393.74945367, ..., -393.71238699,\n",
            "       -393.74945367, -393.77169423]), array([-393.79323896, -393.78582508, -393.76358372, ..., -393.72651571,\n",
            "       -393.76358372, -393.78582508]), array([-393.80735265, -393.79993851, -393.77769635, ..., -393.74062701,\n",
            "       -393.77769635, -393.79993851]), array([-393.82144894, -393.81403453, -393.79179158, ..., -393.75472091,\n",
            "       -393.79179158, -393.81403453]), array([-393.83552785, -393.82811318, -393.80586943, ..., -393.76879744,\n",
            "       -393.80586943, -393.82811318]), array([-393.84958941, -393.84217446, -393.81992992, ..., -393.78285661,\n",
            "       -393.81992992, -393.84217446]), array([-393.86363362, -393.85621842, -393.83397308, ..., -393.79689844,\n",
            "       -393.83397308, -393.85621842]), array([-393.87766052, -393.87024505, -393.84799892, ..., -393.81092297,\n",
            "       -393.84799892, -393.87024505]), array([-393.89167013, -393.88425439, -393.86200747, ..., -393.8249302 ,\n",
            "       -393.86200747, -393.88425439]), array([-393.90566246, -393.89824646, -393.87599875, ..., -393.83892016,\n",
            "       -393.87599875, -393.89824646]), array([-393.91963754, -393.91222128, -393.88997278, ..., -393.85289287,\n",
            "       -393.88997278, -393.91222128]), array([-393.93359539, -393.92617886, -393.90392958, ..., -393.86684836,\n",
            "       -393.90392958, -393.92617886]), array([-393.94753603, -393.94011924, -393.91786917, ..., -393.88078664,\n",
            "       -393.91786917, -393.94011924]), array([-393.96145948, -393.95404243, -393.93179157, ..., -393.89470773,\n",
            "       -393.93179157, -393.95404243]), array([-393.97536577, -393.96794846, -393.94569681, ..., -393.90861166,\n",
            "       -393.94569681, -393.96794846]), array([-393.98925491, -393.98183734, -393.9595849 , ..., -393.92249845,\n",
            "       -393.9595849 , -393.98183734]), array([-394.00312692, -393.99570909, -393.97345587, ..., -393.93636811,\n",
            "       -393.97345587, -393.99570909]), array([-394.01698183, -394.00956374, -393.98730974, ..., -393.95022068,\n",
            "       -393.98730974, -394.00956374]), array([-394.03081966, -394.02340131, -394.00114653, ..., -393.96405616,\n",
            "       -394.00114653, -394.02340131]), array([-394.04464043, -394.03722182, -394.01496626, ..., -393.97787459,\n",
            "       -394.01496626, -394.03722182]), array([-394.05844416, -394.05102529, -394.02876895, ..., -393.99167598,\n",
            "       -394.02876895, -394.05102529]), array([-394.07223087, -394.06481174, -394.04255462, ..., -394.00546036,\n",
            "       -394.04255462, -394.06481174]), array([-394.08600058, -394.07858119, -394.0563233 , ..., -394.01922773,\n",
            "       -394.0563233 , -394.07858119]), array([-394.09975332, -394.09233367, -394.07007499, ..., -394.03297814,\n",
            "       -394.07007499, -394.09233367]), array([-394.1134891 , -394.10606919, -394.08380974, ..., -394.04671159,\n",
            "       -394.08380974, -394.10606919]), array([-394.12720794, -394.11978777, -394.09752755, ..., -394.06042811,\n",
            "       -394.09752755, -394.11978777]), array([-394.14090987, -394.13348944, -394.11122844, ..., -394.07412771,\n",
            "       -394.11122844, -394.13348944]), array([-394.1545949 , -394.14717422, -394.12491245, ..., -394.08781043,\n",
            "       -394.12491245, -394.14717422]), array([-394.16826306, -394.16084212, -394.13857958, ..., -394.10147628,\n",
            "       -394.13857958, -394.16084212]), array([-394.18191437, -394.17449317, -394.15222986, ..., -394.11512527,\n",
            "       -394.15222986, -394.17449317]), array([-394.19554885, -394.1881274 , -394.16586331, ..., -394.12875744,\n",
            "       -394.16586331, -394.1881274 ]), array([-394.20916652, -394.20174481, -394.17947996, ..., -394.1423728 ,\n",
            "       -394.17947996, -394.20174481]), array([-394.22276739, -394.21534543, -394.19307981, ..., -394.15597137,\n",
            "       -394.19307981, -394.21534543]), array([-394.2363515 , -394.22892928, -394.2066629 , ..., -394.16955318,\n",
            "       -394.2066629 , -394.22892928]), array([-394.24991886, -394.24249639, -394.22022923, ..., -394.18311824,\n",
            "       -394.22022923, -394.24249639]), array([-394.2634695 , -394.25604676, -394.23377885, ..., -394.19666658,\n",
            "       -394.23377885, -394.25604676]), array([-394.27700342, -394.26958044, -394.24731175, ..., -394.21019821,\n",
            "       -394.24731175, -394.26958044]), array([-394.29052066, -394.28309742, -394.26082797, ..., -394.22371316,\n",
            "       -394.26082797, -394.28309742]), array([-394.30402123, -394.29659774, -394.27432753, ..., -394.23721145,\n",
            "       -394.27432753, -394.29659774]), array([-394.31750516, -394.31008141, -394.28781044, ..., -394.25069309,\n",
            "       -394.28781044, -394.31008141]), array([-394.33097247, -394.32354846, -394.30127673, ..., -394.26415811,\n",
            "       -394.30127673, -394.32354846]), array([-394.34442316, -394.33699891, -394.31472642, ..., -394.27760653,\n",
            "       -394.31472642, -394.33699891]), array([-394.35785728, -394.35043277, -394.32815952, ..., -394.29103837,\n",
            "       -394.32815952, -394.35043277]), array([-394.37127483, -394.36385007, -394.34157606, ..., -394.30445365,\n",
            "       -394.34157606, -394.36385007]), array([-394.38467584, -394.37725082, -394.35497606, ..., -394.31785239,\n",
            "       -394.35497606, -394.37725082]), array([-394.39806032, -394.39063506, -394.36835954, ..., -394.33123461,\n",
            "       -394.36835954, -394.39063506]), array([-394.41142831, -394.40400279, -394.38172651, ..., -394.34460032,\n",
            "       -394.38172651, -394.40400279]), array([-394.42477981, -394.41735404, -394.39507701, ..., -394.35794956,\n",
            "       -394.39507701, -394.41735404]), array([-394.43811485, -394.43068883, -394.40841105, ..., -394.37128234,\n",
            "       -394.40841105, -394.43068883]), array([-394.45143345, -394.44400717, -394.42172864, ..., -394.38459869,\n",
            "       -394.42172864, -394.44400717]), array([-394.46473562, -394.4573091 , -394.43502982, ..., -394.39789861,\n",
            "       -394.43502982, -394.4573091 ]), array([-394.4780214 , -394.47059463, -394.44831459, ..., -394.41118213,\n",
            "       -394.44831459, -394.47059463]), array([-394.4912908 , -394.48386377, -394.46158299, ..., -394.42444928,\n",
            "       -394.46158299, -394.48386377]), array([-394.50454383, -394.49711656, -394.47483503, ..., -394.43770007,\n",
            "       -394.47483503, -394.49711656]), array([-394.51778053, -394.51035301, -394.48807073, ..., -394.45093453,\n",
            "       -394.48807073, -394.51035301]), array([-394.5310009 , -394.52357313, -394.50129011, ..., -394.46415266,\n",
            "       -394.50129011, -394.52357313]), array([-394.54420498, -394.53677696, -394.51449319, ..., -394.4773545 ,\n",
            "       -394.51449319, -394.53677696]), array([-394.55739277, -394.54996451, -394.52767999, ..., -394.49054006,\n",
            "       -394.52767999, -394.54996451]), array([-394.57056431, -394.5631358 , -394.54085053, ..., -394.50370937,\n",
            "       -394.54085053, -394.5631358 ]), array([-394.58371961, -394.57629084, -394.55400484, ..., -394.51686243,\n",
            "       -394.55400484, -394.57629084]), array([-394.59685868, -394.58942967, -394.56714293, ..., -394.52999928,\n",
            "       -394.56714293, -394.58942967]), array([-394.60998156, -394.6025523 , -394.58026482, ..., -394.54311994,\n",
            "       -394.58026482, -394.6025523 ]), array([-394.62308826, -394.61565875, -394.59337053, ..., -394.55622441,\n",
            "       -394.59337053, -394.61565875]), array([-394.63617879, -394.62874904, -394.60646008, ..., -394.56931273,\n",
            "       -394.60646008, -394.62874904]), array([-394.64925319, -394.6418232 , -394.61953349, ..., -394.58238491,\n",
            "       -394.61953349, -394.6418232 ]), array([-394.66231147, -394.65488123, -394.63259078, ..., -394.59544098,\n",
            "       -394.63259078, -394.65488123]), array([-394.67535364, -394.66792316, -394.64563198, ..., -394.60848095,\n",
            "       -394.64563198, -394.66792316]), array([-394.68837974, -394.68094901, -394.6586571 , ..., -394.62150484,\n",
            "       -394.6586571 , -394.68094901]), array([-394.70138978, -394.6939588 , -394.67166615, ..., -394.63451267,\n",
            "       -394.67166615, -394.6939588 ]), array([-394.71438377, -394.70695255, -394.68465917, ..., -394.64750447,\n",
            "       -394.68465917, -394.70695255]), array([-394.72736175, -394.71993028, -394.69763617, ..., -394.66048024,\n",
            "       -394.69763617, -394.71993028]), array([-394.74032372, -394.73289202, -394.71059717, ..., -394.67344002,\n",
            "       -394.71059717, -394.73289202]), array([-394.75326972, -394.74583776, -394.72354219, ..., -394.68638382,\n",
            "       -394.72354219, -394.74583776]), array([-394.76619975, -394.75876755, -394.73647124, ..., -394.69931166,\n",
            "       -394.73647124, -394.75876755]), array([-394.77911384, -394.7716814 , -394.74938436, ..., -394.71222356,\n",
            "       -394.74938436, -394.7716814 ]), array([-394.792012  , -394.78457932, -394.76228156, ..., -394.72511954,\n",
            "       -394.76228156, -394.78457932]), array([-394.80489427, -394.79746134, -394.77516285, ..., -394.73799963,\n",
            "       -394.77516285, -394.79746134]), array([-394.81776065, -394.81032748, -394.78802826, ..., -394.75086383,\n",
            "       -394.78802826, -394.81032748]), array([-394.83061117, -394.82317776, -394.80087781, ..., -394.76371217,\n",
            "       -394.80087781, -394.82317776]), array([-394.84344584, -394.83601219, -394.81371152, ..., -394.77654467,\n",
            "       -394.81371152, -394.83601219]), array([-394.85626469, -394.8488308 , -394.8265294 , ..., -394.78936135,\n",
            "       -394.8265294 , -394.8488308 ]), array([-394.86906774, -394.8616336 , -394.83933149, ..., -394.80216222,\n",
            "       -394.83933149, -394.8616336 ]), array([-394.881855  , -394.87442062, -394.85211778, ..., -394.81494731,\n",
            "       -394.85211778, -394.87442062]), array([-394.89462649, -394.88719188, -394.86488831, ..., -394.82771664,\n",
            "       -394.86488831, -394.88719188]), array([-394.90738224, -394.89994738, -394.8776431 , ..., -394.84047023,\n",
            "       -394.8776431 , -394.89994738]), array([-394.92012226, -394.91268716, -394.89038216, ..., -394.85320809,\n",
            "       -394.89038216, -394.91268716]), array([-394.93284657, -394.92541123, -394.90310551, ..., -394.86593025,\n",
            "       -394.90310551, -394.92541123]), array([-394.94555519, -394.93811962, -394.91581318, ..., -394.87863672,\n",
            "       -394.91581318, -394.93811962]), array([-394.95824815, -394.95081234, -394.92850518, ..., -394.89132752,\n",
            "       -394.92850518, -394.95081234]), array([-394.97092545, -394.9634894 , -394.94118153, ..., -394.90400268,\n",
            "       -394.94118153, -394.9634894 ]), array([-394.98358713, -394.97615084, -394.95384225, ..., -394.91666221,\n",
            "       -394.95384225, -394.97615084]), array([-394.99623319, -394.98879666, -394.96648736, ..., -394.92930613,\n",
            "       -394.96648736, -394.98879666]), array([-395.00886366, -395.0014269 , -394.97911688, ..., -394.94193446,\n",
            "       -394.97911688, -395.0014269 ]), array([-395.02147856, -395.01404156, -394.99173083, ..., -394.95454722,\n",
            "       -394.99173083, -395.01404156]), array([-395.03407791, -395.02664067, -395.00432923, ..., -394.96714444,\n",
            "       -395.00432923, -395.02664067]), array([-395.04666172, -395.03922424, -395.0169121 , ..., -394.97972612,\n",
            "       -395.0169121 , -395.03922424]), array([-395.05923002, -395.0517923 , -395.02947945, ..., -394.99229228,\n",
            "       -395.02947945, -395.0517923 ]), array([-395.07178282, -395.06434487, -395.0420313 , ..., -395.00484296,\n",
            "       -395.0420313 , -395.06434487]), array([-395.08432014, -395.07688196, -395.05456768, ..., -395.01737816,\n",
            "       -395.05456768, -395.07688196]), array([-395.09684201, -395.08940359, -395.0670886 , ..., -395.0298979 ,\n",
            "       -395.0670886 , -395.08940359]), array([-395.10934843, -395.10190978, -395.07959409, ..., -395.04240221,\n",
            "       -395.07959409, -395.10190978]), array([-395.12183944, -395.11440055, -395.09208416, ..., -395.0548911 ,\n",
            "       -395.09208416, -395.11440055]), array([-395.13431505, -395.12687592, -395.10455882, ..., -395.06736459,\n",
            "       -395.10455882, -395.12687592]), array([-395.14677527, -395.13933591, -395.11701811, ..., -395.07982271,\n",
            "       -395.11701811, -395.13933591]), array([-395.15922014, -395.15178054, -395.12946204, ..., -395.09226546,\n",
            "       -395.12946204, -395.15178054]), array([-395.17164965, -395.16420983, -395.14189062, ..., -395.10469288,\n",
            "       -395.14189062, -395.16420983]), array([-395.18406385, -395.17662379, -395.15430388, ..., -395.11710497,\n",
            "       -395.15430388, -395.17662379]), array([-395.19646274, -395.18902244, -395.16670183, ..., -395.12950175,\n",
            "       -395.16670183, -395.18902244]), array([-395.20884634, -395.20140581, -395.1790845 , ..., -395.14188326,\n",
            "       -395.1790845 , -395.20140581]), array([-395.22121467, -395.21377391, -395.1914519 , ..., -395.15424949,\n",
            "       -395.1914519 , -395.21377391]), array([-395.23356775, -395.22612676, -395.20380406, ..., -395.16660048,\n",
            "       -395.20380406, -395.22612676]), array([-395.24590561, -395.23846438, -395.21614098, ..., -395.17893625,\n",
            "       -395.21614098, -395.23846438]), array([-395.25822825, -395.25078679, -395.22846269, ..., -395.1912568 ,\n",
            "       -395.22846269, -395.25078679]), array([-395.27053569, -395.263094  , -395.24076921, ..., -395.20356216,\n",
            "       -395.24076921, -395.263094  ]), array([-395.28282797, -395.27538605, -395.25306056, ..., -395.21585235,\n",
            "       -395.25306056, -395.27538605]), array([-395.29510509, -395.28766293, -395.26533675, ..., -395.22812739,\n",
            "       -395.26533675, -395.28766293]), array([-395.30736707, -395.29992468, -395.27759781, ..., -395.24038729,\n",
            "       -395.27759781, -395.29992468]), array([-395.31961393, -395.31217131, -395.28984375, ..., -395.25263208,\n",
            "       -395.28984375, -395.31217131]), array([-395.33184569, -395.32440285, -395.30207459, ..., -395.26486177,\n",
            "       -395.30207459, -395.32440285]), array([-395.34406237, -395.3366193 , -395.31429036, ..., -395.27707638,\n",
            "       -395.31429036, -395.3366193 ]), array([-395.35626399, -395.34882069, -395.32649106, ..., -395.28927594,\n",
            "       -395.32649106, -395.34882069]), array([-395.36845057, -395.36100703, -395.33867671, ..., -395.30146045,\n",
            "       -395.33867671, -395.36100703]), array([-395.38062212, -395.37317836, -395.35084735, ..., -395.31362994,\n",
            "       -395.35084735, -395.37317836]), array([-395.39277866, -395.38533467, -395.36300298, ..., -395.32578442,\n",
            "       -395.36300298, -395.38533467]), array([-395.40492022, -395.397476  , -395.37514362, ..., -395.33792392,\n",
            "       -395.37514362, -395.397476  ]), array([-395.4170468 , -395.40960235, -395.38726929, ..., -395.35004845,\n",
            "       -395.38726929, -395.40960235]), array([-395.42915844, -395.42171376, -395.39938001, ..., -395.36215803,\n",
            "       -395.39938001, -395.42171376]), array([-395.44125514, -395.43381023, -395.4114758 , ..., -395.37425268,\n",
            "       -395.4114758 , -395.43381023]), array([-395.45333692, -395.44589179, -395.42355668, ..., -395.38633242,\n",
            "       -395.42355668, -395.44589179]), array([-395.46540381, -395.45795846, -395.43562266, ..., -395.39839727,\n",
            "       -395.43562266, -395.45795846]), array([-395.47745583, -395.47001024, -395.44767376, ..., -395.41044724,\n",
            "       -395.44767376, -395.47001024]), array([-395.48949298, -395.48204717, -395.45971001, ..., -395.42248235,\n",
            "       -395.45971001, -395.48204717]), array([-395.50151529, -395.49406925, -395.47173142, ..., -395.43450263,\n",
            "       -395.47173142, -395.49406925]), array([-395.51352278, -395.50607652, -395.483738  , ..., -395.44650808,\n",
            "       -395.483738  , -395.50607652]), array([-395.52551547, -395.51806898, -395.49572979, ..., -395.45849874,\n",
            "       -395.49572979, -395.51806898]), array([-395.53749336, -395.53004665, -395.50770678, ..., -395.47047461,\n",
            "       -395.50770678, -395.53004665]), array([-395.54945649, -395.54200955, -395.51966901, ..., -395.48243571,\n",
            "       -395.51966901, -395.54200955]), array([-395.56140488, -395.55395771, -395.53161649, ..., -395.49438207,\n",
            "       -395.53161649, -395.55395771]), array([-395.57333852, -395.56589113, -395.54354924, ..., -395.50631369,\n",
            "       -395.54354924, -395.56589113]), array([-395.58525746, -395.57780985, -395.55546728, ..., -395.51823061,\n",
            "       -395.55546728, -395.57780985]), array([-395.5971617 , -395.58971386, -395.56737063, ..., -395.53013283,\n",
            "       -395.56737063, -395.58971386]), array([-395.60905126, -395.6016032 , -395.57925929, ..., -395.54202038,\n",
            "       -395.57925929, -395.6016032 ]), array([-395.62092617, -395.61347788, -395.5911333 , ..., -395.55389327,\n",
            "       -395.5911333 , -395.61347788]), array([-395.63278643, -395.62533792, -395.60299267, ..., -395.56575153,\n",
            "       -395.60299267, -395.62533792]), array([-395.64463207, -395.63718334, -395.61483742, ..., -395.57759516,\n",
            "       -395.61483742, -395.63718334]), array([-395.65646311, -395.64901415, -395.62666756, ..., -395.58942419,\n",
            "       -395.62666756, -395.64901415]), array([-395.66827955, -395.66083038, -395.63848312, ..., -395.60123864,\n",
            "       -395.63848312, -395.66083038]), array([-395.68008143, -395.67263203, -395.65028411, ..., -395.61303852,\n",
            "       -395.65028411, -395.67263203]), array([-395.69186876, -395.68441914, -395.66207055, ..., -395.62482385,\n",
            "       -395.66207055, -395.68441914]), array([-395.70364156, -395.69619171, -395.67384246, ..., -395.63659465,\n",
            "       -395.67384246, -395.69619171]), array([-395.71539984, -395.70794977, -395.68559986, ..., -395.64835094,\n",
            "       -395.68559986, -395.70794977]), array([-395.72714362, -395.71969333, -395.69734276, ..., -395.66009273,\n",
            "       -395.69734276, -395.71969333]), array([-395.73887292, -395.73142241, -395.70907118, ..., -395.67182004,\n",
            "       -395.70907118, -395.73142241]), array([-395.75058776, -395.74313704, -395.72078513, ..., -395.6835329 ,\n",
            "       -395.72078513, -395.74313704]), array([-395.76228816, -395.75483721, -395.73248465, ..., -395.69523132,\n",
            "       -395.73248465, -395.75483721]), array([-395.77397413, -395.76652297, -395.74416974, ..., -395.70691531,\n",
            "       -395.74416974, -395.76652297]), array([-395.7856457 , -395.77819431, -395.75584043, ..., -395.7185849 ,\n",
            "       -395.75584043, -395.77819431]), array([-395.79730287, -395.78985126, -395.76749672, ..., -395.73024009,\n",
            "       -395.76749672, -395.78985126]), array([-395.80894567, -395.80149385, -395.77913865, ..., -395.74188092,\n",
            "       -395.77913865, -395.80149385]), array([-395.82057412, -395.81312207, -395.79076622, ..., -395.7535074 ,\n",
            "       -395.79076622, -395.81312207]), array([-395.83218823, -395.82473596, -395.80237945, ..., -395.76511954,\n",
            "       -395.80237945, -395.82473596]), array([-395.84378802, -395.83633553, -395.81397837, ..., -395.77671736,\n",
            "       -395.81397837, -395.83633553]), array([-395.8553735 , -395.8479208 , -395.82556299, ..., -395.78830089,\n",
            "       -395.82556299, -395.8479208 ]), array([-395.86694471, -395.85949179, -395.83713332, ..., -395.79987013,\n",
            "       -395.83713332, -395.85949179]), array([-395.87850164, -395.87104851, -395.84868938, ..., -395.81142511,\n",
            "       -395.84868938, -395.87104851]), array([-395.89004433, -395.88259098, -395.8602312 , ..., -395.82296584,\n",
            "       -395.8602312 , -395.88259098]), array([-395.90157279, -395.89411922, -395.87175879, ..., -395.83449235,\n",
            "       -395.87175879, -395.89411922]), array([-395.91308703, -395.90563324, -395.88327217, ..., -395.84600464,\n",
            "       -395.88327217, -395.90563324]), array([-395.92458708, -395.91713307, -395.89477135, ..., -395.85750274,\n",
            "       -395.89477135, -395.91713307]), array([-395.93607294, -395.92861872, -395.90625635, ..., -395.86898666,\n",
            "       -395.90625635, -395.92861872]), array([-395.94754465, -395.94009021, -395.91772719, ..., -395.88045642,\n",
            "       -395.91772719, -395.94009021]), array([-395.95900221, -395.95154756, -395.92918389, ..., -395.89191204,\n",
            "       -395.92918389, -395.95154756]), array([-395.97044565, -395.96299078, -395.94062646, ..., -395.90335354,\n",
            "       -395.94062646, -395.96299078]), array([-395.98187497, -395.97441989, -395.95205493, ..., -395.91478093,\n",
            "       -395.95205493, -395.97441989]), array([-395.99329021, -395.98583491, -395.9634693 , ..., -395.92619423,\n",
            "       -395.9634693 , -395.98583491]), array([-396.00469137, -395.99723586, -395.97486961, ..., -395.93759346,\n",
            "       -395.97486961, -395.99723586]), array([-396.01607847, -396.00862275, -395.98625585, ..., -395.94897863,\n",
            "       -395.98625585, -396.00862275]), array([-396.02745153, -396.0199956 , -395.99762806, ..., -395.96034977,\n",
            "       -395.99762806, -396.0199956 ]), array([-396.03881058, -396.03135442, -396.00898625, ..., -395.97170689,\n",
            "       -396.00898625, -396.03135442]), array([-396.05015561, -396.04269925, -396.02033043, ..., -395.98305   ,\n",
            "       -396.02033043, -396.04269925]), array([-396.06148666, -396.05403008, -396.03166062, ..., -395.99437913,\n",
            "       -396.03166062, -396.05403008]), array([-396.07280374, -396.06534695, -396.04297685, ..., -396.00569429,\n",
            "       -396.04297685, -396.06534695]), array([-396.08410686, -396.07664986, -396.05427912, ..., -396.0169955 ,\n",
            "       -396.05427912, -396.07664986]), array([-396.09539605, -396.08793884, -396.06556746, ..., -396.02828278,\n",
            "       -396.06556746, -396.08793884]), array([-396.10667132, -396.09921389, -396.07684188, ..., -396.03955614,\n",
            "       -396.07684188, -396.09921389]), array([-396.11793269, -396.11047505, -396.0881024 , ..., -396.0508156 ,\n",
            "       -396.0881024 , -396.11047505]), array([-396.12918018, -396.12172232, -396.09934904, ..., -396.06206117,\n",
            "       -396.09934904, -396.12172232]), array([-396.14041379, -396.13295573, -396.11058181, ..., -396.07329289,\n",
            "       -396.11058181, -396.13295573]), array([-396.15163356, -396.14417528, -396.12180073, ..., -396.08451075,\n",
            "       -396.12180073, -396.14417528]), array([-396.16283949, -396.155381  , -396.13300582, ..., -396.09571479,\n",
            "       -396.13300582, -396.155381  ]), array([-396.17403161, -396.16657291, -396.14419709, ..., -396.10690501,\n",
            "       -396.14419709, -396.16657291]), array([-396.18520992, -396.17775101, -396.15537457, ..., -396.11808143,\n",
            "       -396.15537457, -396.17775101]), array([-396.19637446, -396.18891534, -396.16653826, ..., -396.12924407,\n",
            "       -396.16653826, -396.18891534]), array([-396.20752523, -396.2000659 , -396.17768819, ..., -396.14039295,\n",
            "       -396.17768819, -396.2000659 ]), array([-396.21866225, -396.21120271, -396.18882438, ..., -396.15152809,\n",
            "       -396.18882438, -396.21120271]), array([-396.22978554, -396.22232579, -396.19994683, ..., -396.16264949,\n",
            "       -396.19994683, -396.22232579]), array([-396.24089512, -396.23343516, -396.21105557, ..., -396.17375719,\n",
            "       -396.21105557, -396.23343516]), array([-396.25199099, -396.24453083, -396.22215061, ..., -396.18485119,\n",
            "       -396.22215061, -396.24453083]), array([-396.26307319, -396.25561282, -396.23323197, ..., -396.19593151,\n",
            "       -396.23323197, -396.25561282]), array([-396.27414173, -396.26668114, -396.24429967, ..., -396.20699817,\n",
            "       -396.24429967, -396.26668114]), array([-396.28519661, -396.27773582, -396.25535373, ..., -396.21805118,\n",
            "       -396.25535373, -396.27773582]), array([-396.29623787, -396.28877687, -396.26639416, ..., -396.22909057,\n",
            "       -396.26639416, -396.28877687]), array([-396.30726551, -396.29980431, -396.27742097, ..., -396.24011634,\n",
            "       -396.27742097, -396.29980431]), array([-396.31827956, -396.31081815, -396.28843419, ..., -396.25112852,\n",
            "       -396.28843419, -396.31081815]), array([-396.32928003, -396.32181841, -396.29943383, ..., -396.26212713,\n",
            "       -396.29943383, -396.32181841]), array([-396.34026693, -396.33280511, -396.31041991, ..., -396.27311217,\n",
            "       -396.31041991, -396.33280511]), array([-396.35124029, -396.34377826, -396.32139244, ..., -396.28408367,\n",
            "       -396.32139244, -396.34377826]), array([-396.36220012, -396.35473788, -396.33235144, ..., -396.29504164,\n",
            "       -396.33235144, -396.35473788]), array([-396.37314644, -396.36568399, -396.34329693, ..., -396.30598611,\n",
            "       -396.34329693, -396.36568399]), array([-396.38407926, -396.37661661, -396.35422893, ..., -396.31691707,\n",
            "       -396.35422893, -396.37661661]), array([-396.3949986 , -396.38753574, -396.36514745, ..., -396.32783457,\n",
            "       -396.36514745, -396.38753574]), array([-396.40590448, -396.39844142, -396.37605251, ..., -396.3387386 ,\n",
            "       -396.37605251, -396.39844142]), array([-396.41679691, -396.40933364, -396.38694412, ..., -396.34962918,\n",
            "       -396.38694412, -396.40933364]), array([-396.42767591, -396.42021244, -396.3978223 , ..., -396.36050634,\n",
            "       -396.3978223 , -396.42021244]), array([-396.4385415 , -396.43107782, -396.40868707, ..., -396.37137009,\n",
            "       -396.40868707, -396.43107782]), array([-396.44939369, -396.44192981, -396.41953845, ..., -396.38222044,\n",
            "       -396.41953845, -396.44192981]), array([-396.46023251, -396.45276842, -396.43037644, ..., -396.39305742,\n",
            "       -396.43037644, -396.45276842]), array([-396.47105795, -396.46359366, -396.44120108, ..., -396.40388103,\n",
            "       -396.44120108, -396.46359366]), array([-396.48187006, -396.47440556, -396.45201236, ..., -396.4146913 ,\n",
            "       -396.45201236, -396.47440556]), array([-396.49266883, -396.48520413, -396.46281032, ..., -396.42548824,\n",
            "       -396.46281032, -396.48520413]), array([-396.50345428, -396.49598938, -396.47359497, ..., -396.43627187,\n",
            "       -396.47359497, -396.49598938]), array([-396.51422644, -396.50676134, -396.48436631, ..., -396.44704221,\n",
            "       -396.48436631, -396.50676134]), array([-396.52498532, -396.51752001, -396.49512438, ..., -396.45779926,\n",
            "       -396.49512438, -396.51752001]), array([-396.53573093, -396.52826542, -396.50586918, ..., -396.46854305,\n",
            "       -396.50586918, -396.52826542]), array([-396.54646329, -396.53899759, -396.51660074, ..., -396.4792736 ,\n",
            "       -396.51660074, -396.53899759]), array([-396.55718243, -396.54971651, -396.52731906, ..., -396.48999091,\n",
            "       -396.52731906, -396.54971651]), array([-396.56788834, -396.56042223, -396.53802417, ..., -396.50069501,\n",
            "       -396.53802417, -396.56042223]), array([-396.57858106, -396.57111474, -396.54871608, ..., -396.51138592,\n",
            "       -396.54871608, -396.57111474]), array([-396.58926059, -396.58179407, -396.55939481, ..., -396.52206364,\n",
            "       -396.55939481, -396.58179407]), array([-396.59992695, -396.59246024, -396.57006037, ..., -396.5327282 ,\n",
            "       -396.57006037, -396.59246024]), array([-396.61058017, -396.60311325, -396.58071278, ..., -396.54337961,\n",
            "       -396.58071278, -396.60311325]), array([-396.62122024, -396.61375313, -396.59135206, ..., -396.55401788,\n",
            "       -396.59135206, -396.61375313]), array([-396.63184721, -396.62437989, -396.60197822, ..., -396.56464304,\n",
            "       -396.60197822, -396.62437989]), array([-396.64246106, -396.63499355, -396.61259128, ..., -396.5752551 ,\n",
            "       -396.61259128, -396.63499355]), array([-396.65306183, -396.64559412, -396.62319125, ..., -396.58585408,\n",
            "       -396.62319125, -396.64559412]), array([-396.66364954, -396.65618162, -396.63377816, ..., -396.59643999,\n",
            "       -396.63377816, -396.65618162]), array([-396.67422418, -396.66675607, -396.64435201, ..., -396.60701284,\n",
            "       -396.64435201, -396.66675607]), array([-396.68478579, -396.67731748, -396.65491282, ..., -396.61757266,\n",
            "       -396.65491282, -396.67731748]), array([-396.69533438, -396.68786587, -396.66546062, ..., -396.62811946,\n",
            "       -396.66546062, -396.68786587]), array([-396.70586996, -396.69840125, -396.6759954 , ..., -396.63865326,\n",
            "       -396.6759954 , -396.69840125]), array([-396.71639256, -396.70892365, -396.6865172 , ..., -396.64917407,\n",
            "       -396.6865172 , -396.70892365]), array([-396.72690217, -396.71943307, -396.69702603, ..., -396.65968191,\n",
            "       -396.69702603, -396.71943307]), array([-396.73739883, -396.72992953, -396.7075219 , ..., -396.67017679,\n",
            "       -396.7075219 , -396.72992953]), array([-396.74788255, -396.74041305, -396.71800483, ..., -396.68065873,\n",
            "       -396.71800483, -396.74041305]), array([-396.75835335, -396.75088365, -396.72847484, ..., -396.69112775,\n",
            "       -396.72847484, -396.75088365]), array([-396.76881123, -396.76134134, -396.73893193, ..., -396.70158386,\n",
            "       -396.73893193, -396.76134134]), array([-396.77925622, -396.77178613, -396.74937613, ..., -396.71202708,\n",
            "       -396.74937613, -396.77178613]), array([-396.78968833, -396.78221804, -396.75980746, ..., -396.72245743,\n",
            "       -396.75980746, -396.78221804]), array([-396.80010758, -396.7926371 , -396.77022593, ..., -396.73287491,\n",
            "       -396.77022593, -396.7926371 ]), array([-396.81051398, -396.8030433 , -396.78063154, ..., -396.74327955,\n",
            "       -396.78063154, -396.8030433 ]), array([-396.82090756, -396.81343668, -396.79102433, ..., -396.75367136,\n",
            "       -396.79102433, -396.81343668]), array([-396.83128831, -396.82381724, -396.80140431, ..., -396.76405036,\n",
            "       -396.80140431, -396.82381724]), array([-396.84165627, -396.83418501, -396.81177149, ..., -396.77441656,\n",
            "       -396.81177149, -396.83418501]), array([-396.85201145, -396.84453999, -396.82212589, ..., -396.78476999,\n",
            "       -396.82212589, -396.84453999]), array([-396.86235386, -396.8548822 , -396.83246751, ..., -396.79511064,\n",
            "       -396.83246751, -396.8548822 ]), array([-396.87268351, -396.86521166, -396.84279639, ..., -396.80543855,\n",
            "       -396.84279639, -396.86521166]), array([-396.88300044, -396.87552839, -396.85311254, ..., -396.81575372,\n",
            "       -396.85311254, -396.87552839]), array([-396.89330464, -396.8858324 , -396.86341596, ..., -396.82605618,\n",
            "       -396.86341596, -396.8858324 ]), array([-396.90359613, -396.8961237 , -396.87370669, ..., -396.83634593,\n",
            "       -396.87370669, -396.8961237 ]), array([-396.91387494, -396.90640231, -396.88398472, ..., -396.846623  ,\n",
            "       -396.88398472, -396.90640231]), array([-396.92414107, -396.91666826, -396.89425008, ..., -396.85688739,\n",
            "       -396.89425008, -396.91666826]), array([-396.93439455, -396.92692154, -396.90450279, ..., -396.86713913,\n",
            "       -396.90450279, -396.92692154]), array([-396.94463539, -396.93716218, -396.91474285, ..., -396.87737823,\n",
            "       -396.91474285, -396.93716218]), array([-396.9548636 , -396.9473902 , -396.92497029, ..., -396.88760471,\n",
            "       -396.92497029, -396.9473902 ]), array([-396.96507919, -396.9576056 , -396.93518512, ..., -396.89781858,\n",
            "       -396.93518512, -396.9576056 ]), array([-396.9752822 , -396.96780842, -396.94538735, ..., -396.90801985,\n",
            "       -396.94538735, -396.96780842]), array([-396.98547262, -396.97799865, -396.95557701, ..., -396.91820855,\n",
            "       -396.95557701, -396.97799865]), array([-396.99565048, -396.98817631, -396.9657541 , ..., -396.92838468,\n",
            "       -396.9657541 , -396.98817631]), array([-397.00581579, -396.99834143, -396.97591864, ..., -396.93854827,\n",
            "       -396.97591864, -396.99834143]), array([-397.01596857, -397.00849402, -396.98607066, ..., -396.94869933,\n",
            "       -396.98607066, -397.00849402]), array([-397.02610883, -397.01863409, -396.99621015, ..., -396.95883787,\n",
            "       -396.99621015, -397.01863409]), array([-397.03623658, -397.02876165, -397.00633715, ..., -396.96896391,\n",
            "       -397.00633715, -397.02876165]), array([-397.04635185, -397.03887673, -397.01645166, ..., -396.97907747,\n",
            "       -397.01645166, -397.03887673]), array([-397.05645465, -397.04897934, -397.02655369, ..., -396.98917855,\n",
            "       -397.02655369, -397.04897934]), array([-397.06654499, -397.05906949, -397.03664328, ..., -396.99926719,\n",
            "       -397.03664328, -397.05906949]), array([-397.07662289, -397.06914721, -397.04672042, ..., -397.00934338,\n",
            "       -397.04672042, -397.06914721]), array([-397.08668837, -397.07921249, -397.05678514, ..., -397.01940715,\n",
            "       -397.05678514, -397.07921249]), array([-397.09674144, -397.08926537, -397.06683745, ..., -397.02945851,\n",
            "       -397.06683745, -397.08926537]), array([-397.10678211, -397.09930585, -397.07687736, ..., -397.03949748,\n",
            "       -397.07687736, -397.09930585]), array([-397.1168104 , -397.10933395, -397.0869049 , ..., -397.04952408,\n",
            "       -397.0869049 , -397.10933395]), array([-397.12682633, -397.11934969, -397.09692007, ..., -397.05953831,\n",
            "       -397.09692007, -397.11934969]), array([-397.13682991, -397.12935308, -397.1069229 , ..., -397.06954019,\n",
            "       -397.1069229 , -397.12935308]), array([-397.14682115, -397.13934414, -397.11691339, ..., -397.07952974,\n",
            "       -397.11691339, -397.13934414])]\n"
          ]
        },
        {
          "output_type": "display_data",
          "data": {
            "text/plain": [
              "<Figure size 600x400 with 1 Axes>"
            ],
            "image/png": "[encoded data removed]"
          },
          "metadata": {}
        }
      ],
      "source": [
        "# Load the required packages (these were loaded above and are inluded here for completeness)\n",
        "import numpy as np\n",
        "import matplotlib.pyplot as plt\n",
        "import dedalus.public as dedalus\n",
        "import logging\n",
        "logger = logging.getLogger(__name__)\n",
        "\n",
        "# This script solves the forced diffusion equation with Dedlaus\n",
        "\n",
        "# Set some parameters for the problem to be solved\n",
        "Nx = 1024 # The number of gridpoints. Note that Fourier transforms are more efficient if this is a power of 2\n",
        "Lx = 2; # The domain size in x.  This should be large enough so that the solution goes to zero at the endpoints.\n",
        "x_start=-Lx; x_end=Lx # The starting and ending bounds on x\n",
        "kappa = 0.001 # set the diffusivity\n",
        "\n",
        "# Create an x-coordinate, a corresponding basis, and a distributor\n",
        "xcoord = dedalus.Coordinate('x')\n",
        "dist = dedalus.Distributor(xcoord, dtype=np.float64) # No mesh for serial / automatic parallelization\n",
        "x_basis = dedalus.RealFourier(xcoord, size=Nx, bounds=(x_start, x_end))\n",
        "x = dist.local_grid(x_basis)\n",
        "\n",
        "# Set initial conditions\n",
        "c = dist.Field(name='c', bases=x_basis)\n",
        "w = 0.1 # Set the width of the initial Gaussian\n",
        "c.change_scales(1) # Set values on regular grid\n",
        "c['g'] = np.exp(-x**2/w**2)  # Initialize the dependent variable c with a Gaussian function (note ** is the exponentiation operator)\n",
        "\n",
        "# Operators\n",
        "dx = lambda a: dedalus.Differentiate(a, xcoord) # Define the derivative (d/dx) operator\n",
        "\n",
        "# Create an operator that applies a function to the variable on a grid\n",
        "f_x = dist.Field(bases=x_basis)\n",
        "f_x['g'] = np.cos(np.pi * x / Lx)\n",
        "\n",
        "# Specify the problem\n",
        "problem = dedalus.IVP([c], namespace=locals()) # Initial value problem, including all local variables\n",
        "problem.add_equation(\"dt(c) - kappa * dx(dx(c)) = f_x\"); # Write out the equation to be solved\n",
        "\n",
        "timestepper = dedalus.CNAB1\n",
        "solver = problem.build_solver(timestepper)\n",
        "\n",
        "solver.stop_sim_time = 4000 # Stop at 10 simulation time units\n",
        "\n",
        "# Main loop\n",
        "timestep = 0.5\n",
        "c.change_scales(1)\n",
        "tolerance = 1e-2  # Steady-state tolerance\n",
        "c.change_scales(1)\n",
        "c_save = [np.copy(c['g'])]\n",
        "t_save = [solver.sim_time]\n",
        "\n",
        "while solver.proceed:\n",
        "    solver.step(timestep)\n",
        "    if solver.iteration % 500 == 0:  # Print progress\n",
        "        logger.info('Iteration=%i, Time=%e, dt=%e' % (solver.iteration, solver.sim_time, timestep))\n",
        "\n",
        "    c.change_scales(1)\n",
        "    c_save.append(np.copy(c['g']))\n",
        "    t_save.append(solver.sim_time)\n",
        "\n",
        "    # Check for steady state\n",
        "    if len(c_save) > 1:\n",
        "        diff = np.max(np.abs(c_save[-1] - c_save[-2]))\n",
        "        if diff < tolerance:\n",
        "            logger.info(f'Steady-state reached at time {solver.sim_time}')\n",
        "            break\n",
        "print(c_save)\n",
        "# Plot\n",
        "plt.figure(figsize=(6, 4))\n",
        "plt.pcolormesh(x.ravel(), np.array(t_save), np.array(c_save), cmap='RdBu_r', shading='gouraud', rasterized=True)#, clim=(-1, 1))\n",
        "plt.xlim(x_start, x_end)\n",
        "plt.ylim(0, solver.stop_sim_time)\n",
        "plt.xlabel('x')\n",
        "plt.ylabel('t')\n",
        "plt.title('Forced diffusion equation')\n",
        "plt.tight_layout()"
      ]
    },
    {
      "cell_type": "markdown",
      "metadata": {
        "id": "_BK0F3OGcfs2"
      },
      "source": [
        "## 5. Student investigation\n",
        "<a id='student_investigation'></a>"
      ]
    },
    {
      "cell_type": "markdown",
      "metadata": {
        "id": "UYbNToKccfs3"
      },
      "source": [
        "### 5.1 Steady-state solution to the forced diffusion equation"
      ]
    },
    {
      "cell_type": "markdown",
      "metadata": {
        "id": "HpBb6Ns0cfs3"
      },
      "source": [
        "For the forced diffusion equation described in section 4, using dimensional analysis, estimate the time needed to reach a steady-state solution. Test this scaling, and discuss your results below. Run the code above for a sufficient time to achieve a steady-state solution. Plot $c$ at the end of this simulation, and compare it with the exact steady-state solution to the forced diffusion equation."
      ]
    },
    {
      "cell_type": "markdown",
      "metadata": {
        "id": "u0O-zzQ5cfs3"
      },
      "source": [
        "Students should comment on the timescale needed to transition from the initial condition to the forced solution, and comment on the diffusive and forcing timescales."
      ]
    },
    {
      "cell_type": "markdown",
      "source": [
        "The forced diffusion equation is:\n",
        "\n",
        "$$\\partial_t c - \\kappa \\partial_x^2 c = cos(\\pi x / Lx)$$\n",
        "\n",
        "**1. Dimensional analysis for the time and test**\n",
        "\n",
        "Scaling analysis: Let\n",
        "$$\n",
        "c = c^* \\times C, \\quad\n",
        "t = t^* \\times T, \\quad\n",
        "\\kappa = \\kappa^* \\times K, \\quad\n",
        "x = x^* \\times L,\n",
        "$$\n",
        "\n",
        "where $c^*$, $t^*$, $\\kappa^*$, and $x^*$ are dimensionless numbers and $C$, $T$, $K$, and $L$ are characteristic scales.\n",
        "Substituting those into the forced diffusion equation, we have\n",
        "\n",
        "$$\n",
        "\\frac{C}{T} \\sim K \\times \\frac{C}{L^2}.\n",
        "$$\n",
        "Thus,\n",
        "$$\n",
        "T \\sim \\frac{L^2}{K}.\n",
        "$$\n",
        "\n",
        "\n",
        "Estimate the time needed to reach a steady-state solution:$$\\tau \\sim \\frac{L_x^2}{\\kappa},$$ with $L_x= 2$ and $\\kappa=0.001$, then the estimate time to achieve steady state is $t \\approx 4000$.\n",
        "\n",
        "In the Dedalus code above, I used a concentration tolerance of $10^{-6}$ to find the steady-state time. From multiple tests with different timesteps, I found that the steady-state time is approximately within the range of $[1500,2500]$. This difference between simulation and prediction might be because the timestep cannot be set too small (as the code running cannot support excessively small timesteps), leading to less accurate solutions. It could also be due to the chosen tolerance. However, the results at t = 4000 have already reached the steady state. Furthermore, I plot the concentration time-series at x=0 below, which indicates a steady state at $t=4000$.\n",
        "\n",
        "**2. Solution for the steady-state solution**\n",
        "\n",
        "For steady state solution, $\\partial_t c = 0$, which gives:\n",
        "\n",
        "$\n",
        "-\\kappa \\frac{\\partial^2 c_s}{\\partial x^2} = \\cos\\left(\\frac{\\pi x}{L_x}\\right),\n",
        "$\n",
        "\n",
        "Integrate the equation:\n",
        "\n",
        "$$\n",
        "-\\kappa \\frac{\\partial c_s}{\\partial x} = \\int \\cos\\left(\\frac{\\pi x}{L_x}\\right) dx = \\frac{L_x}{\\pi} \\sin\\left(\\frac{\\pi x}{L_x}\\right) + C_1,\n",
        "$$\n",
        "\n",
        "Integrate again:\n",
        "\n",
        "\n",
        "$$\n",
        "c_s(x) = \\int \\left(-\\frac{1}{\\kappa} \\cdot \\frac{L_x}{\\pi} \\sin\\left(\\frac{\\pi x}{L_x}\\right) + C_1\\right) dx\n",
        "= \\frac{1}{\\kappa} \\cdot \\frac{L_x^2}{\\pi^2} \\cos\\left(\\frac{\\pi x}{L_x}\\right) + C_1 x + C_2,\n",
        "$$\n",
        "\n",
        "where $C_1$ and $C_2$ are constants.\n",
        "\n",
        "By boundary conditions: $$c_s(-L_x) = c_s(L_x)$$ $$\\frac{\\partial c_s}{\\partial x}(-L_x) = \\frac{\\partial c_s}{\\partial x}(L_x),$$\n",
        "\n",
        "we have $C_1 = 0$.\n",
        "\n",
        "Finally, the average constraint $\\int_{-L_x}^{L_x} c_s(x) dx = 0$ implies:\n",
        "\n",
        "$$\n",
        "\\int_{-L_x}^{L_x} c_s(x) dx = \\int_{-L_x}^{L_x} \\frac{1}{\\kappa} \\cdot \\frac{L_x^2}{\\pi^2} \\cos\\left(\\frac{\\pi x}{L_x}\\right) dx + \\int_{-L_x}^{L_x} C_2 dx=0.\n",
        "$$\n",
        "\n",
        "The first term integrates to zero due to the symmetry of $\\cos(\\pi x / L_x)$ over $[-L_x, L_x]$. Therefore, $C_2 = 0$.\n",
        "\n",
        "Thus, the final steady-state solution is:\n",
        "\n",
        "$$\n",
        "c_s(x) = \\frac{L_x^2}{\\kappa \\pi^2} \\cos\\left(\\frac{\\pi x}{L_x}\\right).\n",
        "$$\n",
        "\n",
        "\n",
        "\n",
        "\n",
        "**4. Diffusive and forcing timescales**\n",
        "\n",
        "Initially, diffusion dominates as it works to smooth out the sharp gradients in the initial condition.Over time, the forcing term gradually establishes a periodic steady-state solution. As for the timescale, the forcing term alters the spatial distribution of the steady state and drives the system toward a periodic steady-state response, but since the forcing term is time-independent and its range is fixed within the interval [-1, 1], its direct impact on the timescale is minimal. Therefore, the system primarily balances the initial condition and the forcing term through diffusion, and $t_{steady}\\sim t_{diffusion}.$\n",
        "\n",
        "\n",
        "\n"
      ],
      "metadata": {
        "id": "0Jvxwm9DC36d"
      }
    },
    {
      "cell_type": "code",
      "source": [
        "#@title #Plot\n",
        "# Set some parameters for the problem to be solved\n",
        "Nx = 1024 # The number of gridpoints. Note that Fourier transforms are more efficient if this is a power of 2\n",
        "Lx = 2; # The domain size in x.  This should be large enough so that the solution goes to zero at the endpoints.\n",
        "x_start=-Lx; x_end=Lx # The starting and ending bounds on x\n",
        "kappa = 0.001 # set the diffusivity\n",
        "\n",
        "# Create an x-coordinate, a corresponding basis, and a distributor\n",
        "xcoord = dedalus.Coordinate('x')\n",
        "dist = dedalus.Distributor(xcoord, dtype=np.float64) # No mesh for serial / automatic parallelization\n",
        "x_basis = dedalus.RealFourier(xcoord, size=Nx, bounds=(x_start, x_end))\n",
        "x = dist.local_grid(x_basis)\n",
        "\n",
        "# Set initial conditions\n",
        "c = dist.Field(name='c', bases=x_basis)\n",
        "w = 0.1 # Set the width of the initial Gaussian\n",
        "c.change_scales(1) # Set values on regular grid\n",
        "c['g'] = np.exp(-x**2/w**2)  # Initialize the dependent variable c with a Gaussian function (note ** is the exponentiation operator)\n",
        "\n",
        "# Operators\n",
        "dx = lambda a: dedalus.Differentiate(a, xcoord) # Define the derivative (d/dx) operator\n",
        "\n",
        "# Create an operator that applies a function to the variable on a grid\n",
        "f_x = dist.Field(bases=x_basis)\n",
        "f_x['g'] = np.cos(np.pi * x / Lx)\n",
        "\n",
        "# Specify the problem\n",
        "problem = dedalus.IVP([c], namespace=locals()) # Initial value problem, including all local variables\n",
        "problem.add_equation(\"dt(c) - kappa * dx(dx(c)) = f_x\"); # Write out the equation to be solved\n",
        "\n",
        "timestepper = dedalus.CNAB1\n",
        "solver = problem.build_solver(timestepper)\n",
        "\n",
        "solver.stop_sim_time = 4000 # Stop at 10 simulation time units\n",
        "\n",
        "# Main loop\n",
        "timestep = 0.1\n",
        "c.change_scales(1)\n",
        "c_save = [np.copy(c['g'])]; t_save = [solver.sim_time]; # Save the initial condition and the initial time\n",
        "while solver.proceed:\n",
        "    solver.step(timestep)\n",
        "    if solver.iteration % 500 == 0: # Every 500 timesteps, print a message to the screen with the progress\n",
        "        logger.info('Iteration=%i, Time=%e, dt=%e' %(solver.iteration, solver.sim_time, timestep))\n",
        "    c.change_scales(1)\n",
        "    c_save.append(np.copy(c['g']))\n",
        "    t_save.append(solver.sim_time)\n",
        "\n",
        "c_at_x0_snapshot = [c_snapshot[0] for c_snapshot in c_save]\n",
        "c_at_x0 = np.abs(c_at_x0_snapshot)\n",
        "# Extract the last time step solution (t = 4000)\n",
        "c_at_t_final = c_save[-1]  # The last snapshot of c corresponds to t = 4000\n",
        "\n",
        "# Create a figure with two subplots side by side\n",
        "fig, axes = plt.subplots(1, 2, figsize=(12, 4))  # 1 row, 2 columns\n",
        "\n",
        "# Solution\n",
        "c_s = (Lx**2) / (kappa * np.pi**2) * np.cos(np.pi * x / Lx)\n",
        "\n",
        "# Plot 1: c(x=0, t) vs t\n",
        "axes[0].plot(t_save, c_at_x0, label=\"Numerical Solution at x=0\")\n",
        "axes[0].set_xlabel(\"t\")\n",
        "axes[0].set_ylabel(\"c(x=0, t)\")\n",
        "axes[0].set_title(\"Time Evolution at x=0\")\n",
        "axes[0].grid(True)\n",
        "axes[0].legend()\n",
        "\n",
        "# Plot 2: c(x, t=4000) vs x\n",
        "axes[1].plot(x, c_at_t_final, label=\"Numerical Solution at t=4000\")\n",
        "axes[1].plot(x, c_s, label=\"Analytical Steady-State Solution\", linestyle='--', color='red')  # Analytical solution\n",
        "axes[1].set_xlabel(\"x\")\n",
        "axes[1].set_xlabel(\"x\")\n",
        "axes[1].set_ylabel(\"c(x, t=4000)\")\n",
        "axes[1].set_title(\"Spatial Distribution at t=4000\")\n",
        "axes[1].grid(True)\n",
        "axes[1].legend()\n",
        "\n",
        "# Adjust layout and show the figure\n",
        "plt.tight_layout()\n",
        "plt.show()\n"
      ],
      "metadata": {
        "colab": {
          "base_uri": "https://localhost:8080/",
          "height": 1000
        },
        "id": "NzV2NXrJjdji",
        "outputId": "6ab229e2-65ea-4803-ce45-16fbf6c72526"
      },
      "execution_count": 9,
      "outputs": [
        {
          "output_type": "stream",
          "name": "stderr",
          "text": [
            "INFO:subsystems:Building subproblem matrices 1/1 (~100%) Elapsed: 0s, Remaining: 0s, Rate: 1.3e+01/s\n"
          ]
        },
        {
          "output_type": "stream",
          "name": "stdout",
          "text": [
            "2024-12-28 00:16:04,323 subsystems 0/1 INFO :: Building subproblem matrices 1/1 (~100%) Elapsed: 0s, Remaining: 0s, Rate: 1.3e+01/s\n"
          ]
        },
        {
          "output_type": "stream",
          "name": "stderr",
          "text": [
            "INFO:__main__:Iteration=500, Time=5.000000e+01, dt=1.000000e-01\n"
          ]
        },
        {
          "output_type": "stream",
          "name": "stdout",
          "text": [
            "2024-12-28 00:16:04,836 __main__ 0/1 INFO :: Iteration=500, Time=5.000000e+01, dt=1.000000e-01\n"
          ]
        },
        {
          "output_type": "stream",
          "name": "stderr",
          "text": [
            "INFO:__main__:Iteration=1000, Time=1.000000e+02, dt=1.000000e-01\n"
          ]
        },
        {
          "output_type": "stream",
          "name": "stdout",
          "text": [
            "2024-12-28 00:16:05,024 __main__ 0/1 INFO :: Iteration=1000, Time=1.000000e+02, dt=1.000000e-01\n"
          ]
        },
        {
          "output_type": "stream",
          "name": "stderr",
          "text": [
            "INFO:__main__:Iteration=1500, Time=1.500000e+02, dt=1.000000e-01\n"
          ]
        },
        {
          "output_type": "stream",
          "name": "stdout",
          "text": [
            "2024-12-28 00:16:05,198 __main__ 0/1 INFO :: Iteration=1500, Time=1.500000e+02, dt=1.000000e-01\n"
          ]
        },
        {
          "output_type": "stream",
          "name": "stderr",
          "text": [
            "INFO:__main__:Iteration=2000, Time=2.000000e+02, dt=1.000000e-01\n"
          ]
        },
        {
          "output_type": "stream",
          "name": "stdout",
          "text": [
            "2024-12-28 00:16:05,424 __main__ 0/1 INFO :: Iteration=2000, Time=2.000000e+02, dt=1.000000e-01\n"
          ]
        },
        {
          "output_type": "stream",
          "name": "stderr",
          "text": [
            "INFO:__main__:Iteration=2500, Time=2.500000e+02, dt=1.000000e-01\n"
          ]
        },
        {
          "output_type": "stream",
          "name": "stdout",
          "text": [
            "2024-12-28 00:16:05,598 __main__ 0/1 INFO :: Iteration=2500, Time=2.500000e+02, dt=1.000000e-01\n"
          ]
        },
        {
          "output_type": "stream",
          "name": "stderr",
          "text": [
            "INFO:__main__:Iteration=3000, Time=3.000000e+02, dt=1.000000e-01\n"
          ]
        },
        {
          "output_type": "stream",
          "name": "stdout",
          "text": [
            "2024-12-28 00:16:05,806 __main__ 0/1 INFO :: Iteration=3000, Time=3.000000e+02, dt=1.000000e-01\n"
          ]
        },
        {
          "output_type": "stream",
          "name": "stderr",
          "text": [
            "INFO:__main__:Iteration=3500, Time=3.500000e+02, dt=1.000000e-01\n"
          ]
        },
        {
          "output_type": "stream",
          "name": "stdout",
          "text": [
            "2024-12-28 00:16:05,990 __main__ 0/1 INFO :: Iteration=3500, Time=3.500000e+02, dt=1.000000e-01\n"
          ]
        },
        {
          "output_type": "stream",
          "name": "stderr",
          "text": [
            "INFO:__main__:Iteration=4000, Time=4.000000e+02, dt=1.000000e-01\n"
          ]
        },
        {
          "output_type": "stream",
          "name": "stdout",
          "text": [
            "2024-12-28 00:16:06,169 __main__ 0/1 INFO :: Iteration=4000, Time=4.000000e+02, dt=1.000000e-01\n"
          ]
        },
        {
          "output_type": "stream",
          "name": "stderr",
          "text": [
            "INFO:__main__:Iteration=4500, Time=4.500000e+02, dt=1.000000e-01\n"
          ]
        },
        {
          "output_type": "stream",
          "name": "stdout",
          "text": [
            "2024-12-28 00:16:06,369 __main__ 0/1 INFO :: Iteration=4500, Time=4.500000e+02, dt=1.000000e-01\n"
          ]
        },
        {
          "output_type": "stream",
          "name": "stderr",
          "text": [
            "INFO:__main__:Iteration=5000, Time=5.000000e+02, dt=1.000000e-01\n"
          ]
        },
        {
          "output_type": "stream",
          "name": "stdout",
          "text": [
            "2024-12-28 00:16:06,560 __main__ 0/1 INFO :: Iteration=5000, Time=5.000000e+02, dt=1.000000e-01\n"
          ]
        },
        {
          "output_type": "stream",
          "name": "stderr",
          "text": [
            "INFO:__main__:Iteration=5500, Time=5.500000e+02, dt=1.000000e-01\n"
          ]
        },
        {
          "output_type": "stream",
          "name": "stdout",
          "text": [
            "2024-12-28 00:16:06,772 __main__ 0/1 INFO :: Iteration=5500, Time=5.500000e+02, dt=1.000000e-01\n"
          ]
        },
        {
          "output_type": "stream",
          "name": "stderr",
          "text": [
            "INFO:__main__:Iteration=6000, Time=6.000000e+02, dt=1.000000e-01\n"
          ]
        },
        {
          "output_type": "stream",
          "name": "stdout",
          "text": [
            "2024-12-28 00:16:06,951 __main__ 0/1 INFO :: Iteration=6000, Time=6.000000e+02, dt=1.000000e-01\n"
          ]
        },
        {
          "output_type": "stream",
          "name": "stderr",
          "text": [
            "INFO:__main__:Iteration=6500, Time=6.500000e+02, dt=1.000000e-01\n"
          ]
        },
        {
          "output_type": "stream",
          "name": "stdout",
          "text": [
            "2024-12-28 00:16:07,136 __main__ 0/1 INFO :: Iteration=6500, Time=6.500000e+02, dt=1.000000e-01\n"
          ]
        },
        {
          "output_type": "stream",
          "name": "stderr",
          "text": [
            "INFO:__main__:Iteration=7000, Time=7.000000e+02, dt=1.000000e-01\n"
          ]
        },
        {
          "output_type": "stream",
          "name": "stdout",
          "text": [
            "2024-12-28 00:16:07,337 __main__ 0/1 INFO :: Iteration=7000, Time=7.000000e+02, dt=1.000000e-01\n"
          ]
        },
        {
          "output_type": "stream",
          "name": "stderr",
          "text": [
            "INFO:__main__:Iteration=7500, Time=7.500000e+02, dt=1.000000e-01\n"
          ]
        },
        {
          "output_type": "stream",
          "name": "stdout",
          "text": [
            "2024-12-28 00:16:07,521 __main__ 0/1 INFO :: Iteration=7500, Time=7.500000e+02, dt=1.000000e-01\n"
          ]
        },
        {
          "output_type": "stream",
          "name": "stderr",
          "text": [
            "INFO:__main__:Iteration=8000, Time=8.000000e+02, dt=1.000000e-01\n"
          ]
        },
        {
          "output_type": "stream",
          "name": "stdout",
          "text": [
            "2024-12-28 00:16:07,697 __main__ 0/1 INFO :: Iteration=8000, Time=8.000000e+02, dt=1.000000e-01\n"
          ]
        },
        {
          "output_type": "stream",
          "name": "stderr",
          "text": [
            "INFO:__main__:Iteration=8500, Time=8.500000e+02, dt=1.000000e-01\n"
          ]
        },
        {
          "output_type": "stream",
          "name": "stdout",
          "text": [
            "2024-12-28 00:16:07,881 __main__ 0/1 INFO :: Iteration=8500, Time=8.500000e+02, dt=1.000000e-01\n"
          ]
        },
        {
          "output_type": "stream",
          "name": "stderr",
          "text": [
            "INFO:__main__:Iteration=9000, Time=9.000000e+02, dt=1.000000e-01\n"
          ]
        },
        {
          "output_type": "stream",
          "name": "stdout",
          "text": [
            "2024-12-28 00:16:08,059 __main__ 0/1 INFO :: Iteration=9000, Time=9.000000e+02, dt=1.000000e-01\n"
          ]
        },
        {
          "output_type": "stream",
          "name": "stderr",
          "text": [
            "INFO:__main__:Iteration=9500, Time=9.500000e+02, dt=1.000000e-01\n"
          ]
        },
        {
          "output_type": "stream",
          "name": "stdout",
          "text": [
            "2024-12-28 00:16:08,231 __main__ 0/1 INFO :: Iteration=9500, Time=9.500000e+02, dt=1.000000e-01\n"
          ]
        },
        {
          "output_type": "stream",
          "name": "stderr",
          "text": [
            "INFO:__main__:Iteration=10000, Time=1.000000e+03, dt=1.000000e-01\n"
          ]
        },
        {
          "output_type": "stream",
          "name": "stdout",
          "text": [
            "2024-12-28 00:16:08,417 __main__ 0/1 INFO :: Iteration=10000, Time=1.000000e+03, dt=1.000000e-01\n"
          ]
        },
        {
          "output_type": "stream",
          "name": "stderr",
          "text": [
            "INFO:__main__:Iteration=10500, Time=1.050000e+03, dt=1.000000e-01\n"
          ]
        },
        {
          "output_type": "stream",
          "name": "stdout",
          "text": [
            "2024-12-28 00:16:08,583 __main__ 0/1 INFO :: Iteration=10500, Time=1.050000e+03, dt=1.000000e-01\n"
          ]
        },
        {
          "output_type": "stream",
          "name": "stderr",
          "text": [
            "INFO:__main__:Iteration=11000, Time=1.100000e+03, dt=1.000000e-01\n"
          ]
        },
        {
          "output_type": "stream",
          "name": "stdout",
          "text": [
            "2024-12-28 00:16:08,767 __main__ 0/1 INFO :: Iteration=11000, Time=1.100000e+03, dt=1.000000e-01\n"
          ]
        },
        {
          "output_type": "stream",
          "name": "stderr",
          "text": [
            "INFO:__main__:Iteration=11500, Time=1.150000e+03, dt=1.000000e-01\n"
          ]
        },
        {
          "output_type": "stream",
          "name": "stdout",
          "text": [
            "2024-12-28 00:16:08,961 __main__ 0/1 INFO :: Iteration=11500, Time=1.150000e+03, dt=1.000000e-01\n"
          ]
        },
        {
          "output_type": "stream",
          "name": "stderr",
          "text": [
            "INFO:__main__:Iteration=12000, Time=1.200000e+03, dt=1.000000e-01\n"
          ]
        },
        {
          "output_type": "stream",
          "name": "stdout",
          "text": [
            "2024-12-28 00:16:09,133 __main__ 0/1 INFO :: Iteration=12000, Time=1.200000e+03, dt=1.000000e-01\n"
          ]
        },
        {
          "output_type": "stream",
          "name": "stderr",
          "text": [
            "INFO:__main__:Iteration=12500, Time=1.250000e+03, dt=1.000000e-01\n"
          ]
        },
        {
          "output_type": "stream",
          "name": "stdout",
          "text": [
            "2024-12-28 00:16:09,339 __main__ 0/1 INFO :: Iteration=12500, Time=1.250000e+03, dt=1.000000e-01\n"
          ]
        },
        {
          "output_type": "stream",
          "name": "stderr",
          "text": [
            "INFO:__main__:Iteration=13000, Time=1.300000e+03, dt=1.000000e-01\n"
          ]
        },
        {
          "output_type": "stream",
          "name": "stdout",
          "text": [
            "2024-12-28 00:16:09,517 __main__ 0/1 INFO :: Iteration=13000, Time=1.300000e+03, dt=1.000000e-01\n"
          ]
        },
        {
          "output_type": "stream",
          "name": "stderr",
          "text": [
            "INFO:__main__:Iteration=13500, Time=1.350000e+03, dt=1.000000e-01\n"
          ]
        },
        {
          "output_type": "stream",
          "name": "stdout",
          "text": [
            "2024-12-28 00:16:09,695 __main__ 0/1 INFO :: Iteration=13500, Time=1.350000e+03, dt=1.000000e-01\n"
          ]
        },
        {
          "output_type": "stream",
          "name": "stderr",
          "text": [
            "INFO:__main__:Iteration=14000, Time=1.400000e+03, dt=1.000000e-01\n"
          ]
        },
        {
          "output_type": "stream",
          "name": "stdout",
          "text": [
            "2024-12-28 00:16:09,881 __main__ 0/1 INFO :: Iteration=14000, Time=1.400000e+03, dt=1.000000e-01\n"
          ]
        },
        {
          "output_type": "stream",
          "name": "stderr",
          "text": [
            "INFO:__main__:Iteration=14500, Time=1.450000e+03, dt=1.000000e-01\n"
          ]
        },
        {
          "output_type": "stream",
          "name": "stdout",
          "text": [
            "2024-12-28 00:16:10,066 __main__ 0/1 INFO :: Iteration=14500, Time=1.450000e+03, dt=1.000000e-01\n"
          ]
        },
        {
          "output_type": "stream",
          "name": "stderr",
          "text": [
            "INFO:__main__:Iteration=15000, Time=1.500000e+03, dt=1.000000e-01\n"
          ]
        },
        {
          "output_type": "stream",
          "name": "stdout",
          "text": [
            "2024-12-28 00:16:10,254 __main__ 0/1 INFO :: Iteration=15000, Time=1.500000e+03, dt=1.000000e-01\n"
          ]
        },
        {
          "output_type": "stream",
          "name": "stderr",
          "text": [
            "INFO:__main__:Iteration=15500, Time=1.550000e+03, dt=1.000000e-01\n"
          ]
        },
        {
          "output_type": "stream",
          "name": "stdout",
          "text": [
            "2024-12-28 00:16:10,494 __main__ 0/1 INFO :: Iteration=15500, Time=1.550000e+03, dt=1.000000e-01\n"
          ]
        },
        {
          "output_type": "stream",
          "name": "stderr",
          "text": [
            "INFO:__main__:Iteration=16000, Time=1.600000e+03, dt=1.000000e-01\n"
          ]
        },
        {
          "output_type": "stream",
          "name": "stdout",
          "text": [
            "2024-12-28 00:16:10,781 __main__ 0/1 INFO :: Iteration=16000, Time=1.600000e+03, dt=1.000000e-01\n"
          ]
        },
        {
          "output_type": "stream",
          "name": "stderr",
          "text": [
            "INFO:__main__:Iteration=16500, Time=1.650000e+03, dt=1.000000e-01\n"
          ]
        },
        {
          "output_type": "stream",
          "name": "stdout",
          "text": [
            "2024-12-28 00:16:11,069 __main__ 0/1 INFO :: Iteration=16500, Time=1.650000e+03, dt=1.000000e-01\n"
          ]
        },
        {
          "output_type": "stream",
          "name": "stderr",
          "text": [
            "INFO:__main__:Iteration=17000, Time=1.700000e+03, dt=1.000000e-01\n"
          ]
        },
        {
          "output_type": "stream",
          "name": "stdout",
          "text": [
            "2024-12-28 00:16:11,337 __main__ 0/1 INFO :: Iteration=17000, Time=1.700000e+03, dt=1.000000e-01\n"
          ]
        },
        {
          "output_type": "stream",
          "name": "stderr",
          "text": [
            "INFO:__main__:Iteration=17500, Time=1.750000e+03, dt=1.000000e-01\n"
          ]
        },
        {
          "output_type": "stream",
          "name": "stdout",
          "text": [
            "2024-12-28 00:16:11,579 __main__ 0/1 INFO :: Iteration=17500, Time=1.750000e+03, dt=1.000000e-01\n"
          ]
        },
        {
          "output_type": "stream",
          "name": "stderr",
          "text": [
            "INFO:__main__:Iteration=18000, Time=1.800000e+03, dt=1.000000e-01\n"
          ]
        },
        {
          "output_type": "stream",
          "name": "stdout",
          "text": [
            "2024-12-28 00:16:11,829 __main__ 0/1 INFO :: Iteration=18000, Time=1.800000e+03, dt=1.000000e-01\n"
          ]
        },
        {
          "output_type": "stream",
          "name": "stderr",
          "text": [
            "INFO:__main__:Iteration=18500, Time=1.850000e+03, dt=1.000000e-01\n"
          ]
        },
        {
          "output_type": "stream",
          "name": "stdout",
          "text": [
            "2024-12-28 00:16:12,090 __main__ 0/1 INFO :: Iteration=18500, Time=1.850000e+03, dt=1.000000e-01\n"
          ]
        },
        {
          "output_type": "stream",
          "name": "stderr",
          "text": [
            "INFO:__main__:Iteration=19000, Time=1.900000e+03, dt=1.000000e-01\n"
          ]
        },
        {
          "output_type": "stream",
          "name": "stdout",
          "text": [
            "2024-12-28 00:16:12,358 __main__ 0/1 INFO :: Iteration=19000, Time=1.900000e+03, dt=1.000000e-01\n"
          ]
        },
        {
          "output_type": "stream",
          "name": "stderr",
          "text": [
            "INFO:__main__:Iteration=19500, Time=1.950000e+03, dt=1.000000e-01\n"
          ]
        },
        {
          "output_type": "stream",
          "name": "stdout",
          "text": [
            "2024-12-28 00:16:12,638 __main__ 0/1 INFO :: Iteration=19500, Time=1.950000e+03, dt=1.000000e-01\n"
          ]
        },
        {
          "output_type": "stream",
          "name": "stderr",
          "text": [
            "INFO:__main__:Iteration=20000, Time=2.000000e+03, dt=1.000000e-01\n"
          ]
        },
        {
          "output_type": "stream",
          "name": "stdout",
          "text": [
            "2024-12-28 00:16:12,903 __main__ 0/1 INFO :: Iteration=20000, Time=2.000000e+03, dt=1.000000e-01\n"
          ]
        },
        {
          "output_type": "stream",
          "name": "stderr",
          "text": [
            "INFO:__main__:Iteration=20500, Time=2.050000e+03, dt=1.000000e-01\n"
          ]
        },
        {
          "output_type": "stream",
          "name": "stdout",
          "text": [
            "2024-12-28 00:16:13,194 __main__ 0/1 INFO :: Iteration=20500, Time=2.050000e+03, dt=1.000000e-01\n"
          ]
        },
        {
          "output_type": "stream",
          "name": "stderr",
          "text": [
            "INFO:__main__:Iteration=21000, Time=2.100000e+03, dt=1.000000e-01\n"
          ]
        },
        {
          "output_type": "stream",
          "name": "stdout",
          "text": [
            "2024-12-28 00:16:13,488 __main__ 0/1 INFO :: Iteration=21000, Time=2.100000e+03, dt=1.000000e-01\n"
          ]
        },
        {
          "output_type": "stream",
          "name": "stderr",
          "text": [
            "INFO:__main__:Iteration=21500, Time=2.150000e+03, dt=1.000000e-01\n"
          ]
        },
        {
          "output_type": "stream",
          "name": "stdout",
          "text": [
            "2024-12-28 00:16:13,778 __main__ 0/1 INFO :: Iteration=21500, Time=2.150000e+03, dt=1.000000e-01\n"
          ]
        },
        {
          "output_type": "stream",
          "name": "stderr",
          "text": [
            "INFO:__main__:Iteration=22000, Time=2.200000e+03, dt=1.000000e-01\n"
          ]
        },
        {
          "output_type": "stream",
          "name": "stdout",
          "text": [
            "2024-12-28 00:16:14,071 __main__ 0/1 INFO :: Iteration=22000, Time=2.200000e+03, dt=1.000000e-01\n"
          ]
        },
        {
          "output_type": "stream",
          "name": "stderr",
          "text": [
            "INFO:__main__:Iteration=22500, Time=2.250000e+03, dt=1.000000e-01\n"
          ]
        },
        {
          "output_type": "stream",
          "name": "stdout",
          "text": [
            "2024-12-28 00:16:14,360 __main__ 0/1 INFO :: Iteration=22500, Time=2.250000e+03, dt=1.000000e-01\n"
          ]
        },
        {
          "output_type": "stream",
          "name": "stderr",
          "text": [
            "INFO:__main__:Iteration=23000, Time=2.300000e+03, dt=1.000000e-01\n"
          ]
        },
        {
          "output_type": "stream",
          "name": "stdout",
          "text": [
            "2024-12-28 00:16:14,545 __main__ 0/1 INFO :: Iteration=23000, Time=2.300000e+03, dt=1.000000e-01\n"
          ]
        },
        {
          "output_type": "stream",
          "name": "stderr",
          "text": [
            "INFO:__main__:Iteration=23500, Time=2.350000e+03, dt=1.000000e-01\n"
          ]
        },
        {
          "output_type": "stream",
          "name": "stdout",
          "text": [
            "2024-12-28 00:16:14,719 __main__ 0/1 INFO :: Iteration=23500, Time=2.350000e+03, dt=1.000000e-01\n"
          ]
        },
        {
          "output_type": "stream",
          "name": "stderr",
          "text": [
            "INFO:__main__:Iteration=24000, Time=2.400000e+03, dt=1.000000e-01\n"
          ]
        },
        {
          "output_type": "stream",
          "name": "stdout",
          "text": [
            "2024-12-28 00:16:14,897 __main__ 0/1 INFO :: Iteration=24000, Time=2.400000e+03, dt=1.000000e-01\n"
          ]
        },
        {
          "output_type": "stream",
          "name": "stderr",
          "text": [
            "INFO:__main__:Iteration=24500, Time=2.450000e+03, dt=1.000000e-01\n"
          ]
        },
        {
          "output_type": "stream",
          "name": "stdout",
          "text": [
            "2024-12-28 00:16:15,080 __main__ 0/1 INFO :: Iteration=24500, Time=2.450000e+03, dt=1.000000e-01\n"
          ]
        },
        {
          "output_type": "stream",
          "name": "stderr",
          "text": [
            "INFO:__main__:Iteration=25000, Time=2.500000e+03, dt=1.000000e-01\n"
          ]
        },
        {
          "output_type": "stream",
          "name": "stdout",
          "text": [
            "2024-12-28 00:16:15,284 __main__ 0/1 INFO :: Iteration=25000, Time=2.500000e+03, dt=1.000000e-01\n"
          ]
        },
        {
          "output_type": "stream",
          "name": "stderr",
          "text": [
            "INFO:__main__:Iteration=25500, Time=2.550000e+03, dt=1.000000e-01\n"
          ]
        },
        {
          "output_type": "stream",
          "name": "stdout",
          "text": [
            "2024-12-28 00:16:15,478 __main__ 0/1 INFO :: Iteration=25500, Time=2.550000e+03, dt=1.000000e-01\n"
          ]
        },
        {
          "output_type": "stream",
          "name": "stderr",
          "text": [
            "INFO:__main__:Iteration=26000, Time=2.600000e+03, dt=1.000000e-01\n"
          ]
        },
        {
          "output_type": "stream",
          "name": "stdout",
          "text": [
            "2024-12-28 00:16:15,689 __main__ 0/1 INFO :: Iteration=26000, Time=2.600000e+03, dt=1.000000e-01\n"
          ]
        },
        {
          "output_type": "stream",
          "name": "stderr",
          "text": [
            "INFO:__main__:Iteration=26500, Time=2.650000e+03, dt=1.000000e-01\n"
          ]
        },
        {
          "output_type": "stream",
          "name": "stdout",
          "text": [
            "2024-12-28 00:16:15,902 __main__ 0/1 INFO :: Iteration=26500, Time=2.650000e+03, dt=1.000000e-01\n"
          ]
        },
        {
          "output_type": "stream",
          "name": "stderr",
          "text": [
            "INFO:__main__:Iteration=27000, Time=2.700000e+03, dt=1.000000e-01\n"
          ]
        },
        {
          "output_type": "stream",
          "name": "stdout",
          "text": [
            "2024-12-28 00:16:16,081 __main__ 0/1 INFO :: Iteration=27000, Time=2.700000e+03, dt=1.000000e-01\n"
          ]
        },
        {
          "output_type": "stream",
          "name": "stderr",
          "text": [
            "INFO:__main__:Iteration=27500, Time=2.750000e+03, dt=1.000000e-01\n"
          ]
        },
        {
          "output_type": "stream",
          "name": "stdout",
          "text": [
            "2024-12-28 00:16:16,299 __main__ 0/1 INFO :: Iteration=27500, Time=2.750000e+03, dt=1.000000e-01\n"
          ]
        },
        {
          "output_type": "stream",
          "name": "stderr",
          "text": [
            "INFO:__main__:Iteration=28000, Time=2.800000e+03, dt=1.000000e-01\n"
          ]
        },
        {
          "output_type": "stream",
          "name": "stdout",
          "text": [
            "2024-12-28 00:16:16,477 __main__ 0/1 INFO :: Iteration=28000, Time=2.800000e+03, dt=1.000000e-01\n"
          ]
        },
        {
          "output_type": "stream",
          "name": "stderr",
          "text": [
            "INFO:__main__:Iteration=28500, Time=2.850000e+03, dt=1.000000e-01\n"
          ]
        },
        {
          "output_type": "stream",
          "name": "stdout",
          "text": [
            "2024-12-28 00:16:16,663 __main__ 0/1 INFO :: Iteration=28500, Time=2.850000e+03, dt=1.000000e-01\n"
          ]
        },
        {
          "output_type": "stream",
          "name": "stderr",
          "text": [
            "INFO:__main__:Iteration=29000, Time=2.900000e+03, dt=1.000000e-01\n"
          ]
        },
        {
          "output_type": "stream",
          "name": "stdout",
          "text": [
            "2024-12-28 00:16:16,838 __main__ 0/1 INFO :: Iteration=29000, Time=2.900000e+03, dt=1.000000e-01\n"
          ]
        },
        {
          "output_type": "stream",
          "name": "stderr",
          "text": [
            "INFO:__main__:Iteration=29500, Time=2.950000e+03, dt=1.000000e-01\n"
          ]
        },
        {
          "output_type": "stream",
          "name": "stdout",
          "text": [
            "2024-12-28 00:16:17,012 __main__ 0/1 INFO :: Iteration=29500, Time=2.950000e+03, dt=1.000000e-01\n"
          ]
        },
        {
          "output_type": "stream",
          "name": "stderr",
          "text": [
            "INFO:__main__:Iteration=30000, Time=3.000000e+03, dt=1.000000e-01\n"
          ]
        },
        {
          "output_type": "stream",
          "name": "stdout",
          "text": [
            "2024-12-28 00:16:17,204 __main__ 0/1 INFO :: Iteration=30000, Time=3.000000e+03, dt=1.000000e-01\n"
          ]
        },
        {
          "output_type": "stream",
          "name": "stderr",
          "text": [
            "INFO:__main__:Iteration=30500, Time=3.050000e+03, dt=1.000000e-01\n"
          ]
        },
        {
          "output_type": "stream",
          "name": "stdout",
          "text": [
            "2024-12-28 00:16:17,414 __main__ 0/1 INFO :: Iteration=30500, Time=3.050000e+03, dt=1.000000e-01\n"
          ]
        },
        {
          "output_type": "stream",
          "name": "stderr",
          "text": [
            "INFO:__main__:Iteration=31000, Time=3.100000e+03, dt=1.000000e-01\n"
          ]
        },
        {
          "output_type": "stream",
          "name": "stdout",
          "text": [
            "2024-12-28 00:16:17,597 __main__ 0/1 INFO :: Iteration=31000, Time=3.100000e+03, dt=1.000000e-01\n"
          ]
        },
        {
          "output_type": "stream",
          "name": "stderr",
          "text": [
            "INFO:__main__:Iteration=31500, Time=3.150000e+03, dt=1.000000e-01\n"
          ]
        },
        {
          "output_type": "stream",
          "name": "stdout",
          "text": [
            "2024-12-28 00:16:17,775 __main__ 0/1 INFO :: Iteration=31500, Time=3.150000e+03, dt=1.000000e-01\n"
          ]
        },
        {
          "output_type": "stream",
          "name": "stderr",
          "text": [
            "INFO:__main__:Iteration=32000, Time=3.200000e+03, dt=1.000000e-01\n"
          ]
        },
        {
          "output_type": "stream",
          "name": "stdout",
          "text": [
            "2024-12-28 00:16:17,955 __main__ 0/1 INFO :: Iteration=32000, Time=3.200000e+03, dt=1.000000e-01\n"
          ]
        },
        {
          "output_type": "stream",
          "name": "stderr",
          "text": [
            "INFO:__main__:Iteration=32500, Time=3.250000e+03, dt=1.000000e-01\n"
          ]
        },
        {
          "output_type": "stream",
          "name": "stdout",
          "text": [
            "2024-12-28 00:16:18,142 __main__ 0/1 INFO :: Iteration=32500, Time=3.250000e+03, dt=1.000000e-01\n"
          ]
        },
        {
          "output_type": "stream",
          "name": "stderr",
          "text": [
            "INFO:__main__:Iteration=33000, Time=3.300000e+03, dt=1.000000e-01\n"
          ]
        },
        {
          "output_type": "stream",
          "name": "stdout",
          "text": [
            "2024-12-28 00:16:18,360 __main__ 0/1 INFO :: Iteration=33000, Time=3.300000e+03, dt=1.000000e-01\n"
          ]
        },
        {
          "output_type": "stream",
          "name": "stderr",
          "text": [
            "INFO:__main__:Iteration=33500, Time=3.350000e+03, dt=1.000000e-01\n"
          ]
        },
        {
          "output_type": "stream",
          "name": "stdout",
          "text": [
            "2024-12-28 00:16:18,545 __main__ 0/1 INFO :: Iteration=33500, Time=3.350000e+03, dt=1.000000e-01\n"
          ]
        },
        {
          "output_type": "stream",
          "name": "stderr",
          "text": [
            "INFO:__main__:Iteration=34000, Time=3.400000e+03, dt=1.000000e-01\n"
          ]
        },
        {
          "output_type": "stream",
          "name": "stdout",
          "text": [
            "2024-12-28 00:16:18,725 __main__ 0/1 INFO :: Iteration=34000, Time=3.400000e+03, dt=1.000000e-01\n"
          ]
        },
        {
          "output_type": "stream",
          "name": "stderr",
          "text": [
            "INFO:__main__:Iteration=34500, Time=3.450000e+03, dt=1.000000e-01\n"
          ]
        },
        {
          "output_type": "stream",
          "name": "stdout",
          "text": [
            "2024-12-28 00:16:18,913 __main__ 0/1 INFO :: Iteration=34500, Time=3.450000e+03, dt=1.000000e-01\n"
          ]
        },
        {
          "output_type": "stream",
          "name": "stderr",
          "text": [
            "INFO:__main__:Iteration=35000, Time=3.500000e+03, dt=1.000000e-01\n"
          ]
        },
        {
          "output_type": "stream",
          "name": "stdout",
          "text": [
            "2024-12-28 00:16:19,102 __main__ 0/1 INFO :: Iteration=35000, Time=3.500000e+03, dt=1.000000e-01\n"
          ]
        },
        {
          "output_type": "stream",
          "name": "stderr",
          "text": [
            "INFO:__main__:Iteration=35500, Time=3.550000e+03, dt=1.000000e-01\n"
          ]
        },
        {
          "output_type": "stream",
          "name": "stdout",
          "text": [
            "2024-12-28 00:16:19,318 __main__ 0/1 INFO :: Iteration=35500, Time=3.550000e+03, dt=1.000000e-01\n"
          ]
        },
        {
          "output_type": "stream",
          "name": "stderr",
          "text": [
            "INFO:__main__:Iteration=36000, Time=3.600000e+03, dt=1.000000e-01\n"
          ]
        },
        {
          "output_type": "stream",
          "name": "stdout",
          "text": [
            "2024-12-28 00:16:19,509 __main__ 0/1 INFO :: Iteration=36000, Time=3.600000e+03, dt=1.000000e-01\n"
          ]
        },
        {
          "output_type": "stream",
          "name": "stderr",
          "text": [
            "INFO:__main__:Iteration=36500, Time=3.650000e+03, dt=1.000000e-01\n"
          ]
        },
        {
          "output_type": "stream",
          "name": "stdout",
          "text": [
            "2024-12-28 00:16:19,685 __main__ 0/1 INFO :: Iteration=36500, Time=3.650000e+03, dt=1.000000e-01\n"
          ]
        },
        {
          "output_type": "stream",
          "name": "stderr",
          "text": [
            "INFO:__main__:Iteration=37000, Time=3.700000e+03, dt=1.000000e-01\n"
          ]
        },
        {
          "output_type": "stream",
          "name": "stdout",
          "text": [
            "2024-12-28 00:16:19,862 __main__ 0/1 INFO :: Iteration=37000, Time=3.700000e+03, dt=1.000000e-01\n"
          ]
        },
        {
          "output_type": "stream",
          "name": "stderr",
          "text": [
            "INFO:__main__:Iteration=37500, Time=3.750000e+03, dt=1.000000e-01\n"
          ]
        },
        {
          "output_type": "stream",
          "name": "stdout",
          "text": [
            "2024-12-28 00:16:20,039 __main__ 0/1 INFO :: Iteration=37500, Time=3.750000e+03, dt=1.000000e-01\n"
          ]
        },
        {
          "output_type": "stream",
          "name": "stderr",
          "text": [
            "INFO:__main__:Iteration=38000, Time=3.800000e+03, dt=1.000000e-01\n"
          ]
        },
        {
          "output_type": "stream",
          "name": "stdout",
          "text": [
            "2024-12-28 00:16:20,221 __main__ 0/1 INFO :: Iteration=38000, Time=3.800000e+03, dt=1.000000e-01\n"
          ]
        },
        {
          "output_type": "stream",
          "name": "stderr",
          "text": [
            "INFO:__main__:Iteration=38500, Time=3.850000e+03, dt=1.000000e-01\n"
          ]
        },
        {
          "output_type": "stream",
          "name": "stdout",
          "text": [
            "2024-12-28 00:16:20,433 __main__ 0/1 INFO :: Iteration=38500, Time=3.850000e+03, dt=1.000000e-01\n"
          ]
        },
        {
          "output_type": "stream",
          "name": "stderr",
          "text": [
            "INFO:__main__:Iteration=39000, Time=3.900000e+03, dt=1.000000e-01\n"
          ]
        },
        {
          "output_type": "stream",
          "name": "stdout",
          "text": [
            "2024-12-28 00:16:20,617 __main__ 0/1 INFO :: Iteration=39000, Time=3.900000e+03, dt=1.000000e-01\n"
          ]
        },
        {
          "output_type": "stream",
          "name": "stderr",
          "text": [
            "INFO:__main__:Iteration=39500, Time=3.950000e+03, dt=1.000000e-01\n"
          ]
        },
        {
          "output_type": "stream",
          "name": "stdout",
          "text": [
            "2024-12-28 00:16:20,794 __main__ 0/1 INFO :: Iteration=39500, Time=3.950000e+03, dt=1.000000e-01\n"
          ]
        },
        {
          "output_type": "stream",
          "name": "stderr",
          "text": [
            "INFO:__main__:Iteration=40000, Time=4.000000e+03, dt=1.000000e-01\n"
          ]
        },
        {
          "output_type": "stream",
          "name": "stdout",
          "text": [
            "2024-12-28 00:16:20,982 __main__ 0/1 INFO :: Iteration=40000, Time=4.000000e+03, dt=1.000000e-01\n"
          ]
        },
        {
          "output_type": "stream",
          "name": "stderr",
          "text": [
            "INFO:solvers:Simulation stop time reached.\n"
          ]
        },
        {
          "output_type": "stream",
          "name": "stdout",
          "text": [
            "2024-12-28 00:16:20,989 solvers 0/1 INFO :: Simulation stop time reached.\n"
          ]
        },
        {
          "output_type": "display_data",
          "data": {
            "text/plain": [
              "<Figure size 1200x400 with 2 Axes>"
            ],
            "image/png": "[encoded data removed]"
          },
          "metadata": {}
        }
      ]
    },
    {
      "cell_type": "markdown",
      "metadata": {
        "id": "hT9l1sK2cfs3"
      },
      "source": [
        "### 5.2 Variable diffusivity"
      ]
    },
    {
      "cell_type": "markdown",
      "metadata": {
        "id": "ahjC1ZP1cfs3"
      },
      "source": [
        "In some applications of the diffusion equation, the diffusivity varies in space. This happens, for example, in the movement of pollution in groundwater flowing through soil of variable porosity, or the mixing of tracers due to turbulence in the ocean (which we will explore in detail in Project 2).\n",
        "\n",
        "In the code cell below, write a Dedalus script that solves the following equation:\n",
        "\n",
        "$$\\partial_t c - \\partial_x(\\kappa (x) \\partial_x c) = 0$$\n",
        "\n",
        "where\n",
        "\n",
        "$$\\kappa(x)=\\kappa_0(0.1 + tanh(x/0.1)+1)/2$$\n",
        "\n",
        "and $\\kappa_0=0.001$. It is fine to start by copying the code in the previous cell and changing the problem equation appropriately."
      ]
    },
    {
      "cell_type": "code",
      "execution_count": null,
      "metadata": {
        "id": "61S2Pyr7cfs3",
        "colab": {
          "base_uri": "https://localhost:8080/",
          "height": 644
        },
        "outputId": "38ebb744-db9d-4f65-b4ac-b530b05d9834"
      },
      "outputs": [
        {
          "output_type": "stream",
          "name": "stderr",
          "text": [
            "INFO:subsystems:Building subproblem matrices 1/1 (~100%) Elapsed: 1s, Remaining: 0s, Rate: 1.8e+00/s\n"
          ]
        },
        {
          "output_type": "stream",
          "name": "stdout",
          "text": [
            "2024-12-27 07:13:07,245 subsystems 0/1 INFO :: Building subproblem matrices 1/1 (~100%) Elapsed: 1s, Remaining: 0s, Rate: 1.8e+00/s\n"
          ]
        },
        {
          "output_type": "stream",
          "name": "stderr",
          "text": [
            "INFO:solvers:Simulation stop time reached.\n"
          ]
        },
        {
          "output_type": "stream",
          "name": "stdout",
          "text": [
            "2024-12-27 07:13:07,853 solvers 0/1 INFO :: Simulation stop time reached.\n"
          ]
        },
        {
          "output_type": "stream",
          "name": "stderr",
          "text": [
            "INFO:subsystems:Building subproblem matrices 1/1 (~100%) Elapsed: 0s, Remaining: 0s, Rate: 2.2e+00/s\n"
          ]
        },
        {
          "output_type": "stream",
          "name": "stdout",
          "text": [
            "2024-12-27 07:13:08,358 subsystems 0/1 INFO :: Building subproblem matrices 1/1 (~100%) Elapsed: 0s, Remaining: 0s, Rate: 2.2e+00/s\n"
          ]
        },
        {
          "output_type": "stream",
          "name": "stderr",
          "text": [
            "INFO:solvers:Simulation stop time reached.\n"
          ]
        },
        {
          "output_type": "stream",
          "name": "stdout",
          "text": [
            "2024-12-27 07:13:08,775 solvers 0/1 INFO :: Simulation stop time reached.\n"
          ]
        },
        {
          "output_type": "stream",
          "name": "stderr",
          "text": [
            "INFO:subsystems:Building subproblem matrices 1/1 (~100%) Elapsed: 3s, Remaining: 0s, Rate: 2.9e-01/s\n"
          ]
        },
        {
          "output_type": "stream",
          "name": "stdout",
          "text": [
            "2024-12-27 07:13:12,213 subsystems 0/1 INFO :: Building subproblem matrices 1/1 (~100%) Elapsed: 3s, Remaining: 0s, Rate: 2.9e-01/s\n"
          ]
        },
        {
          "output_type": "stream",
          "name": "stderr",
          "text": [
            "INFO:solvers:Simulation stop time reached.\n"
          ]
        },
        {
          "output_type": "stream",
          "name": "stdout",
          "text": [
            "2024-12-27 07:13:12,797 solvers 0/1 INFO :: Simulation stop time reached.\n"
          ]
        },
        {
          "output_type": "display_data",
          "data": {
            "text/plain": [
              "<Figure size 1500x400 with 6 Axes>"
            ],
            "image/png": "[encoded data removed]"
          },
          "metadata": {}
        }
      ],
      "source": [
        "import numpy as np\n",
        "import matplotlib.pyplot as plt\n",
        "import dedalus.public as dedalus\n",
        "import logging\n",
        "logger = logging.getLogger(__name__)\n",
        "\n",
        "# Parameters\n",
        "Nx = 1024  # Number of gridpoints\n",
        "Lx = 2     # Domain size\n",
        "x_start, x_end = -Lx, Lx  # Domain boundaries\n",
        "kappa0_values = [0.0005, 0.001, 0.005]  # Different values of kappa0 to compare\n",
        "\n",
        "# Create an x-coordinate, a corresponding basis, and a distributor\n",
        "xcoord = dedalus.Coordinate('x')\n",
        "dist = dedalus.Distributor(xcoord, dtype=np.float64)  # No mesh for serial / automatic parallelization\n",
        "x_basis = dedalus.RealFourier(xcoord, size=Nx, bounds=(x_start, x_end))\n",
        "x = dist.local_grid(x_basis)  # Grid in physical space\n",
        "\n",
        "# Create subplots for horizontal arrangement\n",
        "fig, axes = plt.subplots(1, len(kappa0_values), figsize=(15, 4), constrained_layout=True)\n",
        "\n",
        "# Loop over kappa0 values\n",
        "for i, kappa0 in enumerate(kappa0_values):\n",
        "    # Field setup\n",
        "    c = dist.Field(name='c', bases=x_basis)\n",
        "    kappa = dist.Field(bases=x_basis)\n",
        "\n",
        "    # Define spatially varying kappa\n",
        "    kappa['g'] = kappa0 * (0.1 + np.tanh(x / 0.1) + 1) / 2\n",
        "\n",
        "    # Set initial condition\n",
        "    w = 0.1  # Width of the initial Gaussian\n",
        "    c.change_scales(1)\n",
        "    c['g'] = np.exp(-x**2 / w**2)\n",
        "\n",
        "    # Define operators\n",
        "    dx = lambda a: dedalus.Differentiate(a, xcoord)  # Define the derivative (d/dx) operator\n",
        "\n",
        "    # Specify the problem\n",
        "    problem = dedalus.IVP([c], namespace=locals())\n",
        "    problem.add_equation(\"dt(c) - dx(kappa * dx(c)) = 0\")  # Diffusion equation\n",
        "\n",
        "    # Solver setup\n",
        "    timestepper = dedalus.CNAB1\n",
        "    solver = problem.build_solver(timestepper)\n",
        "\n",
        "    # Stop conditions\n",
        "    solver.stop_sim_time = 10  # Stop at 10 simulation time units\n",
        "\n",
        "    # Main loop\n",
        "    timestep = 0.1\n",
        "    c.change_scales(1)\n",
        "    c_save = [np.copy(c['g'])]  # Save initial condition\n",
        "    t_save = [solver.sim_time]\n",
        "\n",
        "    while solver.proceed:\n",
        "        solver.step(timestep)\n",
        "        if solver.iteration % 500 == 0:  # Log every 500 iterations\n",
        "            logger.info('Iteration=%i, Time=%e, dt=%e' % (solver.iteration, solver.sim_time, timestep))\n",
        "        c.change_scales(1)\n",
        "        c_save.append(np.copy(c['g']))\n",
        "        t_save.append(solver.sim_time)\n",
        "\n",
        "    # Convert results to arrays for plotting\n",
        "    c_save = np.array(c_save)\n",
        "    t_save = np.array(t_save)\n",
        "\n",
        "    # Plot results for this kappa0 on the corresponding axis\n",
        "    ax = axes[i]\n",
        "    pcm = ax.pcolormesh(x.ravel(), t_save, c_save, cmap='RdBu_r', shading='gouraud')\n",
        "    fig.colorbar(pcm, ax=ax, label='c(x, t)')\n",
        "    ax.set_xlabel('x')\n",
        "    ax.set_ylabel('t')\n",
        "    ax.set_title(f'$\\kappa_0 = {kappa0}$')\n",
        "\n",
        "# Show the final horizontal plot\n",
        "plt.show()\n",
        "\n"
      ]
    },
    {
      "cell_type": "markdown",
      "metadata": {
        "id": "vMXVNGl6cfs3"
      },
      "source": [
        "Explore the behaviour of the solution as you vary the parameters associated with $\\kappa(x)$. Comment on your observations below (~1 paragraph)"
      ]
    },
    {
      "cell_type": "markdown",
      "metadata": {
        "id": "BM25czLWcfs3"
      },
      "source": [
        "**Comment:**\n",
        "\n",
        "From the observed behavior of the solution, as $ \\kappa_0 $ increases, the asymmetry in diffusion becomes more pronounced. On the right side ($ x > 0 $), where $ \\kappa(x) $ is higher, the smoothing occurs faster, leading to quicker flattening of the concentration distribution. Meanwhile, on the left side ($ x < 0 $), where $ \\kappa(x) $ is lower, the diffusion is slower, resulting in a higher concentration peak on that side. The shift of the concentration peak to the left is a direct consequence of this imbalance. The spatial variation of $ \\kappa(x) $ is governed by the $ \\tanh(x/0.1) $ function, which transitions smoothly from $ -1 $ (for $ x \\to -\\infty $) to $ 1 $ (for $ x \\to \\infty $),and increases sharply around $ x = 0 $. Because $ \\kappa(x) $ follows the same directionality as $ \\tanh(x/0.1) $, regions with higher diffusivity (right side) experience faster smoothing, reducing gradients more quickly. The increase in $ \\kappa_0 $ amplifies this asymmetry, causing faster smoothing on the right and slower diffusion on the left."
      ]
    },
    {
      "cell_type": "markdown",
      "metadata": {
        "id": "boifDg_ccfs3"
      },
      "source": [
        "## 6. Optional further investigations\n",
        "\n",
        "* Try writing a Dedalus script to solve the 2D diffusion equation as an initial value problem.  You can look ahead to the the example at the end of the Project 2 notebook for some guidance (but remove the advection term). I would suggest using a Fourier/Fourier basis for this.\n",
        "\n",
        "* Consider how you might go about discretizing a 2D diffusion equation using finite differences.  What form would the matrix M have?\n"
      ]
    }
  ],
  "metadata": {
    "colab": {
      "provenance": [],
      "include_colab_link": true
    },
    "kernelspec": {
      "display_name": "Python 3",
      "name": "python3"
    },
    "language_info": {
      "codemirror_mode": {
        "name": "ipython",
        "version": 3
      },
      "file_extension": ".py",
      "mimetype": "text/x-python",
      "name": "python",
      "nbconvert_exporter": "python",
      "pygments_lexer": "ipython3",
      "version": "3.12.2"
    }
  },
  "nbformat": 4,
  "nbformat_minor": 0
}